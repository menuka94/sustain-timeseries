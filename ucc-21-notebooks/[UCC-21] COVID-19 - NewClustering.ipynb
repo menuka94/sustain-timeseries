{
 "cells": [
  {
   "cell_type": "code",
   "execution_count": 1,
   "id": "9014653d",
   "metadata": {},
   "outputs": [],
   "source": [
    "import pandas as pd\n",
    "import pickle\n",
    "from pymongo import MongoClient\n",
    "from sklearn.cluster import KMeans\n",
    "from sklearn.metrics import pairwise_distances_argmin_min\n",
    "import numpy as np"
   ]
  },
  {
   "cell_type": "code",
   "execution_count": 2,
   "id": "726d3a40",
   "metadata": {},
   "outputs": [],
   "source": [
    "collection = 'covid_county_formatted'\n",
    "\n",
    "db = MongoClient(\"lattice-100\", 27018)\n",
    "no_of_records = 1064950\n",
    "\n",
    "pipeline = [\n",
    "    {\n",
    "        \"$sample\": {\"size\": no_of_records // 5}\n",
    "    }\n",
    "]\n",
    "\n",
    "cursor = db.sustaindb[collection].aggregate(pipeline)\n",
    "df_original = pd.DataFrame(list(cursor))"
   ]
  },
  {
   "cell_type": "code",
   "execution_count": 3,
   "id": "f34f6c86",
   "metadata": {},
   "outputs": [
    {
     "data": {
      "text/html": [
       "<div>\n",
       "<style scoped>\n",
       "    .dataframe tbody tr th:only-of-type {\n",
       "        vertical-align: middle;\n",
       "    }\n",
       "\n",
       "    .dataframe tbody tr th {\n",
       "        vertical-align: top;\n",
       "    }\n",
       "\n",
       "    .dataframe thead th {\n",
       "        text-align: right;\n",
       "    }\n",
       "</style>\n",
       "<table border=\"1\" class=\"dataframe\">\n",
       "  <thead>\n",
       "    <tr style=\"text-align: right;\">\n",
       "      <th></th>\n",
       "      <th>GISJOIN</th>\n",
       "      <th>cases</th>\n",
       "    </tr>\n",
       "  </thead>\n",
       "  <tbody>\n",
       "    <tr>\n",
       "      <th>0</th>\n",
       "      <td>G4600910</td>\n",
       "      <td>1</td>\n",
       "    </tr>\n",
       "    <tr>\n",
       "      <th>1</th>\n",
       "      <td>G5500750</td>\n",
       "      <td>1</td>\n",
       "    </tr>\n",
       "    <tr>\n",
       "      <th>2</th>\n",
       "      <td>G1301090</td>\n",
       "      <td>1</td>\n",
       "    </tr>\n",
       "    <tr>\n",
       "      <th>3</th>\n",
       "      <td>G1800870</td>\n",
       "      <td>10</td>\n",
       "    </tr>\n",
       "    <tr>\n",
       "      <th>4</th>\n",
       "      <td>G4804850</td>\n",
       "      <td>45</td>\n",
       "    </tr>\n",
       "    <tr>\n",
       "      <th>...</th>\n",
       "      <td>...</td>\n",
       "      <td>...</td>\n",
       "    </tr>\n",
       "    <tr>\n",
       "      <th>212985</th>\n",
       "      <td>G3000790</td>\n",
       "      <td>0</td>\n",
       "    </tr>\n",
       "    <tr>\n",
       "      <th>212986</th>\n",
       "      <td>G2801450</td>\n",
       "      <td>2</td>\n",
       "    </tr>\n",
       "    <tr>\n",
       "      <th>212987</th>\n",
       "      <td>G4000810</td>\n",
       "      <td>4</td>\n",
       "    </tr>\n",
       "    <tr>\n",
       "      <th>212988</th>\n",
       "      <td>G4803310</td>\n",
       "      <td>7</td>\n",
       "    </tr>\n",
       "    <tr>\n",
       "      <th>212989</th>\n",
       "      <td>G4600250</td>\n",
       "      <td>1</td>\n",
       "    </tr>\n",
       "  </tbody>\n",
       "</table>\n",
       "<p>212990 rows × 2 columns</p>\n",
       "</div>"
      ],
      "text/plain": [
       "         GISJOIN  cases\n",
       "0       G4600910      1\n",
       "1       G5500750      1\n",
       "2       G1301090      1\n",
       "3       G1800870     10\n",
       "4       G4804850     45\n",
       "...          ...    ...\n",
       "212985  G3000790      0\n",
       "212986  G2801450      2\n",
       "212987  G4000810      4\n",
       "212988  G4803310      7\n",
       "212989  G4600250      1\n",
       "\n",
       "[212990 rows x 2 columns]"
      ]
     },
     "execution_count": 3,
     "metadata": {},
     "output_type": "execute_result"
    }
   ],
   "source": [
    "df = df_original[[\"GISJOIN\", \"cases\"]]\n",
    "df"
   ]
  },
  {
   "cell_type": "markdown",
   "id": "7875e975",
   "metadata": {},
   "source": [
    "## Aggregate on 'cases' for each GISJoin"
   ]
  },
  {
   "cell_type": "code",
   "execution_count": 4,
   "id": "543b11ae",
   "metadata": {},
   "outputs": [
    {
     "data": {
      "text/html": [
       "<div>\n",
       "<style scoped>\n",
       "    .dataframe tbody tr th:only-of-type {\n",
       "        vertical-align: middle;\n",
       "    }\n",
       "\n",
       "    .dataframe tbody tr th {\n",
       "        vertical-align: top;\n",
       "    }\n",
       "\n",
       "    .dataframe thead th {\n",
       "        text-align: right;\n",
       "    }\n",
       "</style>\n",
       "<table border=\"1\" class=\"dataframe\">\n",
       "  <thead>\n",
       "    <tr style=\"text-align: right;\">\n",
       "      <th></th>\n",
       "      <th>cases</th>\n",
       "    </tr>\n",
       "    <tr>\n",
       "      <th>GISJOIN</th>\n",
       "      <th></th>\n",
       "    </tr>\n",
       "  </thead>\n",
       "  <tbody>\n",
       "    <tr>\n",
       "      <th>G0100010</th>\n",
       "      <td>1443</td>\n",
       "    </tr>\n",
       "    <tr>\n",
       "      <th>G0100030</th>\n",
       "      <td>4564</td>\n",
       "    </tr>\n",
       "    <tr>\n",
       "      <th>G0100050</th>\n",
       "      <td>372</td>\n",
       "    </tr>\n",
       "    <tr>\n",
       "      <th>G0100070</th>\n",
       "      <td>350</td>\n",
       "    </tr>\n",
       "    <tr>\n",
       "      <th>G0100090</th>\n",
       "      <td>960</td>\n",
       "    </tr>\n",
       "    <tr>\n",
       "      <th>...</th>\n",
       "      <td>...</td>\n",
       "    </tr>\n",
       "    <tr>\n",
       "      <th>G5600370</th>\n",
       "      <td>698</td>\n",
       "    </tr>\n",
       "    <tr>\n",
       "      <th>G5600390</th>\n",
       "      <td>676</td>\n",
       "    </tr>\n",
       "    <tr>\n",
       "      <th>G5600410</th>\n",
       "      <td>373</td>\n",
       "    </tr>\n",
       "    <tr>\n",
       "      <th>G5600430</th>\n",
       "      <td>192</td>\n",
       "    </tr>\n",
       "    <tr>\n",
       "      <th>G5600450</th>\n",
       "      <td>92</td>\n",
       "    </tr>\n",
       "  </tbody>\n",
       "</table>\n",
       "<p>3115 rows × 1 columns</p>\n",
       "</div>"
      ],
      "text/plain": [
       "          cases\n",
       "GISJOIN        \n",
       "G0100010   1443\n",
       "G0100030   4564\n",
       "G0100050    372\n",
       "G0100070    350\n",
       "G0100090    960\n",
       "...         ...\n",
       "G5600370    698\n",
       "G5600390    676\n",
       "G5600410    373\n",
       "G5600430    192\n",
       "G5600450     92\n",
       "\n",
       "[3115 rows x 1 columns]"
      ]
     },
     "execution_count": 4,
     "metadata": {},
     "output_type": "execute_result"
    }
   ],
   "source": [
    "df1 = pd.DataFrame(df.groupby(\"GISJOIN\")[\"cases\"].sum())\n",
    "dfX = df1['cases']\n",
    "df1"
   ]
  },
  {
   "cell_type": "code",
   "execution_count": 5,
   "id": "29b04cef",
   "metadata": {},
   "outputs": [],
   "source": [
    "dfX = np.array(dfX).reshape(-1, 1)"
   ]
  },
  {
   "cell_type": "code",
   "execution_count": 6,
   "id": "7f472546",
   "metadata": {},
   "outputs": [
    {
     "data": {
      "text/html": [
       "<div>\n",
       "<style scoped>\n",
       "    .dataframe tbody tr th:only-of-type {\n",
       "        vertical-align: middle;\n",
       "    }\n",
       "\n",
       "    .dataframe tbody tr th {\n",
       "        vertical-align: top;\n",
       "    }\n",
       "\n",
       "    .dataframe thead th {\n",
       "        text-align: right;\n",
       "    }\n",
       "</style>\n",
       "<table border=\"1\" class=\"dataframe\">\n",
       "  <thead>\n",
       "    <tr style=\"text-align: right;\">\n",
       "      <th></th>\n",
       "      <th>cases</th>\n",
       "      <th>cluster_id</th>\n",
       "    </tr>\n",
       "    <tr>\n",
       "      <th>GISJOIN</th>\n",
       "      <th></th>\n",
       "      <th></th>\n",
       "    </tr>\n",
       "  </thead>\n",
       "  <tbody>\n",
       "    <tr>\n",
       "      <th>G0100010</th>\n",
       "      <td>1443</td>\n",
       "      <td>28</td>\n",
       "    </tr>\n",
       "    <tr>\n",
       "      <th>G0100030</th>\n",
       "      <td>4564</td>\n",
       "      <td>8</td>\n",
       "    </tr>\n",
       "    <tr>\n",
       "      <th>G0100050</th>\n",
       "      <td>372</td>\n",
       "      <td>51</td>\n",
       "    </tr>\n",
       "    <tr>\n",
       "      <th>G0100070</th>\n",
       "      <td>350</td>\n",
       "      <td>51</td>\n",
       "    </tr>\n",
       "    <tr>\n",
       "      <th>G0100090</th>\n",
       "      <td>960</td>\n",
       "      <td>16</td>\n",
       "    </tr>\n",
       "    <tr>\n",
       "      <th>...</th>\n",
       "      <td>...</td>\n",
       "      <td>...</td>\n",
       "    </tr>\n",
       "    <tr>\n",
       "      <th>G5600370</th>\n",
       "      <td>698</td>\n",
       "      <td>55</td>\n",
       "    </tr>\n",
       "    <tr>\n",
       "      <th>G5600390</th>\n",
       "      <td>676</td>\n",
       "      <td>55</td>\n",
       "    </tr>\n",
       "    <tr>\n",
       "      <th>G5600410</th>\n",
       "      <td>373</td>\n",
       "      <td>51</td>\n",
       "    </tr>\n",
       "    <tr>\n",
       "      <th>G5600430</th>\n",
       "      <td>192</td>\n",
       "      <td>48</td>\n",
       "    </tr>\n",
       "    <tr>\n",
       "      <th>G5600450</th>\n",
       "      <td>92</td>\n",
       "      <td>15</td>\n",
       "    </tr>\n",
       "  </tbody>\n",
       "</table>\n",
       "<p>3115 rows × 2 columns</p>\n",
       "</div>"
      ],
      "text/plain": [
       "          cases  cluster_id\n",
       "GISJOIN                    \n",
       "G0100010   1443          28\n",
       "G0100030   4564           8\n",
       "G0100050    372          51\n",
       "G0100070    350          51\n",
       "G0100090    960          16\n",
       "...         ...         ...\n",
       "G5600370    698          55\n",
       "G5600390    676          55\n",
       "G5600410    373          51\n",
       "G5600430    192          48\n",
       "G5600450     92          15\n",
       "\n",
       "[3115 rows x 2 columns]"
      ]
     },
     "execution_count": 6,
     "metadata": {},
     "output_type": "execute_result"
    }
   ],
   "source": [
    "kmeans = KMeans(n_clusters=56, random_state=0).fit(dfX)\n",
    "df_predict = kmeans.fit_predict(dfX)\n",
    "centroids = kmeans.cluster_centers_\n",
    "df1['cluster_id'] = df_predict\n",
    "df1"
   ]
  },
  {
   "cell_type": "code",
   "execution_count": 7,
   "id": "dba9e3c1",
   "metadata": {},
   "outputs": [
    {
     "data": {
      "text/plain": [
       "56"
      ]
     },
     "execution_count": 7,
     "metadata": {},
     "output_type": "execute_result"
    }
   ],
   "source": [
    "len(centroids)"
   ]
  },
  {
   "cell_type": "code",
   "execution_count": 8,
   "id": "3875ac77",
   "metadata": {},
   "outputs": [
    {
     "name": "stdout",
     "output_type": "stream",
     "text": [
      "3115\n"
     ]
    }
   ],
   "source": [
    "cluster_ids_list = df1['cluster_id']\n",
    "centroids_column = []\n",
    "\n",
    "for id in cluster_ids_list:\n",
    "    centroids_column.append(centroids[id][0])\n",
    "    \n",
    "print(len(centroids_column))"
   ]
  },
  {
   "cell_type": "code",
   "execution_count": 9,
   "id": "569c5ac1",
   "metadata": {},
   "outputs": [],
   "source": [
    "df1['centroid'] = centroids_column"
   ]
  },
  {
   "cell_type": "code",
   "execution_count": 10,
   "id": "26aa9bef",
   "metadata": {},
   "outputs": [
    {
     "data": {
      "text/html": [
       "<div>\n",
       "<style scoped>\n",
       "    .dataframe tbody tr th:only-of-type {\n",
       "        vertical-align: middle;\n",
       "    }\n",
       "\n",
       "    .dataframe tbody tr th {\n",
       "        vertical-align: top;\n",
       "    }\n",
       "\n",
       "    .dataframe thead th {\n",
       "        text-align: right;\n",
       "    }\n",
       "</style>\n",
       "<table border=\"1\" class=\"dataframe\">\n",
       "  <thead>\n",
       "    <tr style=\"text-align: right;\">\n",
       "      <th></th>\n",
       "      <th>cases</th>\n",
       "      <th>cluster_id</th>\n",
       "      <th>centroid</th>\n",
       "      <th>distance</th>\n",
       "    </tr>\n",
       "    <tr>\n",
       "      <th>GISJOIN</th>\n",
       "      <th></th>\n",
       "      <th></th>\n",
       "      <th></th>\n",
       "      <th></th>\n",
       "    </tr>\n",
       "  </thead>\n",
       "  <tbody>\n",
       "    <tr>\n",
       "      <th>G0100010</th>\n",
       "      <td>1443</td>\n",
       "      <td>28</td>\n",
       "      <td>1445.045455</td>\n",
       "      <td>2.045455</td>\n",
       "    </tr>\n",
       "    <tr>\n",
       "      <th>G0100030</th>\n",
       "      <td>4564</td>\n",
       "      <td>8</td>\n",
       "      <td>4516.535714</td>\n",
       "      <td>47.464286</td>\n",
       "    </tr>\n",
       "    <tr>\n",
       "      <th>G0100050</th>\n",
       "      <td>372</td>\n",
       "      <td>51</td>\n",
       "      <td>366.832618</td>\n",
       "      <td>5.167382</td>\n",
       "    </tr>\n",
       "    <tr>\n",
       "      <th>G0100070</th>\n",
       "      <td>350</td>\n",
       "      <td>51</td>\n",
       "      <td>366.832618</td>\n",
       "      <td>16.832618</td>\n",
       "    </tr>\n",
       "    <tr>\n",
       "      <th>G0100090</th>\n",
       "      <td>960</td>\n",
       "      <td>16</td>\n",
       "      <td>1057.492857</td>\n",
       "      <td>97.492857</td>\n",
       "    </tr>\n",
       "    <tr>\n",
       "      <th>...</th>\n",
       "      <td>...</td>\n",
       "      <td>...</td>\n",
       "      <td>...</td>\n",
       "      <td>...</td>\n",
       "    </tr>\n",
       "    <tr>\n",
       "      <th>G5600370</th>\n",
       "      <td>698</td>\n",
       "      <td>55</td>\n",
       "      <td>685.379310</td>\n",
       "      <td>12.620690</td>\n",
       "    </tr>\n",
       "    <tr>\n",
       "      <th>G5600390</th>\n",
       "      <td>676</td>\n",
       "      <td>55</td>\n",
       "      <td>685.379310</td>\n",
       "      <td>9.379310</td>\n",
       "    </tr>\n",
       "    <tr>\n",
       "      <th>G5600410</th>\n",
       "      <td>373</td>\n",
       "      <td>51</td>\n",
       "      <td>366.832618</td>\n",
       "      <td>6.167382</td>\n",
       "    </tr>\n",
       "    <tr>\n",
       "      <th>G5600430</th>\n",
       "      <td>192</td>\n",
       "      <td>48</td>\n",
       "      <td>173.770936</td>\n",
       "      <td>18.229064</td>\n",
       "    </tr>\n",
       "    <tr>\n",
       "      <th>G5600450</th>\n",
       "      <td>92</td>\n",
       "      <td>15</td>\n",
       "      <td>64.962121</td>\n",
       "      <td>27.037879</td>\n",
       "    </tr>\n",
       "  </tbody>\n",
       "</table>\n",
       "<p>3115 rows × 4 columns</p>\n",
       "</div>"
      ],
      "text/plain": [
       "          cases  cluster_id     centroid   distance\n",
       "GISJOIN                                            \n",
       "G0100010   1443          28  1445.045455   2.045455\n",
       "G0100030   4564           8  4516.535714  47.464286\n",
       "G0100050    372          51   366.832618   5.167382\n",
       "G0100070    350          51   366.832618  16.832618\n",
       "G0100090    960          16  1057.492857  97.492857\n",
       "...         ...         ...          ...        ...\n",
       "G5600370    698          55   685.379310  12.620690\n",
       "G5600390    676          55   685.379310   9.379310\n",
       "G5600410    373          51   366.832618   6.167382\n",
       "G5600430    192          48   173.770936  18.229064\n",
       "G5600450     92          15    64.962121  27.037879\n",
       "\n",
       "[3115 rows x 4 columns]"
      ]
     },
     "execution_count": 10,
     "metadata": {},
     "output_type": "execute_result"
    }
   ],
   "source": [
    "df1['distance'] = abs(df1['cases'] - df1['centroid'])\n",
    "df1"
   ]
  },
  {
   "cell_type": "code",
   "execution_count": 11,
   "id": "32858ff7",
   "metadata": {},
   "outputs": [
    {
     "data": {
      "text/html": [
       "<div>\n",
       "<style scoped>\n",
       "    .dataframe tbody tr th:only-of-type {\n",
       "        vertical-align: middle;\n",
       "    }\n",
       "\n",
       "    .dataframe tbody tr th {\n",
       "        vertical-align: top;\n",
       "    }\n",
       "\n",
       "    .dataframe thead th {\n",
       "        text-align: right;\n",
       "    }\n",
       "</style>\n",
       "<table border=\"1\" class=\"dataframe\">\n",
       "  <thead>\n",
       "    <tr style=\"text-align: right;\">\n",
       "      <th></th>\n",
       "      <th>GISJOIN</th>\n",
       "      <th>cluster_id</th>\n",
       "      <th>distance</th>\n",
       "    </tr>\n",
       "  </thead>\n",
       "  <tbody>\n",
       "    <tr>\n",
       "      <th>0</th>\n",
       "      <td>G0100010</td>\n",
       "      <td>28</td>\n",
       "      <td>2.045455</td>\n",
       "    </tr>\n",
       "    <tr>\n",
       "      <th>1</th>\n",
       "      <td>G0100030</td>\n",
       "      <td>8</td>\n",
       "      <td>47.464286</td>\n",
       "    </tr>\n",
       "    <tr>\n",
       "      <th>2</th>\n",
       "      <td>G0100050</td>\n",
       "      <td>51</td>\n",
       "      <td>5.167382</td>\n",
       "    </tr>\n",
       "    <tr>\n",
       "      <th>3</th>\n",
       "      <td>G0100070</td>\n",
       "      <td>51</td>\n",
       "      <td>16.832618</td>\n",
       "    </tr>\n",
       "    <tr>\n",
       "      <th>4</th>\n",
       "      <td>G0100090</td>\n",
       "      <td>16</td>\n",
       "      <td>97.492857</td>\n",
       "    </tr>\n",
       "    <tr>\n",
       "      <th>...</th>\n",
       "      <td>...</td>\n",
       "      <td>...</td>\n",
       "      <td>...</td>\n",
       "    </tr>\n",
       "    <tr>\n",
       "      <th>3110</th>\n",
       "      <td>G5600370</td>\n",
       "      <td>55</td>\n",
       "      <td>12.620690</td>\n",
       "    </tr>\n",
       "    <tr>\n",
       "      <th>3111</th>\n",
       "      <td>G5600390</td>\n",
       "      <td>55</td>\n",
       "      <td>9.379310</td>\n",
       "    </tr>\n",
       "    <tr>\n",
       "      <th>3112</th>\n",
       "      <td>G5600410</td>\n",
       "      <td>51</td>\n",
       "      <td>6.167382</td>\n",
       "    </tr>\n",
       "    <tr>\n",
       "      <th>3113</th>\n",
       "      <td>G5600430</td>\n",
       "      <td>48</td>\n",
       "      <td>18.229064</td>\n",
       "    </tr>\n",
       "    <tr>\n",
       "      <th>3114</th>\n",
       "      <td>G5600450</td>\n",
       "      <td>15</td>\n",
       "      <td>27.037879</td>\n",
       "    </tr>\n",
       "  </tbody>\n",
       "</table>\n",
       "<p>3115 rows × 3 columns</p>\n",
       "</div>"
      ],
      "text/plain": [
       "       GISJOIN  cluster_id   distance\n",
       "0     G0100010          28   2.045455\n",
       "1     G0100030           8  47.464286\n",
       "2     G0100050          51   5.167382\n",
       "3     G0100070          51  16.832618\n",
       "4     G0100090          16  97.492857\n",
       "...        ...         ...        ...\n",
       "3110  G5600370          55  12.620690\n",
       "3111  G5600390          55   9.379310\n",
       "3112  G5600410          51   6.167382\n",
       "3113  G5600430          48  18.229064\n",
       "3114  G5600450          15  27.037879\n",
       "\n",
       "[3115 rows x 3 columns]"
      ]
     },
     "execution_count": 11,
     "metadata": {},
     "output_type": "execute_result"
    }
   ],
   "source": [
    "df2 = df1[[\"cluster_id\", \"distance\"]].reset_index()\n",
    "df2"
   ]
  },
  {
   "cell_type": "markdown",
   "id": "e3d82870",
   "metadata": {},
   "source": [
    "### Tag Parent GISJoins"
   ]
  },
  {
   "cell_type": "code",
   "execution_count": 30,
   "id": "98a39b4d",
   "metadata": {},
   "outputs": [
    {
     "name": "stdout",
     "output_type": "stream",
     "text": [
      "56\n"
     ]
    }
   ],
   "source": [
    "df2_gr = df2.groupby('cluster_id')['distance'].min().reset_index()\n",
    "parents = []\n",
    "for i, row in df2_gr.iterrows():\n",
    "    cluster_id = row['cluster_id']\n",
    "    distance = row['distance']\n",
    "    \n",
    "    cluster_id_match = df2[df2['cluster_id'] == cluster_id]\n",
    "    distance_match = cluster_id_match[cluster_id_match['distance'] == distance].reset_index()['GISJOIN']\n",
    "    parent = list(distance_match)[0] # select only one GISJOIN\n",
    "    parents.append(parent)\n",
    "    \n",
    "print(len(set(parents)))"
   ]
  },
  {
   "cell_type": "code",
   "execution_count": 13,
   "id": "433c71a2",
   "metadata": {},
   "outputs": [
    {
     "name": "stdout",
     "output_type": "stream",
     "text": [
      "(56, 3)\n"
     ]
    },
    {
     "data": {
      "text/html": [
       "<div>\n",
       "<style scoped>\n",
       "    .dataframe tbody tr th:only-of-type {\n",
       "        vertical-align: middle;\n",
       "    }\n",
       "\n",
       "    .dataframe tbody tr th {\n",
       "        vertical-align: top;\n",
       "    }\n",
       "\n",
       "    .dataframe thead th {\n",
       "        text-align: right;\n",
       "    }\n",
       "</style>\n",
       "<table border=\"1\" class=\"dataframe\">\n",
       "  <thead>\n",
       "    <tr style=\"text-align: right;\">\n",
       "      <th></th>\n",
       "      <th>cluster_id</th>\n",
       "      <th>min_distance</th>\n",
       "      <th>max_distance</th>\n",
       "    </tr>\n",
       "  </thead>\n",
       "  <tbody>\n",
       "    <tr>\n",
       "      <th>0</th>\n",
       "      <td>0</td>\n",
       "      <td>2.057971</td>\n",
       "      <td>128.942029</td>\n",
       "    </tr>\n",
       "    <tr>\n",
       "      <th>1</th>\n",
       "      <td>1</td>\n",
       "      <td>557.500000</td>\n",
       "      <td>557.500000</td>\n",
       "    </tr>\n",
       "    <tr>\n",
       "      <th>2</th>\n",
       "      <td>2</td>\n",
       "      <td>8.500000</td>\n",
       "      <td>475.500000</td>\n",
       "    </tr>\n",
       "    <tr>\n",
       "      <th>3</th>\n",
       "      <td>3</td>\n",
       "      <td>0.000000</td>\n",
       "      <td>0.000000</td>\n",
       "    </tr>\n",
       "    <tr>\n",
       "      <th>4</th>\n",
       "      <td>4</td>\n",
       "      <td>39.666667</td>\n",
       "      <td>246.333333</td>\n",
       "    </tr>\n",
       "  </tbody>\n",
       "</table>\n",
       "</div>"
      ],
      "text/plain": [
       "   cluster_id  min_distance  max_distance\n",
       "0           0      2.057971    128.942029\n",
       "1           1    557.500000    557.500000\n",
       "2           2      8.500000    475.500000\n",
       "3           3      0.000000      0.000000\n",
       "4           4     39.666667    246.333333"
      ]
     },
     "execution_count": 13,
     "metadata": {},
     "output_type": "execute_result"
    }
   ],
   "source": [
    "df_clusters = df2_gr.rename(columns={'distance': 'min_distance'})\n",
    "df_clusters['max_distance'] = df2.groupby('cluster_id')['distance'].max().reset_index()['distance']\n",
    "print(df_clusters.shape)\n",
    "df_clusters.head()"
   ]
  },
  {
   "cell_type": "code",
   "execution_count": 14,
   "id": "8846bc7d",
   "metadata": {},
   "outputs": [
    {
     "data": {
      "text/html": [
       "<div>\n",
       "<style scoped>\n",
       "    .dataframe tbody tr th:only-of-type {\n",
       "        vertical-align: middle;\n",
       "    }\n",
       "\n",
       "    .dataframe tbody tr th {\n",
       "        vertical-align: top;\n",
       "    }\n",
       "\n",
       "    .dataframe thead th {\n",
       "        text-align: right;\n",
       "    }\n",
       "</style>\n",
       "<table border=\"1\" class=\"dataframe\">\n",
       "  <thead>\n",
       "    <tr style=\"text-align: right;\">\n",
       "      <th></th>\n",
       "      <th>GISJOIN</th>\n",
       "      <th>cluster_id</th>\n",
       "      <th>distance</th>\n",
       "      <th>is_parent</th>\n",
       "    </tr>\n",
       "  </thead>\n",
       "  <tbody>\n",
       "    <tr>\n",
       "      <th>0</th>\n",
       "      <td>G0100010</td>\n",
       "      <td>28</td>\n",
       "      <td>2.045455</td>\n",
       "      <td>0.0</td>\n",
       "    </tr>\n",
       "    <tr>\n",
       "      <th>1</th>\n",
       "      <td>G0100030</td>\n",
       "      <td>8</td>\n",
       "      <td>47.464286</td>\n",
       "      <td>0.0</td>\n",
       "    </tr>\n",
       "    <tr>\n",
       "      <th>2</th>\n",
       "      <td>G0100050</td>\n",
       "      <td>51</td>\n",
       "      <td>5.167382</td>\n",
       "      <td>0.0</td>\n",
       "    </tr>\n",
       "    <tr>\n",
       "      <th>3</th>\n",
       "      <td>G0100070</td>\n",
       "      <td>51</td>\n",
       "      <td>16.832618</td>\n",
       "      <td>0.0</td>\n",
       "    </tr>\n",
       "    <tr>\n",
       "      <th>4</th>\n",
       "      <td>G0100090</td>\n",
       "      <td>16</td>\n",
       "      <td>97.492857</td>\n",
       "      <td>0.0</td>\n",
       "    </tr>\n",
       "  </tbody>\n",
       "</table>\n",
       "</div>"
      ],
      "text/plain": [
       "    GISJOIN  cluster_id   distance  is_parent\n",
       "0  G0100010          28   2.045455        0.0\n",
       "1  G0100030           8  47.464286        0.0\n",
       "2  G0100050          51   5.167382        0.0\n",
       "3  G0100070          51  16.832618        0.0\n",
       "4  G0100090          16  97.492857        0.0"
      ]
     },
     "execution_count": 14,
     "metadata": {},
     "output_type": "execute_result"
    }
   ],
   "source": [
    "for parent in parents:\n",
    "    df2.loc[df2.GISJOIN == parent, \"is_parent\"] = 1\n",
    "\n",
    "df2 = df2.fillna(0)\n",
    "df2.head()"
   ]
  },
  {
   "cell_type": "code",
   "execution_count": 15,
   "id": "937288d9",
   "metadata": {},
   "outputs": [],
   "source": [
    "df3 = df2\n",
    "\n",
    "for i, row in df2.iterrows():\n",
    "    i_distance = row['distance']\n",
    "    cluster_id = row['cluster_id']\n",
    "    gis_join = row['GISJOIN']\n",
    "    max_distance = df_clusters[df_clusters['cluster_id'] == cluster_id]['max_distance'].item()\n",
    "    min_distance = df_clusters[df_clusters['cluster_id'] == cluster_id]['min_distance'].item()\n",
    "    if max_distance == min_distance:\n",
    "        frac = 0\n",
    "    else:\n",
    "        frac = (i_distance - min_distance)/(max_distance - min_distance)\n",
    "    df3.loc[df3.GISJOIN == gis_join, \"frac_distance\"] = frac"
   ]
  },
  {
   "cell_type": "code",
   "execution_count": 16,
   "id": "ff12ec2b",
   "metadata": {},
   "outputs": [
    {
     "data": {
      "text/html": [
       "<div>\n",
       "<style scoped>\n",
       "    .dataframe tbody tr th:only-of-type {\n",
       "        vertical-align: middle;\n",
       "    }\n",
       "\n",
       "    .dataframe tbody tr th {\n",
       "        vertical-align: top;\n",
       "    }\n",
       "\n",
       "    .dataframe thead th {\n",
       "        text-align: right;\n",
       "    }\n",
       "</style>\n",
       "<table border=\"1\" class=\"dataframe\">\n",
       "  <thead>\n",
       "    <tr style=\"text-align: right;\">\n",
       "      <th></th>\n",
       "      <th>GISJOIN</th>\n",
       "      <th>cluster_id</th>\n",
       "      <th>distance</th>\n",
       "      <th>is_parent</th>\n",
       "      <th>frac_distance</th>\n",
       "      <th>sample_percent</th>\n",
       "    </tr>\n",
       "  </thead>\n",
       "  <tbody>\n",
       "    <tr>\n",
       "      <th>0</th>\n",
       "      <td>G0100010</td>\n",
       "      <td>28</td>\n",
       "      <td>2.045455</td>\n",
       "      <td>0.0</td>\n",
       "      <td>0.011364</td>\n",
       "      <td>0.052273</td>\n",
       "    </tr>\n",
       "    <tr>\n",
       "      <th>1</th>\n",
       "      <td>G0100030</td>\n",
       "      <td>8</td>\n",
       "      <td>47.464286</td>\n",
       "      <td>0.0</td>\n",
       "      <td>0.158088</td>\n",
       "      <td>0.081618</td>\n",
       "    </tr>\n",
       "    <tr>\n",
       "      <th>2</th>\n",
       "      <td>G0100050</td>\n",
       "      <td>51</td>\n",
       "      <td>5.167382</td>\n",
       "      <td>0.0</td>\n",
       "      <td>0.104167</td>\n",
       "      <td>0.070833</td>\n",
       "    </tr>\n",
       "    <tr>\n",
       "      <th>3</th>\n",
       "      <td>G0100070</td>\n",
       "      <td>51</td>\n",
       "      <td>16.832618</td>\n",
       "      <td>0.0</td>\n",
       "      <td>0.347192</td>\n",
       "      <td>0.119438</td>\n",
       "    </tr>\n",
       "    <tr>\n",
       "      <th>4</th>\n",
       "      <td>G0100090</td>\n",
       "      <td>16</td>\n",
       "      <td>97.492857</td>\n",
       "      <td>0.0</td>\n",
       "      <td>0.905660</td>\n",
       "      <td>0.231132</td>\n",
       "    </tr>\n",
       "    <tr>\n",
       "      <th>...</th>\n",
       "      <td>...</td>\n",
       "      <td>...</td>\n",
       "      <td>...</td>\n",
       "      <td>...</td>\n",
       "      <td>...</td>\n",
       "      <td>...</td>\n",
       "    </tr>\n",
       "    <tr>\n",
       "      <th>3110</th>\n",
       "      <td>G5600370</td>\n",
       "      <td>55</td>\n",
       "      <td>12.620690</td>\n",
       "      <td>0.0</td>\n",
       "      <td>0.162695</td>\n",
       "      <td>0.082539</td>\n",
       "    </tr>\n",
       "    <tr>\n",
       "      <th>3111</th>\n",
       "      <td>G5600390</td>\n",
       "      <td>55</td>\n",
       "      <td>9.379310</td>\n",
       "      <td>0.0</td>\n",
       "      <td>0.119615</td>\n",
       "      <td>0.073923</td>\n",
       "    </tr>\n",
       "    <tr>\n",
       "      <th>3112</th>\n",
       "      <td>G5600410</td>\n",
       "      <td>51</td>\n",
       "      <td>6.167382</td>\n",
       "      <td>0.0</td>\n",
       "      <td>0.125000</td>\n",
       "      <td>0.075000</td>\n",
       "    </tr>\n",
       "    <tr>\n",
       "      <th>3113</th>\n",
       "      <td>G5600430</td>\n",
       "      <td>48</td>\n",
       "      <td>18.229064</td>\n",
       "      <td>0.0</td>\n",
       "      <td>0.336185</td>\n",
       "      <td>0.117237</td>\n",
       "    </tr>\n",
       "    <tr>\n",
       "      <th>3114</th>\n",
       "      <td>G5600450</td>\n",
       "      <td>15</td>\n",
       "      <td>27.037879</td>\n",
       "      <td>0.0</td>\n",
       "      <td>0.160787</td>\n",
       "      <td>0.082157</td>\n",
       "    </tr>\n",
       "  </tbody>\n",
       "</table>\n",
       "<p>3115 rows × 6 columns</p>\n",
       "</div>"
      ],
      "text/plain": [
       "       GISJOIN  cluster_id   distance  is_parent  frac_distance  \\\n",
       "0     G0100010          28   2.045455        0.0       0.011364   \n",
       "1     G0100030           8  47.464286        0.0       0.158088   \n",
       "2     G0100050          51   5.167382        0.0       0.104167   \n",
       "3     G0100070          51  16.832618        0.0       0.347192   \n",
       "4     G0100090          16  97.492857        0.0       0.905660   \n",
       "...        ...         ...        ...        ...            ...   \n",
       "3110  G5600370          55  12.620690        0.0       0.162695   \n",
       "3111  G5600390          55   9.379310        0.0       0.119615   \n",
       "3112  G5600410          51   6.167382        0.0       0.125000   \n",
       "3113  G5600430          48  18.229064        0.0       0.336185   \n",
       "3114  G5600450          15  27.037879        0.0       0.160787   \n",
       "\n",
       "      sample_percent  \n",
       "0           0.052273  \n",
       "1           0.081618  \n",
       "2           0.070833  \n",
       "3           0.119438  \n",
       "4           0.231132  \n",
       "...              ...  \n",
       "3110        0.082539  \n",
       "3111        0.073923  \n",
       "3112        0.075000  \n",
       "3113        0.117237  \n",
       "3114        0.082157  \n",
       "\n",
       "[3115 rows x 6 columns]"
      ]
     },
     "execution_count": 16,
     "metadata": {},
     "output_type": "execute_result"
    }
   ],
   "source": [
    "sample_min = 0.05\n",
    "sample_max = 0.25\n",
    "\n",
    "df3['sample_percent'] = sample_min + (sample_max - sample_min) * df3['frac_distance']\n",
    "df3"
   ]
  },
  {
   "cell_type": "code",
   "execution_count": 17,
   "id": "99a9bc61",
   "metadata": {},
   "outputs": [
    {
     "name": "stdout",
     "output_type": "stream",
     "text": [
      "56\n"
     ]
    }
   ],
   "source": [
    "unique_parents1 = list(df3[df3['is_parent'] == 1]['GISJOIN'].unique())\n",
    "print(len(unique_parents1))"
   ]
  },
  {
   "cell_type": "code",
   "execution_count": 18,
   "id": "8c957cbc",
   "metadata": {},
   "outputs": [],
   "source": [
    "df_cluster_parents = df3[df3['is_parent'] == 1][['cluster_id', 'GISJOIN']].sort_values('cluster_id').reset_index()\n",
    "del df_cluster_parents['index']\n",
    "cluster_parent_map = {}\n",
    "\n",
    "for i, row in df_cluster_parents.iterrows():\n",
    "    cluster_parent_map[row['cluster_id']] = row['GISJOIN']"
   ]
  },
  {
   "cell_type": "code",
   "execution_count": 19,
   "id": "55a24105",
   "metadata": {},
   "outputs": [
    {
     "data": {
      "text/plain": [
       "dict_keys([0, 1, 2, 3, 4, 5, 6, 7, 8, 9, 10, 11, 12, 13, 14, 15, 16, 17, 18, 19, 20, 21, 22, 23, 24, 25, 26, 27, 28, 29, 30, 31, 32, 33, 34, 35, 36, 37, 38, 39, 40, 41, 42, 43, 44, 45, 46, 47, 48, 49, 50, 51, 52, 53, 54, 55])"
      ]
     },
     "execution_count": 19,
     "metadata": {},
     "output_type": "execute_result"
    }
   ],
   "source": [
    "cluster_parent_map.keys()"
   ]
  },
  {
   "cell_type": "code",
   "execution_count": 31,
   "id": "022a3817",
   "metadata": {},
   "outputs": [
    {
     "data": {
      "text/plain": [
       "dict_values(['G2700270', 'G0400130', 'G4900490', 'G0600370', 'G4800290', 'G1600750', 'G3400070', 'G0600650', 'G4800270', 'G2101110', 'G4802010', 'G0600590', 'G0800410', 'G4201010', 'G1800950', 'G4600910', 'G1700270', 'G2100670', 'G0600730', 'G0600010', 'G1200860', 'G3900350', 'G5300050', 'G4801570', 'G1901670', 'G4900350', 'G0800690', 'G1301170', 'G0500330', 'G1600810', 'G3600290', 'G3900490', 'G4500790', 'G3000310', 'G5500090', 'G1300210', 'G3601190', 'G4001090', 'G1200570', 'G1200710', 'G1200990', 'G0100790', 'G3600590', 'G4804390', 'G4200710', 'G3901510', 'G5300350', 'G3701190', 'G0500890', 'G4803750', 'G3400290', 'G4701710', 'G4200910', 'G4500450', 'G4500310', 'G1801030'])"
      ]
     },
     "execution_count": 31,
     "metadata": {},
     "output_type": "execute_result"
    }
   ],
   "source": [
    "cluster_parent_map.values()"
   ]
  },
  {
   "cell_type": "code",
   "execution_count": 38,
   "id": "20cbb725",
   "metadata": {},
   "outputs": [],
   "source": [
    "child_df = df3[df3['is_parent'] == 0]"
   ]
  },
  {
   "cell_type": "markdown",
   "id": "5f643fd3",
   "metadata": {},
   "source": [
    "## Find Children for each Parent"
   ]
  },
  {
   "cell_type": "code",
   "execution_count": 41,
   "id": "988eead3",
   "metadata": {},
   "outputs": [
    {
     "name": "stdout",
     "output_type": "stream",
     "text": [
      "1. G2700270: 67\n",
      "2. G0400130: 1\n",
      "3. G4900490: 5\n",
      "4. G0600370: 0\n",
      "5. G4800290: 2\n",
      "6. G1600750: 193\n",
      "7. G3400070: 13\n",
      "8. G0600650: 1\n",
      "9. G4800270: 26\n",
      "10. G2101110: 8\n",
      "11. G4802010: 0\n",
      "12. G0600590: 0\n",
      "13. G0800410: 7\n",
      "14. G4201010: 2\n",
      "15. G1800950: 35\n",
      "16. G4600910: 509\n",
      "17. G1700270: 129\n",
      "18. G2100670: 19\n",
      "19. G0600730: 1\n",
      "20. G0600010: 5\n",
      "21. G1200860: 0\n",
      "22. G3900350: 2\n",
      "23. G5300050: 44\n",
      "24. G4801570: 14\n",
      "25. G1901670: 183\n",
      "26. G4900350: 0\n",
      "27. G0800690: 32\n",
      "28. G1301170: 25\n",
      "29. G0500330: 69\n",
      "30. G1600810: 324\n",
      "31. G3600290: 7\n",
      "32. G3900490: 7\n",
      "33. G4500790: 19\n",
      "34. G3000310: 53\n",
      "35. G5500090: 13\n",
      "36. G1300210: 37\n",
      "37. G3601190: 0\n",
      "38. G4001090: 3\n",
      "39. G1200570: 2\n",
      "40. G1200710: 5\n",
      "41. G1200990: 0\n",
      "42. G0100790: 161\n",
      "43. G3600590: 0\n",
      "44. G4804390: 0\n",
      "45. G4200710: 10\n",
      "46. G3901510: 14\n",
      "47. G5300350: 82\n",
      "48. G3701190: 1\n",
      "49. G0500890: 406\n",
      "50. G4803750: 47\n",
      "51. G3400290: 4\n",
      "52. G4701710: 230\n",
      "53. G4200910: 3\n",
      "54. G4500450: 5\n",
      "55. G4500310: 53\n",
      "56. G1801030: 181\n"
     ]
    }
   ],
   "source": [
    "parent_child_map = {}\n",
    "i = 1\n",
    "for cluster_id, parent in cluster_parent_map.items():\n",
    "    children = list(child_df[child_df['cluster_id'] == cluster_id]['GISJOIN'])\n",
    "    parent_child_map[parent] = children\n",
    "    print(f'{i}. {parent}: {len(children)}')\n",
    "    i += 1"
   ]
  },
  {
   "cell_type": "code",
   "execution_count": 42,
   "id": "e2339c13",
   "metadata": {},
   "outputs": [],
   "source": [
    "pickle.dump(parent_child_map, open('pickles/parent_child_map.pkl', 'wb'))"
   ]
  },
  {
   "cell_type": "markdown",
   "id": "9f2432e0",
   "metadata": {},
   "source": [
    "## Find Parent for each Child"
   ]
  },
  {
   "cell_type": "code",
   "execution_count": 20,
   "id": "a11ed689",
   "metadata": {},
   "outputs": [],
   "source": [
    "children = list(df3[df3['is_parent'] == 0]['GISJOIN'])\n",
    "\n",
    "child_parent_map = {}\n",
    "for child in children:\n",
    "    cluster_id = df3[df3['GISJOIN'] == child]['cluster_id'].item()\n",
    "    parent = cluster_parent_map[cluster_id]\n",
    "    child_parent_map[child] = parent\n",
    "    \n",
    "# child_parent_map.values().unique()"
   ]
  },
  {
   "cell_type": "code",
   "execution_count": 21,
   "id": "cf0d4560",
   "metadata": {},
   "outputs": [
    {
     "data": {
      "text/plain": [
       "3059"
      ]
     },
     "execution_count": 21,
     "metadata": {},
     "output_type": "execute_result"
    }
   ],
   "source": [
    "len(child_parent_map.keys())"
   ]
  },
  {
   "cell_type": "code",
   "execution_count": 22,
   "id": "808273a0",
   "metadata": {},
   "outputs": [
    {
     "data": {
      "text/plain": [
       "'G0500890'"
      ]
     },
     "execution_count": 22,
     "metadata": {},
     "output_type": "execute_result"
    }
   ],
   "source": [
    "child_parent_map['G5600150']"
   ]
  },
  {
   "cell_type": "code",
   "execution_count": 33,
   "id": "0aa66adf",
   "metadata": {},
   "outputs": [
    {
     "data": {
      "text/plain": [
       "47"
      ]
     },
     "execution_count": 33,
     "metadata": {},
     "output_type": "execute_result"
    }
   ],
   "source": [
    "values = child_parent_map.values()\n",
    "len(set(values))"
   ]
  },
  {
   "cell_type": "code",
   "execution_count": 24,
   "id": "954d8d87",
   "metadata": {},
   "outputs": [],
   "source": [
    "# serialize child_parent_map\n",
    "pickle.dump(child_parent_map, open('pickles/covid_child_parent_map.pkl', 'wb'))"
   ]
  },
  {
   "cell_type": "code",
   "execution_count": 25,
   "id": "c7d00f5d",
   "metadata": {},
   "outputs": [],
   "source": [
    "# Write child parent map to csv\n",
    "children = []\n",
    "parents = []\n",
    "for child, parent in child_parent_map.items():\n",
    "    children.append(child)\n",
    "    parents.append(parent)\n",
    "    \n",
    "df_child_parent = pd.DataFrame(zip(children, parents), columns=['child', 'parent'])\n",
    "# df_child_parent.to_csv('ucc-21/covid_child_parent_map.csv', index=False)"
   ]
  },
  {
   "cell_type": "code",
   "execution_count": 26,
   "id": "d047eec4",
   "metadata": {},
   "outputs": [
    {
     "name": "stdout",
     "output_type": "stream",
     "text": [
      "3059\n",
      "47\n"
     ]
    }
   ],
   "source": [
    "# Child Parent Map Sanity Check\n",
    "unique_children = list(set(children))\n",
    "unique_parents2 = list(set(parents))\n",
    "\n",
    "print(len(unique_children))\n",
    "print(len(unique_parents2))"
   ]
  },
  {
   "cell_type": "code",
   "execution_count": 28,
   "id": "8b6c2a7a",
   "metadata": {},
   "outputs": [
    {
     "data": {
      "text/plain": [
       "9"
      ]
     },
     "execution_count": 28,
     "metadata": {},
     "output_type": "execute_result"
    }
   ],
   "source": [
    "len(set(unique_parents1) - set(unique_parents2))"
   ]
  },
  {
   "cell_type": "code",
   "execution_count": 29,
   "id": "ac9d380d",
   "metadata": {},
   "outputs": [],
   "source": [
    "df_final = df3\n",
    "df_final.to_csv('./clusters-covid.csv')"
   ]
  }
 ],
 "metadata": {
  "kernelspec": {
   "display_name": "Python 3 (ipykernel)",
   "language": "python",
   "name": "python3"
  },
  "language_info": {
   "codemirror_mode": {
    "name": "ipython",
    "version": 3
   },
   "file_extension": ".py",
   "mimetype": "text/x-python",
   "name": "python",
   "nbconvert_exporter": "python",
   "pygments_lexer": "ipython3",
   "version": "3.8.6"
  }
 },
 "nbformat": 4,
 "nbformat_minor": 5
}
