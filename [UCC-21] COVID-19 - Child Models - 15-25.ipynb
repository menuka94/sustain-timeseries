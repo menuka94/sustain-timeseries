{
 "cells": [
  {
   "cell_type": "code",
   "execution_count": 2,
   "id": "9f854eec",
   "metadata": {},
   "outputs": [
    {
     "name": "stderr",
     "output_type": "stream",
     "text": [
      "Importing plotly failed. Interactive plots will not work.\n"
     ]
    }
   ],
   "source": [
    "import pandas as pd\n",
    "from prophet import Prophet\n",
    "from pymongo import MongoClient\n",
    "from prophet.plot import plot_plotly, plot_components_plotly\n",
    "import os\n",
    "import time\n",
    "import pickle\n",
    "from datetime import datetime\n",
    "import itertools\n",
    "import dask\n",
    "from dask.distributed import Client"
   ]
  },
  {
   "cell_type": "code",
   "execution_count": 3,
   "id": "5dc3091b",
   "metadata": {},
   "outputs": [
    {
     "data": {
      "text/plain": [
       "(56, 4)"
      ]
     },
     "execution_count": 3,
     "metadata": {},
     "output_type": "execute_result"
    }
   ],
   "source": [
    "df_parent = pd.read_csv('covid_parents_trained.csv')\n",
    "df_parent.shape"
   ]
  },
  {
   "cell_type": "code",
   "execution_count": 4,
   "id": "449872bb",
   "metadata": {},
   "outputs": [
    {
     "name": "stdout",
     "output_type": "stream",
     "text": [
      "56\n",
      "G0400130: (rmse=316.3039434010886, changepoint_prior_scale=0.5, seasonality_prior_scale=0.1)\n"
     ]
    }
   ],
   "source": [
    "class TrainedParent:\n",
    "    def __init__(self, gis_join, rmse, changepoint_prior_scale, seasonality_prior_scale):\n",
    "        self.gis_join = gis_join\n",
    "        self.rmse = rmse\n",
    "        self.changepoint_prior_scale = changepoint_prior_scale\n",
    "        self.seasonality_prior_scale = seasonality_prior_scale\n",
    "        \n",
    "    def __str__(self):\n",
    "        return f'{self.gis_join}: (rmse={self.rmse}, changepoint_prior_scale={self.changepoint_prior_scale}, seasonality_prior_scale={self.seasonality_prior_scale})'\n",
    "    \n",
    "trained_parents_list = []    \n",
    "for i, row in df_parent.iterrows():\n",
    "    gis_join = row['GISJOIN']\n",
    "    rmse = row['rmse']\n",
    "    changepoint_prior_scale = row['changepoint_prior_scale']\n",
    "    seasonality_prior_scale = row['seasonality_prior_scale']\n",
    "    trained_parents_list.append(TrainedParent(gis_join, rmse, changepoint_prior_scale, seasonality_prior_scale))\n",
    "    \n",
    "print(f'{len(trained_parents_list)}')\n",
    "print(trained_parents_list[0])"
   ]
  },
  {
   "cell_type": "code",
   "execution_count": 5,
   "id": "7633d8e5",
   "metadata": {},
   "outputs": [
    {
     "data": {
      "text/html": [
       "<div>\n",
       "<style scoped>\n",
       "    .dataframe tbody tr th:only-of-type {\n",
       "        vertical-align: middle;\n",
       "    }\n",
       "\n",
       "    .dataframe tbody tr th {\n",
       "        vertical-align: top;\n",
       "    }\n",
       "\n",
       "    .dataframe thead th {\n",
       "        text-align: right;\n",
       "    }\n",
       "</style>\n",
       "<table border=\"1\" class=\"dataframe\">\n",
       "  <thead>\n",
       "    <tr style=\"text-align: right;\">\n",
       "      <th></th>\n",
       "      <th>Unnamed: 0</th>\n",
       "      <th>GISJOIN</th>\n",
       "      <th>cluster_id</th>\n",
       "      <th>distance</th>\n",
       "      <th>is_parent</th>\n",
       "      <th>frac_distance</th>\n",
       "      <th>sample_percent</th>\n",
       "    </tr>\n",
       "  </thead>\n",
       "  <tbody>\n",
       "    <tr>\n",
       "      <th>0</th>\n",
       "      <td>0</td>\n",
       "      <td>G0100010</td>\n",
       "      <td>39</td>\n",
       "      <td>7.582524</td>\n",
       "      <td>0.0</td>\n",
       "      <td>0.046117</td>\n",
       "      <td>0.059223</td>\n",
       "    </tr>\n",
       "    <tr>\n",
       "      <th>1</th>\n",
       "      <td>1</td>\n",
       "      <td>G0100030</td>\n",
       "      <td>37</td>\n",
       "      <td>21.277778</td>\n",
       "      <td>0.0</td>\n",
       "      <td>0.109459</td>\n",
       "      <td>0.071892</td>\n",
       "    </tr>\n",
       "    <tr>\n",
       "      <th>2</th>\n",
       "      <td>2</td>\n",
       "      <td>G0100050</td>\n",
       "      <td>47</td>\n",
       "      <td>22.647059</td>\n",
       "      <td>0.0</td>\n",
       "      <td>0.288432</td>\n",
       "      <td>0.107686</td>\n",
       "    </tr>\n",
       "    <tr>\n",
       "      <th>3</th>\n",
       "      <td>3</td>\n",
       "      <td>G0100070</td>\n",
       "      <td>22</td>\n",
       "      <td>53.160338</td>\n",
       "      <td>0.0</td>\n",
       "      <td>0.611449</td>\n",
       "      <td>0.172290</td>\n",
       "    </tr>\n",
       "    <tr>\n",
       "      <th>4</th>\n",
       "      <td>4</td>\n",
       "      <td>G0100090</td>\n",
       "      <td>29</td>\n",
       "      <td>55.718750</td>\n",
       "      <td>0.0</td>\n",
       "      <td>0.522091</td>\n",
       "      <td>0.154418</td>\n",
       "    </tr>\n",
       "  </tbody>\n",
       "</table>\n",
       "</div>"
      ],
      "text/plain": [
       "   Unnamed: 0   GISJOIN  cluster_id   distance  is_parent  frac_distance  \\\n",
       "0           0  G0100010          39   7.582524        0.0       0.046117   \n",
       "1           1  G0100030          37  21.277778        0.0       0.109459   \n",
       "2           2  G0100050          47  22.647059        0.0       0.288432   \n",
       "3           3  G0100070          22  53.160338        0.0       0.611449   \n",
       "4           4  G0100090          29  55.718750        0.0       0.522091   \n",
       "\n",
       "   sample_percent  \n",
       "0        0.059223  \n",
       "1        0.071892  \n",
       "2        0.107686  \n",
       "3        0.172290  \n",
       "4        0.154418  "
      ]
     },
     "execution_count": 5,
     "metadata": {},
     "output_type": "execute_result"
    }
   ],
   "source": [
    "df_clusters = pd.read_csv('~/ucc-21/clusters-covid.csv')\n",
    "df_clusters.head()"
   ]
  },
  {
   "cell_type": "code",
   "execution_count": 6,
   "id": "8d9bbc6f",
   "metadata": {},
   "outputs": [
    {
     "name": "stdout",
     "output_type": "stream",
     "text": [
      "1242\n"
     ]
    }
   ],
   "source": [
    "# child GISJOIN to sample_percent map\n",
    "child_map = {}\n",
    "for i, row in df_clusters.iterrows():\n",
    "    is_parent = row['is_parent']\n",
    "    sample_percent = row['sample_percent']\n",
    "    if not is_parent and (0.25 >= sample_percent > 0.15):\n",
    "        gis_join = row['GISJOIN']\n",
    "        \n",
    "        child_map[gis_join] = sample_percent\n",
    "        \n",
    "no_of_children = len(child_map.keys())\n",
    "no_of_parents = len(trained_parents_list)\n",
    "\n",
    "# assert no_of_children == (df_clusters.shape[0] - no_of_parents)\n",
    "print(no_of_children)"
   ]
  },
  {
   "cell_type": "code",
   "execution_count": 7,
   "id": "e990c90a",
   "metadata": {},
   "outputs": [],
   "source": [
    "db = MongoClient(\"lattice-100\", 27018)\n",
    "collection = 'covid_county_formatted'\n",
    "\n",
    "def get_df_by_gis_join(gis_join, sample_percent=1.0):\n",
    "    print(gis_join, end=' ')\n",
    "    cursor = db.sustaindb[collection].aggregate([{\"$match\": {\"GISJOIN\": gis_join}}])\n",
    "    df = pd.DataFrame(list(cursor))[['date', 'cases']]\n",
    "    df.columns = ['ds','y']\n",
    "    return df.sample(frac=sample_percent)"
   ]
  },
  {
   "cell_type": "code",
   "execution_count": 13,
   "id": "f6467003",
   "metadata": {},
   "outputs": [],
   "source": [
    "def predict_transfer(df_train):\n",
    "    time1 = time.monotonic()\n",
    "    # initilaize model with hyperparameters from parent model\n",
    "    m = Prophet(\n",
    "        seasonality_prior_scale = 10.0,\n",
    "        changepoint_prior_scale = 0.5,\n",
    "    )\n",
    "    m.fit(df_train, algorithm='LBFGS')\n",
    "    df_train_future = m.make_future_dataframe(periods=300, freq='H')\n",
    "    df_train_forecast = m.predict(df_train_future)\n",
    "    time2 = time.monotonic()\n",
    "\n",
    "    return m, df_train_future, df_train_forecast, (time2 - time1)\n",
    "\n",
    "\n",
    "def predict_transfer_task(df_train, gis_join):\n",
    "    m, df_train_future, df_train_forecast, time_taken = predict_transfer(df_train)\n",
    "    return gis_join, time_taken\n",
    "\n",
    "\n",
    "# child_list = []\n",
    "# child_dfs_list = []\n",
    "\n",
    "# for gis_join, sample_percent in child_map.items():\n",
    "#     child_list.append(gis_join)\n",
    "#     child_dfs_list.append(get_df_by_gis_join(gis_join, sample_percent))\n",
    "    \n",
    "child_list = pickle.load(open('ucc-21/child_list_15_25.pkl', 'rb'))\n",
    "child_dfs_list = pickle.load(open('ucc-21/child_dfs_list_15_25.pkl', 'rb'))"
   ]
  },
  {
   "cell_type": "code",
   "execution_count": 14,
   "id": "35d181c7",
   "metadata": {},
   "outputs": [
    {
     "name": "stdout",
     "output_type": "stream",
     "text": [
      "1242\n",
      "1242\n"
     ]
    }
   ],
   "source": [
    "print(len(child_list))\n",
    "print(len(child_dfs_list))"
   ]
  },
  {
   "cell_type": "code",
   "execution_count": 12,
   "id": "1b0e318b",
   "metadata": {},
   "outputs": [],
   "source": [
    "# pickle.dump(child_list, open('ucc-21/child_list_15_25.pkl', 'wb'))\n",
    "# pickle.dump(child_dfs_list, open('ucc-21/child_dfs_list_15_25.pkl', 'wb'))"
   ]
  },
  {
   "cell_type": "code",
   "execution_count": 15,
   "id": "42b869b3",
   "metadata": {},
   "outputs": [
    {
     "name": "stdout",
     "output_type": "stream",
     "text": [
      "100, 200, 300, 400, 500, 600, 700, 800, 900, 1000, 1100, 1200, "
     ]
    },
    {
     "data": {
      "text/plain": [
       "(('G0100070', 73.10810322500765),\n",
       " ('G0100090', 52.46689986297861),\n",
       " ('G0100130', 77.76051817391999),\n",
       " ('G0100170', 75.40392595203593),\n",
       " ('G0100190', 76.44265002198517))"
      ]
     },
     "execution_count": 15,
     "metadata": {},
     "output_type": "execute_result"
    }
   ],
   "source": [
    "client = Client('lattice-150:8786')\n",
    "\n",
    "counter = 1\n",
    "lazy_results = []\n",
    "for gis_join, df_ in zip(child_list, child_dfs_list):\n",
    "    lazy_result = dask.delayed(predict_transfer_task)(df_, gis_join)\n",
    "    lazy_results.append(lazy_result)\n",
    "    if counter % 100 == 0:\n",
    "        print(counter, end=', ')\n",
    "    counter += 1\n",
    "\n",
    "futures = dask.persist(*lazy_results)  # trigger computation in the background\n",
    "results = dask.compute(*futures)\n",
    "results[:5]"
   ]
  },
  {
   "cell_type": "code",
   "execution_count": 18,
   "id": "97b5567a",
   "metadata": {},
   "outputs": [],
   "source": [
    "gis_joins = []\n",
    "times = []\n",
    "\n",
    "for r, t in results:\n",
    "    gis_joins.append(r)\n",
    "    times.append(t)\n",
    "    \n",
    "times_0_15_df = pd.DataFrame(zip(gis_joins, times), columns=['GISJOIN', 'time'])\n",
    "times_0_15_df.to_csv('ucc-21/child_training_tl_times_15_25.csv', index=False)"
   ]
  }
 ],
 "metadata": {
  "kernelspec": {
   "display_name": "Python 3 (ipykernel)",
   "language": "python",
   "name": "python3"
  },
  "language_info": {
   "codemirror_mode": {
    "name": "ipython",
    "version": 3
   },
   "file_extension": ".py",
   "mimetype": "text/x-python",
   "name": "python",
   "nbconvert_exporter": "python",
   "pygments_lexer": "ipython3",
   "version": "3.8.6"
  }
 },
 "nbformat": 4,
 "nbformat_minor": 5
}
