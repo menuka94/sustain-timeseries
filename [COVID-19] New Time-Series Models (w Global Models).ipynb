{
 "cells": [
  {
   "cell_type": "code",
   "execution_count": 2,
   "id": "8683f278",
   "metadata": {},
   "outputs": [
    {
     "name": "stderr",
     "output_type": "stream",
     "text": [
      "Importing plotly failed. Interactive plots will not work.\n"
     ]
    }
   ],
   "source": [
    "import pandas as pd\n",
    "from prophet import Prophet\n",
    "from pymongo import MongoClient\n",
    "from prophet.plot import plot_plotly, plot_components_plotly\n",
    "import os\n",
    "import time\n",
    "import pickle\n",
    "from datetime import datetime"
   ]
  },
  {
   "cell_type": "markdown",
   "id": "eb05bd8d",
   "metadata": {},
   "source": [
    "# Global Model"
   ]
  },
  {
   "cell_type": "code",
   "execution_count": 3,
   "id": "c386e9e8",
   "metadata": {},
   "outputs": [],
   "source": [
    "total_records = 1064950\n",
    "\n",
    "db = MongoClient(os.environ[\"DB_HOST\"], int(os.environ[\"DB_PORT\"]))\n",
    "collection = 'covid_county_formatted'\n",
    "pipeline = [\n",
    "    {\n",
    "        \"$sample\": {\"size\": total_records//100}\n",
    "    }\n",
    "]\n",
    "cursor = db.sustaindb[collection].aggregate(pipeline)\n",
    "df_original = pd.DataFrame(list(cursor))"
   ]
  },
  {
   "cell_type": "code",
   "execution_count": 9,
   "id": "b4d9e1e3",
   "metadata": {},
   "outputs": [
    {
     "data": {
      "text/html": [
       "<div>\n",
       "<style scoped>\n",
       "    .dataframe tbody tr th:only-of-type {\n",
       "        vertical-align: middle;\n",
       "    }\n",
       "\n",
       "    .dataframe tbody tr th {\n",
       "        vertical-align: top;\n",
       "    }\n",
       "\n",
       "    .dataframe thead th {\n",
       "        text-align: right;\n",
       "    }\n",
       "</style>\n",
       "<table border=\"1\" class=\"dataframe\">\n",
       "  <thead>\n",
       "    <tr style=\"text-align: right;\">\n",
       "      <th></th>\n",
       "      <th>ds</th>\n",
       "      <th>y</th>\n",
       "    </tr>\n",
       "  </thead>\n",
       "  <tbody>\n",
       "    <tr>\n",
       "      <th>0</th>\n",
       "      <td>2021-01-07</td>\n",
       "      <td>1757</td>\n",
       "    </tr>\n",
       "    <tr>\n",
       "      <th>1</th>\n",
       "      <td>2020-06-08</td>\n",
       "      <td>110</td>\n",
       "    </tr>\n",
       "    <tr>\n",
       "      <th>2</th>\n",
       "      <td>2020-10-25</td>\n",
       "      <td>265</td>\n",
       "    </tr>\n",
       "    <tr>\n",
       "      <th>3</th>\n",
       "      <td>2020-07-20</td>\n",
       "      <td>659</td>\n",
       "    </tr>\n",
       "    <tr>\n",
       "      <th>4</th>\n",
       "      <td>2020-12-27</td>\n",
       "      <td>6043</td>\n",
       "    </tr>\n",
       "  </tbody>\n",
       "</table>\n",
       "</div>"
      ],
      "text/plain": [
       "           ds     y\n",
       "0  2021-01-07  1757\n",
       "1  2020-06-08   110\n",
       "2  2020-10-25   265\n",
       "3  2020-07-20   659\n",
       "4  2020-12-27  6043"
      ]
     },
     "execution_count": 9,
     "metadata": {},
     "output_type": "execute_result"
    }
   ],
   "source": [
    "df = df_original\n",
    "covid_features = ['cases', 'deaths']\n",
    "unique_dates = df['date'].unique()\n",
    "df_map = {}\n",
    "\n",
    "for selected_feature in covid_features:\n",
    "    df_s = df[['date', selected_feature]]\n",
    "    sums = []\n",
    "    for t in unique_dates:\n",
    "        sum_ = df_s[df_s['date'] == t][selected_feature].sum()\n",
    "        sums.append(sum_)\n",
    "    df_sums = pd.DataFrame(list(zip(unique_dates, sums)), columns=['ds', 'y'])\n",
    "#     df_means.index.name = 'ds'\n",
    "    df_map[selected_feature] = df_sums\n",
    "    \n",
    "df_map['cases'].head()"
   ]
  },
  {
   "cell_type": "code",
   "execution_count": 11,
   "id": "870894c1",
   "metadata": {},
   "outputs": [],
   "source": [
    "pickle.dump(df_map, open('pickles/covid/df_map.pkl', 'wb'))"
   ]
  },
  {
   "cell_type": "code",
   "execution_count": 12,
   "id": "42865bdc",
   "metadata": {},
   "outputs": [],
   "source": [
    "# Start by loading pickled 'df_map'\n",
    "df_map = pickle.load(open('pickles/covid/df_map.pkl', 'rb'))"
   ]
  },
  {
   "cell_type": "code",
   "execution_count": 13,
   "id": "63c2bad9",
   "metadata": {},
   "outputs": [
    {
     "data": {
      "text/plain": [
       "Index(['ds', 'y'], dtype='object')"
      ]
     },
     "execution_count": 13,
     "metadata": {},
     "output_type": "execute_result"
    }
   ],
   "source": [
    "# select one feature\n",
    "df0 = df_map['cases']\n",
    "df0.head()\n",
    "df0.columns"
   ]
  },
  {
   "cell_type": "markdown",
   "id": "048569aa",
   "metadata": {},
   "source": [
    "## Build Global Model"
   ]
  },
  {
   "cell_type": "code",
   "execution_count": 14,
   "id": "d787968e",
   "metadata": {},
   "outputs": [
    {
     "name": "stdout",
     "output_type": "stream",
     "text": [
      "Initial log joint probability = -3.1737\n",
      "    Iter      log prob        ||dx||      ||grad||       alpha      alpha0  # evals  Notes \n",
      "      99        856.93   4.23956e-06       100.084      0.9923      0.9923      121   \n",
      "    Iter      log prob        ||dx||      ||grad||       alpha      alpha0  # evals  Notes \n",
      "     110       856.932   1.65885e-05       103.203   1.623e-07       0.001      192  LS failed, Hessian reset \n",
      "     136       856.934   3.36273e-08       100.163      0.2146      0.9771      225   \n",
      "Optimization terminated normally: \n",
      "  Convergence detected: relative gradient magnitude is below tolerance\n"
     ]
    }
   ],
   "source": [
    "def predict(df_train):\n",
    "    m = Prophet(\n",
    "        daily_seasonality=True,\n",
    "        weekly_seasonality=True,\n",
    "        yearly_seasonality=True,\n",
    "    )\n",
    "    # model.fit(df, algorithm='LBFGS')\n",
    "    fit_m = m.fit(df_train, algorithm='LBFGS')\n",
    "    df_train_future = m.make_future_dataframe(periods=300)\n",
    "    df_train_forecast = m.predict(df_train_future)\n",
    "\n",
    "    return fit_m, df_train_future, df_train_forecast\n",
    "\n",
    "fit_m, df_train, df_train_forecast = predict(df0)"
   ]
  },
  {
   "cell_type": "code",
   "execution_count": 15,
   "id": "fa4dc4d9",
   "metadata": {},
   "outputs": [],
   "source": [
    "global_model = fit_m"
   ]
  },
  {
   "cell_type": "code",
   "execution_count": 17,
   "id": "bdaa7e8f",
   "metadata": {},
   "outputs": [
    {
     "name": "stderr",
     "output_type": "stream",
     "text": [
      "INFO:prophet:Making 3 forecasts with cutoffs between 2020-08-18 23:59:59.999999900 and 2021-03-06 23:59:59.999999900\n",
      "WARNING:prophet:Seasonality has period of 365.25 days which is larger than initial window. Consider increasing initial.\n"
     ]
    },
    {
     "data": {
      "application/vnd.jupyter.widget-view+json": {
       "model_id": "75e4dbd4635e4807b31bdbb73eb734a2",
       "version_major": 2,
       "version_minor": 0
      },
      "text/plain": [
       "  0%|          | 0/3 [00:00<?, ?it/s]"
      ]
     },
     "metadata": {},
     "output_type": "display_data"
    },
    {
     "name": "stdout",
     "output_type": "stream",
     "text": [
      "Initial log joint probability = -4.06139\n",
      "    Iter      log prob        ||dx||      ||grad||       alpha      alpha0  # evals  Notes \n",
      "      63       282.705    9.9467e-09        100.48       0.168       0.168       85   \n",
      "Optimization terminated normally: \n",
      "  Convergence detected: absolute parameter change was below tolerance\n",
      "Initial log joint probability = -3.1626\n",
      "    Iter      log prob        ||dx||      ||grad||       alpha      alpha0  # evals  Notes \n",
      "      74       612.982   6.55743e-09       100.557      0.2472      0.2472      103   \n",
      "Optimization terminated normally: \n",
      "  Convergence detected: absolute parameter change was below tolerance\n",
      "Initial log joint probability = -3.1832\n",
      "    Iter      log prob        ||dx||      ||grad||       alpha      alpha0  # evals  Notes \n",
      "      99       854.235   7.01577e-07       99.5517      0.5651      0.5651      130   \n",
      "    Iter      log prob        ||dx||      ||grad||       alpha      alpha0  # evals  Notes \n",
      "     131       854.235   3.46827e-08       100.765           1           1      168   \n",
      "Optimization terminated normally: \n",
      "  Convergence detected: relative gradient magnitude is below tolerance\n"
     ]
    },
    {
     "data": {
      "text/html": [
       "<div>\n",
       "<style scoped>\n",
       "    .dataframe tbody tr th:only-of-type {\n",
       "        vertical-align: middle;\n",
       "    }\n",
       "\n",
       "    .dataframe tbody tr th {\n",
       "        vertical-align: top;\n",
       "    }\n",
       "\n",
       "    .dataframe thead th {\n",
       "        text-align: right;\n",
       "    }\n",
       "</style>\n",
       "<table border=\"1\" class=\"dataframe\">\n",
       "  <thead>\n",
       "    <tr style=\"text-align: right;\">\n",
       "      <th></th>\n",
       "      <th>horizon</th>\n",
       "      <th>mse</th>\n",
       "      <th>rmse</th>\n",
       "      <th>mae</th>\n",
       "      <th>mape</th>\n",
       "      <th>mdape</th>\n",
       "      <th>smape</th>\n",
       "      <th>coverage</th>\n",
       "    </tr>\n",
       "  </thead>\n",
       "  <tbody>\n",
       "    <tr>\n",
       "      <th>0</th>\n",
       "      <td>0 days 00:00:00.000000100</td>\n",
       "      <td>2.100069e+06</td>\n",
       "      <td>1449.161391</td>\n",
       "      <td>1001.159585</td>\n",
       "      <td>1.415313</td>\n",
       "      <td>0.587237</td>\n",
       "      <td>0.733411</td>\n",
       "      <td>0.666667</td>\n",
       "    </tr>\n",
       "  </tbody>\n",
       "</table>\n",
       "</div>"
      ],
      "text/plain": [
       "                    horizon           mse         rmse          mae      mape  \\\n",
       "0 0 days 00:00:00.000000100  2.100069e+06  1449.161391  1001.159585  1.415313   \n",
       "\n",
       "      mdape     smape  coverage  \n",
       "0  0.587237  0.733411  0.666667  "
      ]
     },
     "execution_count": 17,
     "metadata": {},
     "output_type": "execute_result"
    }
   ],
   "source": [
    "from prophet.diagnostics import cross_validation\n",
    "from prophet.diagnostics import performance_metrics\n",
    "\n",
    "df0_cv = cross_validation(fit_m, initial= '100 days', period='100 days', horizon='100')\n",
    "df0_p = performance_metrics(df0_cv)\n",
    "df0_p.head()"
   ]
  },
  {
   "cell_type": "code",
   "execution_count": 18,
   "id": "17e446cf",
   "metadata": {},
   "outputs": [
    {
     "name": "stdout",
     "output_type": "stream",
     "text": [
      "seasonality_prior_scale: 10.0\n",
      "changepoint_prior_scale: 0.05\n",
      "uncertainty_samples: 1000\n",
      "seasonlity_mode: additive\n",
      "interval_width: 0.8\n",
      "growth: linear\n"
     ]
    }
   ],
   "source": [
    "model = fit_m\n",
    "print(f'seasonality_prior_scale: {model.seasonality_prior_scale}')\n",
    "print(f'changepoint_prior_scale: {model.changepoint_prior_scale}')\n",
    "print(f'uncertainty_samples: {model.uncertainty_samples}')\n",
    "print(f'seasonlity_mode: {model.seasonality_mode}')\n",
    "print(f'interval_width: {model.interval_width}')\n",
    "print(f'growth: {model.growth}')"
   ]
  },
  {
   "cell_type": "markdown",
   "id": "5a278f29",
   "metadata": {},
   "source": [
    "## GridSearch on Global Model"
   ]
  },
  {
   "cell_type": "code",
   "execution_count": 19,
   "id": "061665d2",
   "metadata": {},
   "outputs": [],
   "source": [
    "import itertools\n",
    "from dask.distributed import Client\n",
    "\n",
    "client = Client('lattice-150:8786')    \n",
    "\n",
    "\n",
    "def grid_search(df):\n",
    "    param_grid = {  \n",
    "        'changepoint_prior_scale': [0.001, 0.01, 0.1, 0.5],\n",
    "        'seasonality_prior_scale': [0.01, 0.1, 1.0, 10.0],\n",
    "    }\n",
    "\n",
    "    # Generate all combinations of parameters\n",
    "    all_params = [dict(zip(param_grid.keys(), v)) for v in itertools.product(*param_grid.values())]\n",
    "    rmses = []  # Store the RMSEs for each params here\n",
    "\n",
    "    time1 = time.monotonic()\n",
    "    # Use cross validation to evaluate all parameters\n",
    "    for params in all_params:\n",
    "        m = Prophet(**params).fit(df)  # Fit model with given params\n",
    "        df_cv = cross_validation(m, initial= '100 days', period='100 days', horizon='100', parallel=\"dask\")\n",
    "        df_p = performance_metrics(df_cv, rolling_window=1)\n",
    "        rmses.append(df_p['rmse'].values[0])\n",
    "\n",
    "    # Find the best parameters\n",
    "    tuning_results = pd.DataFrame(all_params)\n",
    "    tuning_results['rmse'] = rmses\n",
    "\n",
    "    print(f'Time: {time.monotonic() - time1}')\n",
    "    \n",
    "    optimal_params = tuning_results[tuning_results['rmse'] == min(tuning_results['rmse'])]\n",
    "    rmse = optimal_params['rmse'].iloc[0]\n",
    "    changepoint_prior_scale = optimal_params['changepoint_prior_scale'].iloc[0]\n",
    "    seasonality_prior_scale = optimal_params['seasonality_prior_scale'].iloc[0]\n",
    "    \n",
    "    return rmse, changepoint_prior_scale, seasonality_prior_scale  "
   ]
  },
  {
   "cell_type": "code",
   "execution_count": 20,
   "id": "d9d9e7e4",
   "metadata": {},
   "outputs": [
    {
     "name": "stderr",
     "output_type": "stream",
     "text": [
      "INFO:prophet:Disabling yearly seasonality. Run prophet with yearly_seasonality=True to override this.\n",
      "INFO:prophet:Disabling daily seasonality. Run prophet with daily_seasonality=True to override this.\n",
      "INFO:prophet:Making 3 forecasts with cutoffs between 2020-08-18 23:59:59.999999900 and 2021-03-06 23:59:59.999999900\n"
     ]
    },
    {
     "name": "stdout",
     "output_type": "stream",
     "text": [
      "Initial log joint probability = -3.1737\n",
      "    Iter      log prob        ||dx||      ||grad||       alpha      alpha0  # evals  Notes \n",
      "      62       806.397   4.00199e-09       5030.43      0.1458      0.1458       77   \n",
      "Optimization terminated normally: \n",
      "  Convergence detected: absolute parameter change was below tolerance\n"
     ]
    },
    {
     "name": "stderr",
     "output_type": "stream",
     "text": [
      "INFO:prophet:Applying in parallel with <Client: 'tcp://129.82.208.160:8786' processes=24 threads=384, memory=1.47 TiB>\n",
      "INFO:prophet:Disabling yearly seasonality. Run prophet with yearly_seasonality=True to override this.\n",
      "INFO:prophet:Disabling daily seasonality. Run prophet with daily_seasonality=True to override this.\n",
      "INFO:prophet:Making 3 forecasts with cutoffs between 2020-08-18 23:59:59.999999900 and 2021-03-06 23:59:59.999999900\n"
     ]
    },
    {
     "name": "stdout",
     "output_type": "stream",
     "text": [
      "Initial log joint probability = -3.1737\n",
      "    Iter      log prob        ||dx||      ||grad||       alpha      alpha0  # evals  Notes \n",
      "      99       811.427   2.00898e-06       5000.87           1           1      125   \n",
      "    Iter      log prob        ||dx||      ||grad||       alpha      alpha0  # evals  Notes \n",
      "     105        811.44   1.41032e-06       4656.05   2.678e-10       0.001      172  LS failed, Hessian reset \n",
      "     122       811.445   9.36789e-09       4758.17      0.3158      0.3158      196   \n",
      "Optimization terminated normally: \n",
      "  Convergence detected: absolute parameter change was below tolerance\n"
     ]
    },
    {
     "name": "stderr",
     "output_type": "stream",
     "text": [
      "INFO:prophet:Applying in parallel with <Client: 'tcp://129.82.208.160:8786' processes=24 threads=384, memory=1.47 TiB>\n",
      "INFO:prophet:Disabling yearly seasonality. Run prophet with yearly_seasonality=True to override this.\n",
      "INFO:prophet:Disabling daily seasonality. Run prophet with daily_seasonality=True to override this.\n",
      "INFO:prophet:Making 3 forecasts with cutoffs between 2020-08-18 23:59:59.999999900 and 2021-03-06 23:59:59.999999900\n"
     ]
    },
    {
     "name": "stdout",
     "output_type": "stream",
     "text": [
      "Initial log joint probability = -3.1737\n",
      "    Iter      log prob        ||dx||      ||grad||       alpha      alpha0  # evals  Notes \n",
      "      92       810.936   2.66325e-06       4967.84   5.612e-10       0.001      159  LS failed, Hessian reset \n",
      "      99       810.947   8.69794e-07       4891.53           1           1      168   \n",
      "    Iter      log prob        ||dx||      ||grad||       alpha      alpha0  # evals  Notes \n",
      "     120       810.952   2.25599e-07       5079.27   4.441e-11       0.001      244  LS failed, Hessian reset \n",
      "     132       810.953   6.29935e-09       4902.75      0.4915      0.4915      260   \n",
      "Optimization terminated normally: \n",
      "  Convergence detected: absolute parameter change was below tolerance\n"
     ]
    },
    {
     "name": "stderr",
     "output_type": "stream",
     "text": [
      "INFO:prophet:Applying in parallel with <Client: 'tcp://129.82.208.160:8786' processes=24 threads=384, memory=1.47 TiB>\n",
      "INFO:prophet:Disabling yearly seasonality. Run prophet with yearly_seasonality=True to override this.\n",
      "INFO:prophet:Disabling daily seasonality. Run prophet with daily_seasonality=True to override this.\n",
      "INFO:prophet:Making 3 forecasts with cutoffs between 2020-08-18 23:59:59.999999900 and 2021-03-06 23:59:59.999999900\n"
     ]
    },
    {
     "name": "stdout",
     "output_type": "stream",
     "text": [
      "Initial log joint probability = -3.1737\n",
      "    Iter      log prob        ||dx||      ||grad||       alpha      alpha0  # evals  Notes \n",
      "      99       810.892   5.54362e-05       4951.63           1           1      126   \n",
      "    Iter      log prob        ||dx||      ||grad||       alpha      alpha0  # evals  Notes \n",
      "     137       810.949   7.57771e-09        4812.5      0.5136      0.5136      173   \n",
      "Optimization terminated normally: \n",
      "  Convergence detected: absolute parameter change was below tolerance\n"
     ]
    },
    {
     "name": "stderr",
     "output_type": "stream",
     "text": [
      "INFO:prophet:Applying in parallel with <Client: 'tcp://129.82.208.160:8786' processes=24 threads=384, memory=1.47 TiB>\n",
      "INFO:prophet:Disabling yearly seasonality. Run prophet with yearly_seasonality=True to override this.\n",
      "INFO:prophet:Disabling daily seasonality. Run prophet with daily_seasonality=True to override this.\n",
      "INFO:prophet:Making 3 forecasts with cutoffs between 2020-08-18 23:59:59.999999900 and 2021-03-06 23:59:59.999999900\n"
     ]
    },
    {
     "name": "stdout",
     "output_type": "stream",
     "text": [
      "Initial log joint probability = -3.1737\n",
      "    Iter      log prob        ||dx||      ||grad||       alpha      alpha0  # evals  Notes \n",
      "      74       824.468   9.17283e-05       479.339   1.878e-07       0.001      139  LS failed, Hessian reset \n",
      "      99       824.493   1.80661e-07        501.77       0.514       0.514      170   \n",
      "    Iter      log prob        ||dx||      ||grad||       alpha      alpha0  # evals  Notes \n",
      "     105        824.51   3.63466e-05       491.967   6.737e-08       0.001      212  LS failed, Hessian reset \n",
      "     154       824.533   4.67361e-06       452.291   9.713e-09       0.001      315  LS failed, Hessian reset \n",
      "     189       824.539   9.41874e-09       452.771      0.3045      0.3045      354   \n",
      "Optimization terminated normally: \n",
      "  Convergence detected: absolute parameter change was below tolerance\n"
     ]
    },
    {
     "name": "stderr",
     "output_type": "stream",
     "text": [
      "INFO:prophet:Applying in parallel with <Client: 'tcp://129.82.208.160:8786' processes=24 threads=384, memory=1.47 TiB>\n",
      "INFO:prophet:Disabling yearly seasonality. Run prophet with yearly_seasonality=True to override this.\n",
      "INFO:prophet:Disabling daily seasonality. Run prophet with daily_seasonality=True to override this.\n",
      "INFO:prophet:Making 3 forecasts with cutoffs between 2020-08-18 23:59:59.999999900 and 2021-03-06 23:59:59.999999900\n"
     ]
    },
    {
     "name": "stdout",
     "output_type": "stream",
     "text": [
      "Initial log joint probability = -3.1737\n",
      "    Iter      log prob        ||dx||      ||grad||       alpha      alpha0  # evals  Notes \n",
      "      99       825.369   1.01675e-06       482.762           1           1      135   \n",
      "    Iter      log prob        ||dx||      ||grad||       alpha      alpha0  # evals  Notes \n",
      "     117       825.371   7.34346e-07       490.355    1.52e-09       0.001      192  LS failed, Hessian reset \n",
      "     134       825.371   6.70705e-09       435.591      0.4174      0.4174      214   \n",
      "Optimization terminated normally: \n",
      "  Convergence detected: absolute parameter change was below tolerance\n"
     ]
    },
    {
     "name": "stderr",
     "output_type": "stream",
     "text": [
      "INFO:prophet:Applying in parallel with <Client: 'tcp://129.82.208.160:8786' processes=24 threads=384, memory=1.47 TiB>\n",
      "INFO:prophet:Disabling yearly seasonality. Run prophet with yearly_seasonality=True to override this.\n",
      "INFO:prophet:Disabling daily seasonality. Run prophet with daily_seasonality=True to override this.\n",
      "INFO:prophet:Making 3 forecasts with cutoffs between 2020-08-18 23:59:59.999999900 and 2021-03-06 23:59:59.999999900\n"
     ]
    },
    {
     "name": "stdout",
     "output_type": "stream",
     "text": [
      "Initial log joint probability = -3.1737\n",
      "    Iter      log prob        ||dx||      ||grad||       alpha      alpha0  # evals  Notes \n",
      "      99       824.222   2.20651e-05       537.163           1           1      134   \n",
      "    Iter      log prob        ||dx||      ||grad||       alpha      alpha0  # evals  Notes \n",
      "     102       824.288   0.000128774       502.206   2.393e-07       0.001      188  LS failed, Hessian reset \n",
      "     148       824.329   9.78578e-09       429.633      0.3811      0.3811      247   \n",
      "Optimization terminated normally: \n",
      "  Convergence detected: absolute parameter change was below tolerance\n"
     ]
    },
    {
     "name": "stderr",
     "output_type": "stream",
     "text": [
      "INFO:prophet:Applying in parallel with <Client: 'tcp://129.82.208.160:8786' processes=24 threads=384, memory=1.47 TiB>\n",
      "INFO:prophet:Disabling yearly seasonality. Run prophet with yearly_seasonality=True to override this.\n",
      "INFO:prophet:Disabling daily seasonality. Run prophet with daily_seasonality=True to override this.\n",
      "INFO:prophet:Making 3 forecasts with cutoffs between 2020-08-18 23:59:59.999999900 and 2021-03-06 23:59:59.999999900\n"
     ]
    },
    {
     "name": "stdout",
     "output_type": "stream",
     "text": [
      "Initial log joint probability = -3.1737\n",
      "    Iter      log prob        ||dx||      ||grad||       alpha      alpha0  # evals  Notes \n",
      "      99       824.233   2.82186e-07       450.878      0.7254      0.7254      136   \n",
      "    Iter      log prob        ||dx||      ||grad||       alpha      alpha0  # evals  Notes \n",
      "     132       824.294   8.64723e-05       397.734   1.465e-07       0.001      223  LS failed, Hessian reset \n",
      "     176       824.323   1.38468e-07       471.861   2.617e-10       0.001      319  LS failed, Hessian reset \n",
      "     181       824.323   2.83265e-09       393.384      0.1791      0.1791      325   \n",
      "Optimization terminated normally: \n",
      "  Convergence detected: absolute parameter change was below tolerance\n"
     ]
    },
    {
     "name": "stderr",
     "output_type": "stream",
     "text": [
      "INFO:prophet:Applying in parallel with <Client: 'tcp://129.82.208.160:8786' processes=24 threads=384, memory=1.47 TiB>\n",
      "INFO:prophet:Disabling yearly seasonality. Run prophet with yearly_seasonality=True to override this.\n",
      "INFO:prophet:Disabling daily seasonality. Run prophet with daily_seasonality=True to override this.\n",
      "INFO:prophet:Making 3 forecasts with cutoffs between 2020-08-18 23:59:59.999999900 and 2021-03-06 23:59:59.999999900\n"
     ]
    },
    {
     "name": "stdout",
     "output_type": "stream",
     "text": [
      "Initial log joint probability = -3.1737\n",
      "    Iter      log prob        ||dx||      ||grad||       alpha      alpha0  # evals  Notes \n",
      "      65       836.226   0.000432276       64.6011   6.372e-06       0.001      114  LS failed, Hessian reset \n",
      "      99       836.926    0.00014467       34.0437           1           1      158   \n",
      "    Iter      log prob        ||dx||      ||grad||       alpha      alpha0  # evals  Notes \n",
      "     135       837.141   0.000594224       79.9412   1.253e-05       0.001      230  LS failed, Hessian reset \n",
      "     199       837.414   0.000246931       38.0865      0.8171      0.8171      307   \n",
      "    Iter      log prob        ||dx||      ||grad||       alpha      alpha0  # evals  Notes \n",
      "     276       838.173   0.000330166       35.4948   7.461e-06       0.001      433  LS failed, Hessian reset \n",
      "     299       838.187    1.6855e-05       39.6944      0.9653     0.09653      465   \n",
      "    Iter      log prob        ||dx||      ||grad||       alpha      alpha0  # evals  Notes \n",
      "     399       838.196    0.00010891       42.6968      0.1953           1      591   \n",
      "    Iter      log prob        ||dx||      ||grad||       alpha      alpha0  # evals  Notes \n",
      "     450       838.223    4.0463e-08       43.5109      0.2188      0.5457      657   \n",
      "Optimization terminated normally: \n",
      "  Convergence detected: relative gradient magnitude is below tolerance\n"
     ]
    },
    {
     "name": "stderr",
     "output_type": "stream",
     "text": [
      "INFO:prophet:Applying in parallel with <Client: 'tcp://129.82.208.160:8786' processes=24 threads=384, memory=1.47 TiB>\n",
      "INFO:prophet:Disabling yearly seasonality. Run prophet with yearly_seasonality=True to override this.\n",
      "INFO:prophet:Disabling daily seasonality. Run prophet with daily_seasonality=True to override this.\n",
      "INFO:prophet:Making 3 forecasts with cutoffs between 2020-08-18 23:59:59.999999900 and 2021-03-06 23:59:59.999999900\n"
     ]
    },
    {
     "name": "stdout",
     "output_type": "stream",
     "text": [
      "Initial log joint probability = -3.1737\n",
      "    Iter      log prob        ||dx||      ||grad||       alpha      alpha0  # evals  Notes \n",
      "      68       836.716    0.00175951       102.742    2.03e-05       0.001      113  LS failed, Hessian reset \n",
      "      99       837.259   0.000144873       45.0044      0.2404      0.2404      149   \n",
      "    Iter      log prob        ||dx||      ||grad||       alpha      alpha0  # evals  Notes \n",
      "     199       838.685   7.40736e-06       40.4284           1           1      275   \n",
      "    Iter      log prob        ||dx||      ||grad||       alpha      alpha0  # evals  Notes \n",
      "     239       838.686   9.84509e-08       33.3462           1           1      328   \n",
      "Optimization terminated normally: \n",
      "  Convergence detected: relative gradient magnitude is below tolerance\n"
     ]
    },
    {
     "name": "stderr",
     "output_type": "stream",
     "text": [
      "INFO:prophet:Applying in parallel with <Client: 'tcp://129.82.208.160:8786' processes=24 threads=384, memory=1.47 TiB>\n",
      "INFO:prophet:Disabling yearly seasonality. Run prophet with yearly_seasonality=True to override this.\n",
      "INFO:prophet:Disabling daily seasonality. Run prophet with daily_seasonality=True to override this.\n",
      "INFO:prophet:Making 3 forecasts with cutoffs between 2020-08-18 23:59:59.999999900 and 2021-03-06 23:59:59.999999900\n"
     ]
    },
    {
     "name": "stdout",
     "output_type": "stream",
     "text": [
      "Initial log joint probability = -3.1737\n",
      "    Iter      log prob        ||dx||      ||grad||       alpha      alpha0  # evals  Notes \n",
      "      99       837.513     0.0007721       41.7448      0.8241      0.8241      130   \n",
      "    Iter      log prob        ||dx||      ||grad||       alpha      alpha0  # evals  Notes \n",
      "     189       838.674   1.18651e-07       38.1845        1.09      0.3779      246   \n",
      "Optimization terminated normally: \n",
      "  Convergence detected: relative gradient magnitude is below tolerance\n"
     ]
    },
    {
     "name": "stderr",
     "output_type": "stream",
     "text": [
      "INFO:prophet:Applying in parallel with <Client: 'tcp://129.82.208.160:8786' processes=24 threads=384, memory=1.47 TiB>\n",
      "INFO:prophet:Disabling yearly seasonality. Run prophet with yearly_seasonality=True to override this.\n",
      "INFO:prophet:Disabling daily seasonality. Run prophet with daily_seasonality=True to override this.\n",
      "INFO:prophet:Making 3 forecasts with cutoffs between 2020-08-18 23:59:59.999999900 and 2021-03-06 23:59:59.999999900\n"
     ]
    },
    {
     "name": "stdout",
     "output_type": "stream",
     "text": [
      "Initial log joint probability = -3.1737\n",
      "    Iter      log prob        ||dx||      ||grad||       alpha      alpha0  # evals  Notes \n",
      "      99       837.361    0.00151852       43.0247           1           1      124   \n",
      "    Iter      log prob        ||dx||      ||grad||       alpha      alpha0  # evals  Notes \n",
      "     199       838.585   0.000133768       40.3343      0.2437           1      250   \n",
      "    Iter      log prob        ||dx||      ||grad||       alpha      alpha0  # evals  Notes \n",
      "     262       838.603   0.000174922       31.5939   3.597e-06       0.001      374  LS failed, Hessian reset \n",
      "     299       838.621   6.63169e-06       39.5633      0.4389      0.4389      420   \n",
      "    Iter      log prob        ||dx||      ||grad||       alpha      alpha0  # evals  Notes \n",
      "     325       838.624   4.81453e-05       48.3816   1.164e-06       0.001      490  LS failed, Hessian reset \n",
      "     394       838.666    0.00063198       44.5587   1.313e-05       0.001      613  LS failed, Hessian reset \n",
      "     399       838.674   0.000185117       27.8661           1           1      618   \n",
      "    Iter      log prob        ||dx||      ||grad||       alpha      alpha0  # evals  Notes \n",
      "     485       838.685   6.18707e-08       39.5598      0.2498           1      721   \n",
      "Optimization terminated normally: \n",
      "  Convergence detected: relative gradient magnitude is below tolerance\n"
     ]
    },
    {
     "name": "stderr",
     "output_type": "stream",
     "text": [
      "INFO:prophet:Applying in parallel with <Client: 'tcp://129.82.208.160:8786' processes=24 threads=384, memory=1.47 TiB>\n",
      "INFO:prophet:Disabling yearly seasonality. Run prophet with yearly_seasonality=True to override this.\n",
      "INFO:prophet:Disabling daily seasonality. Run prophet with daily_seasonality=True to override this.\n",
      "INFO:prophet:Making 3 forecasts with cutoffs between 2020-08-18 23:59:59.999999900 and 2021-03-06 23:59:59.999999900\n"
     ]
    },
    {
     "name": "stdout",
     "output_type": "stream",
     "text": [
      "Initial log joint probability = -3.1737\n",
      "    Iter      log prob        ||dx||      ||grad||       alpha      alpha0  # evals  Notes \n",
      "      99       847.855    0.00343583       57.1956           1           1      122   \n",
      "    Iter      log prob        ||dx||      ||grad||       alpha      alpha0  # evals  Notes \n",
      "     193       849.571   0.000231619       24.7055   1.164e-05       0.001      287  LS failed, Hessian reset \n",
      "     199       849.607    0.00335516       28.9583           1           1      293   \n",
      "    Iter      log prob        ||dx||      ||grad||       alpha      alpha0  # evals  Notes \n",
      "     240       849.733    0.00110678       17.4783   0.0001055       0.001      380  LS failed, Hessian reset \n",
      "     299       850.023    0.00499694       13.4124           1           1      448   \n",
      "    Iter      log prob        ||dx||      ||grad||       alpha      alpha0  # evals  Notes \n",
      "     399       850.472   0.000489891       24.7422      0.8564      0.8564      570   \n",
      "    Iter      log prob        ||dx||      ||grad||       alpha      alpha0  # evals  Notes \n",
      "     499       850.572   1.18415e-05       8.06138           1           1      703   \n",
      "    Iter      log prob        ||dx||      ||grad||       alpha      alpha0  # evals  Notes \n",
      "     516       850.572   4.21511e-07       8.40987     0.02732           1      725   \n",
      "Optimization terminated normally: \n",
      "  Convergence detected: relative gradient magnitude is below tolerance\n"
     ]
    },
    {
     "name": "stderr",
     "output_type": "stream",
     "text": [
      "INFO:prophet:Applying in parallel with <Client: 'tcp://129.82.208.160:8786' processes=24 threads=384, memory=1.47 TiB>\n",
      "INFO:prophet:Disabling yearly seasonality. Run prophet with yearly_seasonality=True to override this.\n",
      "INFO:prophet:Disabling daily seasonality. Run prophet with daily_seasonality=True to override this.\n",
      "INFO:prophet:Making 3 forecasts with cutoffs between 2020-08-18 23:59:59.999999900 and 2021-03-06 23:59:59.999999900\n"
     ]
    },
    {
     "name": "stdout",
     "output_type": "stream",
     "text": [
      "Initial log joint probability = -3.1737\n",
      "    Iter      log prob        ||dx||      ||grad||       alpha      alpha0  # evals  Notes \n",
      "      99       848.752    0.00366129       15.5414       1.458      0.1458      126   \n",
      "    Iter      log prob        ||dx||      ||grad||       alpha      alpha0  # evals  Notes \n",
      "     157       849.617   0.000307224       35.3031   9.844e-06       0.001      228  LS failed, Hessian reset \n",
      "     199       850.214    0.00110307       16.5534      0.5194      0.5194      274   \n",
      "    Iter      log prob        ||dx||      ||grad||       alpha      alpha0  # evals  Notes \n",
      "     299       850.605    0.00412871       80.4802           1           1      394   \n",
      "    Iter      log prob        ||dx||      ||grad||       alpha      alpha0  # evals  Notes \n",
      "     395       851.007   0.000358175       21.7618   2.591e-05       0.001      538  LS failed, Hessian reset \n",
      "     399       851.009   0.000155607       15.2653           1           1      542   \n",
      "    Iter      log prob        ||dx||      ||grad||       alpha      alpha0  # evals  Notes \n",
      "     449       851.031   0.000305194       7.28529   3.513e-05       0.001      641  LS failed, Hessian reset \n",
      "     480       851.033   6.75805e-07       6.92492      0.3005           1      681   \n",
      "Optimization terminated normally: \n",
      "  Convergence detected: relative gradient magnitude is below tolerance\n"
     ]
    },
    {
     "name": "stderr",
     "output_type": "stream",
     "text": [
      "INFO:prophet:Applying in parallel with <Client: 'tcp://129.82.208.160:8786' processes=24 threads=384, memory=1.47 TiB>\n",
      "INFO:prophet:Disabling yearly seasonality. Run prophet with yearly_seasonality=True to override this.\n",
      "INFO:prophet:Disabling daily seasonality. Run prophet with daily_seasonality=True to override this.\n",
      "INFO:prophet:Making 3 forecasts with cutoffs between 2020-08-18 23:59:59.999999900 and 2021-03-06 23:59:59.999999900\n"
     ]
    },
    {
     "name": "stdout",
     "output_type": "stream",
     "text": [
      "Initial log joint probability = -3.1737\n",
      "    Iter      log prob        ||dx||      ||grad||       alpha      alpha0  # evals  Notes \n",
      "      99       848.372    0.00912565       28.9317           1           1      114   \n",
      "    Iter      log prob        ||dx||      ||grad||       alpha      alpha0  # evals  Notes \n",
      "     199       849.929    0.00427142       32.5392      0.7994      0.7994      243   \n",
      "    Iter      log prob        ||dx||      ||grad||       alpha      alpha0  # evals  Notes \n",
      "     299       850.735    0.00376087       33.0263       0.391           1      363   \n",
      "    Iter      log prob        ||dx||      ||grad||       alpha      alpha0  # evals  Notes \n",
      "     364       851.002   9.87863e-05       14.8234   8.335e-06       0.001      498  LS failed, Hessian reset \n",
      "     399       851.027    0.00120007       16.9904           1           1      538   \n",
      "    Iter      log prob        ||dx||      ||grad||       alpha      alpha0  # evals  Notes \n",
      "     419       851.033   9.45736e-05       12.4202   1.611e-05       0.001      611  LS failed, Hessian reset \n",
      "     495       851.041   5.38853e-07       7.75635      0.6158      0.6158      714   \n",
      "Optimization terminated normally: \n",
      "  Convergence detected: relative gradient magnitude is below tolerance\n"
     ]
    },
    {
     "name": "stderr",
     "output_type": "stream",
     "text": [
      "INFO:prophet:Applying in parallel with <Client: 'tcp://129.82.208.160:8786' processes=24 threads=384, memory=1.47 TiB>\n",
      "INFO:prophet:Disabling yearly seasonality. Run prophet with yearly_seasonality=True to override this.\n",
      "INFO:prophet:Disabling daily seasonality. Run prophet with daily_seasonality=True to override this.\n",
      "INFO:prophet:Making 3 forecasts with cutoffs between 2020-08-18 23:59:59.999999900 and 2021-03-06 23:59:59.999999900\n"
     ]
    },
    {
     "name": "stdout",
     "output_type": "stream",
     "text": [
      "Initial log joint probability = -3.1737\n",
      "    Iter      log prob        ||dx||      ||grad||       alpha      alpha0  # evals  Notes \n",
      "      99         848.6    0.00297262       26.3962           1           1      118   \n",
      "    Iter      log prob        ||dx||      ||grad||       alpha      alpha0  # evals  Notes \n",
      "     199       850.048    0.00231131       13.3927           1           1      228   \n",
      "    Iter      log prob        ||dx||      ||grad||       alpha      alpha0  # evals  Notes \n",
      "     299       850.699    0.00867182       32.4437           1           1      351   \n",
      "    Iter      log prob        ||dx||      ||grad||       alpha      alpha0  # evals  Notes \n",
      "     311       850.807   0.000422346       31.7506   1.939e-05       0.001      403  LS failed, Hessian reset \n",
      "     399       851.027   0.000728181       9.46524       3.245      0.3245      509   \n",
      "    Iter      log prob        ||dx||      ||grad||       alpha      alpha0  # evals  Notes \n",
      "     458       851.046   1.31902e-05       9.05722   1.361e-06       0.001      616  LS failed, Hessian reset \n",
      "     476       851.046   6.48082e-07       8.12664      0.4148      0.4148      639   \n",
      "Optimization terminated normally: \n",
      "  Convergence detected: relative gradient magnitude is below tolerance\n"
     ]
    },
    {
     "name": "stderr",
     "output_type": "stream",
     "text": [
      "INFO:prophet:Applying in parallel with <Client: 'tcp://129.82.208.160:8786' processes=24 threads=384, memory=1.47 TiB>\n"
     ]
    },
    {
     "name": "stdout",
     "output_type": "stream",
     "text": [
      "Time: 206.46187630901113\n",
      "rmse: 1365.082761731964\n",
      "changepoint_prior_scale: 0.5\n",
      "seasonality_prior_scale: 10.0\n"
     ]
    }
   ],
   "source": [
    "rmse, changepoint_prior_scale, seasonality_prior_scale = grid_search(df0)\n",
    "\n",
    "# Optimal values\n",
    "print(f'rmse: {rmse}')\n",
    "print(f'changepoint_prior_scale: {changepoint_prior_scale}')\n",
    "print(f'seasonality_prior_scale: {seasonality_prior_scale}')"
   ]
  },
  {
   "cell_type": "code",
   "execution_count": 33,
   "id": "7273871e",
   "metadata": {},
   "outputs": [
    {
     "name": "stdout",
     "output_type": "stream",
     "text": [
      "#GISJOINs: 2882\n"
     ]
    }
   ],
   "source": [
    "gis_joins = df_original['GISJOIN'].unique()\n",
    "print(f'#GISJOINs: {len(gis_joins)}')"
   ]
  },
  {
   "cell_type": "markdown",
   "id": "a620910d",
   "metadata": {},
   "source": [
    "## Dictionary of GISJOIN --> DF"
   ]
  },
  {
   "cell_type": "code",
   "execution_count": 34,
   "id": "f7fd1c64",
   "metadata": {},
   "outputs": [
    {
     "name": "stdout",
     "output_type": "stream",
     "text": [
      "G5000030 G5501210 G2100750 G4100490 G4500150 G2900510 G3700710 G5101250 G4803370 G2400450 G2901810 G5400050 G2400150 G5400090 G2601570 G2902090 G4000190 G3900330 G3200070 G4900190 G0201500 G2800570 G3100190 G1800050 G4100250 G2300250 G3800590 G3100430 G2500010 G4802030 G4802550 G5107400 G2800910 G3100770 G1800510 G4802070 G4700990 G0101150 G1701690 G5106000 G4701890 G4201090 G3901010 G2000910 G1701950 G4601370 G2100710 G4200050 G2800830 G2600290 G3701990 G3200150 G5300570 G3701270 G2600070 G3900350 G2700210 G1700270 G4801170 G3000210 G2200910 G2300210 G5400910 G4600950 G2200710 G2100890 G2200470 G2900690 G5100250 G0100450 G2701490 G4701730 G2100230 G2200970 G4500030 G5400570 G3000770 G3101210 G3000910 G3900630 G2801250 G1701170 G3000710 G1901350 G5101950 G4601270 G4800770 G3300010 G4800030 G2600330 G3600250 G3400090 G3900870 G4803090 G4701630 G1700930 G2101330 G3900550 G5101130 G4800510 G2900810 G1302110 G3100670 G3500470 G3701830 G1901650 G4804710 G2400430 G4500590 G3800090 G1701890 G2200350 G1800350 G2901790 G4801330 G0800250 G1801450 G5101590 G4801910 G4804010 G1302050 G4601150 G3400150 G2200290 G2700910 G2601190 G2700350 G2200090 G4200330 G4700150 G4801970 G1600070 G1901390 G2300050 G3601230 G4500330 G4700010 G1801250 G1301670 G2200810 G1800110 G3800370 G4100650 G4700510 G2800890 G4200910 G3701210 G1301590 G0100270 G5300010 G2102210 G5400930 G5400590 G5106780 G2100130 G0100230 G2100010 G5100360 G3500150 G2001710 G4500910 G3100450 G3900310 G5300450 G2700490 G1801410 G4600110 G2600670 G3900390 G1900390 G4500570 G1800370 G2900110 G1600830 G5500030 G3901290 G2601110 G4701690 G5400870 G4000470 G2700390 G3101110 G2000230 G5400610 G3101810 G3701790 G4001330 G4000630 G0100990 G4201330 G4804210 G0100870 G4200530 G2601350 G1701610 G3901190 G4804510 G4200770 G5100330 G3801010 G4701470 G3101010 G2900890 G2601150 G1701990 G5300110 G0100070 G0500550 G4100330 G2900430 G4801490 G3100950 G1302010 G5101370 G3701550 G5105800 G5108300 G4500230 G2701470 G3801050 G1801150 G4803730 G4804030 G5100370 G5400710 G1900370 G1801530 G2100630 G4701110 G3900590 G3100170 G5300630 G0400270 G0501070 G5100530 G4701790 G3701290 G1901030 G4803690 G3800950 G4800050 G1600730 G3000190 G2601470 G2300310 G2600470 G3701810 G2000830 G2300010 G4001490 G4201270 G4802090 G2700310 G1901270 G1700050 G3901310 G5100070 G3800450 G5101090 G3900850 G1701850 G3000510 G4801750 G1900350 G2800010 G2700470 G4900250 G3900710 G4802770 G2801590 G1801090 G3000310 G3701930 G4100410 G2800950 G5500070 G1900210 G4900030 G2901860 G2100670 G2500150 G3800610 G2200410 G3100890 G2600530 G0100570 G5101350 Error on G5101350\n",
      "G2700130 G3701870 G1700910 G2901390 G3700790 G4201010 G4001310 G5500730 G4900150 G2600430 G5100090 G2900070 G3400110 G1800690 G2002050 G2905100 G4100390 G1301090 G2101070 G3900430 G3900270 G2100170 G4600930 G2700530 G4801590 G4601350 G2600990 G1701310 G4804330 G5100410 G4700750 G3800250 G3000270 G0500510 G4001450 G1300230 G5500780 G3200130 G4500050 G1901290 G2001330 G4601230 G1700790 G4700910 G2901130 G2801310 G1800550 G2100330 G3000990 G4600390 G1600430 G3700070 G4804850 G4800150 G2001430 G4200090 G3101510 G1901330 G2701570 G4201210 G4100710 G3000350 G4803030 G4801770 G3901470 G2901470 G2101450 G3101250 G3701610 G3001030 G5300650 G1302410 G2801410 G4200490 G5400650 G5400330 G3601170 G2900370 G4001530 G2000170 G1200650 G2201030 G3600830 G2001150 G2200310 G1200110 G0201100 G2400010 G2100970 G4000330 G2000930 G3701630 G3800490 G3100350 G1600850 G1800870 G4100090 G4701370 G2200770 G2902270 G1901670 G3000810 G1900470 G5400510 G4701190 G0400130 G3100070 G5101690 G4001110 G4200450 G3701970 G4802710 G1600090 G2900050 G4800590 G4804310 G2200210 G2200990 G5400730 G4802990 G2101050 G3900810 G0100250 G4001190 G3701710 G2001910 G1701130 G1800410 G5300770 G4200470 G4200070 G3500350 G3701650 G5500530 G3600090 G4700310 G4701850 G5500850 G5101630 G4804570 G3800930 G5500890 G1800150 G2001730 G2901510 G4000050 G5501410 G5106200 G4701070 G3700130 G3900050 G2001850 G3101730 G2000730 G2600630 G5101550 G1801830 G2400310 G2102350 G4801250 G5106100 G4001250 G4000290 G1800250 nan Error on nan\n"
     ]
    },
    {
     "name": "stdout",
     "output_type": "stream",
     "text": [
      "G1901430 G5105900 G2000150 G2600450 G5100650 G5106830 G5501090 G3500310 G1701630 G1901590 G4100550 G2900490 G1200050 G2300170 G3701390 G4100310 G1900170 G1701270 G2600590 G3600070 G1701150 G3900170 G0100750 G2200730 G4802790 G5400130 G5106400 G4700410 G2700770 G2101870 G4802330 G2900130 G4802270 G4701350 G1700150 G3700490 G2100210 G1800970 G2700730 G2901850 G3900490 G4000590 G1801310 G2901690 G0400170 G0500890 G0101010 G1800930 G3000590 G1800170 G2001030 G3200190 G2902150 G3900750 G4700610 G4701530 G2801550 G4000110 G4100170 G5101430 G2901150 G1901710 G1302130 G1901310 G4801110 G3800130 G5500910 G4200970 G4900430 G1300150 G4802150 G4701230 G5600450 G4700630 G0800150 G5400750 G3101050 G2901290 G2700990 G1302210 G4000770 G4803430 G4000490 G5100030 G4100290 G1800290 G2600410 G4802950 G3000290 G1800830 G2101130 G2800650 G2600490 G2100790 G4700210 G2601010 G2600390 G4600630 G4200410 G1200010 G3700510 G1701030 G4200250 G5105300 G5501110 G4000070 G2002010 G5100050 G3100230 G2201150 G2001550 G1901810 G2600130 G1800810 G2400350 G3000150 G1901730 G0801070 G3100730 G3101030 G3800170 G2801070 G5100270 G4700070 G2100390 G1900750 G3800230 G4701750 G1701370 G1801230 G3100610 G4701050 G3900730 G3600530 G3701410 G3600910 G4800370 G2100830 G4200390 G3100850 G1701190 G2001930 G2000770 G0500730 G3700470 G3600570 G4800650 G1701650 G5500450 G2400110 G4000030 G2500190 G5500350 G5100350 G2000550 G2700030 G1800610 G4600050 G0100850 G1201050 G5400150 G4803390 G4500070 G3900070 G3600490 G5500790 G2902070 G1900890 G0100490 G4200110 G2600310 G5105200 G2200630 G0100930 G1302070 G3300150 G2700070 G4000550 G2900210 G0100910 G0500650 G5107750 G4601090 G1800990 G2900190 G1700170 G4804190 G2901330 G2201230 G4700050 G3001110 G3101470 G1700330 G2200690 G0101290 G2800410 G2601030 G1600250 G2900010 G4000150 G3000650 G5107100 G3000630 G3700630 G2200330 G4500870 G1200770 G4800870 G3200030 G2400050 G4000430 G3100290 G2100050 G4804990 G0100690 G4500410 G4000790 G2701030 G3205100 G0200680 G4500690 G1900090 G0100730 G2700290 G4701710 G2001190 G1901890 G2100150 G4700030 G4200810 G1901450 G4802670 G4900290 G2600350 G4800490 G0100810 G4801810 G2601630 G3101530 G4000230 G2102150 G1800090 G5500710 G5106500 G5400110 G5100910 G2800510 G2200790 G4000970 G4801710 G4701830 G4200230 G2801290 G3900910 G2000250 G2700650 G5100770 G4800530 G5000010 G1800750 G3400230 G2900970 G5300250 G0501470 G2701330 G3700810 G1300890 G5500330 G2101430 G4700290 G5105100 G2001450 G1700650 G5100710 G2201210 G5101050 G3500230 G2800690 G1801170 G2902130 G2200230 G4802890 G3701130 G0800550 G2101010 G2800610 G1301630 G3500430 G4800610 G3500030 G0101090 G1901910 G4800230 G1600870 G4000710 G4001370 G4801450 G5500750 G2700670 G4701870 G4801650 G5401070 G0800110 G3901130 G1801210 G3700210 G1800790 G2900790 G4701650 G1700530 G2900950 G5400070 G2900270 G3100270 G4100530 G0600570 G4700390 G5106700 G2001870 G4800450 G1201130 G2601330 G3101610 G3700190 G3701170 G5300050 G1700610 G2000690 G2901370 G2600170 G2102030 G3600550 G3100810 G0600990 G2901250 G4801350 G3600190 G4000990 G3901230 G1600310 G5101150 G3300090 G4200890 G4701610 G5300430 G4001470 G5100750 G0600190 G1901850 G5105700 G3300130 G3701530 G3400010 G3500130 G5500170 G2000090 G1200410 G1303210 G4200790 G4800990 G2800310 G2200870 G5101010 G0600550 G1700310 G2600850 G1301830 G2900390 G1301770 G1900030 G1900710 G5000170 G5500690 G5400850 G4700090 G5300270 G5401030 G1800070 G5101210 G5106300 G0100370 G0600090 G4800630 G2700270 G4001390 G2700950 G0500250 G4900210 G5500650 G2201190 G5101490 G1900230 G5400350 G3700690 G2700170 G0100090 G5101990 G4802370 G4500670 G4201050 G4200430 G5106600 G2901190 G3901750 G4500110 G2900310 G2900170 G3000950 G2200170 G5108400 G2701130 G4200010 G3800890 G4804390 G2801530 G3101630 G2800630 G3000490 G2100290 G2900530 G5101750 G5500990 G2901050 G4500270 G4601030 G1701330 G2200950 G1700090 G4600230 G2001570 G0800990 G4900170 G2601170 G4804970 G0501050 G3100710 G2200370 G4200930 G2600950 G3901450 G4000130 G3101490 G2800930 G0100290 G4802590 G3900890 G3701370 G2601310 G2400330 G1900690 G3400130 G2600090 G3800050 G1701350 G1701490 G1701910 G3901490 G2701310 G5600030 G5106800 G3900650 G3700330 G4701030 G5101610 G1701210 G4500130 G4800410 G5300670 G3600790 G2101790 G2001630 G0600290 G4600170 G3000850 G3100910 G4200370 G5101930 G3000390 G0600010 G3100110 G2700870 G5600130 G3901250 G4800070 G0500810 G3700390 G0600710 G2100370 G3901150 G4100070 G0101310 G4801310 G3000030 G3800150 G3101650 G4001070 G2902210 G0200500 G0900110 G2000270 G2200830 G5400490 G4802450 G2000070 G2900150 G2405100 G2000790 G0501430 G4801030 G2201110 G4600790 G4803210 G4803510 G0101210 G4500750 G4803990 G1701430 G1302790 G2700510 G2000130 G2100410 G2600030 G1700410 G4802410 G1800590 G4800950 G0900150 G3900570 G4201070 G1900330 G0500970 G4802390 G3900990 G2601550 G2400290 G1301450 G3800410 G0100710 G0601130 G2001790 G3701510 G2000710 G1901110 G5100490 G0100310 G3100930 G3700870 G1300730 G2601050 G2201270 G3100470 G0200900 G2200390 G2901830 G3100130 G2901270 G1800670 G2800130 G4600370 G1700110 G2902250 G2900930 G0202610 G0800650 G5500510 G2100470 G4500730 G2900470 G3600350 G1600710 G1800030 G4701490 G1801130 G4802830 G4803070 G1302930 G2801570 G3101090 G2400370 G2001770 G2901090 G2000190 G2101190 G2200250 G3000970 G5000210 G3700170 G3101430 G4701510 G3900130 G4000370 G3701050 G1900570 G4802310 G1302450 G2300230 G4801130 G1600490 G4800730 G5400890 G3100690 G2200010 G4100630 G4600570 G3800730 G4801470 G0100350 G2700850 G2201170 G1301010 G3900010 G1901870 G4200630 G3900190 G2901570 G2102390 G1901070 G2900230 G1500070 G1303090 G2000970 G3500450 G1301870 G1200610 G4001150 G4700230 G2902290 G3000570 G4201230 G5400230 G2601210 G4600190 G0601070 G4801570 G4801210 G0101330 G0601030 G2300070 G0800090 G2000030 G2801130 G1302330 G4601050 G1701530 G3100790 G0800750 G4802470 G4800170 G5300150 G3100210 G3100390 G3900090 G0500330 G4001230 G2701150 G1700990 G2001130 G1900550 G4001430 G4800830 G3200010 G2102070 G4100450 G3901570 G3901510 G4000750 G2600810 G3000430 G4801270 G3901110 G1300530 G0500790 G2102310 G2700430 G2102330 G0100630 G5500190 G4800290 G4000390 G1801730 G5400470 G4700770 G3601110 G4801850 G4701250 G2700050 G2801610 G4500630 G4601210 G2000430 G3600630 G2500090 G5100610 G1901090 G3800270 G3100050 G4900270 G1301730 G3000930 G4000570 G2100350 G4900370 G2002090 G4701090 G3600930 G4801610 G2001590 G3701110 G2601590 G2102170 G4200990 G2601510 G3700590 G1800630 G2600210 G4900310 G0801230 G1301290 G3101690 G5500010 G4000410 G5101790 G4803310 G2701590 G2801510 G3100150 G4803830 G5100450 G2100090 G5101870 G5100670 G4801430 G1300030 G4803350 G4601070 G4600730 G2600750 G2001490 G2901230 G3800850 G5000070 G4100050 G0600530 G1302390 G0200160 G1702010 G2102230 G1800210 G3600590 G4500810 G4000930 G3701430 G1701450 G4700570 G4600610 G2102190 G1800470 G2102110 G4500190 G1701090 G3800690 G2101670 G2800370 G0100790 G3800630 G0101170 G4802530 G2102130 G1700890 G0201000 G4801870 G2001650 G3900290 G4600770 G4700170 G1900930 G3901270 G1801010 G1901150 G1900190 G3900150 G2901210 G4800090 G1301050 G4000890 G2901890 G2900650 G4600030 G4600690 G3100650 G4001030 G0600150 G5101190 G1700250 G3000070 G4500290 G2601130 G3200170 G2801150 G1700130 G3600690 G2700410 G2500130 G3700090 G4800430 G1800490 G2001990 G5300130 G0800470 G4200670 G3400310 G1302270 G2801470 G2800730 G4500650 G1300650 G2801210 G4000610 G4802910 G4200030 G3700890 G1800890 G5400210 G4201130 G3200050 G3000110 G2001390 G4600490 G1901790 G4200950 G2200550 G2600650 G5500590 G5600230 G4000250 G5101810 G3900950 G4200750 G2901730 G4600710 G4700590 G3001050 G1301750 G4200290 G2000890 G5500470 G5000110 G5400410 G5400690 G5500810 G3000410 G5600210 G4201290 G3600170 G2900550 G0800140 G4200650 G3701250 G2600190 G2800810 G1700710 G3400030 G2800090 G1800650 G2400250 G4800670 G0600930 G5500390 G1901690 G4200210 G2200030 G2101250 G0601110 G5501190 G0202900 G5100230 G4100030 G3701910 G4802210 G5500250 G3900030 G5000130 G4500850 G2601090 G2801330 G3800290 G2201250 G2901970 G2000870 G2800870 G5105950 G2700370 G3100250 G2700590 G0600330 G2700250 G3300170 G3800770 G2800390 G4900010 G3000550 G4100430 G0800030 G4802970 G4800890 G3600870 G2901310 G5101650 G0500490 G5500970 G2801450 G4600070 G4700250 G0800230 G2901670 G4900110 G2901170 G3800190 "
     ]
    },
    {
     "name": "stdout",
     "output_type": "stream",
     "text": [
      "G3800670 G4600130 G3100310 G0100770 G5501070 G3700530 G5107500 G2900570 G4804810 G2100530 G2600510 G3101350 G5500950 G2900610 G2000490 G1801510 G1300210 G2500070 G2102250 G2400270 G5500370 G3801030 G0501370 G4100150 G0501110 G2600230 G0800330 G4803650 G4000830 G2200070 G0400050 G4803790 G3601150 G2100570 G4100510 G2101650 G2000670 G0201700 G5500050 G4900130 G2400470 G2101710 G2701010 G2000290 G3100990 G0200200 G3700850 G2800990 G3700770 G3600430 G0101190 G3701770 G2601070 G5501130 G0800190 G3800830 G2800550 G1801590 G3701750 G5300330 G4800310 G4601110 G1900990 G4804350 G3100630 G3901550 G2700330 G2000570 G1200090 G4200730 G4600210 G3300110 G2700750 G1200290 G4803190 G5400550 G2902010 G4701770 G3701090 G4000670 G3101670 G4600430 G5100510 G5300290 G2901710 G5100790 G2101270 G0801110 G3500290 G2000370 G1900070 G2800850 G3500090 G3901730 G4701130 G1701670 G1901210 G4000010 G5101270 G1301430 G0801010 G1801710 G3900470 G3000090 G4800350 G4100590 G4800970 G4802230 G2001290 G2001270 G4802430 G4803150 G1200170 G3901690 G0500190 G3900930 G2900450 G4001270 G4500470 G3101190 G0600950 G0801170 G3901350 G1901970 G1901510 G3901430 G3701950 G0800570 G4700790 G1801670 G1901230 G3200230 G4803250 G1302610 G5500270 G2600110 G4802250 G3800790 G1302650 G3100570 G2001210 G4700690 G2201070 G2700830 G2001950 G4800130 G4701410 G3700010 G3700410 G4200310 G2600710 G3701850 G4200550 G4201110 G3901030 G4201310 G5500930 G3000130 G4804250 G4800570 G5101530 G3700030 G4802050 G1701770 G0501330 G4100230 G5501030 G2600910 G2601390 G2400390 G2001510 G2500030 G4400090 G4100130 G3800330 G2500270 G1600750 G5400990 G3700230 G3700970 G5300410 G1801370 G3600030 G3400270 G3800390 G0800630 G0501090 G1701930 G0101030 G4800270 G1701790 G3500390 G0201850 G1900870 G0600890 G4900530 G3700050 G1901610 G1701590 G4001090 G3100410 G1800310 G1900670 G3901530 G4100190 G4000690 G1200870 G4801290 G3000790 G2001690 G2900630 G2601230 G1900910 G4802290 G1300610 G0100110 G0100050 G1700830 G1701050 G3500250 G2100310 G2900410 G1201190 G4900330 G4500710 G4803550 G1301330 G4500530 G2002070 G2000810 G4500090 G1801810 G5100590 G2900730 G4700330 G3101130 G1900510 G3100550 G0600610 G0101250 G4000810 G5100890 G1200130 G5101450 G5600310 G1600570 G3100090 G1901530 G4400050 G4801190 G4800110 G3900510 G2300110 G1300930 G4700550 G2000410 G4500450 G2801050 G5500670 G4800850 G4600590 G5300610 G2000990 G4200570 G1700510 G1901950 G5600050 G2001410 G4500170 G1901170 G3700610 G1302250 G2200270 G5100470 G3901370 G3600990 G5100210 G5100430 G2000010 G2600790 G3700670 G5105500 G5101110 G4803170 G5100690 G3000530 G3001070 G2200610 G3900250 G2201090 G1901550 G1801650 G4500610 G1901630 G4001170 G3101230 G4600830 G2101490 G1801430 G1200590 G5108200 G2201010 G4802630 G1801330 G3000250 G0500170 G1200330 G4200830 G3000370 G3700150 G2601450 G5101470 G4700190 G2000330 G5100810 G2100650 G2902050 G3701330 G5401090 G3700750 G4804270 G5101770 G1700230 G4601010 G3101170 G1700190 G2100490 G2601490 G2001970 G4701290 G0600470 G1900790 G3101790 G2200190 G3600710 G1600290 G3101330 G3700270 G5101310 G1700770 G0400120 G2101690 G2901950 G4800210 G2300270 G0100830 G4900490 G5100730 G2500230 G1701410 G3600770 G5300470 G0100170 G5500570 G4001050 G1500090 G2300150 G3700830 G4600350 G2300290 G2001070 G1801610 G0601010 G2801370 G5101410 G2400190 G5400010 G1800190 G0100210 G3901090 G3001090 G1901130 G5400770 G5500210 G2500050 G2800050 G1701750 G0200700 G5100290 G2601290 G2100270 G1801270 G1800530 G4804110 G2600010 G3001010 G3500280 G2801030 G2100070 G5300530 G0900130 G1301310 G4000350 G2801010 G2300130 G1800390 G4000510 G2101830 G2000110 G4804610 G3901210 G1201110 G4001350 G5400390 G4803910 G3400210 G1303070 G5101830 G2101610 G5101670 G2901770 G4801950 G1701730 G2700570 G2600930 G4804430 G0100130 G2001170 G0400150 G1700210 G0100390 G4000270 G1901570 G4804070 G4800550 G1701250 G5101850 G1800270 G3101370 G2200670 G1700750 G3600130 G3100370 G2901410 G1900970 G1900250 G3000750 G4804170 G4601170 G5100930 G4500350 G4600250 G2801390 G1801490 G3700450 G2500250 G2100810 G5101330 G2300190 G4701670 G2701090 G3800870 G1900270 G2102090 G1300470 G5107900 G0600250 G4500390 G4701390 G5100990 G3000670 G4804230 G1800850 G2600250 G1301270 G4801050 G2902190 G1301350 G2000630 G2900910 G0100510 G2900350 G2800470 G5501250 G4900470 G3400070 G4802510 G3601010 G4805050 G0500110 G1800130 G4803970 G4700930 G5100150 G2000310 G3200090 G4900450 G1302670 G4200270 G3701310 G1801550 G2001370 G4804130 G4900550 G5100870 G2100510 G3000610 G2700790 G1901470 G3101850 G2800770 G4804090 G1701550 G3800650 G2902170 G2100250 G4701550 G1200690 G3000730 G3700910 G3901330 G4804590 G5500490 G2901110 G5400670 G4804650 G2601430 G4600650 G4200190 G2901490 G4100370 G0800790 G2000350 G4801410 G5500290 G4802170 G2700630 G2600970 G1700370 G0100670 G0101050 G1600470 G2200850 G4804790 G3101450 G5501270 G3100490 G1801750 G4600470 G4803610 G5500430 G4804910 G1300130 G5101070 G3000330 G1701970 G2800670 G3700430 G0400110 G4805010 G1600630 G4801150 G4000090 G1700450 G4700370 G3600450 G5100130 G4900410 G0600810 G3300030 G3901410 G4800910 G5500630 G2000470 G5501390 G0100970 G1301930 G0501010 G5300190 G3101410 G1300290 G5400530 G3100830 G2400210 G3600890 G4701150 G3701890 G5300710 G5107350 G4805030 G0501170 G1801290 G2500210 G3101830 G2801230 G2902030 G3800010 G5501310 G4800790 G0600910 G2701290 G1600330 G3600970 G4700670 G2200570 G4900570 G4701270 G1900770 G3701590 G2400130 G2001090 G4600910 G3600510 G4000210 G4000450 G1700850 G5501170 G2900850 G4500790 G2901070 G4801090 G2001830 G4400070 G2001810 G5600150 G4800810 G1800570 G1600590 G0100410 G2700450 G1900590 G0800130 G1300350 G1201170 G2801090 G0100530 G1701470 G1700630 G2900870 G2200590 G3901070 G2801190 G1302370 G2200510 G4700830 G4804950 G2800230 G1600650 G1600390 G3701490 G1800950 G2101890 G2000450 G3101550 G4804630 G1600770 G3700370 G4801070 G5500150 G2001230 G3100330 G3000010 G4100110 G1900430 G3800710 G2801430 G1701810 G2102270 G4900070 G4601250 G3200310 G1600610 G4500010 G5600410 G2700550 G4701210 G0600970 G0500070 G4801530 G5500550 G3701230 G2001310 G5400310 G1801570 G5400270 G3200270 G0800850 G1600210 G4701590 G0201980 G2700010 G3601090 G1900130 G2701070 G5107600 G1200830 G2201130 G4700850 G4700450 G5300070 G2600770 G3700990 G4804490 G0101130 G4700270 G0501390 G1700030 G2601610 G1600110 G2900830 G5400290 G3700290 G0201300 G1900730 G2900770 G2001050 G1901370 G5300090 G0100590 G1300750 G4500310 G2901010 G1901830 G0600850 G4802870 G1701110 G2000210 G4800010 G4400010 G2000610 G4500210 G4900230 G2902230 G3800750 G2701350 G2900990 G1200530 G1801770 G3100510 G2101090 G2200750 G3601210 G0400230 G2800970 G2901030 G5101710 G1801190 G1300830 G2100190 G1500030 G1800430 G5500610 G4200850 G2200130 G3600270 G4600530 G3701030 G2102290 G2701610 G3101570 G2801490 G0600370 G2001610 G2101810 G1600230 G2600050 G1302290 G1300450 G4600750 G1700430 G2600150 G2901430 G5501350 G3900830 G2901530 G2700090 G1300510 G1300270 G1700550 G2101290 G5300750 G1700010 G1800770 G1700870 G2100450 G2701630 G1300630 G4803590 G3900690 G2001110 G1900490 G5400630 G1900830 G4000730 G3701730 G1800330 G4600670 G0900010 G0600350 G2901650 G0400090 G1600810 G4801390 G3800550 G5500410 G2701530 G4801670 G3101070 G2100870 G3500610 G5500870 G0800410 G2600690 G2700110 G1201010 G4500890 G4900510 G0500470 G2200650 G4803130 G0400010 G4804890 G1300570 G1800450 G1700350 G2700190 G4600970 G4600410 G3900110 G1600550 G5400450 G1701230 G0501410 G5100010 G3601130 G2200530 G3701450 G4700490 G0100150 G5500830 G0801150 G1200430 G3101750 G1600370 G4701430 G5100850 G4800250 G4802110 G3901650 G2600270 G1900630 G1300330 G2400090 G1300390 G2701510 G0100650 G2701710 G5401050 G3200330 G3600210 G1600450 G4001510 G4200170 G2201050 G2400230 G4001210 G1900530 G5400810 G2500110 G1800230 G1900310 G5000270 G4100010 G0500030 G2700610 G2900710 G2200890 G1302850 G1900110 G4701570 G2101590 G1300690 G3101710 G3700930 G0500230 G5600370 G5400970 G2101390 G5600010 G0500290 G4802570 G4800190 G4201030 G4000650 G3900790 G3800810 G4801550 G1700470 G5100170 G3600750 G2100430 G4500770 G2601650 G1201090 G4800930 G2600370 G3101590 G3000870 G3600650 G4802750 G4100610 G3100530 G4802850 G3601190 G2800590 G1303030 G1700490 G4900090 G3900970 G1900810 G1301490 G2900750 G0501270 G5400190 G4100470 G4200610 "
     ]
    },
    {
     "name": "stdout",
     "output_type": "stream",
     "text": [
      "G5501370 G4802730 G2901610 G4600310 G4801790 G1700670 G1300070 G1300370 G4700350 G5300310 G2900090 G1901930 G3100590 G2902110 G3000470 G1801030 G3700110 G1302710 G3601070 G1700730 G5100310 G1700070 G0101110 G5107000 G3800910 G2700930 G4500550 G2801350 G4100210 G3901610 G1900050 G3200290 G2601410 G4800710 G0100890 G1301170 G0500610 G0101270 G2800070 G1801390 G3800030 G0201880 G1200270 G2101950 G3000170 G5500230 G3900410 G4500250 G1200570 G4500490 G4701330 G3901590 G2000050 G4801690 G4802190 G4000170 G3700650 G1200730 G4200870 G2000390 G3100010 G4801930 G2600830 G5101730 G1900290 G1301610 G4700650 G4600510 G1901410 G5000190 G0800390 G0601050 G1701390 G1801690 G5501050 G0800510 G2600730 G4201150 G2600610 G3100870 G4600850 G1901050 G0100190 G4803710 G2001010 G3500070 G1300010 G5400030 G2800490 G5300230 G5400790 G2102370 G3901170 G5101170 G2000530 G4801370 G3700550 G1302890 G4600870 G4201170 G5600250 G2801270 G2001530 G2900670 G3400350 G3400330 G2601530 G5300490 G2000850 G4001290 G1301970 G5600270 G2900250 G5300170 G2200050 G3400290 G2800030 G4201250 G2001750 G2600570 G3800310 G4500370 G1701830 G1801110 G2000950 G4000310 G1700690 G2101550 G4700430 G3600010 G3600230 G2701230 G4801890 G2002030 G4800390 G3800470 G2700230 G2101310 G4803470 G4200150 G1800910 G1901250 G1800010 G4700470 G3800990 G3700730 G1200450 G4801990 G1302510 G5400830 G2101970 G0100010 G5000150 G5600330 G2901350 G2901990 G4701310 G5107700 G1301390 G1301510 G1700570 G2101470 G3300070 G3500190 G4000850 G2800530 G1301810 G4601290 G1000030 G4600290 G0500670 G3701070 G4802130 G3901670 G2601370 G2800790 G5600190 G1300950 G3500570 G4600990 G2100610 G0101230 G2200430 G4700110 G4802690 G1900650 G2601250 G3101270 G4400030 G4700870 G1303130 G2700890 G1701510 G2601270 G1303110 G5400250 G0800530 G5100950 G4804550 G2001890 G2900030 G5500770 G2701110 G0101070 G4700970 G2001350 G4802810 G4601190 G1200950 G5500090 G5400430 G4701810 G1701290 G3901630 G0501450 G1801470 G5300030 G3100970 G0600110 G0400210 G4800690 G0500370 G4600450 G1302230 G0800690 G4803050 G2200930 G4100350 G1200970 G3500330 G3500510 G3101150 G0200130 G5107300 G5000250 G4600810 G0600630 G0600310 G2200450 G1600530 G0601150 G2701690 G3600950 G3600410 G3701670 G4804750 G2800330 G1901190 G0900050 G0500750 G5000090 G0800290 G4200710 G4803930 G5106900 G3900530 G2000590 G1700290 G2801630 G3100030 G3701350 G4001410 G3800570 G0500450 G2100110 G3400370 G2900290 G1302570 G2500170 G0500210 G4000910 G2600550 G2000510 G3701470 G2901630 G0801190 G4700730 G4801230 G5101390 G4802930 G1700970 G0100030 G2800110 G5100110 G5100970 G4600150 G4200510 G4805070 G4500510 G1302950 G1200990 G4000950 G0100330 G2200150 G3200110 G5300550 G3500370 G0600830 G4801010 G1701070 G2901550 G2200110 G1900950 G5100190 G4700530 G1900610 G4100670 G5600390 G1701010 G1303010 G1900410 G1900150 G0201950 G1701570 G1302170 G0600730 G0501210 G2801110 G2900330 G0800970 G1600410 G3700250 G4803850 G5105400 G3800430 G1302630 G4900050 G1800730 G1901770 G3701690 G2100950 G0600210 G0501290 G4900390 G3901390 G2701650 G4700710 G4001130 G4801510 G1200230 G2102050 G3900770 G1303190 G1302090 G2000750 G3701150 G5300510 G5400950 G1303170 G2801170 G0400250 G3700570 G5600070 G1800710 G1600510 G1700590 G3800350 G0501130 G1600690 G4500830 G1600150 G1801050 G2800750 G5300690 G3800510 G2901750 G1801350 G2100990 G0202400 G1201070 G0501310 G3101310 G1200390 G2600890 G3800210 G1302810 G5500110 G3900450 G4200590 G1600670 G0800870 G3000050 G2600870 G1302750 G0800950 G1801070 G5501330 G1700810 G4803530 G3500270 G1901750 G5106850 G2101850 G2901590 G3900210 G3400250 G1302150 G3500170 G1200490 G1000050 G0600870 G2101210 G2900590 G4000530 G2101730 G2400170 G0500130 G4600890 G5100630 G3900610 G3400410 G2001470 G4201190 G1200190 G2101990 G1901490 G2101510 G4600270 G1201230 G2901870 G1300310 G4100690 G5401010 G4802010 G2101350 G4803110 G2700810 G4804290 G1302430 G2901450 G0400070 G3800970 G5600430 G1301030 G4700950 G3601050 G5300390 G4700890 G4804150 G3000890 G1801790 G4803770 G3101770 G2701390 G0500270 G4800470 G5300370 G5300210 G0800670 G0500850 G2701250 G3500210 G3500590 G1701710 G4701170 G4804370 G3000230 G1300790 G2300090 G4000870 G2800210 G5101570 G0100430 G3600390 G1200510 G5300590 G4803490 G5108000 G2101030 G4100270 G5400370 G3400170 G2700710 G1700950 G0800350 G3600310 G0100550 G5600350 G2000650 G2101930 G5500130 G0600050 G1300810 G0600070 G1900010 G3700350 G2300030 G0500710 G1302350 G3701010 G3701190 G0500930 G1302590 G0500350 G0800210 G1900450 G4804770 G1200710 G4803330 G2800270 G0100610 G4803270 G3200210 G2101910 G1302830 G2700150 G5107200 G4600330 G4700810 G0501490 G3400190 G4500430 G1302190 G3600290 G3400390 G0800930 G0800590 G2100930 G4804690 G0400030 G3400050 G1301370 G1900850 G2800350 G4200130 G4701010 G5000050 G4900350 G3600330 G2701670 G4600550 G0501250 G2101570 G4801630 G1000010 G0800050 G2800710 G0500630 G0800910 G0800450 G2001670 G1300050 G1200930 G4804930 G0501150 G4804830 G3101390 G2800190 G1300550 G4803810 G3900670 G1300250 G4804870 G4804410 G1300710 G2001250 G2100730 G3800070 G3600730 G2800170 G5100570 G1302770 G0800810 G1700390 G3701570 G1200630 G1500050 G2200490 G4800750 G1301190 G4800330 G3500410 G4802350 G0600270 G5101030 G0500010 G5600290 G1301850 G4700130 G5100830 G1600050 G0600750 G2101110 G3101290 G2701190 G4600090 G1302550 G1801630 G4804050 G1600010 G3800110 G0600170 G3300190 G4200690 G1301210 G1300870 "
     ]
    }
   ],
   "source": [
    "import dask\n",
    "selected_feature = 'cases'\n",
    "child_dfs = {}\n",
    "\n",
    "def get_df_by_gis_join(gis_join):\n",
    "    print(gis_join, end=' ')\n",
    "    cursor = db.sustaindb[collection].aggregate([{\"$match\": {\"GISJOIN\": gis_join}}])\n",
    "    df = pd.DataFrame(list(cursor))[['date', selected_feature]]\n",
    "    df.columns = ['ds','y']\n",
    "    return df\n",
    "\n",
    "futures = []\n",
    "for gis_join in gis_joins:\n",
    "    try:\n",
    "        child_dfs[gis_join] = get_df_by_gis_join(gis_join)\n",
    "    except:\n",
    "        print(f'Error on {gis_join}')"
   ]
  },
  {
   "cell_type": "code",
   "execution_count": 27,
   "id": "16f21231",
   "metadata": {},
   "outputs": [],
   "source": [
    "pickle.dump(child_dfs, open('pickles/covid/child_dfs.pkl', 'wb'))"
   ]
  },
  {
   "cell_type": "code",
   "execution_count": 35,
   "id": "23d85f9c",
   "metadata": {},
   "outputs": [],
   "source": [
    "class TLModel:    \n",
    "    def __init__(self, gis_join, time, model):\n",
    "        self.rmse = rmse\n",
    "        self.gis_join = gis_join\n",
    "        self.time = time\n",
    "        self.model = model\n",
    "        \n",
    "    def __str__(self):\n",
    "        return f'{self.gis_join}: TLModel(time={self.time})'\n",
    "    \n",
    "class NonTLModel:\n",
    "    def __init__(self, gis_join, time):\n",
    "        self.gis_join = gis_join\n",
    "        self.time = time\n",
    "        \n",
    "    def __str__(self):\n",
    "        return f'{self.gis_join}: NonTLModel(time={self.time})'"
   ]
  },
  {
   "cell_type": "markdown",
   "id": "5c0f4c2e",
   "metadata": {},
   "source": [
    "# Child Models (Non-TL)"
   ]
  },
  {
   "cell_type": "code",
   "execution_count": 36,
   "id": "35544c2b",
   "metadata": {},
   "outputs": [
    {
     "name": "stdout",
     "output_type": "stream",
     "text": [
      "Initial log joint probability = -7.58523\n",
      "    Iter      log prob        ||dx||      ||grad||       alpha      alpha0  # evals  Notes \n",
      "      99       698.183   6.77796e-06       98.9018           1           1      129   \n",
      "    Iter      log prob        ||dx||      ||grad||       alpha      alpha0  # evals  Notes \n",
      "     110       698.191   5.22915e-05       91.2124    5.17e-07       0.001      179  LS failed, Hessian reset \n",
      "     156       698.194   7.83914e-09       100.763      0.2164      0.2164      237   \n",
      "Optimization terminated normally: \n",
      "  Convergence detected: absolute parameter change was below tolerance\n",
      "1 - G5000030: 4.2993900801520795 seconds\n",
      "Initial log joint probability = -5.69869\n",
      "    Iter      log prob        ||dx||      ||grad||       alpha      alpha0  # evals  Notes \n",
      "      99       727.912   2.09887e-06        99.463           1           1      132   \n",
      "    Iter      log prob        ||dx||      ||grad||       alpha      alpha0  # evals  Notes \n",
      "     100       727.912   4.27019e-07       99.4722   4.293e-09       0.001      179  LS failed, Hessian reset \n",
      "     110       727.912   2.06998e-08       100.335      0.4932      0.4932      191   \n",
      "Optimization terminated normally: \n",
      "  Convergence detected: relative gradient magnitude is below tolerance\n",
      "2 - G5501210: 4.08638955000788 seconds\n",
      "Initial log joint probability = -10.0454\n",
      "    Iter      log prob        ||dx||      ||grad||       alpha      alpha0  # evals  Notes \n",
      "      99       432.423   0.000173988       98.2259           1           1      129   \n",
      "    Iter      log prob        ||dx||      ||grad||       alpha      alpha0  # evals  Notes \n",
      "     154       432.435   1.97308e-08       95.9724      0.7207      0.7207      190   \n",
      "Optimization terminated normally: \n",
      "  Convergence detected: relative gradient magnitude is below tolerance\n",
      "3 - G2100750: 4.172827978851274 seconds\n",
      "Initial log joint probability = -9.7638\n",
      "    Iter      log prob        ||dx||      ||grad||       alpha      alpha0  # evals  Notes \n",
      "      78       537.003   2.53332e-08        100.21           1           1      105   \n",
      "Optimization terminated normally: \n",
      "  Convergence detected: relative gradient magnitude is below tolerance\n",
      "4 - G4100490: 3.9070458500646055 seconds\n",
      "Initial log joint probability = -11.0653\n",
      "    Iter      log prob        ||dx||      ||grad||       alpha      alpha0  # evals  Notes \n",
      "      74       612.565   3.17628e-08       96.3762      0.5864      0.5864      103   \n",
      "Optimization terminated normally: \n",
      "  Convergence detected: relative gradient magnitude is below tolerance\n",
      "5 - G4500150: 4.444516048999503 seconds\n",
      "Initial log joint probability = -5.82539\n",
      "    Iter      log prob        ||dx||      ||grad||       alpha      alpha0  # evals  Notes \n",
      "      99       798.366   5.59952e-07       101.121      0.4796      0.4796      140   \n",
      "    Iter      log prob        ||dx||      ||grad||       alpha      alpha0  # evals  Notes \n",
      "     125       798.373   3.18342e-05       103.131   3.211e-07       0.001      234  LS failed, Hessian reset \n",
      "     161        798.38   5.79215e-08       100.846           1           1      286   \n",
      "Optimization terminated normally: \n",
      "  Convergence detected: relative gradient magnitude is below tolerance\n",
      "6 - G2900510: 4.011825844878331 seconds\n",
      "Initial log joint probability = -6.36303\n",
      "    Iter      log prob        ||dx||      ||grad||       alpha      alpha0  # evals  Notes \n",
      "      99       763.456   1.10857e-06       101.422      0.1517           1      130   \n",
      "    Iter      log prob        ||dx||      ||grad||       alpha      alpha0  # evals  Notes \n",
      "     111       763.456   8.82749e-07       100.257   8.943e-09       0.001      187  LS failed, Hessian reset \n",
      "     119       763.456   7.39598e-09       97.9085     0.07347     0.07347      198   \n",
      "Optimization terminated normally: \n",
      "  Convergence detected: absolute parameter change was below tolerance\n",
      "7 - G3700710: 4.294980758102611 seconds\n",
      "Initial log joint probability = -7.18278\n",
      "    Iter      log prob        ||dx||      ||grad||       alpha      alpha0  # evals  Notes \n",
      "      99       621.341   1.82815e-06        90.874      0.9571      0.9571      131   \n",
      "    Iter      log prob        ||dx||      ||grad||       alpha      alpha0  # evals  Notes \n",
      "     134       621.342   3.76851e-06       91.3876   3.461e-08       0.001      222  LS failed, Hessian reset \n",
      "     160       621.343   2.03679e-08       87.7309      0.2109      0.9541      257   \n",
      "Optimization terminated normally: \n",
      "  Convergence detected: relative gradient magnitude is below tolerance\n",
      "8 - G5101250: 4.217562618898228 seconds\n",
      "Initial log joint probability = -4.81605\n",
      "    Iter      log prob        ||dx||      ||grad||       alpha      alpha0  # evals  Notes \n",
      "      73       652.453   3.38374e-08       94.6531      0.8967      0.8967       93   \n",
      "Optimization terminated normally: \n",
      "  Convergence detected: relative gradient magnitude is below tolerance\n",
      "9 - G4803370: 4.277133957017213 seconds\n",
      "Initial log joint probability = -9.4064\n",
      "    Iter      log prob        ||dx||      ||grad||       alpha      alpha0  # evals  Notes \n",
      "      92       695.819   8.98286e-05       101.477    8.86e-07       0.001      157  LS failed, Hessian reset \n",
      "      99       695.826   1.60051e-05       101.152      0.6244      0.6244      165   \n",
      "    Iter      log prob        ||dx||      ||grad||       alpha      alpha0  # evals  Notes \n",
      "     132       695.827   2.42276e-08       101.438           1           1      207   \n",
      "Optimization terminated normally: \n",
      "  Convergence detected: relative gradient magnitude is below tolerance\n",
      "10 - G2400450: 4.771009953925386 seconds\n",
      "Initial log joint probability = -5.0394\n",
      "    Iter      log prob        ||dx||      ||grad||       alpha      alpha0  # evals  Notes \n",
      "      81       627.603   1.63045e-08       99.5626      0.7811      0.7811      107   \n",
      "Optimization terminated normally: \n",
      "  Convergence detected: relative gradient magnitude is below tolerance\n",
      "11 - G2901810: 4.840283158933744 seconds\n",
      "Initial log joint probability = -7.85598\n",
      "    Iter      log prob        ||dx||      ||grad||       alpha      alpha0  # evals  Notes \n",
      "      70       534.923    7.3532e-07       98.9503     7.3e-09       0.001      133  LS failed, Hessian reset \n",
      "      88       534.923   3.65089e-08       103.926      0.9004      0.9004      152   \n",
      "Optimization terminated normally: \n",
      "  Convergence detected: relative gradient magnitude is below tolerance\n",
      "12 - G5400050: 4.512533457018435 seconds\n",
      "Initial log joint probability = -7.61299\n",
      "    Iter      log prob        ||dx||      ||grad||       alpha      alpha0  # evals  Notes \n",
      "      85       731.211   7.05118e-05       100.477    6.98e-07       0.001      145  LS failed, Hessian reset \n",
      "      99       731.217   3.28433e-06       100.635           1           1      161   \n",
      "    Iter      log prob        ||dx||      ||grad||       alpha      alpha0  # evals  Notes \n",
      "     123       731.217   5.90974e-07       100.401   5.863e-09       0.001      230  LS failed, Hessian reset \n",
      "     133       731.217   8.83127e-09       100.071      0.2175      0.2175      243   \n",
      "Optimization terminated normally: \n",
      "  Convergence detected: absolute parameter change was below tolerance\n",
      "13 - G2400150: 4.000226486939937 seconds\n",
      "Initial log joint probability = -7.48528\n",
      "    Iter      log prob        ||dx||      ||grad||       alpha      alpha0  # evals  Notes \n",
      "      70       594.003   9.47653e-09       99.1421      0.2855      0.2855       93   \n",
      "Optimization terminated normally: \n",
      "  Convergence detected: absolute parameter change was below tolerance\n",
      "14 - G5400090: 4.40079406904988 seconds\n",
      "Initial log joint probability = -5.29663\n",
      "    Iter      log prob        ||dx||      ||grad||       alpha      alpha0  # evals  Notes \n",
      "      76       705.047   7.59469e-09       99.2253      0.1065      0.1065       98   \n",
      "Optimization terminated normally: \n",
      "  Convergence detected: absolute parameter change was below tolerance\n",
      "15 - G2601570: 4.228855422930792 seconds\n",
      "Initial log joint probability = -9.70278\n",
      "    Iter      log prob        ||dx||      ||grad||       alpha      alpha0  # evals  Notes \n",
      "      99       546.029   2.62354e-08       100.826      0.4119      0.4119      126   \n",
      "    Iter      log prob        ||dx||      ||grad||       alpha      alpha0  # evals  Notes \n",
      "     101       546.029    9.1105e-09       98.4301      0.3665      0.3665      129   \n",
      "Optimization terminated normally: \n",
      "  Convergence detected: absolute parameter change was below tolerance\n"
     ]
    },
    {
     "name": "stdout",
     "output_type": "stream",
     "text": [
      "16 - G2902090: 4.386342637008056 seconds\n",
      "Initial log joint probability = -3.95016\n",
      "    Iter      log prob        ||dx||      ||grad||       alpha      alpha0  # evals  Notes \n",
      "      71       779.905   2.66543e-05        99.977   2.634e-07       0.001      128  LS failed, Hessian reset \n",
      "      94       779.908   5.66569e-09        101.07      0.1214      0.1214      160   \n",
      "Optimization terminated normally: \n",
      "  Convergence detected: absolute parameter change was below tolerance\n",
      "17 - G4000190: 4.44537535100244 seconds\n",
      "Initial log joint probability = -11.5151\n",
      "    Iter      log prob        ||dx||      ||grad||       alpha      alpha0  # evals  Notes \n",
      "      93       638.468    8.3532e-05       101.906   8.147e-07       0.001      158  LS failed, Hessian reset \n",
      "      99       638.474   1.00394e-05       99.8791      0.5769      0.5769      164   \n",
      "    Iter      log prob        ||dx||      ||grad||       alpha      alpha0  # evals  Notes \n",
      "     153       638.495   2.82494e-08       101.288      0.3085           1      231   \n",
      "Optimization terminated normally: \n",
      "  Convergence detected: relative gradient magnitude is below tolerance\n",
      "18 - G3900330: 4.988400849048048 seconds\n",
      "Initial log joint probability = -10.7893\n",
      "    Iter      log prob        ||dx||      ||grad||       alpha      alpha0  # evals  Notes \n",
      "      90       627.214   2.77777e-08       101.984      0.4385           1      115   \n",
      "Optimization terminated normally: \n",
      "  Convergence detected: relative gradient magnitude is below tolerance\n",
      "19 - G3200070: 4.333625341998413 seconds\n",
      "Initial log joint probability = -3.67134\n",
      "    Iter      log prob        ||dx||      ||grad||       alpha      alpha0  # evals  Notes \n",
      "      77       701.858   2.17379e-09        97.428     0.09693     0.09693      105   \n",
      "Optimization terminated normally: \n",
      "  Convergence detected: absolute parameter change was below tolerance\n",
      "20 - G4900190: 4.107464198023081 seconds\n",
      "Initial log joint probability = -5.09606\n",
      "    Iter      log prob        ||dx||      ||grad||       alpha      alpha0  # evals  Notes \n",
      "      88       707.086   2.85694e-08       97.2736           1           1      112   \n",
      "Optimization terminated normally: \n",
      "  Convergence detected: relative gradient magnitude is below tolerance\n",
      "21 - G0201500: 4.544537551002577 seconds\n",
      "Initial log joint probability = -7.7033\n",
      "    Iter      log prob        ||dx||      ||grad||       alpha      alpha0  # evals  Notes \n",
      "      76       678.228   3.34668e-08       100.184      0.6987      0.6987       97   \n",
      "Optimization terminated normally: \n",
      "  Convergence detected: relative gradient magnitude is below tolerance\n",
      "22 - G2800570: 4.241509889019653 seconds\n",
      "Initial log joint probability = -6.45692\n",
      "    Iter      log prob        ||dx||      ||grad||       alpha      alpha0  # evals  Notes \n",
      "      65       660.595   9.03855e-05       103.537   8.379e-07       0.001      133  LS failed, Hessian reset \n",
      "      95       660.603    9.2519e-09       99.5289      0.3442      0.3442      167   \n",
      "Optimization terminated normally: \n",
      "  Convergence detected: absolute parameter change was below tolerance\n",
      "23 - G3100190: 4.34243578906171 seconds\n",
      "Initial log joint probability = -11.9967\n",
      "    Iter      log prob        ||dx||      ||grad||       alpha      alpha0  # evals  Notes \n",
      "      70       703.326   3.08647e-05       97.4923   3.208e-07       0.001      125  LS failed, Hessian reset \n",
      "      99       703.328   2.05087e-08       94.4369      0.1765      0.7721      162   \n",
      "    Iter      log prob        ||dx||      ||grad||       alpha      alpha0  # evals  Notes \n",
      "     100       703.328   4.64182e-09       90.1001      0.1483      0.1483      163   \n",
      "Optimization terminated normally: \n",
      "  Convergence detected: absolute parameter change was below tolerance\n",
      "24 - G1800050: 4.016035273903981 seconds\n",
      "Initial log joint probability = -4.03965\n",
      "    Iter      log prob        ||dx||      ||grad||       alpha      alpha0  # evals  Notes \n",
      "      57       625.869    7.0078e-06       101.679   6.895e-08       0.001      115  LS failed, Hessian reset \n",
      "      75        625.87   1.12618e-06       100.965   1.107e-08       0.001      172  LS failed, Hessian reset \n",
      "      99       625.871   3.88612e-07       101.992           1           1      200   \n",
      "    Iter      log prob        ||dx||      ||grad||       alpha      alpha0  # evals  Notes \n",
      "     122       625.871   8.25982e-09       101.013      0.2718      0.2718      230   \n",
      "Optimization terminated normally: \n",
      "  Convergence detected: absolute parameter change was below tolerance\n",
      "25 - G4100250: 4.256960297934711 seconds\n",
      "Initial log joint probability = -8.6353\n",
      "    Iter      log prob        ||dx||      ||grad||       alpha      alpha0  # evals  Notes \n",
      "      79       536.833   4.90736e-06       100.603   4.973e-08       0.001      146  LS failed, Hessian reset \n",
      "      99       536.834   6.61719e-07       101.917      0.3087      0.3087      169   \n",
      "    Iter      log prob        ||dx||      ||grad||       alpha      alpha0  # evals  Notes \n",
      "     122       536.834   1.00801e-08       99.9101      0.2846           1      201   \n",
      "Optimization terminated normally: \n",
      "  Convergence detected: relative gradient magnitude is below tolerance\n",
      "26 - G2300250: 4.591069045010954 seconds\n",
      "Initial log joint probability = -7.64604\n",
      "    Iter      log prob        ||dx||      ||grad||       alpha      alpha0  # evals  Notes \n",
      "      99       745.993   1.26145e-06       96.3827      0.4535      0.4535      128   \n",
      "    Iter      log prob        ||dx||      ||grad||       alpha      alpha0  # evals  Notes \n",
      "     147       746.002   1.91465e-08       97.7772       0.282           1      189   \n",
      "Optimization terminated normally: \n",
      "  Convergence detected: relative gradient magnitude is below tolerance\n",
      "27 - G3800590: 4.189090515021235 seconds\n",
      "Initial log joint probability = -3.27214\n",
      "    Iter      log prob        ||dx||      ||grad||       alpha      alpha0  # evals  Notes \n",
      "      89       712.417   4.40861e-08       99.9658      0.1706           1      110   \n",
      "Optimization terminated normally: \n",
      "  Convergence detected: relative gradient magnitude is below tolerance\n",
      "28 - G3100430: 4.463955633109435 seconds\n",
      "Initial log joint probability = -7.37834\n",
      "    Iter      log prob        ||dx||      ||grad||       alpha      alpha0  # evals  Notes \n",
      "      79       634.923   8.66389e-09       96.5258      0.3552      0.3552      104   \n",
      "Optimization terminated normally: \n",
      "  Convergence detected: absolute parameter change was below tolerance\n",
      "29 - G2500010: 4.390772233018652 seconds\n",
      "Initial log joint probability = -3.32495\n",
      "    Iter      log prob        ||dx||      ||grad||       alpha      alpha0  # evals  Notes \n",
      "      71       746.846   2.39567e-08       100.647      0.2707           1       95   \n",
      "Optimization terminated normally: \n",
      "  Convergence detected: relative gradient magnitude is below tolerance\n",
      "30 - G4802030: 4.064636863069609 seconds\n",
      "Initial log joint probability = -3.58864\n",
      "    Iter      log prob        ||dx||      ||grad||       alpha      alpha0  # evals  Notes \n",
      "      59       684.979    1.3097e-08       100.906      0.3207      0.3207       79   \n",
      "Optimization terminated normally: \n",
      "  Convergence detected: relative gradient magnitude is below tolerance\n",
      "31 - G4802550: 4.5543990798760206 seconds\n",
      "Initial log joint probability = -11.7904\n",
      "    Iter      log prob        ||dx||      ||grad||       alpha      alpha0  # evals  Notes \n",
      "      72       596.237   8.87427e-09       101.993      0.2024      0.2024       86   \n",
      "Optimization terminated normally: \n",
      "  Convergence detected: absolute parameter change was below tolerance\n",
      "32 - G5107400: 4.741413449170068 seconds\n",
      "Initial log joint probability = -8.08222\n",
      "    Iter      log prob        ||dx||      ||grad||       alpha      alpha0  # evals  Notes \n",
      "      77        641.16   6.50488e-05       99.2298   6.362e-07       0.001      146  LS failed, Hessian reset \n",
      "      99        641.17   3.37648e-07       101.826      0.5229      0.5229      173   \n",
      "    Iter      log prob        ||dx||      ||grad||       alpha      alpha0  # evals  Notes \n",
      "     116        641.17   1.08144e-08       96.2931      0.3116      0.7783      197   \n",
      "Optimization terminated normally: \n",
      "  Convergence detected: relative gradient magnitude is below tolerance\n",
      "33 - G2800910: 4.321931174956262 seconds\n",
      "Initial log joint probability = -4.67467\n",
      "    Iter      log prob        ||dx||      ||grad||       alpha      alpha0  # evals  Notes \n",
      "      57       560.517   5.46289e-09       100.699      0.1488      0.1488       75   \n",
      "Optimization terminated normally: \n",
      "  Convergence detected: absolute parameter change was below tolerance\n"
     ]
    },
    {
     "name": "stdout",
     "output_type": "stream",
     "text": [
      "34 - G3100770: 4.39449835778214 seconds\n",
      "Initial log joint probability = -11.4212\n",
      "    Iter      log prob        ||dx||      ||grad||       alpha      alpha0  # evals  Notes \n",
      "      89       660.928   4.82441e-07       102.805   4.524e-09       0.001      153  LS failed, Hessian reset \n",
      "      99       660.928   3.07782e-08       97.3162      0.4116           1      166   \n",
      "    Iter      log prob        ||dx||      ||grad||       alpha      alpha0  # evals  Notes \n",
      "     102       660.928   2.98019e-08       84.8771      0.5698      0.5698      169   \n",
      "Optimization terminated normally: \n",
      "  Convergence detected: relative gradient magnitude is below tolerance\n",
      "35 - G1800510: 4.341004014015198 seconds\n",
      "Initial log joint probability = -2.65176\n",
      "    Iter      log prob        ||dx||      ||grad||       alpha      alpha0  # evals  Notes \n",
      "      65       687.456   1.48187e-08       104.159      0.3005           1       83   \n",
      "Optimization terminated normally: \n",
      "  Convergence detected: relative gradient magnitude is below tolerance\n",
      "36 - G4802070: 4.01485267910175 seconds\n",
      "Initial log joint probability = -9.04839\n",
      "    Iter      log prob        ||dx||      ||grad||       alpha      alpha0  # evals  Notes \n",
      "      91       616.346   8.94537e-08        101.12   8.487e-10       0.001      157  LS failed, Hessian reset \n",
      "      98       616.346   1.65142e-08       94.1809      0.3131           1      168   \n",
      "Optimization terminated normally: \n",
      "  Convergence detected: relative gradient magnitude is below tolerance\n",
      "37 - G4700990: 4.188749826978892 seconds\n",
      "Initial log joint probability = -9.15084\n",
      "    Iter      log prob        ||dx||      ||grad||       alpha      alpha0  # evals  Notes \n",
      "      79       675.545   0.000156337       100.679   1.447e-06       0.001      132  LS failed, Hessian reset \n",
      "      99       675.559   1.78716e-06       100.014      0.8912      0.8912      155   \n",
      "    Iter      log prob        ||dx||      ||grad||       alpha      alpha0  # evals  Notes \n",
      "     121       675.559   1.71928e-08       92.4699      0.2648           1      182   \n",
      "Optimization terminated normally: \n",
      "  Convergence detected: relative gradient magnitude is below tolerance\n",
      "38 - G0101150: 4.1930366130545735 seconds\n",
      "Initial log joint probability = -3.18611\n",
      "    Iter      log prob        ||dx||      ||grad||       alpha      alpha0  # evals  Notes \n",
      "      68       754.731   1.28271e-08       100.321      0.4276           1       94   \n",
      "Optimization terminated normally: \n",
      "  Convergence detected: relative gradient magnitude is below tolerance\n",
      "39 - G1701690: 4.240771712036803 seconds\n",
      "Initial log joint probability = -10.027\n",
      "    Iter      log prob        ||dx||      ||grad||       alpha      alpha0  # evals  Notes \n",
      "      72        432.38   0.000343104       99.6495   3.599e-06       0.001      117  LS failed, Hessian reset \n",
      "      99       432.429   2.02677e-06       98.0374      0.4336           1      152   \n",
      "    Iter      log prob        ||dx||      ||grad||       alpha      alpha0  # evals  Notes \n",
      "     131        432.43   7.05397e-07       95.2707   6.956e-09       0.001      244  LS failed, Hessian reset \n",
      "     152        432.43   5.00887e-07       97.5707   5.139e-09       0.001      315  LS failed, Hessian reset \n",
      "     168        432.43   1.33773e-08       99.6702           1           1      335   \n",
      "Optimization terminated normally: \n",
      "  Convergence detected: relative gradient magnitude is below tolerance\n",
      "40 - G5106000: 4.008523070951924 seconds\n",
      "Initial log joint probability = -6.12002\n",
      "    Iter      log prob        ||dx||      ||grad||       alpha      alpha0  # evals  Notes \n",
      "      82       711.693   8.85459e-09       98.3644      0.2542           1      111   \n",
      "Optimization terminated normally: \n",
      "  Convergence detected: absolute parameter change was below tolerance\n",
      "41 - G4701890: 3.9897019150666893 seconds\n",
      "Initial log joint probability = -3.14512\n",
      "    Iter      log prob        ||dx||      ||grad||       alpha      alpha0  # evals  Notes \n",
      "      73       803.151   8.87095e-07       107.957   9.137e-09       0.001      126  LS failed, Hessian reset \n",
      "      88       803.151   3.75041e-08       100.559           1           1      145   \n",
      "Optimization terminated normally: \n",
      "  Convergence detected: relative gradient magnitude is below tolerance\n",
      "42 - G4201090: 4.4700883340556175 seconds\n",
      "Initial log joint probability = -2.96178\n",
      "    Iter      log prob        ||dx||      ||grad||       alpha      alpha0  # evals  Notes \n",
      "      99       820.965    0.00445701       108.639           1           1      120   \n",
      "    Iter      log prob        ||dx||      ||grad||       alpha      alpha0  # evals  Notes \n",
      "     140       821.203   3.67879e-09       101.796   0.0009255   0.0009255      176   \n",
      "Optimization terminated normally: \n",
      "  Convergence detected: absolute parameter change was below tolerance\n",
      "43 - G3901010: 4.199373096926138 seconds\n",
      "Initial log joint probability = -15.2643\n",
      "    Iter      log prob        ||dx||      ||grad||       alpha      alpha0  # evals  Notes \n",
      "      83       495.921   6.76065e-09       100.775      0.3515      0.3515      114   \n",
      "Optimization terminated normally: \n",
      "  Convergence detected: absolute parameter change was below tolerance\n",
      "44 - G2000910: 4.226801005890593 seconds\n",
      "Initial log joint probability = -5.99605\n",
      "    Iter      log prob        ||dx||      ||grad||       alpha      alpha0  # evals  Notes \n",
      "      89       705.012   3.31194e-08       100.157      0.7898      0.7898      120   \n",
      "Optimization terminated normally: \n",
      "  Convergence detected: relative gradient magnitude is below tolerance\n",
      "45 - G1701950: 4.302720810985193 seconds\n",
      "Initial log joint probability = -4.00784\n",
      "    Iter      log prob        ||dx||      ||grad||       alpha      alpha0  # evals  Notes \n",
      "      81       564.323   5.04998e-07       105.128   5.076e-09       0.001      141  LS failed, Hessian reset \n",
      "      85       564.323   9.10228e-09       93.3942       0.135       0.135      147   \n",
      "Optimization terminated normally: \n",
      "  Convergence detected: absolute parameter change was below tolerance\n",
      "46 - G4601370: 4.214979236014187 seconds\n",
      "Initial log joint probability = -5.40625\n",
      "    Iter      log prob        ||dx||      ||grad||       alpha      alpha0  # evals  Notes \n",
      "      74       716.479   8.89429e-09         99.51      0.3735      0.3735      104   \n",
      "Optimization terminated normally: \n",
      "  Convergence detected: absolute parameter change was below tolerance\n",
      "47 - G2100710: 4.505597074050456 seconds\n",
      "Initial log joint probability = -10.1487\n",
      "    Iter      log prob        ||dx||      ||grad||       alpha      alpha0  # evals  Notes \n",
      "      98       706.672   4.62975e-07       97.4172   4.534e-09       0.001      170  LS failed, Hessian reset \n",
      "      99       706.672   2.87367e-07       97.5169           1           1      171   \n",
      "    Iter      log prob        ||dx||      ||grad||       alpha      alpha0  # evals  Notes \n",
      "     112       706.672   2.38528e-08       101.498      0.9068      0.9068      187   \n",
      "Optimization terminated normally: \n",
      "  Convergence detected: relative gradient magnitude is below tolerance\n",
      "48 - G4200050: 3.991198875941336 seconds\n",
      "Initial log joint probability = -3.5294\n",
      "    Iter      log prob        ||dx||      ||grad||       alpha      alpha0  # evals  Notes \n",
      "      78       810.577   3.98481e-08       98.8707           1           1      102   \n",
      "Optimization terminated normally: \n",
      "  Convergence detected: relative gradient magnitude is below tolerance\n",
      "49 - G2800830: 4.287609711987898 seconds\n",
      "Initial log joint probability = -4.06117\n",
      "    Iter      log prob        ||dx||      ||grad||       alpha      alpha0  # evals  Notes \n",
      "      91       759.958   4.28274e-08       94.7873      0.5479      0.5479      121   \n",
      "Optimization terminated normally: \n",
      "  Convergence detected: relative gradient magnitude is below tolerance\n",
      "50 - G2600290: 4.139845585916191 seconds\n",
      "Initial log joint probability = -3.99949\n",
      "    Iter      log prob        ||dx||      ||grad||       alpha      alpha0  # evals  Notes \n",
      "      97       609.845   1.28452e-08       99.1394      0.4733      0.4733      127   \n",
      "Optimization terminated normally: \n",
      "  Convergence detected: relative gradient magnitude is below tolerance\n",
      "51 - G3701990: 4.456101970048621 seconds\n",
      "Initial log joint probability = -5.33283\n",
      "    Iter      log prob        ||dx||      ||grad||       alpha      alpha0  # evals  Notes \n",
      "      76       606.485    6.1248e-06       100.128   6.041e-08       0.001      151  LS failed, Hessian reset \n",
      "      99       606.486   3.57305e-06       98.4698           1           1      185   \n",
      "    Iter      log prob        ||dx||      ||grad||       alpha      alpha0  # evals  Notes \n",
      "     122       606.487   3.63281e-08       98.9749           1           1      216   \n",
      "Optimization terminated normally: \n",
      "  Convergence detected: relative gradient magnitude is below tolerance\n"
     ]
    },
    {
     "name": "stdout",
     "output_type": "stream",
     "text": [
      "52 - G3200150: 4.389165328815579 seconds\n",
      "Initial log joint probability = -3.43913\n",
      "    Iter      log prob        ||dx||      ||grad||       alpha      alpha0  # evals  Notes \n",
      "      97       827.814   8.39166e-06       104.665   8.027e-08       0.001      198  LS failed, Hessian reset \n",
      "      99       827.814   7.47719e-06       104.367           1           1      200   \n",
      "    Iter      log prob        ||dx||      ||grad||       alpha      alpha0  # evals  Notes \n",
      "     154       827.822   2.00251e-08       93.0911      0.2825           1      269   \n",
      "Optimization terminated normally: \n",
      "  Convergence detected: relative gradient magnitude is below tolerance\n",
      "53 - G5300570: 4.15404160390608 seconds\n",
      "Initial log joint probability = -3.94271\n",
      "    Iter      log prob        ||dx||      ||grad||       alpha      alpha0  # evals  Notes \n",
      "      83       811.471   1.04905e-05       99.8162   1.036e-07       0.001      146  LS failed, Hessian reset \n",
      "      99       811.472   1.83011e-07       99.2204      0.3993           1      165   \n",
      "    Iter      log prob        ||dx||      ||grad||       alpha      alpha0  # evals  Notes \n",
      "     107       811.472    2.8365e-08       99.6002      0.2729           1      175   \n",
      "Optimization terminated normally: \n",
      "  Convergence detected: relative gradient magnitude is below tolerance\n",
      "54 - G3701270: 4.346042906865478 seconds\n",
      "Initial log joint probability = -7.87716\n",
      "    Iter      log prob        ||dx||      ||grad||       alpha      alpha0  # evals  Notes \n",
      "      99       570.415   1.58463e-05       109.469      0.4978      0.4978      120   \n",
      "    Iter      log prob        ||dx||      ||grad||       alpha      alpha0  # evals  Notes \n",
      "     144       570.419   9.00088e-09       100.399      0.2718      0.7289      182   \n",
      "Optimization terminated normally: \n",
      "  Convergence detected: absolute parameter change was below tolerance\n",
      "55 - G2600070: 4.43779017101042 seconds\n",
      "Initial log joint probability = -5.97629\n",
      "    Iter      log prob        ||dx||      ||grad||       alpha      alpha0  # evals  Notes \n",
      "      94       835.736   4.18328e-05       96.5312   4.168e-07       0.001      162  LS failed, Hessian reset \n",
      "      99       835.737   1.11589e-05       95.4752      0.9471      0.9471      168   \n",
      "    Iter      log prob        ||dx||      ||grad||       alpha      alpha0  # evals  Notes \n",
      "     124       835.738   1.87349e-08       98.9324      0.3231           1      200   \n",
      "Optimization terminated normally: \n",
      "  Convergence detected: relative gradient magnitude is below tolerance\n",
      "56 - G3900350: 4.779344100970775 seconds\n",
      "Initial log joint probability = -10.0182\n",
      "    Iter      log prob        ||dx||      ||grad||       alpha      alpha0  # evals  Notes \n",
      "      99       691.591    0.00114109       103.899      0.4468           1      129   \n",
      "    Iter      log prob        ||dx||      ||grad||       alpha      alpha0  # evals  Notes \n",
      "     101       691.599   0.000110224       102.254   1.069e-06       0.001      169  LS failed, Hessian reset \n",
      "     133       691.607    2.6665e-08       99.9508      0.3181           1      209   \n",
      "Optimization terminated normally: \n",
      "  Convergence detected: relative gradient magnitude is below tolerance\n",
      "57 - G2700210: 4.009990464895964 seconds\n",
      "Initial log joint probability = -8.12846\n",
      "    Iter      log prob        ||dx||      ||grad||       alpha      alpha0  # evals  Notes \n",
      "      99       727.211   1.10433e-05       98.8988           1           1      123   \n",
      "    Iter      log prob        ||dx||      ||grad||       alpha      alpha0  # evals  Notes \n",
      "     100       727.211   9.62804e-07       98.4109   9.735e-09       0.001      171  LS failed, Hessian reset \n",
      "     126       727.212   2.76437e-09        98.284    0.004041           1      208   \n",
      "Optimization terminated normally: \n",
      "  Convergence detected: absolute parameter change was below tolerance\n",
      "58 - G1700270: 4.327387047000229 seconds\n",
      "Initial log joint probability = -3.00704\n",
      "    Iter      log prob        ||dx||      ||grad||       alpha      alpha0  # evals  Notes \n",
      "      83       804.957    1.1523e-08       102.117      0.2571           1      116   \n",
      "Optimization terminated normally: \n",
      "  Convergence detected: relative gradient magnitude is below tolerance\n",
      "59 - G4801170: 4.333856415003538 seconds\n",
      "Initial log joint probability = -6.50102\n",
      "    Iter      log prob        ||dx||      ||grad||       alpha      alpha0  # evals  Notes \n",
      "      99       378.854   3.12638e-06        102.73           1           1      124   \n",
      "    Iter      log prob        ||dx||      ||grad||       alpha      alpha0  # evals  Notes \n",
      "     123       378.854   5.44153e-09       99.3366      0.3121      0.3121      154   \n",
      "Optimization terminated normally: \n",
      "  Convergence detected: absolute parameter change was below tolerance\n",
      "60 - G3000210: 4.368137798039243 seconds\n",
      "Initial log joint probability = -4.61878\n",
      "    Iter      log prob        ||dx||      ||grad||       alpha      alpha0  # evals  Notes \n",
      "      81       658.555   1.96574e-08       100.565      0.7525      0.7525      107   \n",
      "Optimization terminated normally: \n",
      "  Convergence detected: relative gradient magnitude is below tolerance\n",
      "61 - G2200910: 4.203941160114482 seconds\n",
      "Initial log joint probability = -5.54347\n",
      "    Iter      log prob        ||dx||      ||grad||       alpha      alpha0  # evals  Notes \n",
      "      88       578.098      5.38e-07       101.093   5.326e-09       0.001      158  LS failed, Hessian reset \n",
      "      99       578.098   1.30002e-08       100.598      0.3905      0.3905      172   \n",
      "    Iter      log prob        ||dx||      ||grad||       alpha      alpha0  # evals  Notes \n",
      "     100       578.098   1.35507e-08        102.03      0.3959           1      174   \n",
      "Optimization terminated normally: \n",
      "  Convergence detected: relative gradient magnitude is below tolerance\n",
      "62 - G2300210: 4.0253791669383645 seconds\n",
      "Initial log joint probability = -40.5326\n",
      "    Iter      log prob        ||dx||      ||grad||       alpha      alpha0  # evals  Notes \n",
      "      60       523.541    0.00032303       107.599   3.329e-06       0.001      108  LS failed, Hessian reset \n",
      "      99       523.568   5.23063e-07       91.8337      0.9998      0.9998      155   \n",
      "    Iter      log prob        ||dx||      ||grad||       alpha      alpha0  # evals  Notes \n",
      "     102       523.568   1.89963e-07       103.451   1.856e-09       0.001      196  LS failed, Hessian reset \n",
      "     116       523.568   1.63013e-08       95.6254      0.2815      0.7443      214   \n",
      "Optimization terminated normally: \n",
      "  Convergence detected: relative gradient magnitude is below tolerance\n",
      "63 - G5400910: 4.487803675001487 seconds\n",
      "Initial log joint probability = -6.42617\n",
      "    Iter      log prob        ||dx||      ||grad||       alpha      alpha0  # evals  Notes \n",
      "      99       393.874     3.704e-06       98.3375      0.2639      0.2639      125   \n",
      "    Iter      log prob        ||dx||      ||grad||       alpha      alpha0  # evals  Notes \n",
      "     142       393.877   9.11664e-09        102.81      0.3271      0.3271      173   \n",
      "Optimization terminated normally: \n",
      "  Convergence detected: absolute parameter change was below tolerance\n",
      "64 - G4600950: 4.541961804032326 seconds\n",
      "Initial log joint probability = -4.88208\n",
      "    Iter      log prob        ||dx||      ||grad||       alpha      alpha0  # evals  Notes \n",
      "      86       746.574   4.87448e-08       90.1064           1           1      110   \n",
      "Optimization terminated normally: \n",
      "  Convergence detected: relative gradient magnitude is below tolerance\n",
      "65 - G2200710: 4.288605118170381 seconds\n",
      "Initial log joint probability = -4.57757\n",
      "    Iter      log prob        ||dx||      ||grad||       alpha      alpha0  # evals  Notes \n",
      "      84       693.517   7.62862e-05       99.1193   8.017e-07       0.001      146  LS failed, Hessian reset \n",
      "      99       693.525   1.65969e-06       88.4754           1           1      166   \n",
      "    Iter      log prob        ||dx||      ||grad||       alpha      alpha0  # evals  Notes \n",
      "     125       693.526    1.5503e-07       93.8916   1.554e-09       0.001      238  LS failed, Hessian reset \n",
      "     138       693.526   1.52085e-08       96.6438      0.3731      0.3731      254   \n",
      "Optimization terminated normally: \n",
      "  Convergence detected: relative gradient magnitude is below tolerance\n"
     ]
    },
    {
     "name": "stdout",
     "output_type": "stream",
     "text": [
      "66 - G2100890: 4.362809994025156 seconds\n",
      "Initial log joint probability = -6.12012\n",
      "    Iter      log prob        ||dx||      ||grad||       alpha      alpha0  # evals  Notes \n",
      "      62         556.4   2.60101e-08         96.19      0.2879           1       84   \n",
      "Optimization terminated normally: \n",
      "  Convergence detected: relative gradient magnitude is below tolerance\n",
      "67 - G2200470: 3.9751546517945826 seconds\n",
      "Initial log joint probability = -4.56044\n",
      "    Iter      log prob        ||dx||      ||grad||       alpha      alpha0  # evals  Notes \n",
      "      79       711.279   1.31491e-08       99.5743      0.2902           1      104   \n",
      "Optimization terminated normally: \n",
      "  Convergence detected: relative gradient magnitude is below tolerance\n",
      "68 - G2900690: 4.288648869143799 seconds\n",
      "Initial log joint probability = -4.64126\n",
      "    Iter      log prob        ||dx||      ||grad||       alpha      alpha0  # evals  Notes \n",
      "      71       645.823   9.30779e-09        102.96       0.336       0.336       93   \n",
      "Optimization terminated normally: \n",
      "  Convergence detected: absolute parameter change was below tolerance\n",
      "69 - G5100250: 4.098524427972734 seconds\n",
      "Initial log joint probability = -9.06036\n",
      "    Iter      log prob        ||dx||      ||grad||       alpha      alpha0  # evals  Notes \n",
      "      71       574.749   8.81503e-09       99.6031      0.2703      0.7428       97   \n",
      "Optimization terminated normally: \n",
      "  Convergence detected: absolute parameter change was below tolerance\n",
      "70 - G0100450: 4.4599964681547135 seconds\n",
      "Initial log joint probability = -3.90865\n",
      "    Iter      log prob        ||dx||      ||grad||       alpha      alpha0  # evals  Notes \n",
      "      81       603.935   1.70791e-08       103.712      0.3246      0.3246      116   \n",
      "Optimization terminated normally: \n",
      "  Convergence detected: relative gradient magnitude is below tolerance\n",
      "71 - G2701490: 4.602289640111849 seconds\n",
      "Initial log joint probability = -5.08533\n",
      "    Iter      log prob        ||dx||      ||grad||       alpha      alpha0  # evals  Notes \n",
      "      73       671.484   7.78709e-09       100.834      0.2774      0.2774       99   \n",
      "Optimization terminated normally: \n",
      "  Convergence detected: absolute parameter change was below tolerance\n",
      "72 - G4701730: 4.600039633922279 seconds\n",
      "Initial log joint probability = -4.48483\n",
      "    Iter      log prob        ||dx||      ||grad||       alpha      alpha0  # evals  Notes \n",
      "      94       663.209   2.24486e-08        100.85      0.7216      0.7216      117   \n",
      "Optimization terminated normally: \n",
      "  Convergence detected: relative gradient magnitude is below tolerance\n",
      "73 - G2100230: 4.316527985967696 seconds\n",
      "Initial log joint probability = -5.15621\n",
      "    Iter      log prob        ||dx||      ||grad||       alpha      alpha0  # evals  Notes \n",
      "      81       686.632   1.05205e-08       97.2826      0.3072      0.3072      110   \n",
      "Optimization terminated normally: \n",
      "  Convergence detected: relative gradient magnitude is below tolerance\n",
      "74 - G2200970: 4.0329763339832425 seconds\n",
      "Initial log joint probability = -2.77448\n",
      "    Iter      log prob        ||dx||      ||grad||       alpha      alpha0  # evals  Notes \n",
      "      71       859.877   4.30423e-08       101.669      0.9702      0.9702       89   \n",
      "Optimization terminated normally: \n",
      "  Convergence detected: relative gradient magnitude is below tolerance\n",
      "75 - G4500030: 4.232168682152405 seconds\n",
      "Initial log joint probability = -5.32261\n",
      "    Iter      log prob        ||dx||      ||grad||       alpha      alpha0  # evals  Notes \n",
      "      92        746.38   8.96454e-05       106.125   8.349e-07       0.001      160  LS failed, Hessian reset \n",
      "      99       746.386   5.01984e-06       98.2808      0.5086      0.5086      169   \n",
      "    Iter      log prob        ||dx||      ||grad||       alpha      alpha0  # evals  Notes \n",
      "     131       746.388   3.69762e-06       97.7464   3.684e-08       0.001      254  LS failed, Hessian reset \n",
      "     168       746.389   9.29458e-09       101.163       0.297       0.297      300   \n",
      "Optimization terminated normally: \n",
      "  Convergence detected: absolute parameter change was below tolerance\n",
      "76 - G5400570: 4.054493074771017 seconds\n",
      "Initial log joint probability = -2.96354\n",
      "    Iter      log prob        ||dx||      ||grad||       alpha      alpha0  # evals  Notes \n",
      "      50       456.556   3.00787e-06       101.337   2.922e-08       0.001       98  LS failed, Hessian reset \n",
      "      90       456.557   6.92044e-09       102.022      0.5632      0.5632      149   \n",
      "Optimization terminated normally: \n",
      "  Convergence detected: absolute parameter change was below tolerance\n",
      "77 - G3000770: 4.41323265992105 seconds\n",
      "Initial log joint probability = -6.91915\n",
      "    Iter      log prob        ||dx||      ||grad||       alpha      alpha0  # evals  Notes \n",
      "      99       566.108     1.262e-07       98.4488      0.2152      0.2152      124   \n",
      "    Iter      log prob        ||dx||      ||grad||       alpha      alpha0  # evals  Notes \n",
      "     113       566.108   6.85918e-07       104.941   6.379e-09       0.001      175  LS failed, Hessian reset \n",
      "     133       566.109   9.08289e-09       104.162      0.3038      0.3038      198   \n",
      "Optimization terminated normally: \n",
      "  Convergence detected: absolute parameter change was below tolerance\n",
      "78 - G3101210: 4.232297932961956 seconds\n",
      "Initial log joint probability = -5.40855\n",
      "    Iter      log prob        ||dx||      ||grad||       alpha      alpha0  # evals  Notes \n",
      "      63       414.593   1.58809e-08       96.8226      0.2036      0.6332       88   \n",
      "Optimization terminated normally: \n",
      "  Convergence detected: relative gradient magnitude is below tolerance\n",
      "79 - G3000910: 4.468391290167347 seconds\n",
      "Initial log joint probability = -8.08018\n",
      "    Iter      log prob        ||dx||      ||grad||       alpha      alpha0  # evals  Notes \n",
      "      76       692.861   9.23906e-09        98.962      0.4354      0.4354       95   \n",
      "Optimization terminated normally: \n",
      "  Convergence detected: absolute parameter change was below tolerance\n",
      "80 - G3900630: 4.677598245907575 seconds\n",
      "Initial log joint probability = -3.12269\n",
      "    Iter      log prob        ||dx||      ||grad||       alpha      alpha0  # evals  Notes \n",
      "      63       772.761   7.23294e-09       100.079      0.2375      0.2375       89   \n",
      "Optimization terminated normally: \n",
      "  Convergence detected: absolute parameter change was below tolerance\n",
      "81 - G2801250: 4.6047996550332755 seconds\n",
      "Initial log joint probability = -5.78764\n",
      "    Iter      log prob        ||dx||      ||grad||       alpha      alpha0  # evals  Notes \n",
      "      90       746.985   2.38047e-05        104.36   2.375e-07       0.001      168  LS failed, Hessian reset \n",
      "      99       746.987   9.16272e-07        100.11      0.3243           1      180   \n",
      "    Iter      log prob        ||dx||      ||grad||       alpha      alpha0  # evals  Notes \n",
      "     122       746.987   6.85164e-09       101.497      0.3406      0.3406      208   \n",
      "Optimization terminated normally: \n",
      "  Convergence detected: absolute parameter change was below tolerance\n",
      "82 - G1701170: 4.5975389438681304 seconds\n",
      "Initial log joint probability = -4.17649\n",
      "    Iter      log prob        ||dx||      ||grad||       alpha      alpha0  # evals  Notes \n",
      "      61       369.011   9.67819e-09       98.9248      0.1845           1       85   \n",
      "Optimization terminated normally: \n",
      "  Convergence detected: absolute parameter change was below tolerance\n",
      "83 - G3000710: 4.914365431992337 seconds\n",
      "Initial log joint probability = -9.17575\n",
      "    Iter      log prob        ||dx||      ||grad||       alpha      alpha0  # evals  Notes \n",
      "      64       477.726   9.50953e-09       102.009       0.189       0.189       90   \n",
      "Optimization terminated normally: \n",
      "  Convergence detected: absolute parameter change was below tolerance\n",
      "84 - G1901350: 4.321756704943255 seconds\n",
      "Initial log joint probability = -8.79395\n",
      "    Iter      log prob        ||dx||      ||grad||       alpha      alpha0  # evals  Notes \n",
      "      57       651.075    0.00026823       102.301   2.681e-06       0.001      109  LS failed, Hessian reset \n",
      "      96       651.094   3.31094e-08       99.5768       1.308      0.4889      164   \n",
      "Optimization terminated normally: \n",
      "  Convergence detected: relative gradient magnitude is below tolerance\n",
      "85 - G5101950: 4.0713119090069085 seconds\n",
      "Initial log joint probability = -8.71934\n",
      "    Iter      log prob        ||dx||      ||grad||       alpha      alpha0  # evals  Notes \n",
      "      82        530.24   7.84309e-05       103.362   7.694e-07       0.001      138  LS failed, Hessian reset \n",
      "      99       530.246   1.79526e-06       101.783           1           1      164   \n",
      "    Iter      log prob        ||dx||      ||grad||       alpha      alpha0  # evals  Notes \n",
      "     108        530.25   3.82852e-05       99.1121   3.758e-07       0.001      210  LS failed, Hessian reset \n",
      "     137       530.252   2.72757e-08       101.021           1           1      246   \n",
      "Optimization terminated normally: \n",
      "  Convergence detected: relative gradient magnitude is below tolerance\n"
     ]
    },
    {
     "name": "stdout",
     "output_type": "stream",
     "text": [
      "86 - G4601270: 4.324560853186995 seconds\n",
      "Initial log joint probability = -6.25133\n",
      "    Iter      log prob        ||dx||      ||grad||       alpha      alpha0  # evals  Notes \n",
      "      67       568.102   6.05395e-09       98.5522      0.2204           1       92   \n",
      "Optimization terminated normally: \n",
      "  Convergence detected: absolute parameter change was below tolerance\n",
      "87 - G4800770: 4.290536785963923 seconds\n",
      "Initial log joint probability = -10.4436\n",
      "    Iter      log prob        ||dx||      ||grad||       alpha      alpha0  # evals  Notes \n",
      "      73       646.313   2.27737e-08         97.49      0.2887           1       98   \n",
      "Optimization terminated normally: \n",
      "  Convergence detected: relative gradient magnitude is below tolerance\n",
      "88 - G3300010: 4.164143719011918 seconds\n",
      "Initial log joint probability = -11.5699\n",
      "    Iter      log prob        ||dx||      ||grad||       alpha      alpha0  # evals  Notes \n",
      "      65       394.693   8.69869e-09       100.395       0.459           1       92   \n",
      "Optimization terminated normally: \n",
      "  Convergence detected: absolute parameter change was below tolerance\n",
      "89 - G4800030: 4.086070450954139 seconds\n",
      "Initial log joint probability = -2.93681\n",
      "    Iter      log prob        ||dx||      ||grad||       alpha      alpha0  # evals  Notes \n",
      "      70        759.65   3.16727e-08       99.0825      0.5789      0.5789       92   \n",
      "Optimization terminated normally: \n",
      "  Convergence detected: relative gradient magnitude is below tolerance\n",
      "90 - G2600330: 4.513883205829188 seconds\n",
      "Initial log joint probability = -8.78254\n",
      "    Iter      log prob        ||dx||      ||grad||       alpha      alpha0  # evals  Notes \n",
      "      99       683.395   4.23189e-08       94.1959      0.3495      0.3495      135   \n",
      "    Iter      log prob        ||dx||      ||grad||       alpha      alpha0  # evals  Notes \n",
      "     113       683.395   1.38487e-06       97.8019   1.355e-08       0.001      192  LS failed, Hessian reset \n",
      "     135       683.395   9.89802e-09       90.8195      0.2743      0.2743      220   \n",
      "Optimization terminated normally: \n",
      "  Convergence detected: absolute parameter change was below tolerance\n",
      "91 - G3600250: 3.973699068184942 seconds\n",
      "Initial log joint probability = -2.50338\n",
      "    Iter      log prob        ||dx||      ||grad||       alpha      alpha0  # evals  Notes \n",
      "      72       881.214   9.18426e-09       93.1153     0.07003           1       91   \n",
      "Optimization terminated normally: \n",
      "  Convergence detected: absolute parameter change was below tolerance\n",
      "92 - G3400090: 4.024145420873538 seconds\n",
      "Initial log joint probability = -12.6464\n",
      "    Iter      log prob        ||dx||      ||grad||       alpha      alpha0  # evals  Notes \n",
      "      88       622.962   7.17749e-09       95.9965      0.2469      0.2469      110   \n",
      "Optimization terminated normally: \n",
      "  Convergence detected: absolute parameter change was below tolerance\n",
      "93 - G3900870: 4.316342099104077 seconds\n",
      "Initial log joint probability = -9.64822\n",
      "    Iter      log prob        ||dx||      ||grad||       alpha      alpha0  # evals  Notes \n",
      "      73       590.237   2.68758e-08       100.994      0.6584      0.6584       96   \n",
      "Optimization terminated normally: \n",
      "  Convergence detected: relative gradient magnitude is below tolerance\n",
      "94 - G4803090: 4.118160834070295 seconds\n",
      "Initial log joint probability = -10.5041\n",
      "    Iter      log prob        ||dx||      ||grad||       alpha      alpha0  # evals  Notes \n",
      "      98       612.877   1.19192e-06       98.8428   1.217e-08       0.001      161  LS failed, Hessian reset \n",
      "      99       612.877    7.0336e-07       96.0892           1           1      162   \n",
      "    Iter      log prob        ||dx||      ||grad||       alpha      alpha0  # evals  Notes \n",
      "     118       612.877   2.27561e-08       96.5304      0.6035      0.6035      183   \n",
      "Optimization terminated normally: \n",
      "  Convergence detected: relative gradient magnitude is below tolerance\n",
      "95 - G4701630: 4.764608594123274 seconds\n",
      "Initial log joint probability = -6.29915\n",
      "    Iter      log prob        ||dx||      ||grad||       alpha      alpha0  # evals  Notes \n",
      "      85       755.958   2.21744e-08       101.065      0.5619      0.5619      108   \n",
      "Optimization terminated normally: \n",
      "  Convergence detected: relative gradient magnitude is below tolerance\n",
      "96 - G1700930: 4.346952514024451 seconds\n",
      "Initial log joint probability = -4.30049\n",
      "    Iter      log prob        ||dx||      ||grad||       alpha      alpha0  # evals  Notes \n",
      "      87        706.58   9.43862e-09       101.301      0.2299           1      118   \n",
      "Optimization terminated normally: \n",
      "  Convergence detected: absolute parameter change was below tolerance\n",
      "97 - G2101330: 4.357017053058371 seconds\n",
      "Initial log joint probability = -6.88748\n",
      "    Iter      log prob        ||dx||      ||grad||       alpha      alpha0  # evals  Notes \n",
      "      95       766.499    2.8441e-05       98.0792   2.901e-07       0.001      160  LS failed, Hessian reset \n",
      "      99         766.5    1.6239e-05       84.9916      0.9216      0.9216      164   \n",
      "    Iter      log prob        ||dx||      ||grad||       alpha      alpha0  # evals  Notes \n",
      "     126       766.501   2.03269e-08       91.4398      0.2644           1      204   \n",
      "Optimization terminated normally: \n",
      "  Convergence detected: relative gradient magnitude is below tolerance\n",
      "98 - G3900550: 4.621535148937255 seconds\n",
      "Initial log joint probability = -9.27216\n",
      "    Iter      log prob        ||dx||      ||grad||       alpha      alpha0  # evals  Notes \n",
      "      71       523.421   9.16847e-09       100.714      0.5648      0.5648       90   \n",
      "Optimization terminated normally: \n",
      "  Convergence detected: absolute parameter change was below tolerance\n",
      "99 - G5101130: 4.4686575250234455 seconds\n",
      "Initial log joint probability = -2.54864\n",
      "    Iter      log prob        ||dx||      ||grad||       alpha      alpha0  # evals  Notes \n",
      "      73       846.731   3.02892e-08       85.7253      0.1969           1       99   \n",
      "Optimization terminated normally: \n",
      "  Convergence detected: relative gradient magnitude is below tolerance\n",
      "100 - G4800510: 4.438683076063171 seconds\n"
     ]
    }
   ],
   "source": [
    "import time\n",
    "\n",
    "non_tl_models = {}\n",
    "counter = 1100\n",
    "for gis_join in list(child_dfs.keys())[:100]:\n",
    "    time1 = time.monotonic()\n",
    "    predict(child_dfs[gis_join])\n",
    "    time2 = time.monotonic() - time1\n",
    "    print(f'{counter} - {gis_join}: {time2} seconds')\n",
    "    non_tl_models[gis_join] = NonTLModel(gis_join, time2)\n",
    "    counter += 1"
   ]
  },
  {
   "cell_type": "markdown",
   "id": "ea038c1c",
   "metadata": {},
   "source": [
    "# Child Models (TL)"
   ]
  },
  {
   "cell_type": "code",
   "execution_count": 40,
   "id": "3135f3f8",
   "metadata": {},
   "outputs": [
    {
     "name": "stderr",
     "output_type": "stream",
     "text": [
      "INFO:prophet:Disabling yearly seasonality. Run prophet with yearly_seasonality=True to override this.\n",
      "INFO:prophet:Disabling daily seasonality. Run prophet with daily_seasonality=True to override this.\n"
     ]
    },
    {
     "name": "stdout",
     "output_type": "stream",
     "text": [
      "Initial log joint probability = -7.58523\n",
      "    Iter      log prob        ||dx||      ||grad||       alpha      alpha0  # evals  Notes \n",
      "      99       604.422    0.00812085       12.4579      0.7555      0.7555      116   \n",
      "    Iter      log prob        ||dx||      ||grad||       alpha      alpha0  # evals  Notes \n",
      "     199       608.941    0.00245301        15.521      0.8901      0.8901      233   \n",
      "    Iter      log prob        ||dx||      ||grad||       alpha      alpha0  # evals  Notes \n",
      "     299         610.9   0.000696861       8.57119      0.4859      0.4859      352   \n",
      "    Iter      log prob        ||dx||      ||grad||       alpha      alpha0  # evals  Notes \n",
      "     399       611.336    0.00355433       7.98961      0.2254           1      471   \n",
      "    Iter      log prob        ||dx||      ||grad||       alpha      alpha0  # evals  Notes \n",
      "     499       611.671    0.00109395       9.63771      0.5894      0.5894      594   \n",
      "    Iter      log prob        ||dx||      ||grad||       alpha      alpha0  # evals  Notes \n",
      "     599       611.712   1.80637e-05       6.42181      0.5779      0.5779      729   \n",
      "    Iter      log prob        ||dx||      ||grad||       alpha      alpha0  # evals  Notes \n",
      "     666       611.714   1.36294e-06       5.27149      0.4089           1      814   \n",
      "Optimization terminated normally: \n",
      "  Convergence detected: relative gradient magnitude is below tolerance\n"
     ]
    },
    {
     "name": "stderr",
     "output_type": "stream",
     "text": [
      "INFO:prophet:Disabling yearly seasonality. Run prophet with yearly_seasonality=True to override this.\n",
      "INFO:prophet:Disabling daily seasonality. Run prophet with daily_seasonality=True to override this.\n"
     ]
    },
    {
     "name": "stdout",
     "output_type": "stream",
     "text": [
      "1 - G5000030: 2.3515129717998207 seconds\n",
      "Initial log joint probability = -5.69869\n",
      "    Iter      log prob        ||dx||      ||grad||       alpha      alpha0  # evals  Notes \n",
      "      99       670.203     0.0312899       42.4694           1           1      124   \n",
      "    Iter      log prob        ||dx||      ||grad||       alpha      alpha0  # evals  Notes \n",
      "     199       682.328    0.00419962       18.7927       3.171      0.3171      242   \n",
      "    Iter      log prob        ||dx||      ||grad||       alpha      alpha0  # evals  Notes \n",
      "     299       685.138     0.0369343       34.4862           1           1      363   \n",
      "    Iter      log prob        ||dx||      ||grad||       alpha      alpha0  # evals  Notes \n",
      "     399       692.313    0.00338411       40.5912           1           1      482   \n",
      "    Iter      log prob        ||dx||      ||grad||       alpha      alpha0  # evals  Notes \n",
      "     431       693.837   0.000136389        14.574   7.873e-06       0.001      554  LS failed, Hessian reset \n",
      "     499       694.876     0.0341334       11.0359           1           1      635   \n",
      "    Iter      log prob        ||dx||      ||grad||       alpha      alpha0  # evals  Notes \n",
      "     566        695.68    0.00011209       8.93821    5.58e-06       0.001      751  LS failed, Hessian reset \n",
      "     599       695.739     0.0014191        8.2628          10           1      792   \n",
      "    Iter      log prob        ||dx||      ||grad||       alpha      alpha0  # evals  Notes \n",
      "     688        695.78   0.000377128       19.8801   6.064e-05       0.001      942  LS failed, Hessian reset \n",
      "     699       695.794   0.000132142       7.16303      0.3406      0.3406      957   \n",
      "    Iter      log prob        ||dx||      ||grad||       alpha      alpha0  # evals  Notes \n",
      "     760         695.8   2.72716e-07       7.42316       0.484       0.484     1034   \n",
      "Optimization terminated normally: \n",
      "  Convergence detected: relative gradient magnitude is below tolerance\n"
     ]
    },
    {
     "name": "stderr",
     "output_type": "stream",
     "text": [
      "INFO:prophet:Disabling yearly seasonality. Run prophet with yearly_seasonality=True to override this.\n",
      "INFO:prophet:Disabling daily seasonality. Run prophet with daily_seasonality=True to override this.\n"
     ]
    },
    {
     "name": "stdout",
     "output_type": "stream",
     "text": [
      "2 - G5501210: 2.3758138481061906 seconds\n",
      "Initial log joint probability = -10.0454\n",
      "    Iter      log prob        ||dx||      ||grad||       alpha      alpha0  # evals  Notes \n",
      "      99        407.02    0.00459771       8.09211           1           1      129   \n",
      "    Iter      log prob        ||dx||      ||grad||       alpha      alpha0  # evals  Notes \n",
      "     120       407.099   0.000784847       14.5555    6.72e-05       0.001      188  LS failed, Hessian reset \n",
      "     199       407.137     0.0170606       7.02081           1           1      286   \n",
      "    Iter      log prob        ||dx||      ||grad||       alpha      alpha0  # evals  Notes \n",
      "     201       407.148    0.00224894       9.75389   0.0002984       0.001      327  LS failed, Hessian reset \n",
      "     255       407.161   2.58446e-07        6.5413     0.05516           1      408   \n",
      "Optimization terminated normally: \n",
      "  Convergence detected: relative gradient magnitude is below tolerance\n"
     ]
    },
    {
     "name": "stderr",
     "output_type": "stream",
     "text": [
      "INFO:prophet:Disabling yearly seasonality. Run prophet with yearly_seasonality=True to override this.\n",
      "INFO:prophet:Disabling daily seasonality. Run prophet with daily_seasonality=True to override this.\n"
     ]
    },
    {
     "name": "stdout",
     "output_type": "stream",
     "text": [
      "3 - G2100750: 2.058065627934411 seconds\n",
      "Initial log joint probability = -9.7638\n",
      "    Iter      log prob        ||dx||      ||grad||       alpha      alpha0  # evals  Notes \n",
      "      99       485.196     0.0056343       31.4744           1           1      125   \n",
      "    Iter      log prob        ||dx||      ||grad||       alpha      alpha0  # evals  Notes \n",
      "     199       486.623    0.00550172       14.7475      0.5978      0.5978      248   \n",
      "    Iter      log prob        ||dx||      ||grad||       alpha      alpha0  # evals  Notes \n",
      "     206       486.826   0.000508564       14.1928   2.596e-05       0.001      291  LS failed, Hessian reset \n",
      "     296       487.213   0.000139265       7.14711   2.185e-05       0.001      455  LS failed, Hessian reset \n",
      "     299       487.214   2.01131e-05       5.34459      0.5728      0.5728      458   \n",
      "    Iter      log prob        ||dx||      ||grad||       alpha      alpha0  # evals  Notes \n",
      "     320       487.214   1.98695e-08       5.97279     0.01276     0.06465      490   \n",
      "Optimization terminated normally: \n",
      "  Convergence detected: relative gradient magnitude is below tolerance\n"
     ]
    },
    {
     "name": "stderr",
     "output_type": "stream",
     "text": [
      "INFO:prophet:Disabling yearly seasonality. Run prophet with yearly_seasonality=True to override this.\n",
      "INFO:prophet:Disabling daily seasonality. Run prophet with daily_seasonality=True to override this.\n"
     ]
    },
    {
     "name": "stdout",
     "output_type": "stream",
     "text": [
      "4 - G4100490: 2.3527573889587075 seconds\n",
      "Initial log joint probability = -11.0653\n",
      "    Iter      log prob        ||dx||      ||grad||       alpha      alpha0  # evals  Notes \n",
      "      99       501.283     0.0975649       63.8549           1           1      126   \n",
      "    Iter      log prob        ||dx||      ||grad||       alpha      alpha0  # evals  Notes \n",
      "     199       512.415     0.0151744       39.3361      0.5026      0.5026      241   \n",
      "    Iter      log prob        ||dx||      ||grad||       alpha      alpha0  # evals  Notes \n",
      "     299       515.411     0.0418413       18.1341      0.5557      0.5557      357   \n",
      "    Iter      log prob        ||dx||      ||grad||       alpha      alpha0  # evals  Notes \n",
      "     359       516.357   0.000304958       12.3028   3.018e-05       0.001      463  LS failed, Hessian reset \n",
      "     379         516.5   0.000308756       10.3388   4.375e-05       0.001      526  LS failed, Hessian reset \n",
      "     399       516.552   0.000630891       5.13587      0.3751           1      553   \n",
      "    Iter      log prob        ||dx||      ||grad||       alpha      alpha0  # evals  Notes \n",
      "     495       517.856    0.00285949       14.2174   0.0002611       0.001      712  LS failed, Hessian reset \n",
      "     499       517.897    0.00519402       9.01423           1           1      717   \n",
      "    Iter      log prob        ||dx||      ||grad||       alpha      alpha0  # evals  Notes \n",
      "     599       518.237    0.00859393       11.0854      0.6689      0.6689      847   \n",
      "    Iter      log prob        ||dx||      ||grad||       alpha      alpha0  # evals  Notes \n",
      "     630       518.766   0.000305115       11.3258   2.445e-05       0.001      940  LS failed, Hessian reset \n",
      "     699       519.171    0.00845477       11.1521      0.2628           1     1023   \n",
      "    Iter      log prob        ||dx||      ||grad||       alpha      alpha0  # evals  Notes \n",
      "     789       519.362   0.000411027       7.44832   5.943e-05       0.001     1171  LS failed, Hessian reset \n",
      "     799       519.365   0.000137391       7.95925      0.6369      0.6369     1182   \n",
      "    Iter      log prob        ||dx||      ||grad||       alpha      alpha0  # evals  Notes \n",
      "     838       519.406   0.000393843        10.313    5.04e-05       0.001     1271  LS failed, Hessian reset \n",
      "     859        519.41   1.78512e-05        6.0428   2.537e-06       0.001     1332  LS failed, Hessian reset \n",
      "     899        519.41   3.66073e-05       5.12669           1           1     1389   \n",
      "    Iter      log prob        ||dx||      ||grad||       alpha      alpha0  # evals  Notes \n",
      "     999       519.507    0.00102353       6.10074           1           1     1523   \n",
      "    Iter      log prob        ||dx||      ||grad||       alpha      alpha0  # evals  Notes \n",
      "    1077       519.527   9.04014e-05       7.03545   1.201e-05       0.001     1669  LS failed, Hessian reset \n",
      "    1099       519.528   1.83673e-05       6.37841           1           1     1699   \n",
      "    Iter      log prob        ||dx||      ||grad||       alpha      alpha0  # evals  Notes \n",
      "    1139       519.529    4.5358e-05       7.22612   8.711e-06       0.001     1786  LS failed, Hessian reset \n",
      "    1164        519.53   4.72958e-07       4.23826      0.2895           1     1822   \n",
      "Optimization terminated normally: \n",
      "  Convergence detected: relative gradient magnitude is below tolerance\n"
     ]
    },
    {
     "name": "stderr",
     "output_type": "stream",
     "text": [
      "INFO:prophet:Disabling yearly seasonality. Run prophet with yearly_seasonality=True to override this.\n",
      "INFO:prophet:Disabling daily seasonality. Run prophet with daily_seasonality=True to override this.\n"
     ]
    },
    {
     "name": "stdout",
     "output_type": "stream",
     "text": [
      "5 - G4500150: 2.46649142797105 seconds\n",
      "Initial log joint probability = -5.82539\n",
      "    Iter      log prob        ||dx||      ||grad||       alpha      alpha0  # evals  Notes \n",
      "      99       762.771    0.00165363       86.0919      0.2359      0.2359      118   \n",
      "    Iter      log prob        ||dx||      ||grad||       alpha      alpha0  # evals  Notes \n",
      "     199       767.704    0.00322506       31.6763           1           1      225   \n",
      "    Iter      log prob        ||dx||      ||grad||       alpha      alpha0  # evals  Notes \n",
      "     299       769.256     0.0512215       37.8793           1           1      349   \n",
      "    Iter      log prob        ||dx||      ||grad||       alpha      alpha0  # evals  Notes \n",
      "     361       770.775   0.000208375       26.9424   6.398e-06       0.001      463  LS failed, Hessian reset \n",
      "     399       771.396    0.00762028       24.1765           1           1      510   \n",
      "    Iter      log prob        ||dx||      ||grad||       alpha      alpha0  # evals  Notes \n",
      "     475       771.535   9.69342e-05       12.6337   8.848e-06       0.001      637  LS failed, Hessian reset \n",
      "     499       771.554   9.42582e-05       10.5399           1           1      667   \n",
      "    Iter      log prob        ||dx||      ||grad||       alpha      alpha0  # evals  Notes \n",
      "     599       771.922    0.00200781       23.4333      0.7373      0.7373      786   \n",
      "    Iter      log prob        ||dx||      ||grad||       alpha      alpha0  # evals  Notes \n",
      "     699       772.422    0.00107892       13.8378           1           1      904   \n",
      "    Iter      log prob        ||dx||      ||grad||       alpha      alpha0  # evals  Notes \n",
      "     731       772.492   8.36986e-05       11.0911     7.1e-06       0.001      981  LS failed, Hessian reset \n",
      "     769       772.506   7.67263e-05       8.64245   1.286e-05       0.001     1060  LS failed, Hessian reset \n",
      "     794       772.507    2.0949e-07       5.95578      0.3783      0.3783     1090   \n",
      "Optimization terminated normally: \n",
      "  Convergence detected: relative gradient magnitude is below tolerance\n"
     ]
    },
    {
     "name": "stderr",
     "output_type": "stream",
     "text": [
      "INFO:prophet:Disabling yearly seasonality. Run prophet with yearly_seasonality=True to override this.\n",
      "INFO:prophet:Disabling daily seasonality. Run prophet with daily_seasonality=True to override this.\n"
     ]
    },
    {
     "name": "stdout",
     "output_type": "stream",
     "text": [
      "6 - G2900510: 2.231793763116002 seconds\n",
      "Initial log joint probability = -6.36303\n",
      "    Iter      log prob        ||dx||      ||grad||       alpha      alpha0  # evals  Notes \n",
      "      99       728.407     0.0195646       34.2273           1           1      122   \n",
      "    Iter      log prob        ||dx||      ||grad||       alpha      alpha0  # evals  Notes \n",
      "     199       734.244     0.0039824       9.83978           1           1      234   \n",
      "    Iter      log prob        ||dx||      ||grad||       alpha      alpha0  # evals  Notes \n",
      "     261       735.219   0.000704313       33.5033   4.667e-05       0.001      344  LS failed, Hessian reset \n",
      "     299       735.633    0.00178482       24.7979           1           1      391   \n",
      "    Iter      log prob        ||dx||      ||grad||       alpha      alpha0  # evals  Notes \n",
      "     399       737.499    0.00131426       20.5083       0.118      0.5028      503   \n",
      "    Iter      log prob        ||dx||      ||grad||       alpha      alpha0  # evals  Notes \n",
      "     481       737.951   8.24069e-05       8.78448   6.737e-06       0.001      646  LS failed, Hessian reset \n",
      "     499       737.969   0.000194985       7.53574       0.719       0.719      670   \n",
      "    Iter      log prob        ||dx||      ||grad||       alpha      alpha0  # evals  Notes \n",
      "     509       737.974   7.62591e-05       9.23111   8.247e-06       0.001      717  LS failed, Hessian reset \n",
      "     534       737.977   1.46032e-05        7.0667   1.983e-06       0.001      779  LS failed, Hessian reset \n",
      "     548       737.977   2.12977e-07       6.51794      0.1606           1      799   \n",
      "Optimization terminated normally: \n",
      "  Convergence detected: relative gradient magnitude is below tolerance\n"
     ]
    },
    {
     "name": "stderr",
     "output_type": "stream",
     "text": [
      "INFO:prophet:Disabling yearly seasonality. Run prophet with yearly_seasonality=True to override this.\n",
      "INFO:prophet:Disabling daily seasonality. Run prophet with daily_seasonality=True to override this.\n"
     ]
    },
    {
     "name": "stdout",
     "output_type": "stream",
     "text": [
      "7 - G3700710: 2.3712867500726134 seconds\n",
      "Initial log joint probability = -7.18278\n",
      "    Iter      log prob        ||dx||      ||grad||       alpha      alpha0  # evals  Notes \n",
      "      99       564.771    0.00378951       79.2453      0.1841           1      128   \n",
      "    Iter      log prob        ||dx||      ||grad||       alpha      alpha0  # evals  Notes \n",
      "     199       566.841    0.00442105       13.9983      0.5572      0.5572      259   \n",
      "    Iter      log prob        ||dx||      ||grad||       alpha      alpha0  # evals  Notes \n",
      "     299       567.783    0.00981387       20.6355           1           1      380   \n",
      "    Iter      log prob        ||dx||      ||grad||       alpha      alpha0  # evals  Notes \n",
      "     399       568.126   0.000249752       8.65436      0.3511      0.3511      500   \n",
      "    Iter      log prob        ||dx||      ||grad||       alpha      alpha0  # evals  Notes \n",
      "     487        568.29   0.000448351       17.9715   2.987e-05       0.001      685  LS failed, Hessian reset \n",
      "     499       568.398     0.0056593        24.194           1           1      697   \n",
      "    Iter      log prob        ||dx||      ||grad||       alpha      alpha0  # evals  Notes \n",
      "     599       568.454   3.12117e-05        6.9525       0.445       0.445      822   \n",
      "    Iter      log prob        ||dx||      ||grad||       alpha      alpha0  # evals  Notes \n",
      "     699       568.474   1.05228e-05       8.24681           1           1      942   \n",
      "    Iter      log prob        ||dx||      ||grad||       alpha      alpha0  # evals  Notes \n",
      "     713       568.474   3.42073e-07       6.43864      0.4338           1      960   \n",
      "Optimization terminated normally: \n",
      "  Convergence detected: relative gradient magnitude is below tolerance\n"
     ]
    },
    {
     "name": "stderr",
     "output_type": "stream",
     "text": [
      "INFO:prophet:Disabling yearly seasonality. Run prophet with yearly_seasonality=True to override this.\n",
      "INFO:prophet:Disabling daily seasonality. Run prophet with daily_seasonality=True to override this.\n"
     ]
    },
    {
     "name": "stdout",
     "output_type": "stream",
     "text": [
      "8 - G5101250: 2.1724948761984706 seconds\n",
      "Initial log joint probability = -4.81605\n",
      "    Iter      log prob        ||dx||      ||grad||       alpha      alpha0  # evals  Notes \n",
      "      99       642.052    0.00154099       25.2658      0.4708      0.4708      112   \n",
      "    Iter      log prob        ||dx||      ||grad||       alpha      alpha0  # evals  Notes \n",
      "     158       642.657   0.000198607       9.80163   8.795e-06       0.001      219  LS failed, Hessian reset \n",
      "     199       642.844    0.00447081       25.9096      0.6282      0.6282      268   \n",
      "    Iter      log prob        ||dx||      ||grad||       alpha      alpha0  # evals  Notes \n",
      "     273       642.981    0.00057685       27.0241   3.106e-05       0.001      404  LS failed, Hessian reset \n",
      "     299        643.04   0.000652653       8.62524           1           1      433   \n",
      "    Iter      log prob        ||dx||      ||grad||       alpha      alpha0  # evals  Notes \n",
      "     395       643.409   0.000181967       12.0509   1.148e-05       0.001      586  LS failed, Hessian reset \n",
      "     399        643.47   0.000902443       9.63334      0.6277      0.6277      591   \n",
      "    Iter      log prob        ||dx||      ||grad||       alpha      alpha0  # evals  Notes \n",
      "     464       643.667   0.000100641       9.79606   1.185e-05       0.001      703  LS failed, Hessian reset \n",
      "     499       643.672   1.02447e-05       8.35441      0.1833           1      752   \n",
      "    Iter      log prob        ||dx||      ||grad||       alpha      alpha0  # evals  Notes \n",
      "     528       643.672   9.55041e-07        8.0335     0.05723           1      791   \n",
      "Optimization terminated normally: \n",
      "  Convergence detected: relative gradient magnitude is below tolerance\n"
     ]
    },
    {
     "name": "stderr",
     "output_type": "stream",
     "text": [
      "INFO:prophet:Disabling yearly seasonality. Run prophet with yearly_seasonality=True to override this.\n",
      "INFO:prophet:Disabling daily seasonality. Run prophet with daily_seasonality=True to override this.\n"
     ]
    },
    {
     "name": "stdout",
     "output_type": "stream",
     "text": [
      "9 - G4803370: 2.0495511209592223 seconds\n",
      "Initial log joint probability = -9.4064\n",
      "    Iter      log prob        ||dx||      ||grad||       alpha      alpha0  # evals  Notes \n",
      "      99       618.141    0.00681169       37.5818      0.8544      0.8544      122   \n",
      "    Iter      log prob        ||dx||      ||grad||       alpha      alpha0  # evals  Notes \n",
      "     199        626.39     0.0673621       42.7374       4.262      0.4262      243   \n",
      "    Iter      log prob        ||dx||      ||grad||       alpha      alpha0  # evals  Notes \n",
      "     299        629.97    0.00361722       11.0636      0.7955      0.7955      363   \n",
      "    Iter      log prob        ||dx||      ||grad||       alpha      alpha0  # evals  Notes \n",
      "     399       630.494   5.37114e-06       6.70745      0.8221      0.8221      499   \n",
      "    Iter      log prob        ||dx||      ||grad||       alpha      alpha0  # evals  Notes \n",
      "     499       630.771     0.0465571       12.3559           1           1      621   \n",
      "    Iter      log prob        ||dx||      ||grad||       alpha      alpha0  # evals  Notes \n",
      "     502       630.779    0.00020161       13.0442   1.599e-05       0.001      675  LS failed, Hessian reset \n",
      "     599       630.926    0.00668635       8.08438           1           1      796   \n",
      "    Iter      log prob        ||dx||      ||grad||       alpha      alpha0  # evals  Notes \n",
      "     699       630.987   4.02483e-06       7.15289           1           1      939   \n",
      "    Iter      log prob        ||dx||      ||grad||       alpha      alpha0  # evals  Notes \n",
      "     715       630.987   9.32115e-06       7.21531    1.18e-06       0.001     1000  LS failed, Hessian reset \n",
      "     723       630.987   6.01425e-07       4.86192        1.01       0.101     1011   \n",
      "Optimization terminated normally: \n",
      "  Convergence detected: relative gradient magnitude is below tolerance\n"
     ]
    },
    {
     "name": "stderr",
     "output_type": "stream",
     "text": [
      "INFO:prophet:Disabling yearly seasonality. Run prophet with yearly_seasonality=True to override this.\n",
      "INFO:prophet:Disabling daily seasonality. Run prophet with daily_seasonality=True to override this.\n"
     ]
    },
    {
     "name": "stdout",
     "output_type": "stream",
     "text": [
      "10 - G2400450: 2.409440463874489 seconds\n",
      "Initial log joint probability = -5.0394\n",
      "    Iter      log prob        ||dx||      ||grad||       alpha      alpha0  # evals  Notes \n",
      "      99       611.947     0.0286079       33.8406           1           1      128   \n",
      "    Iter      log prob        ||dx||      ||grad||       alpha      alpha0  # evals  Notes \n",
      "     199       613.106   0.000559078       8.81029      0.9797      0.9797      261   \n",
      "    Iter      log prob        ||dx||      ||grad||       alpha      alpha0  # evals  Notes \n",
      "     276       613.253   0.000197754       11.4551   1.721e-05       0.001      389  LS failed, Hessian reset \n",
      "     299       613.273   0.000401451        6.4025           1           1      414   \n",
      "    Iter      log prob        ||dx||      ||grad||       alpha      alpha0  # evals  Notes \n",
      "     369       613.527   0.000463579       24.7467   1.656e-05       0.001      579  LS failed, Hessian reset \n",
      "     399       613.836   0.000486876       5.90727       0.739       0.739      619   \n",
      "    Iter      log prob        ||dx||      ||grad||       alpha      alpha0  # evals  Notes \n",
      "     474       613.894   7.25378e-05       5.23335   8.816e-06       0.001      753  LS failed, Hessian reset \n",
      "     499       613.894   4.98745e-06       6.00161      0.4098      0.4098      786   \n",
      "    Iter      log prob        ||dx||      ||grad||       alpha      alpha0  # evals  Notes \n",
      "     552       613.929   0.000629881       21.0975   8.311e-05       0.001      891  LS failed, Hessian reset \n",
      "     599       613.973   3.04692e-05       6.55593      0.4534      0.4534      954   \n",
      "    Iter      log prob        ||dx||      ||grad||       alpha      alpha0  # evals  Notes \n",
      "     654       613.983   0.000123824       8.01939   1.424e-05       0.001     1061  LS failed, Hessian reset \n",
      "     699       613.984    9.6392e-06       7.07678           1           1     1121   \n",
      "    Iter      log prob        ||dx||      ||grad||       alpha      alpha0  # evals  Notes \n",
      "     745       614.002   0.000322024       16.5163   2.605e-05       0.001     1210  LS failed, Hessian reset \n",
      "     799       614.022   7.89116e-05       7.17865      0.4518           1     1275   \n",
      "    Iter      log prob        ||dx||      ||grad||       alpha      alpha0  # evals  Notes \n",
      "     800       614.022   3.17538e-05        6.7451   4.423e-06       0.001     1308  LS failed, Hessian reset \n",
      "     850       614.024   0.000113487       6.90575   1.385e-05       0.001     1406  LS failed, Hessian reset \n",
      "     891       614.025   2.28253e-08       6.45675     0.06961           1     1463   \n",
      "Optimization terminated normally: \n",
      "  Convergence detected: relative gradient magnitude is below tolerance\n"
     ]
    },
    {
     "name": "stderr",
     "output_type": "stream",
     "text": [
      "INFO:prophet:Disabling yearly seasonality. Run prophet with yearly_seasonality=True to override this.\n",
      "INFO:prophet:Disabling daily seasonality. Run prophet with daily_seasonality=True to override this.\n"
     ]
    },
    {
     "name": "stdout",
     "output_type": "stream",
     "text": [
      "11 - G2901810: 2.1146526078227907 seconds\n",
      "Initial log joint probability = -7.85598\n",
      "    Iter      log prob        ||dx||      ||grad||       alpha      alpha0  # evals  Notes \n",
      "      99       513.737     0.0134634       23.6486           1           1      114   \n",
      "    Iter      log prob        ||dx||      ||grad||       alpha      alpha0  # evals  Notes \n",
      "     110       514.082   0.000705039       24.1111   3.431e-05       0.001      155  LS failed, Hessian reset \n",
      "     199       515.673     0.0460317       13.0159           1           1      263   \n",
      "    Iter      log prob        ||dx||      ||grad||       alpha      alpha0  # evals  Notes \n",
      "     201       515.714   0.000634827        20.447   4.436e-05       0.001      303  LS failed, Hessian reset \n",
      "     253       515.982   0.000863971         16.77   0.0001083       0.001      405  LS failed, Hessian reset \n",
      "     281       515.995   5.01282e-05       7.46935   7.201e-06       0.001      477  LS failed, Hessian reset \n",
      "     299       515.995   1.67365e-06       5.20583      0.4824      0.4824      500   \n",
      "    Iter      log prob        ||dx||      ||grad||       alpha      alpha0  # evals  Notes \n",
      "     304       515.995   1.15246e-07       7.14625      0.0609           1      508   \n",
      "Optimization terminated normally: \n",
      "  Convergence detected: relative gradient magnitude is below tolerance\n"
     ]
    },
    {
     "name": "stderr",
     "output_type": "stream",
     "text": [
      "INFO:prophet:Disabling yearly seasonality. Run prophet with yearly_seasonality=True to override this.\n",
      "INFO:prophet:Disabling daily seasonality. Run prophet with daily_seasonality=True to override this.\n"
     ]
    },
    {
     "name": "stdout",
     "output_type": "stream",
     "text": [
      "12 - G5400050: 2.0064775079954416 seconds\n",
      "Initial log joint probability = -7.61299\n",
      "    Iter      log prob        ||dx||      ||grad||       alpha      alpha0  # evals  Notes \n",
      "      99       685.092     0.0526024       83.8349           1           1      116   \n",
      "    Iter      log prob        ||dx||      ||grad||       alpha      alpha0  # evals  Notes \n",
      "     199       688.864     0.0129125       14.4671           1           1      233   \n",
      "    Iter      log prob        ||dx||      ||grad||       alpha      alpha0  # evals  Notes \n",
      "     237       689.084   0.000204405       18.5209   1.154e-05       0.001      316  LS failed, Hessian reset \n",
      "     299       689.479    0.00285354       10.8431      0.9383      0.9383      391   \n",
      "    Iter      log prob        ||dx||      ||grad||       alpha      alpha0  # evals  Notes \n",
      "     356       689.926   9.44172e-05       9.01434   7.279e-06       0.001      497  LS failed, Hessian reset \n",
      "     399       690.088     0.0129231       24.6902      0.3892           1      554   \n",
      "    Iter      log prob        ||dx||      ||grad||       alpha      alpha0  # evals  Notes \n",
      "     499       690.452   0.000713775       7.65173      0.2859     0.02859      673   \n",
      "    Iter      log prob        ||dx||      ||grad||       alpha      alpha0  # evals  Notes \n",
      "     599       691.255    0.00248499        10.733           1           1      791   \n",
      "    Iter      log prob        ||dx||      ||grad||       alpha      alpha0  # evals  Notes \n",
      "     699       691.554     0.0031951       23.2094           1           1      922   \n",
      "    Iter      log prob        ||dx||      ||grad||       alpha      alpha0  # evals  Notes \n",
      "     799       691.825   0.000840084       6.43324      0.4696      0.4696     1050   \n",
      "    Iter      log prob        ||dx||      ||grad||       alpha      alpha0  # evals  Notes \n",
      "     801       691.827   9.65581e-05       8.36616   1.562e-05       0.001     1091  LS failed, Hessian reset \n",
      "     891        691.84   5.22572e-13       7.12917   1.542e-09           1     1245   \n",
      "Optimization terminated normally: \n",
      "  Convergence detected: absolute change in objective function was below tolerance\n"
     ]
    },
    {
     "name": "stderr",
     "output_type": "stream",
     "text": [
      "INFO:prophet:Disabling yearly seasonality. Run prophet with yearly_seasonality=True to override this.\n",
      "INFO:prophet:Disabling daily seasonality. Run prophet with daily_seasonality=True to override this.\n"
     ]
    },
    {
     "name": "stdout",
     "output_type": "stream",
     "text": [
      "13 - G2400150: 2.3704735999926925 seconds\n",
      "Initial log joint probability = -7.48528\n",
      "    Iter      log prob        ||dx||      ||grad||       alpha      alpha0  # evals  Notes \n",
      "      99       560.414    0.00571249       23.8531           1           1      118   \n",
      "    Iter      log prob        ||dx||      ||grad||       alpha      alpha0  # evals  Notes \n",
      "     143         561.9   0.000832778       33.3624   2.784e-05       0.001      202  LS failed, Hessian reset \n",
      "     160       562.095   0.000310588       13.8109   2.763e-05       0.001      262  LS failed, Hessian reset \n",
      "     199       562.184   0.000729598       8.00284           1           1      315   \n",
      "    Iter      log prob        ||dx||      ||grad||       alpha      alpha0  # evals  Notes \n",
      "     299        562.93     0.0112416       15.2973      0.6842      0.6842      429   \n",
      "    Iter      log prob        ||dx||      ||grad||       alpha      alpha0  # evals  Notes \n",
      "     316       563.366    0.00152463       32.2306   0.0001246       0.001      483  LS failed, Hessian reset \n",
      "     399       564.066   0.000976983       6.76209       1.987     0.01987      589   \n",
      "    Iter      log prob        ||dx||      ||grad||       alpha      alpha0  # evals  Notes \n",
      "     422       564.093   0.000698406       15.1844   9.438e-05       0.001      651  LS failed, Hessian reset \n",
      "     499       564.195    0.00267114       10.9009      0.5567      0.5567      740   \n",
      "    Iter      log prob        ||dx||      ||grad||       alpha      alpha0  # evals  Notes \n",
      "     547       564.308   2.57812e-05       6.05352   3.879e-06       0.001      840  LS failed, Hessian reset \n",
      "     599       564.321   7.63747e-06       7.19988       1.653           1      910   \n",
      "    Iter      log prob        ||dx||      ||grad||       alpha      alpha0  # evals  Notes \n",
      "     699       564.337   0.000162907       9.33493     0.07491           1     1033   \n",
      "    Iter      log prob        ||dx||      ||grad||       alpha      alpha0  # evals  Notes \n",
      "     745       564.338   9.67902e-06       8.94996   1.187e-06       0.001     1133  LS failed, Hessian reset \n",
      "     756       564.338   4.02839e-07       7.35186      0.2032           1     1147   \n",
      "Optimization terminated normally: \n",
      "  Convergence detected: relative gradient magnitude is below tolerance\n"
     ]
    },
    {
     "name": "stderr",
     "output_type": "stream",
     "text": [
      "INFO:prophet:Disabling yearly seasonality. Run prophet with yearly_seasonality=True to override this.\n",
      "INFO:prophet:Disabling daily seasonality. Run prophet with daily_seasonality=True to override this.\n"
     ]
    },
    {
     "name": "stdout",
     "output_type": "stream",
     "text": [
      "14 - G5400090: 2.388486531097442 seconds\n",
      "Initial log joint probability = -5.29663\n",
      "    Iter      log prob        ||dx||      ||grad||       alpha      alpha0  # evals  Notes \n",
      "      99       674.888     0.0267217       83.0243      0.2896           1      125   \n",
      "    Iter      log prob        ||dx||      ||grad||       alpha      alpha0  # evals  Notes \n",
      "     199       678.108     0.0121146       26.1862      0.2529      0.7404      235   \n",
      "    Iter      log prob        ||dx||      ||grad||       alpha      alpha0  # evals  Notes \n",
      "     299       678.696    0.00138632       11.1227      0.2816           1      363   \n",
      "    Iter      log prob        ||dx||      ||grad||       alpha      alpha0  # evals  Notes \n",
      "     310       678.861     0.0020731       53.0913   0.0001488       0.001      411  LS failed, Hessian reset \n",
      "     399       679.067   5.10426e-05       7.71827           1           1      514   \n",
      "    Iter      log prob        ||dx||      ||grad||       alpha      alpha0  # evals  Notes \n",
      "     423       679.081   0.000693676       17.9094   9.808e-05       0.001      596  LS failed, Hessian reset \n",
      "     499       679.103   2.06626e-05       5.75965      0.4255      0.4255      693   \n",
      "    Iter      log prob        ||dx||      ||grad||       alpha      alpha0  # evals  Notes \n",
      "     535       679.104   4.13304e-07         6.609           1           1      751   \n",
      "Optimization terminated normally: \n",
      "  Convergence detected: relative gradient magnitude is below tolerance\n"
     ]
    },
    {
     "name": "stderr",
     "output_type": "stream",
     "text": [
      "INFO:prophet:Disabling yearly seasonality. Run prophet with yearly_seasonality=True to override this.\n",
      "INFO:prophet:Disabling daily seasonality. Run prophet with daily_seasonality=True to override this.\n"
     ]
    },
    {
     "name": "stdout",
     "output_type": "stream",
     "text": [
      "15 - G2601570: 2.0302198329009116 seconds\n",
      "Initial log joint probability = -9.70278\n",
      "    Iter      log prob        ||dx||      ||grad||       alpha      alpha0  # evals  Notes \n",
      "      99       526.795     0.0172952       16.0623           1           1      128   \n",
      "    Iter      log prob        ||dx||      ||grad||       alpha      alpha0  # evals  Notes \n",
      "     146       526.974   0.000320232       11.7863   2.845e-05       0.001      239  LS failed, Hessian reset \n",
      "     199       526.985   0.000591407       4.99733       2.007      0.6005      312   \n",
      "    Iter      log prob        ||dx||      ||grad||       alpha      alpha0  # evals  Notes \n",
      "     227       527.027    0.00166384       10.3853   0.0002388       0.001      402  LS failed, Hessian reset \n",
      "     299       527.067   0.000182694        4.7911      0.5915      0.5915      498   \n",
      "    Iter      log prob        ||dx||      ||grad||       alpha      alpha0  # evals  Notes \n",
      "     318       527.069   1.36155e-05       7.20755   2.072e-06       0.001      563  LS failed, Hessian reset \n",
      "     398       527.085   0.000193212       6.49943   2.034e-05       0.001      707  LS failed, Hessian reset \n",
      "     399       527.086   0.000115727       6.68151           1           1      708   \n",
      "    Iter      log prob        ||dx||      ||grad||       alpha      alpha0  # evals  Notes \n",
      "     499       527.093   1.82566e-06       6.63424           1           1      846   \n",
      "    Iter      log prob        ||dx||      ||grad||       alpha      alpha0  # evals  Notes \n",
      "     599       527.099    2.2862e-06       6.47213       0.368       0.368      971   \n",
      "    Iter      log prob        ||dx||      ||grad||       alpha      alpha0  # evals  Notes \n",
      "     610       527.099   2.18654e-05        6.4431   3.118e-06       0.001     1025  LS failed, Hessian reset \n",
      "     627       527.099   6.24574e-07        4.8948    0.008381      0.7288     1050   \n",
      "Optimization terminated normally: \n",
      "  Convergence detected: relative gradient magnitude is below tolerance\n"
     ]
    },
    {
     "name": "stderr",
     "output_type": "stream",
     "text": [
      "INFO:prophet:Disabling yearly seasonality. Run prophet with yearly_seasonality=True to override this.\n",
      "INFO:prophet:Disabling daily seasonality. Run prophet with daily_seasonality=True to override this.\n"
     ]
    },
    {
     "name": "stdout",
     "output_type": "stream",
     "text": [
      "16 - G2902090: 2.045410396065563 seconds\n",
      "Initial log joint probability = -3.95016\n",
      "    Iter      log prob        ||dx||      ||grad||       alpha      alpha0  # evals  Notes \n",
      "      99       727.634     0.0264815       93.6533           1           1      125   \n",
      "    Iter      log prob        ||dx||      ||grad||       alpha      alpha0  # evals  Notes \n",
      "     199       732.035    0.00336702       22.2518           1           1      245   \n",
      "    Iter      log prob        ||dx||      ||grad||       alpha      alpha0  # evals  Notes \n",
      "     299       732.335    0.00140216       11.2855      0.3755           1      385   \n",
      "    Iter      log prob        ||dx||      ||grad||       alpha      alpha0  # evals  Notes \n",
      "     399       732.816    0.00319009       21.2435           1           1      502   \n",
      "    Iter      log prob        ||dx||      ||grad||       alpha      alpha0  # evals  Notes \n",
      "     438       732.895   0.000141016       13.4269   1.236e-05       0.001      586  LS failed, Hessian reset \n",
      "     488       732.907   6.58105e-07       7.61684      0.3063           1      655   \n",
      "Optimization terminated normally: \n",
      "  Convergence detected: relative gradient magnitude is below tolerance\n"
     ]
    },
    {
     "name": "stderr",
     "output_type": "stream",
     "text": [
      "INFO:prophet:Disabling yearly seasonality. Run prophet with yearly_seasonality=True to override this.\n",
      "INFO:prophet:Disabling daily seasonality. Run prophet with daily_seasonality=True to override this.\n"
     ]
    },
    {
     "name": "stdout",
     "output_type": "stream",
     "text": [
      "17 - G4000190: 2.111745137022808 seconds\n",
      "Initial log joint probability = -11.5151\n",
      "    Iter      log prob        ||dx||      ||grad||       alpha      alpha0  # evals  Notes \n",
      "      99       607.948     0.0103235       23.5976           1           1      119   \n",
      "    Iter      log prob        ||dx||      ||grad||       alpha      alpha0  # evals  Notes \n",
      "     199       610.792    0.00791721       37.0147           1           1      241   \n",
      "    Iter      log prob        ||dx||      ||grad||       alpha      alpha0  # evals  Notes \n",
      "     277       611.899   0.000289586       16.9796   1.678e-05       0.001      366  LS failed, Hessian reset \n",
      "     299       612.103   0.000592742       7.87029      0.8549      0.8549      396   \n",
      "    Iter      log prob        ||dx||      ||grad||       alpha      alpha0  # evals  Notes \n",
      "     399        612.26      0.038801       11.0383           1           1      522   \n",
      "    Iter      log prob        ||dx||      ||grad||       alpha      alpha0  # evals  Notes \n",
      "     499       612.542   0.000323939       5.94861           1           1      651   \n",
      "    Iter      log prob        ||dx||      ||grad||       alpha      alpha0  # evals  Notes \n",
      "     521        612.56   0.000101679        8.3327   1.351e-05       0.001      715  LS failed, Hessian reset \n",
      "     557       612.592   0.000363805       19.1166   3.924e-05       0.001      803  LS failed, Hessian reset \n",
      "     599       612.626    0.00381913       11.6136           1           1      859   \n",
      "    Iter      log prob        ||dx||      ||grad||       alpha      alpha0  # evals  Notes \n",
      "     611       612.656   0.000145009       8.24934   1.334e-05       0.001      916  LS failed, Hessian reset \n",
      "     699       612.709   0.000232517       5.43479      0.9777      0.9777     1026   \n",
      "    Iter      log prob        ||dx||      ||grad||       alpha      alpha0  # evals  Notes \n",
      "     799       612.732   1.32716e-05       7.11019      0.2425      0.6298     1156   \n",
      "    Iter      log prob        ||dx||      ||grad||       alpha      alpha0  # evals  Notes \n",
      "     810       612.733    7.1221e-05       6.47542   7.836e-06       0.001     1205  LS failed, Hessian reset \n",
      "     850       612.734   1.13281e-07       4.43208      0.2446      0.7205     1264   \n",
      "Optimization terminated normally: \n",
      "  Convergence detected: relative gradient magnitude is below tolerance\n"
     ]
    },
    {
     "name": "stderr",
     "output_type": "stream",
     "text": [
      "INFO:prophet:Disabling yearly seasonality. Run prophet with yearly_seasonality=True to override this.\n",
      "INFO:prophet:Disabling daily seasonality. Run prophet with daily_seasonality=True to override this.\n"
     ]
    },
    {
     "name": "stdout",
     "output_type": "stream",
     "text": [
      "18 - G3900330: 2.0938520890194923 seconds\n",
      "Initial log joint probability = -10.7893\n",
      "    Iter      log prob        ||dx||      ||grad||       alpha      alpha0  # evals  Notes \n",
      "      99       576.558     0.0379539        58.949      0.5243      0.5243      114   \n",
      "    Iter      log prob        ||dx||      ||grad||       alpha      alpha0  # evals  Notes \n",
      "     199       582.942      0.010386       21.0468           1           1      234   \n",
      "    Iter      log prob        ||dx||      ||grad||       alpha      alpha0  # evals  Notes \n",
      "     299       585.824     0.0131727       25.7595      0.3975           1      355   \n",
      "    Iter      log prob        ||dx||      ||grad||       alpha      alpha0  # evals  Notes \n",
      "     301       585.829   0.000269508       11.0346   1.191e-05       0.001      393  LS failed, Hessian reset \n",
      "     334       586.106   0.000278999       9.32566   1.073e-05       0.001      465  LS failed, Hessian reset \n",
      "     378       586.798   0.000472817       24.4819   2.213e-05       0.001      572  LS failed, Hessian reset \n",
      "     399       587.183   0.000975982       7.42693           1           1      600   \n",
      "    Iter      log prob        ||dx||      ||grad||       alpha      alpha0  # evals  Notes \n",
      "     448       587.363   0.000130277       9.38079   1.594e-05       0.001      690  LS failed, Hessian reset \n",
      "     499       587.405   0.000861671       6.87405       0.285           1      757   \n",
      "    Iter      log prob        ||dx||      ||grad||       alpha      alpha0  # evals  Notes \n",
      "     518       587.414   8.42766e-05       5.44402   1.495e-05       0.001      816  LS failed, Hessian reset \n",
      "     540       587.415   4.73919e-06       6.36345   7.208e-07       0.001      882  LS failed, Hessian reset \n",
      "     560       587.415   5.00611e-07        5.3659     0.07121           1      912   \n",
      "Optimization terminated normally: \n",
      "  Convergence detected: relative gradient magnitude is below tolerance\n"
     ]
    },
    {
     "name": "stderr",
     "output_type": "stream",
     "text": [
      "INFO:prophet:Disabling yearly seasonality. Run prophet with yearly_seasonality=True to override this.\n",
      "INFO:prophet:Disabling daily seasonality. Run prophet with daily_seasonality=True to override this.\n"
     ]
    },
    {
     "name": "stdout",
     "output_type": "stream",
     "text": [
      "19 - G3200070: 2.289964532945305 seconds\n",
      "Initial log joint probability = -3.67134\n",
      "    Iter      log prob        ||dx||      ||grad||       alpha      alpha0  # evals  Notes \n",
      "      99       693.087     0.0063301       28.6998      0.1809           1      123   \n",
      "    Iter      log prob        ||dx||      ||grad||       alpha      alpha0  # evals  Notes \n",
      "     199        693.68    0.00183096       20.2626      0.2908           1      248   \n",
      "    Iter      log prob        ||dx||      ||grad||       alpha      alpha0  # evals  Notes \n",
      "     259       693.847    0.00012978       12.0715   1.217e-05       0.001      364  LS failed, Hessian reset \n",
      "     298       693.889   0.000264392       21.3735   2.278e-05       0.001      452  LS failed, Hessian reset \n",
      "     299        693.89   9.37385e-05       10.6676           1           1      453   \n",
      "    Iter      log prob        ||dx||      ||grad||       alpha      alpha0  # evals  Notes \n",
      "     324       693.894   5.06488e-05       8.50141   5.629e-06       0.001      521  LS failed, Hessian reset \n",
      "     350       693.895   6.75159e-07       7.97122           1           1      554   \n",
      "Optimization terminated normally: \n",
      "  Convergence detected: relative gradient magnitude is below tolerance\n"
     ]
    },
    {
     "name": "stderr",
     "output_type": "stream",
     "text": [
      "INFO:prophet:Disabling yearly seasonality. Run prophet with yearly_seasonality=True to override this.\n",
      "INFO:prophet:Disabling daily seasonality. Run prophet with daily_seasonality=True to override this.\n"
     ]
    },
    {
     "name": "stdout",
     "output_type": "stream",
     "text": [
      "20 - G4900190: 2.3514726739376783 seconds\n",
      "Initial log joint probability = -5.09606\n",
      "    Iter      log prob        ||dx||      ||grad||       alpha      alpha0  # evals  Notes \n",
      "      99       615.882     0.0140878       155.902      0.5867      0.5867      121   \n",
      "    Iter      log prob        ||dx||      ||grad||       alpha      alpha0  # evals  Notes \n",
      "     199       638.184      0.130255       62.1503           1           1      235   \n",
      "    Iter      log prob        ||dx||      ||grad||       alpha      alpha0  # evals  Notes \n",
      "     299        648.06    0.00731489       47.4061      0.3732      0.9368      350   \n",
      "    Iter      log prob        ||dx||      ||grad||       alpha      alpha0  # evals  Notes \n",
      "     399       651.827     0.0101801       35.9812       0.561           1      472   \n",
      "    Iter      log prob        ||dx||      ||grad||       alpha      alpha0  # evals  Notes \n",
      "     499       654.735     0.0408471       23.6422           1           1      583   \n",
      "    Iter      log prob        ||dx||      ||grad||       alpha      alpha0  # evals  Notes \n",
      "     599       659.992    0.00112117       22.2917           1           1      701   \n",
      "    Iter      log prob        ||dx||      ||grad||       alpha      alpha0  # evals  Notes \n",
      "     699       661.961    0.00315341       22.0946      0.9241      0.9241      814   \n",
      "    Iter      log prob        ||dx||      ||grad||       alpha      alpha0  # evals  Notes \n",
      "     799       662.541    0.00503676       15.7208      0.7187      0.7187      933   \n",
      "    Iter      log prob        ||dx||      ||grad||       alpha      alpha0  # evals  Notes \n",
      "     885       662.867   0.000255384       24.6992   1.118e-05       0.001     1073  LS failed, Hessian reset \n",
      "     899       662.914    0.00050688       13.6609      0.9328      0.9328     1088   \n",
      "    Iter      log prob        ||dx||      ||grad||       alpha      alpha0  # evals  Notes \n",
      "     945        663.01   0.000104165       8.13201   5.041e-06       0.001     1181  LS failed, Hessian reset \n",
      "     999       663.088    0.00065064          7.85      0.8649      0.8649     1249   \n",
      "    Iter      log prob        ||dx||      ||grad||       alpha      alpha0  # evals  Notes \n",
      "    1043       663.112   8.95227e-05       10.0731   5.306e-06       0.001     1332  LS failed, Hessian reset \n",
      "    1099       663.116   0.000490211       11.2966           1           1     1397   \n",
      "    Iter      log prob        ||dx||      ||grad||       alpha      alpha0  # evals  Notes \n",
      "    1199       663.121    3.7341e-05       6.00158      0.1789           1     1516   \n",
      "    Iter      log prob        ||dx||      ||grad||       alpha      alpha0  # evals  Notes \n",
      "    1201       663.121   1.30494e-05       6.70599   2.594e-06       0.001     1562  LS failed, Hessian reset \n",
      "    1220       663.121   5.51077e-08       8.39328      0.0719           1     1585   \n",
      "Optimization terminated normally: \n",
      "  Convergence detected: relative gradient magnitude is below tolerance\n"
     ]
    },
    {
     "name": "stderr",
     "output_type": "stream",
     "text": [
      "INFO:prophet:Disabling yearly seasonality. Run prophet with yearly_seasonality=True to override this.\n",
      "INFO:prophet:Disabling daily seasonality. Run prophet with daily_seasonality=True to override this.\n"
     ]
    },
    {
     "name": "stdout",
     "output_type": "stream",
     "text": [
      "21 - G0201500: 2.4806347070261836 seconds\n",
      "Initial log joint probability = -7.7033\n",
      "    Iter      log prob        ||dx||      ||grad||       alpha      alpha0  # evals  Notes \n",
      "      99       650.318    0.00691126        22.744      0.4861      0.4861      124   \n",
      "    Iter      log prob        ||dx||      ||grad||       alpha      alpha0  # evals  Notes \n",
      "     199       652.826     0.0473659       22.4216           1           1      236   \n",
      "    Iter      log prob        ||dx||      ||grad||       alpha      alpha0  # evals  Notes \n",
      "     229       653.726   0.000122053       8.37533   1.824e-05       0.001      307  LS failed, Hessian reset \n",
      "     254       653.834   0.000138844       9.80094   1.197e-05       0.001      379  LS failed, Hessian reset \n",
      "     299       653.926    0.00117596       5.97464      0.6166      0.6166      432   \n",
      "    Iter      log prob        ||dx||      ||grad||       alpha      alpha0  # evals  Notes \n",
      "     306       653.975   0.000279025        17.186   2.753e-05       0.001      474  LS failed, Hessian reset \n",
      "     399       654.097     0.0216544       7.84647       0.336           1      592   \n",
      "    Iter      log prob        ||dx||      ||grad||       alpha      alpha0  # evals  Notes \n",
      "     403       654.111   0.000146474       6.68351   7.844e-06       0.001      630  LS failed, Hessian reset \n",
      "     486       654.195   0.000553915       8.04755   0.0001002       0.001      785  LS failed, Hessian reset \n",
      "     499       654.197   8.74737e-06       6.56978      0.1292      0.7031      804   \n",
      "    Iter      log prob        ||dx||      ||grad||       alpha      alpha0  # evals  Notes \n",
      "     516       654.197   5.30541e-07       5.38334     0.03576           1      832   \n",
      "Optimization terminated normally: \n",
      "  Convergence detected: relative gradient magnitude is below tolerance\n"
     ]
    },
    {
     "name": "stderr",
     "output_type": "stream",
     "text": [
      "INFO:prophet:Disabling yearly seasonality. Run prophet with yearly_seasonality=True to override this.\n",
      "INFO:prophet:Disabling daily seasonality. Run prophet with daily_seasonality=True to override this.\n"
     ]
    },
    {
     "name": "stdout",
     "output_type": "stream",
     "text": [
      "22 - G2800570: 2.2743246380705386 seconds\n",
      "Initial log joint probability = -6.45692\n",
      "    Iter      log prob        ||dx||      ||grad||       alpha      alpha0  # evals  Notes \n",
      "      99        612.19     0.0222129       19.2411           1           1      120   \n",
      "    Iter      log prob        ||dx||      ||grad||       alpha      alpha0  # evals  Notes \n",
      "     199       616.144     0.0575709       33.3276           1           1      236   \n",
      "    Iter      log prob        ||dx||      ||grad||       alpha      alpha0  # evals  Notes \n",
      "     299       617.758     0.0130577       42.3488           1           1      359   \n",
      "    Iter      log prob        ||dx||      ||grad||       alpha      alpha0  # evals  Notes \n",
      "     311       618.142   0.000613353        26.039   4.578e-05       0.001      409  LS failed, Hessian reset \n",
      "     399       619.021   0.000139515       6.32067      0.1876           1      528   \n",
      "    Iter      log prob        ||dx||      ||grad||       alpha      alpha0  # evals  Notes \n",
      "     499       619.232   0.000140964       6.69398           1           1      661   \n",
      "    Iter      log prob        ||dx||      ||grad||       alpha      alpha0  # evals  Notes \n",
      "     599       619.289    0.00113111       11.0196           1           1      785   \n",
      "    Iter      log prob        ||dx||      ||grad||       alpha      alpha0  # evals  Notes \n",
      "     666       619.312   4.15287e-05       7.98976   4.651e-06       0.001      905  LS failed, Hessian reset \n",
      "     696       619.312   3.71797e-08       7.78245     0.02657           1      952   \n",
      "Optimization terminated normally: \n",
      "  Convergence detected: relative gradient magnitude is below tolerance\n"
     ]
    },
    {
     "name": "stderr",
     "output_type": "stream",
     "text": [
      "INFO:prophet:Disabling yearly seasonality. Run prophet with yearly_seasonality=True to override this.\n",
      "INFO:prophet:Disabling daily seasonality. Run prophet with daily_seasonality=True to override this.\n"
     ]
    },
    {
     "name": "stdout",
     "output_type": "stream",
     "text": [
      "23 - G3100190: 2.6533663771115243 seconds\n",
      "Initial log joint probability = -11.9967\n",
      "    Iter      log prob        ||dx||      ||grad||       alpha      alpha0  # evals  Notes \n",
      "      99         626.1      0.163739       284.758           1           1      116   \n",
      "    Iter      log prob        ||dx||      ||grad||       alpha      alpha0  # evals  Notes \n",
      "     199        639.61     0.0413362       41.2213           1           1      225   \n",
      "    Iter      log prob        ||dx||      ||grad||       alpha      alpha0  # evals  Notes \n",
      "     299       645.908      0.048692       18.0008           1           1      342   \n",
      "    Iter      log prob        ||dx||      ||grad||       alpha      alpha0  # evals  Notes \n",
      "     399        648.05     0.0635897       158.991      0.4143           1      468   \n",
      "    Iter      log prob        ||dx||      ||grad||       alpha      alpha0  # evals  Notes \n",
      "     447       649.206   0.000493864       34.5943   1.099e-05       0.001      569  LS failed, Hessian reset \n",
      "     499       649.736    0.00273893       7.22749      0.3017      0.3017      643   \n",
      "    Iter      log prob        ||dx||      ||grad||       alpha      alpha0  # evals  Notes \n",
      "     505       649.842   0.000161188       11.8907   1.187e-05       0.001      686  LS failed, Hessian reset \n",
      "     517       649.903    0.00011707       7.89373   8.726e-06       0.001      737  LS failed, Hessian reset \n",
      "     599       650.063    0.00704061       7.87252       2.327      0.2327      849   \n",
      "    Iter      log prob        ||dx||      ||grad||       alpha      alpha0  # evals  Notes \n",
      "     605       650.076   0.000125335       9.53848   1.444e-05       0.001      892  LS failed, Hessian reset \n",
      "     699       650.278   0.000578887       9.07459           1           1     1012   \n",
      "    Iter      log prob        ||dx||      ||grad||       alpha      alpha0  # evals  Notes \n",
      "     799       650.627   0.000472901       8.05848      0.9344      0.9344     1136   \n",
      "    Iter      log prob        ||dx||      ||grad||       alpha      alpha0  # evals  Notes \n",
      "     887        650.84   0.000160834        11.353   1.704e-05       0.001     1293  LS failed, Hessian reset \n",
      "     899       650.849   0.000322348        7.7428           1           1     1308   \n",
      "    Iter      log prob        ||dx||      ||grad||       alpha      alpha0  # evals  Notes \n",
      "     999       651.007    0.00580778       15.6462           1           1     1429   \n",
      "    Iter      log prob        ||dx||      ||grad||       alpha      alpha0  # evals  Notes \n",
      "    1011       651.039   0.000115247       9.05235   1.172e-05       0.001     1485  LS failed, Hessian reset \n",
      "    1099       651.091        0.0011       7.73698      0.8673      0.8673     1602   \n",
      "    Iter      log prob        ||dx||      ||grad||       alpha      alpha0  # evals  Notes \n",
      "    1199       651.145   1.21947e-05       7.07919       1.128      0.1128     1745   \n",
      "    Iter      log prob        ||dx||      ||grad||       alpha      alpha0  # evals  Notes \n",
      "    1299       651.526     0.0229676       9.38458      0.8407      0.8407     1868   \n",
      "    Iter      log prob        ||dx||      ||grad||       alpha      alpha0  # evals  Notes \n",
      "    1399       652.546     0.0258066       18.8378           1           1     1982   \n",
      "    Iter      log prob        ||dx||      ||grad||       alpha      alpha0  # evals  Notes \n",
      "    1497       652.789   0.000147346       10.6446   1.832e-05       0.001     2156  LS failed, Hessian reset \n",
      "    1499        652.79   0.000205871       8.96678           1           1     2158   \n",
      "    Iter      log prob        ||dx||      ||grad||       alpha      alpha0  # evals  Notes \n",
      "    1531       652.799   2.71288e-05       6.02836   6.005e-06       0.001     2229  LS failed, Hessian reset \n",
      "    1550         652.8   2.49716e-05       7.18256   4.061e-06       0.001     2290  LS failed, Hessian reset \n",
      "    1558         652.8   4.47889e-07       5.09926           1           1     2302   \n",
      "Optimization terminated normally: \n",
      "  Convergence detected: relative gradient magnitude is below tolerance\n"
     ]
    },
    {
     "name": "stderr",
     "output_type": "stream",
     "text": [
      "INFO:prophet:Disabling yearly seasonality. Run prophet with yearly_seasonality=True to override this.\n",
      "INFO:prophet:Disabling daily seasonality. Run prophet with daily_seasonality=True to override this.\n"
     ]
    },
    {
     "name": "stdout",
     "output_type": "stream",
     "text": [
      "24 - G1800050: 2.495212667156011 seconds\n",
      "Initial log joint probability = -4.03965\n",
      "    Iter      log prob        ||dx||      ||grad||       alpha      alpha0  # evals  Notes \n",
      "      99        599.16     0.0393905       66.3861           1           1      120   \n",
      "    Iter      log prob        ||dx||      ||grad||       alpha      alpha0  # evals  Notes \n",
      "     199       599.438       0.03485       44.0848           1           1      248   \n",
      "    Iter      log prob        ||dx||      ||grad||       alpha      alpha0  # evals  Notes \n",
      "     210       599.493   0.000170786       7.74254   8.609e-06       0.001      313  LS failed, Hessian reset \n",
      "     288       599.591   2.20861e-07       7.23265       0.722       0.722      415   \n",
      "Optimization terminated normally: \n",
      "  Convergence detected: relative gradient magnitude is below tolerance\n"
     ]
    },
    {
     "name": "stderr",
     "output_type": "stream",
     "text": [
      "INFO:prophet:Disabling yearly seasonality. Run prophet with yearly_seasonality=True to override this.\n",
      "INFO:prophet:Disabling daily seasonality. Run prophet with daily_seasonality=True to override this.\n"
     ]
    },
    {
     "name": "stdout",
     "output_type": "stream",
     "text": [
      "25 - G4100250: 1.957868801197037 seconds\n",
      "Initial log joint probability = -8.6353\n",
      "    Iter      log prob        ||dx||      ||grad||       alpha      alpha0  # evals  Notes \n",
      "      99       503.882     0.0248483       51.7461           1           1      131   \n",
      "    Iter      log prob        ||dx||      ||grad||       alpha      alpha0  # evals  Notes \n",
      "     177       504.948   0.000450179        10.706   1.905e-05       0.001      276  LS failed, Hessian reset \n",
      "     199        505.32     0.0274093       10.3983           1           1      304   \n",
      "    Iter      log prob        ||dx||      ||grad||       alpha      alpha0  # evals  Notes \n",
      "     296       505.732   0.000294803       10.2986    3.82e-05       0.001      477  LS failed, Hessian reset \n",
      "     299       505.736   0.000233926       6.12019      0.5254      0.5254      480   \n",
      "    Iter      log prob        ||dx||      ||grad||       alpha      alpha0  # evals  Notes \n",
      "     399       505.887   0.000965844       7.81545      0.4674      0.4674      603   \n",
      "    Iter      log prob        ||dx||      ||grad||       alpha      alpha0  # evals  Notes \n",
      "     471       506.247   0.000715122       18.1597   6.205e-05       0.001      736  LS failed, Hessian reset \n",
      "     499       506.505   0.000119046       14.6552     0.07169     0.07169      776   \n",
      "    Iter      log prob        ||dx||      ||grad||       alpha      alpha0  # evals  Notes \n",
      "     526       506.597   0.000292317       6.87399   6.963e-05       0.001      847  LS failed, Hessian reset \n",
      "     599       506.644    0.00162871       4.68677      0.8351      0.8351      944   \n",
      "    Iter      log prob        ||dx||      ||grad||       alpha      alpha0  # evals  Notes \n",
      "     699       506.661    0.00070578       7.04242           1           1     1082   \n",
      "    Iter      log prob        ||dx||      ||grad||       alpha      alpha0  # evals  Notes \n",
      "     746       506.664   1.83277e-05       7.47175   2.594e-06       0.001     1196  LS failed, Hessian reset \n",
      "     799       506.666   0.000171482       6.57831      0.8304      0.8304     1265   \n",
      "    Iter      log prob        ||dx||      ||grad||       alpha      alpha0  # evals  Notes \n",
      "     833       506.667   5.46974e-07       6.26077      0.2465           1     1322   \n",
      "Optimization terminated normally: \n",
      "  Convergence detected: relative gradient magnitude is below tolerance\n"
     ]
    },
    {
     "name": "stderr",
     "output_type": "stream",
     "text": [
      "INFO:prophet:Disabling yearly seasonality. Run prophet with yearly_seasonality=True to override this.\n",
      "INFO:prophet:Disabling daily seasonality. Run prophet with daily_seasonality=True to override this.\n"
     ]
    },
    {
     "name": "stdout",
     "output_type": "stream",
     "text": [
      "26 - G2300250: 2.2342971339821815 seconds\n",
      "Initial log joint probability = -7.64604\n",
      "    Iter      log prob        ||dx||      ||grad||       alpha      alpha0  # evals  Notes \n",
      "      99       713.848     0.0123502       351.437     0.06813           1      122   \n",
      "    Iter      log prob        ||dx||      ||grad||       alpha      alpha0  # evals  Notes \n",
      "     199       718.875     0.0220099       17.3628           1           1      239   \n",
      "    Iter      log prob        ||dx||      ||grad||       alpha      alpha0  # evals  Notes \n",
      "     299       719.509    0.00213006       12.6276           1           1      362   \n",
      "    Iter      log prob        ||dx||      ||grad||       alpha      alpha0  # evals  Notes \n",
      "     362       719.796   0.000324699       24.6462   1.887e-05       0.001      477  LS failed, Hessian reset \n",
      "     399       720.058   0.000335693       10.2496      0.6379           1      525   \n",
      "    Iter      log prob        ||dx||      ||grad||       alpha      alpha0  # evals  Notes \n",
      "     440       720.094    0.00012166       12.0845   1.363e-05       0.001      612  LS failed, Hessian reset \n",
      "     465        720.11   0.000138923       6.86263   2.284e-05       0.001      675  LS failed, Hessian reset \n",
      "     495       720.118   0.000422405       18.0551   4.636e-05       0.001      744  LS failed, Hessian reset \n",
      "     499       720.119   2.24227e-05       4.55619      0.6094      0.6094      748   \n",
      "    Iter      log prob        ||dx||      ||grad||       alpha      alpha0  # evals  Notes \n",
      "     539       720.123   2.67918e-06       5.36832   5.644e-07       0.001      837  LS failed, Hessian reset \n",
      "     544       720.123   4.65042e-07       5.99716     0.01966           1      846   \n",
      "Optimization terminated normally: \n",
      "  Convergence detected: relative gradient magnitude is below tolerance\n"
     ]
    },
    {
     "name": "stderr",
     "output_type": "stream",
     "text": [
      "INFO:prophet:Disabling yearly seasonality. Run prophet with yearly_seasonality=True to override this.\n",
      "INFO:prophet:Disabling daily seasonality. Run prophet with daily_seasonality=True to override this.\n"
     ]
    },
    {
     "name": "stdout",
     "output_type": "stream",
     "text": [
      "27 - G3800590: 2.1546027208678424 seconds\n",
      "Initial log joint probability = -3.27214\n",
      "    Iter      log prob        ||dx||      ||grad||       alpha      alpha0  # evals  Notes \n",
      "      99       686.771    0.00953473       38.5333       3.923      0.3923      127   \n",
      "    Iter      log prob        ||dx||      ||grad||       alpha      alpha0  # evals  Notes \n",
      "     146       687.182   0.000253929        23.924   1.278e-05       0.001      213  LS failed, Hessian reset \n",
      "     199       687.689     0.0048016       8.17812      0.9444      0.9444      274   \n",
      "    Iter      log prob        ||dx||      ||grad||       alpha      alpha0  # evals  Notes \n",
      "     299       689.876    0.00647372       56.6013      0.2589      0.2589      394   \n",
      "    Iter      log prob        ||dx||      ||grad||       alpha      alpha0  # evals  Notes \n",
      "     375       690.403   0.000100621       10.0546   1.225e-05       0.001      525  LS failed, Hessian reset \n",
      "     399        690.43    0.00264114       8.33475      0.1545           1      556   \n",
      "    Iter      log prob        ||dx||      ||grad||       alpha      alpha0  # evals  Notes \n",
      "     438       690.566   6.48381e-05       7.63148   7.974e-06       0.001      641  LS failed, Hessian reset \n",
      "     499       690.706    0.00216245       10.6296           1           1      721   \n",
      "    Iter      log prob        ||dx||      ||grad||       alpha      alpha0  # evals  Notes \n",
      "     525       690.739   0.000117024       11.4113   7.008e-06       0.001      785  LS failed, Hessian reset \n",
      "     583       690.823    0.00019943       15.1241   2.494e-05       0.001      905  LS failed, Hessian reset \n",
      "     599       690.832    0.00034254       6.84819           1           1      922   \n",
      "    Iter      log prob        ||dx||      ||grad||       alpha      alpha0  # evals  Notes \n",
      "     690       690.894   0.000284146       19.2447   3.181e-05       0.001     1075  LS failed, Hessian reset \n",
      "     699       690.916    0.00100499       8.70735           1           1     1084   \n",
      "    Iter      log prob        ||dx||      ||grad||       alpha      alpha0  # evals  Notes \n",
      "     799       690.933   0.000489601       7.75605      0.6568      0.6568     1222   \n",
      "    Iter      log prob        ||dx||      ||grad||       alpha      alpha0  # evals  Notes \n",
      "     899       691.298      0.042473       12.3778      0.4011           1     1337   \n",
      "    Iter      log prob        ||dx||      ||grad||       alpha      alpha0  # evals  Notes \n",
      "     999       691.471   0.000505446       11.9506           1           1     1463   \n",
      "    Iter      log prob        ||dx||      ||grad||       alpha      alpha0  # evals  Notes \n",
      "    1099       691.515   3.98066e-05       7.42912           1           1     1587   \n",
      "    Iter      log prob        ||dx||      ||grad||       alpha      alpha0  # evals  Notes \n",
      "    1109       691.516   0.000196478       7.86726   2.898e-05       0.001     1633  LS failed, Hessian reset \n",
      "    1142       691.517   9.37178e-08       7.59701     0.09395      0.5035     1688   \n",
      "Optimization terminated normally: \n",
      "  Convergence detected: relative gradient magnitude is below tolerance\n"
     ]
    },
    {
     "name": "stderr",
     "output_type": "stream",
     "text": [
      "INFO:prophet:Disabling yearly seasonality. Run prophet with yearly_seasonality=True to override this.\n",
      "INFO:prophet:Disabling daily seasonality. Run prophet with daily_seasonality=True to override this.\n"
     ]
    },
    {
     "name": "stdout",
     "output_type": "stream",
     "text": [
      "28 - G3100430: 2.3861346379853785 seconds\n",
      "Initial log joint probability = -7.37834\n",
      "    Iter      log prob        ||dx||      ||grad||       alpha      alpha0  # evals  Notes \n",
      "      99       577.978     0.0144658       33.2798           1           1      114   \n",
      "    Iter      log prob        ||dx||      ||grad||       alpha      alpha0  # evals  Notes \n",
      "     167       581.885   0.000300476       11.2602   1.437e-05       0.001      231  LS failed, Hessian reset \n",
      "     199       582.343          0.14       49.4209           1           1      272   \n",
      "    Iter      log prob        ||dx||      ||grad||       alpha      alpha0  # evals  Notes \n",
      "     203       582.388   0.000330797       14.2095    3.12e-05       0.001      308  LS failed, Hessian reset \n",
      "     299       583.758    0.00453719       11.6563           1           1      426   \n",
      "    Iter      log prob        ||dx||      ||grad||       alpha      alpha0  # evals  Notes \n",
      "     365        584.73    0.00104083       20.4923   1.119e-05       0.001      567  LS failed, Hessian reset \n",
      "     399       585.524   0.000928067       9.34256      0.5517      0.5517      612   \n",
      "    Iter      log prob        ||dx||      ||grad||       alpha      alpha0  # evals  Notes \n",
      "     436       585.564   0.000260299       13.0755   2.254e-05       0.001      692  LS failed, Hessian reset \n",
      "     499       585.571   3.96389e-05       6.93189      0.3234           1      771   \n",
      "    Iter      log prob        ||dx||      ||grad||       alpha      alpha0  # evals  Notes \n",
      "     533       585.572   2.82119e-07       5.86802      0.1974           1      819   \n",
      "Optimization terminated normally: \n",
      "  Convergence detected: relative gradient magnitude is below tolerance\n"
     ]
    },
    {
     "name": "stderr",
     "output_type": "stream",
     "text": [
      "INFO:prophet:Disabling yearly seasonality. Run prophet with yearly_seasonality=True to override this.\n",
      "INFO:prophet:Disabling daily seasonality. Run prophet with daily_seasonality=True to override this.\n"
     ]
    },
    {
     "name": "stdout",
     "output_type": "stream",
     "text": [
      "29 - G2500010: 2.3574333670549095 seconds\n",
      "Initial log joint probability = -3.32495\n",
      "    Iter      log prob        ||dx||      ||grad||       alpha      alpha0  # evals  Notes \n",
      "      99       727.896    0.00823869       28.8007           1           1      121   \n",
      "    Iter      log prob        ||dx||      ||grad||       alpha      alpha0  # evals  Notes \n",
      "     157       728.486   0.000210286       21.7662    9.62e-06       0.001      227  LS failed, Hessian reset \n",
      "     199        728.75   0.000145849       6.86504      0.9825      0.9825      280   \n",
      "    Iter      log prob        ||dx||      ||grad||       alpha      alpha0  # evals  Notes \n",
      "     220       728.762   7.23848e-05       7.87072   5.847e-06       0.001      335  LS failed, Hessian reset \n",
      "     259       728.764   9.66206e-08       5.70364     0.02807      0.8707      391   \n",
      "Optimization terminated normally: \n",
      "  Convergence detected: relative gradient magnitude is below tolerance\n"
     ]
    },
    {
     "name": "stderr",
     "output_type": "stream",
     "text": [
      "INFO:prophet:Disabling yearly seasonality. Run prophet with yearly_seasonality=True to override this.\n",
      "INFO:prophet:Disabling daily seasonality. Run prophet with daily_seasonality=True to override this.\n"
     ]
    },
    {
     "name": "stdout",
     "output_type": "stream",
     "text": [
      "30 - G4802030: 2.023882573004812 seconds\n",
      "Initial log joint probability = -3.58864\n",
      "    Iter      log prob        ||dx||      ||grad||       alpha      alpha0  # evals  Notes \n",
      "      99       668.256   0.000931392       10.6432           1           1      129   \n",
      "    Iter      log prob        ||dx||      ||grad||       alpha      alpha0  # evals  Notes \n",
      "     199       668.908    0.00022516       7.93763           1           1      259   \n",
      "    Iter      log prob        ||dx||      ||grad||       alpha      alpha0  # evals  Notes \n",
      "     269       669.319   0.000183062       12.1559   8.696e-06       0.001      388  LS failed, Hessian reset \n",
      "     299       669.447   0.000177947       6.76256      0.2477      0.7727      427   \n",
      "    Iter      log prob        ||dx||      ||grad||       alpha      alpha0  # evals  Notes \n",
      "     399       669.494   0.000169068       6.90595      0.6394      0.6394      562   \n",
      "    Iter      log prob        ||dx||      ||grad||       alpha      alpha0  # evals  Notes \n",
      "     450       669.498   7.59503e-07       6.07524      0.7409      0.7409      630   \n",
      "Optimization terminated normally: \n",
      "  Convergence detected: relative gradient magnitude is below tolerance\n"
     ]
    },
    {
     "name": "stderr",
     "output_type": "stream",
     "text": [
      "INFO:prophet:Disabling yearly seasonality. Run prophet with yearly_seasonality=True to override this.\n",
      "INFO:prophet:Disabling daily seasonality. Run prophet with daily_seasonality=True to override this.\n"
     ]
    },
    {
     "name": "stdout",
     "output_type": "stream",
     "text": [
      "31 - G4802550: 2.2469448200426996 seconds\n",
      "Initial log joint probability = -11.7904\n",
      "    Iter      log prob        ||dx||      ||grad||       alpha      alpha0  # evals  Notes \n",
      "      99       516.873     0.0507237        30.678           1           1      122   \n",
      "    Iter      log prob        ||dx||      ||grad||       alpha      alpha0  # evals  Notes \n",
      "     199       528.843     0.0121931        22.207      0.2258      0.9063      246   \n",
      "    Iter      log prob        ||dx||      ||grad||       alpha      alpha0  # evals  Notes \n",
      "     299       532.116    0.00272435       7.18322           1           1      364   \n",
      "    Iter      log prob        ||dx||      ||grad||       alpha      alpha0  # evals  Notes \n",
      "     314       532.162   0.000339191       11.2576   4.537e-05       0.001      422  LS failed, Hessian reset \n",
      "     352       532.314   0.000283553       10.5154   3.749e-05       0.001      498  LS failed, Hessian reset \n",
      "     399       532.358   8.23188e-05        6.5356           1           1      559   \n",
      "    Iter      log prob        ||dx||      ||grad||       alpha      alpha0  # evals  Notes \n",
      "     499       532.624   0.000127269        8.5586      0.2467           1      684   \n",
      "    Iter      log prob        ||dx||      ||grad||       alpha      alpha0  # evals  Notes \n",
      "     521       532.635   0.000282291       7.22234   4.537e-05       0.001      745  LS failed, Hessian reset \n",
      "     556       532.643   4.16216e-07       5.31828      0.4527      0.4527      788   \n",
      "Optimization terminated normally: \n",
      "  Convergence detected: relative gradient magnitude is below tolerance\n"
     ]
    },
    {
     "name": "stderr",
     "output_type": "stream",
     "text": [
      "INFO:prophet:Disabling yearly seasonality. Run prophet with yearly_seasonality=True to override this.\n",
      "INFO:prophet:Disabling daily seasonality. Run prophet with daily_seasonality=True to override this.\n"
     ]
    },
    {
     "name": "stdout",
     "output_type": "stream",
     "text": [
      "32 - G5107400: 2.0575518959667534 seconds\n",
      "Initial log joint probability = -8.08222\n",
      "    Iter      log prob        ||dx||      ||grad||       alpha      alpha0  # evals  Notes \n",
      "      99       593.764     0.0106439       13.2061           1           1      127   \n",
      "    Iter      log prob        ||dx||      ||grad||       alpha      alpha0  # evals  Notes \n",
      "     199       595.358   0.000994383       16.6896      0.5418      0.5418      253   \n",
      "    Iter      log prob        ||dx||      ||grad||       alpha      alpha0  # evals  Notes \n",
      "     299       596.149     0.0215514       30.8935      0.2413           1      373   \n",
      "    Iter      log prob        ||dx||      ||grad||       alpha      alpha0  # evals  Notes \n",
      "     399       596.629     0.0338721       8.94014           1           1      499   \n",
      "    Iter      log prob        ||dx||      ||grad||       alpha      alpha0  # evals  Notes \n",
      "     404       596.658    0.00028483       8.07086   1.003e-05       0.001      563  LS failed, Hessian reset \n",
      "     463       596.736    3.1686e-05       4.92746   6.865e-06       0.001      680  LS failed, Hessian reset \n",
      "     479       596.736   2.42897e-05       6.53897   3.914e-06       0.001      742  LS failed, Hessian reset \n",
      "     498       596.737   4.59943e-07       4.99331           1           1      774   \n",
      "Optimization terminated normally: \n",
      "  Convergence detected: relative gradient magnitude is below tolerance\n"
     ]
    },
    {
     "name": "stderr",
     "output_type": "stream",
     "text": [
      "INFO:prophet:Disabling yearly seasonality. Run prophet with yearly_seasonality=True to override this.\n",
      "INFO:prophet:Disabling daily seasonality. Run prophet with daily_seasonality=True to override this.\n"
     ]
    },
    {
     "name": "stdout",
     "output_type": "stream",
     "text": [
      "33 - G2800910: 2.308384630130604 seconds\n",
      "Initial log joint probability = -4.67467\n",
      "    Iter      log prob        ||dx||      ||grad||       alpha      alpha0  # evals  Notes \n",
      "      99       536.787     0.0145996       21.7871      0.4505           1      123   \n",
      "    Iter      log prob        ||dx||      ||grad||       alpha      alpha0  # evals  Notes \n",
      "     159       537.367   0.000309927       12.8895   2.535e-05       0.001      226  LS failed, Hessian reset \n",
      "     199       537.523   0.000785857       6.55668      0.2139     0.02139      276   \n",
      "    Iter      log prob        ||dx||      ||grad||       alpha      alpha0  # evals  Notes \n",
      "     223       537.582   0.000270299       10.8638   2.672e-05       0.001      344  LS failed, Hessian reset \n",
      "     299       537.682   0.000790609        12.613      0.5211      0.5211      440   \n",
      "    Iter      log prob        ||dx||      ||grad||       alpha      alpha0  # evals  Notes \n",
      "     318       537.718   0.000698923       7.79292   7.624e-05       0.001      507  LS failed, Hessian reset \n",
      "     399       537.843     0.0225753       15.6617      0.2911           1      608   \n",
      "    Iter      log prob        ||dx||      ||grad||       alpha      alpha0  # evals  Notes \n",
      "     400       537.848   0.000658923        23.902   4.207e-05       0.001      654  LS failed, Hessian reset \n",
      "     497       537.908   2.79701e-05       4.88993   4.532e-06       0.001      841  LS failed, Hessian reset \n",
      "     499       537.908   4.61641e-05       6.73051           1           1      843   \n",
      "    Iter      log prob        ||dx||      ||grad||       alpha      alpha0  # evals  Notes \n",
      "     554       537.911   3.23942e-06       7.64603   5.923e-07       0.001      955  LS failed, Hessian reset \n",
      "     567       537.911   2.60769e-07       5.75925      0.5967      0.5967      969   \n",
      "Optimization terminated normally: \n",
      "  Convergence detected: relative gradient magnitude is below tolerance\n"
     ]
    },
    {
     "name": "stderr",
     "output_type": "stream",
     "text": [
      "INFO:prophet:Disabling yearly seasonality. Run prophet with yearly_seasonality=True to override this.\n",
      "INFO:prophet:Disabling daily seasonality. Run prophet with daily_seasonality=True to override this.\n"
     ]
    },
    {
     "name": "stdout",
     "output_type": "stream",
     "text": [
      "34 - G3100770: 2.2726821780670434 seconds\n",
      "Initial log joint probability = -11.4212\n",
      "    Iter      log prob        ||dx||      ||grad||       alpha      alpha0  # evals  Notes \n",
      "      99       595.196    0.00379764       17.6655           1           1      120   \n",
      "    Iter      log prob        ||dx||      ||grad||       alpha      alpha0  # evals  Notes \n",
      "     199       600.773    0.00445663       21.5309       0.243      0.9462      237   \n",
      "    Iter      log prob        ||dx||      ||grad||       alpha      alpha0  # evals  Notes \n",
      "     299        601.75    0.00110801       10.3893           1           1      371   \n",
      "    Iter      log prob        ||dx||      ||grad||       alpha      alpha0  # evals  Notes \n",
      "     361       602.214   0.000233173       12.2062   1.291e-05       0.001      487  LS failed, Hessian reset \n",
      "     399       602.701     0.0013304       5.30458      0.1128           1      540   \n",
      "    Iter      log prob        ||dx||      ||grad||       alpha      alpha0  # evals  Notes \n",
      "     473       602.831   0.000530301       17.4269   5.947e-05       0.001      660  LS failed, Hessian reset \n",
      "     499       602.855   0.000336745       7.82888      0.8372      0.8372      693   \n",
      "    Iter      log prob        ||dx||      ||grad||       alpha      alpha0  # evals  Notes \n",
      "     584       603.188   0.000223122         9.749   1.077e-05       0.001      828  LS failed, Hessian reset \n",
      "     599       603.216    0.00053023       6.47804           1           1      851   \n",
      "    Iter      log prob        ||dx||      ||grad||       alpha      alpha0  # evals  Notes \n",
      "     624       603.242   0.000152537       6.74883    1.08e-05       0.001      922  LS failed, Hessian reset \n",
      "     637       603.247   7.57862e-05       5.85923   1.259e-05       0.001      976  LS failed, Hessian reset \n",
      "     688       603.253   0.000257341       12.5599   2.645e-05       0.001     1090  LS failed, Hessian reset \n",
      "     699       603.256   6.52294e-06       4.99149       0.863       0.863     1103   \n",
      "    Iter      log prob        ||dx||      ||grad||       alpha      alpha0  # evals  Notes \n",
      "     788       603.305   0.000121252       5.82612   1.135e-05       0.001     1247  LS failed, Hessian reset \n",
      "     799       603.319   3.14111e-05       6.31603      0.1415      0.1415     1261   \n",
      "    Iter      log prob        ||dx||      ||grad||       alpha      alpha0  # evals  Notes \n",
      "     899       603.329   7.10007e-07       8.18031      0.1359     0.01359     1413   \n",
      "    Iter      log prob        ||dx||      ||grad||       alpha      alpha0  # evals  Notes \n",
      "     972       603.627   0.000413871       17.9783   4.529e-05       0.001     1554  LS failed, Hessian reset \n",
      "     999       604.131    0.00149576       10.4421      0.3904      0.3904     1589   \n",
      "    Iter      log prob        ||dx||      ||grad||       alpha      alpha0  # evals  Notes \n",
      "    1017       604.165    0.00113065       11.7827   0.0001415       0.001     1641  LS failed, Hessian reset \n",
      "    1038       604.176   0.000222868       5.94232    3.23e-05       0.001     1702  LS failed, Hessian reset \n",
      "    1099       604.192   0.000373189       8.70824           1           1     1777   \n",
      "    Iter      log prob        ||dx||      ||grad||       alpha      alpha0  # evals  Notes \n",
      "    1191       604.257    3.2515e-05       7.42121   4.709e-06       0.001     1947  LS failed, Hessian reset \n",
      "    1199       604.258   2.58413e-06       7.60334           1           1     1960   \n",
      "    Iter      log prob        ||dx||      ||grad||       alpha      alpha0  # evals  Notes \n",
      "    1217       604.258   7.50218e-08       5.49962      0.1849      0.9053     1991   \n",
      "Optimization terminated normally: \n",
      "  Convergence detected: relative gradient magnitude is below tolerance\n"
     ]
    },
    {
     "name": "stderr",
     "output_type": "stream",
     "text": [
      "INFO:prophet:Disabling yearly seasonality. Run prophet with yearly_seasonality=True to override this.\n",
      "INFO:prophet:Disabling daily seasonality. Run prophet with daily_seasonality=True to override this.\n"
     ]
    },
    {
     "name": "stdout",
     "output_type": "stream",
     "text": [
      "35 - G1800510: 2.1991678138729185 seconds\n",
      "Initial log joint probability = -2.65176\n",
      "    Iter      log prob        ||dx||      ||grad||       alpha      alpha0  # evals  Notes \n",
      "      99       676.799    0.00343504       12.6052           1           1      123   \n",
      "    Iter      log prob        ||dx||      ||grad||       alpha      alpha0  # evals  Notes \n",
      "     174       677.284   0.000800391       12.2631   9.567e-05       0.001      260  LS failed, Hessian reset \n",
      "     199       677.314    0.00199377       14.0599           1           1      291   \n",
      "    Iter      log prob        ||dx||      ||grad||       alpha      alpha0  # evals  Notes \n",
      "     233       677.374   0.000305511       16.2889    4.83e-05       0.001      365  LS failed, Hessian reset \n",
      "     299        677.44   0.000153982       8.02961      0.5672      0.5672      443   \n",
      "    Iter      log prob        ||dx||      ||grad||       alpha      alpha0  # evals  Notes \n",
      "     319       677.441   5.06241e-05       10.3503   5.908e-06       0.001      498  LS failed, Hessian reset \n",
      "     340       677.441    7.2148e-08       7.63825     0.08546           1      527   \n",
      "Optimization terminated normally: \n",
      "  Convergence detected: relative gradient magnitude is below tolerance\n"
     ]
    },
    {
     "name": "stderr",
     "output_type": "stream",
     "text": [
      "INFO:prophet:Disabling yearly seasonality. Run prophet with yearly_seasonality=True to override this.\n",
      "INFO:prophet:Disabling daily seasonality. Run prophet with daily_seasonality=True to override this.\n"
     ]
    },
    {
     "name": "stdout",
     "output_type": "stream",
     "text": [
      "36 - G4802070: 2.292894372018054 seconds\n",
      "Initial log joint probability = -9.04839\n",
      "    Iter      log prob        ||dx||      ||grad||       alpha      alpha0  # evals  Notes \n",
      "      99       590.525     0.0266256        38.662           1           1      122   \n",
      "    Iter      log prob        ||dx||      ||grad||       alpha      alpha0  # evals  Notes \n",
      "     199        592.53    0.00649138       6.43187       2.448      0.8387      255   \n",
      "    Iter      log prob        ||dx||      ||grad||       alpha      alpha0  # evals  Notes \n",
      "     273       594.018    0.00073398       37.4812   2.457e-05       0.001      377  LS failed, Hessian reset \n",
      "     299       595.238    0.00489932       19.2573      0.6871      0.6871      406   \n",
      "    Iter      log prob        ||dx||      ||grad||       alpha      alpha0  # evals  Notes \n",
      "     399       595.923    0.00134039       7.25551      0.4437           1      534   \n",
      "    Iter      log prob        ||dx||      ||grad||       alpha      alpha0  # evals  Notes \n",
      "     445       596.332    0.00027723       13.3203   1.672e-05       0.001      662  LS failed, Hessian reset \n",
      "     499       596.421   0.000263031       6.36686           1           1      732   \n",
      "    Iter      log prob        ||dx||      ||grad||       alpha      alpha0  # evals  Notes \n",
      "     513       596.432   7.05739e-05       6.52207   1.418e-05       0.001      785  LS failed, Hessian reset \n",
      "     563        596.44   3.21379e-06       6.88602   5.964e-07       0.001      879  LS failed, Hessian reset \n",
      "     571        596.44   4.10974e-07       5.46717      0.4241       0.598      891   \n",
      "Optimization terminated normally: \n",
      "  Convergence detected: relative gradient magnitude is below tolerance\n"
     ]
    },
    {
     "name": "stderr",
     "output_type": "stream",
     "text": [
      "INFO:prophet:Disabling yearly seasonality. Run prophet with yearly_seasonality=True to override this.\n",
      "INFO:prophet:Disabling daily seasonality. Run prophet with daily_seasonality=True to override this.\n"
     ]
    },
    {
     "name": "stdout",
     "output_type": "stream",
     "text": [
      "37 - G4700990: 2.2653663279488683 seconds\n",
      "Initial log joint probability = -9.15084\n",
      "    Iter      log prob        ||dx||      ||grad||       alpha      alpha0  # evals  Notes \n",
      "      99       641.592   0.000223902        22.516      0.6382      0.6382      120   \n",
      "    Iter      log prob        ||dx||      ||grad||       alpha      alpha0  # evals  Notes \n",
      "     148       642.526   0.000187974       11.3279   1.138e-05       0.001      208  LS failed, Hessian reset \n",
      "     199       643.094     0.0490143        40.043      0.1357           1      274   \n",
      "    Iter      log prob        ||dx||      ||grad||       alpha      alpha0  # evals  Notes \n",
      "     281       643.976    0.00078408       12.1786   9.923e-05       0.001      413  LS failed, Hessian reset \n",
      "     299       644.092    0.00211858       11.0002           1           1      433   \n",
      "    Iter      log prob        ||dx||      ||grad||       alpha      alpha0  # evals  Notes \n",
      "     363       644.359   0.000197135       12.7635   1.237e-05       0.001      565  LS failed, Hessian reset \n",
      "     399       644.533   0.000254978       6.05907      0.2797      0.9206      606   \n",
      "    Iter      log prob        ||dx||      ||grad||       alpha      alpha0  # evals  Notes \n",
      "     430       644.571   0.000124532       7.62371   1.087e-05       0.001      676  LS failed, Hessian reset \n",
      "     456       644.579   2.44194e-07       5.25249      0.0134           1      718   \n",
      "Optimization terminated normally: \n",
      "  Convergence detected: relative gradient magnitude is below tolerance\n"
     ]
    },
    {
     "name": "stderr",
     "output_type": "stream",
     "text": [
      "INFO:prophet:Disabling yearly seasonality. Run prophet with yearly_seasonality=True to override this.\n",
      "INFO:prophet:Disabling daily seasonality. Run prophet with daily_seasonality=True to override this.\n"
     ]
    },
    {
     "name": "stdout",
     "output_type": "stream",
     "text": [
      "38 - G0101150: 1.9688699538819492 seconds\n",
      "Initial log joint probability = -3.18611\n",
      "    Iter      log prob        ||dx||      ||grad||       alpha      alpha0  # evals  Notes \n",
      "      99       733.703     0.0064712       21.6643      0.8494      0.8494      120   \n",
      "    Iter      log prob        ||dx||      ||grad||       alpha      alpha0  # evals  Notes \n",
      "     199       735.342    0.00245598       39.2287      0.2146      0.2146      242   \n",
      "    Iter      log prob        ||dx||      ||grad||       alpha      alpha0  # evals  Notes \n",
      "     216       735.654   0.000234944       23.6978   2.086e-05       0.001      294  LS failed, Hessian reset \n",
      "     299        736.26    0.00360182       32.5679           1           1      392   \n",
      "    Iter      log prob        ||dx||      ||grad||       alpha      alpha0  # evals  Notes \n",
      "     399       737.068    0.00167879       11.5687           1           1      512   \n",
      "    Iter      log prob        ||dx||      ||grad||       alpha      alpha0  # evals  Notes \n",
      "     434       737.228   8.96814e-05       11.1518   5.264e-06       0.001      597  LS failed, Hessian reset \n",
      "     499       737.312   3.24018e-05       7.09275      0.5629      0.5629      671   \n",
      "    Iter      log prob        ||dx||      ||grad||       alpha      alpha0  # evals  Notes \n",
      "     512       737.319   0.000193226       19.7042   1.789e-05       0.001      718  LS failed, Hessian reset \n",
      "     599       737.373   0.000205449       7.53036      0.3564      0.3564      831   \n",
      "    Iter      log prob        ||dx||      ||grad||       alpha      alpha0  # evals  Notes \n",
      "     699       737.426   0.000252119       7.03459           1           1      959   \n",
      "    Iter      log prob        ||dx||      ||grad||       alpha      alpha0  # evals  Notes \n",
      "     799       737.907     0.0346189        40.203           1           1     1102   \n",
      "    Iter      log prob        ||dx||      ||grad||       alpha      alpha0  # evals  Notes \n",
      "     899       738.058     0.0414896       17.0299           1           1     1223   \n",
      "    Iter      log prob        ||dx||      ||grad||       alpha      alpha0  # evals  Notes \n",
      "     908       738.097   0.000104489        10.194   4.318e-06       0.001     1265  LS failed, Hessian reset \n",
      "     999       738.171   6.11038e-05       8.66918           1           1     1386   \n",
      "    Iter      log prob        ||dx||      ||grad||       alpha      alpha0  # evals  Notes \n",
      "    1063       738.174   9.91392e-07       5.05583      0.1671      0.6447     1478   \n",
      "Optimization terminated normally: \n",
      "  Convergence detected: relative gradient magnitude is below tolerance\n"
     ]
    },
    {
     "name": "stderr",
     "output_type": "stream",
     "text": [
      "INFO:prophet:Disabling yearly seasonality. Run prophet with yearly_seasonality=True to override this.\n",
      "INFO:prophet:Disabling daily seasonality. Run prophet with daily_seasonality=True to override this.\n"
     ]
    },
    {
     "name": "stdout",
     "output_type": "stream",
     "text": [
      "39 - G1701690: 2.451590527081862 seconds\n",
      "Initial log joint probability = -10.027\n",
      "    Iter      log prob        ||dx||      ||grad||       alpha      alpha0  # evals  Notes \n",
      "      99       409.911    0.00289662       12.4054           1           1      117   \n",
      "    Iter      log prob        ||dx||      ||grad||       alpha      alpha0  # evals  Notes \n",
      "     108         410.1    0.00113687       12.5965   2.972e-05       0.001      173  LS failed, Hessian reset \n",
      "     199       410.451    0.00351028       7.48045      0.8042      0.8042      285   \n",
      "    Iter      log prob        ||dx||      ||grad||       alpha      alpha0  # evals  Notes \n",
      "     262       410.469   2.03837e-07       6.03302      0.2543           1      376   \n",
      "Optimization terminated normally: \n",
      "  Convergence detected: relative gradient magnitude is below tolerance\n"
     ]
    },
    {
     "name": "stderr",
     "output_type": "stream",
     "text": [
      "INFO:prophet:Disabling yearly seasonality. Run prophet with yearly_seasonality=True to override this.\n",
      "INFO:prophet:Disabling daily seasonality. Run prophet with daily_seasonality=True to override this.\n"
     ]
    },
    {
     "name": "stdout",
     "output_type": "stream",
     "text": [
      "40 - G5106000: 1.9176551420241594 seconds\n",
      "Initial log joint probability = -6.12002\n",
      "    Iter      log prob        ||dx||      ||grad||       alpha      alpha0  # evals  Notes \n",
      "      99       669.524    0.00459538       46.7608           1           1      122   \n",
      "    Iter      log prob        ||dx||      ||grad||       alpha      alpha0  # evals  Notes \n",
      "     176       672.628    0.00016975       12.9133   1.706e-05       0.001      244  LS failed, Hessian reset \n",
      "     199       673.015       0.01407       12.7212           1           1      271   \n",
      "    Iter      log prob        ||dx||      ||grad||       alpha      alpha0  # evals  Notes \n",
      "     299       675.098      0.028035       44.1201           1           1      387   \n",
      "    Iter      log prob        ||dx||      ||grad||       alpha      alpha0  # evals  Notes \n",
      "     399       677.181    0.00592736       48.0674           1           1      509   \n",
      "    Iter      log prob        ||dx||      ||grad||       alpha      alpha0  # evals  Notes \n",
      "     485         678.5   0.000290692       16.0161   6.967e-06       0.001      641  LS failed, Hessian reset \n",
      "     499       678.802    0.00246802        6.8979           1           1      658   \n",
      "    Iter      log prob        ||dx||      ||grad||       alpha      alpha0  # evals  Notes \n",
      "     513       678.858   0.000462255       13.4072   6.273e-05       0.001      702  LS failed, Hessian reset \n",
      "     577       678.947    0.00010688       6.66749   7.155e-06       0.001      822  LS failed, Hessian reset \n",
      "     599       678.961   3.45694e-05       5.77977      0.4491     0.04491      852   \n",
      "    Iter      log prob        ||dx||      ||grad||       alpha      alpha0  # evals  Notes \n",
      "     698        679.03   0.000139589       6.05506   2.025e-05       0.001     1011  LS failed, Hessian reset \n",
      "     699       679.031    4.6228e-05       6.44162           1           1     1012   \n",
      "    Iter      log prob        ||dx||      ||grad||       alpha      alpha0  # evals  Notes \n",
      "     763       679.036   0.000101897       8.06246   1.133e-05       0.001     1128  LS failed, Hessian reset \n",
      "     799       679.039    7.6025e-06       6.08665      0.5155      0.5155     1174   \n",
      "    Iter      log prob        ||dx||      ||grad||       alpha      alpha0  # evals  Notes \n",
      "     814       679.039   1.00427e-06       5.45683      0.2931      0.9947     1193   \n",
      "Optimization terminated normally: \n",
      "  Convergence detected: relative gradient magnitude is below tolerance\n"
     ]
    },
    {
     "name": "stderr",
     "output_type": "stream",
     "text": [
      "INFO:prophet:Disabling yearly seasonality. Run prophet with yearly_seasonality=True to override this.\n",
      "INFO:prophet:Disabling daily seasonality. Run prophet with daily_seasonality=True to override this.\n"
     ]
    },
    {
     "name": "stdout",
     "output_type": "stream",
     "text": [
      "41 - G4701890: 2.3701697250362486 seconds\n",
      "Initial log joint probability = -3.14512\n",
      "    Iter      log prob        ||dx||      ||grad||       alpha      alpha0  # evals  Notes \n",
      "      99       789.662    0.00346997        31.377           1           1      117   \n",
      "    Iter      log prob        ||dx||      ||grad||       alpha      alpha0  # evals  Notes \n",
      "     120       789.999   8.99227e-05       8.16654   3.417e-06       0.001      181  LS failed, Hessian reset \n",
      "     199        790.43    0.00822697       11.0948           1           1      287   \n",
      "    Iter      log prob        ||dx||      ||grad||       alpha      alpha0  # evals  Notes \n",
      "     241       790.828   0.000154611       21.4212   4.298e-06       0.001      400  LS failed, Hessian reset \n",
      "     255       790.996   0.000504334       29.2732   6.678e-05       0.001      447  LS failed, Hessian reset \n",
      "     299       791.201     0.0135913       27.7703           1           1      500   \n",
      "    Iter      log prob        ||dx||      ||grad||       alpha      alpha0  # evals  Notes \n",
      "     338       791.271   0.000112075       14.3791   1.355e-05       0.001      586  LS failed, Hessian reset \n",
      "     399       791.294    0.00080296       9.76991      0.4199           1      665   \n",
      "    Iter      log prob        ||dx||      ||grad||       alpha      alpha0  # evals  Notes \n",
      "     406       791.303   0.000460509       15.9943   4.487e-05       0.001      701  LS failed, Hessian reset \n",
      "     499       791.322   0.000176882       6.59967           1           1      823   \n",
      "    Iter      log prob        ||dx||      ||grad||       alpha      alpha0  # evals  Notes \n",
      "     566       791.359   8.56044e-05        14.277   7.566e-06       0.001      955  LS failed, Hessian reset \n",
      "     599       791.362   3.20786e-05       8.27441           1           1     1006   \n",
      "    Iter      log prob        ||dx||      ||grad||       alpha      alpha0  # evals  Notes \n",
      "     699       791.381    0.00139639       12.0354           1           1     1127   \n",
      "    Iter      log prob        ||dx||      ||grad||       alpha      alpha0  # evals  Notes \n",
      "     703       791.384   0.000111128       16.5852   1.372e-05       0.001     1180  LS failed, Hessian reset \n",
      "     737       791.387   1.14709e-05        6.7443   1.628e-06       0.001     1266  LS failed, Hessian reset \n",
      "     752       791.387   2.86164e-07       4.63401      0.7296      0.7296     1286   \n",
      "Optimization terminated normally: \n",
      "  Convergence detected: relative gradient magnitude is below tolerance\n"
     ]
    },
    {
     "name": "stderr",
     "output_type": "stream",
     "text": [
      "INFO:prophet:Disabling yearly seasonality. Run prophet with yearly_seasonality=True to override this.\n",
      "INFO:prophet:Disabling daily seasonality. Run prophet with daily_seasonality=True to override this.\n"
     ]
    },
    {
     "name": "stdout",
     "output_type": "stream",
     "text": [
      "42 - G4201090: 2.185968986945227 seconds\n",
      "Initial log joint probability = -2.96178\n",
      "    Iter      log prob        ||dx||      ||grad||       alpha      alpha0  # evals  Notes \n",
      "      99       786.707     0.0191042        49.576      0.3579           1      115   \n",
      "    Iter      log prob        ||dx||      ||grad||       alpha      alpha0  # evals  Notes \n",
      "     199       792.444    0.00776379       52.0564           1           1      225   \n",
      "    Iter      log prob        ||dx||      ||grad||       alpha      alpha0  # evals  Notes \n",
      "     299       793.553    0.00238349       13.2433           1           1      357   \n",
      "    Iter      log prob        ||dx||      ||grad||       alpha      alpha0  # evals  Notes \n",
      "     399        793.83   0.000205041       5.59987      0.9072      0.9072      486   \n",
      "    Iter      log prob        ||dx||      ||grad||       alpha      alpha0  # evals  Notes \n",
      "     499       793.954   3.34214e-05       6.89487      0.7433      0.1944      607   \n",
      "    Iter      log prob        ||dx||      ||grad||       alpha      alpha0  # evals  Notes \n",
      "     593       794.077   0.000183217       20.7601   1.912e-05       0.001      754  LS failed, Hessian reset \n",
      "     599       794.135    0.00089353       10.8427           1           1      761   \n",
      "    Iter      log prob        ||dx||      ||grad||       alpha      alpha0  # evals  Notes \n",
      "     657       794.205   6.64968e-05       7.82527   4.151e-06       0.001      875  LS failed, Hessian reset \n",
      "     699       794.208   6.14801e-06       7.01469      0.9367      0.9367      935   \n",
      "    Iter      log prob        ||dx||      ||grad||       alpha      alpha0  # evals  Notes \n",
      "     721       794.211   0.000212329       10.0455   2.928e-05       0.001      999  LS failed, Hessian reset \n",
      "     777       794.212   1.09212e-05       8.21028   1.563e-06       0.001     1111  LS failed, Hessian reset \n",
      "     789       794.212   2.43702e-07       5.58028     0.05993           1     1130   \n",
      "Optimization terminated normally: \n",
      "  Convergence detected: relative gradient magnitude is below tolerance\n"
     ]
    },
    {
     "name": "stderr",
     "output_type": "stream",
     "text": [
      "INFO:prophet:Disabling yearly seasonality. Run prophet with yearly_seasonality=True to override this.\n",
      "INFO:prophet:Disabling daily seasonality. Run prophet with daily_seasonality=True to override this.\n"
     ]
    },
    {
     "name": "stdout",
     "output_type": "stream",
     "text": [
      "43 - G3901010: 2.0773312009405345 seconds\n",
      "Initial log joint probability = -15.2643\n",
      "    Iter      log prob        ||dx||      ||grad||       alpha      alpha0  # evals  Notes \n",
      "      99       480.618    0.00207912       9.02688           1           1      114   \n",
      "    Iter      log prob        ||dx||      ||grad||       alpha      alpha0  # evals  Notes \n",
      "     174       480.727   9.43269e-05       6.60997   1.342e-05       0.001      262  LS failed, Hessian reset \n",
      "     196       480.728   8.65695e-08       6.38622     0.02244           1      303   \n",
      "Optimization terminated normally: \n",
      "  Convergence detected: relative gradient magnitude is below tolerance\n"
     ]
    },
    {
     "name": "stderr",
     "output_type": "stream",
     "text": [
      "INFO:prophet:Disabling yearly seasonality. Run prophet with yearly_seasonality=True to override this.\n",
      "INFO:prophet:Disabling daily seasonality. Run prophet with daily_seasonality=True to override this.\n"
     ]
    },
    {
     "name": "stdout",
     "output_type": "stream",
     "text": [
      "44 - G2000910: 2.2192169709596783 seconds\n",
      "Initial log joint probability = -5.99605\n",
      "    Iter      log prob        ||dx||      ||grad||       alpha      alpha0  # evals  Notes \n",
      "      99       667.754     0.0348995       87.1979      0.5623      0.5623      120   \n",
      "    Iter      log prob        ||dx||      ||grad||       alpha      alpha0  # evals  Notes \n",
      "     196       669.669   0.000579296       35.2449   8.497e-06       0.001      264  LS failed, Hessian reset \n",
      "     199       669.728     0.0049306         22.32          10           1      268   \n",
      "    Iter      log prob        ||dx||      ||grad||       alpha      alpha0  # evals  Notes \n",
      "     299       670.873    0.00122165        14.291           1           1      390   \n",
      "    Iter      log prob        ||dx||      ||grad||       alpha      alpha0  # evals  Notes \n",
      "     384       672.192   0.000382727       22.9128   8.174e-06       0.001      528  LS failed, Hessian reset \n",
      "     399       673.025     0.0115817       19.3321      0.6225      0.6225      543   \n",
      "    Iter      log prob        ||dx||      ||grad||       alpha      alpha0  # evals  Notes \n",
      "     499       674.443   0.000755453       9.22294           1           1      668   \n",
      "    Iter      log prob        ||dx||      ||grad||       alpha      alpha0  # evals  Notes \n",
      "     548       674.572   0.000190328        13.469   1.064e-05       0.001      768  LS failed, Hessian reset \n",
      "     599       674.672   0.000303174       8.19734      0.6994      0.6994      823   \n",
      "    Iter      log prob        ||dx||      ||grad||       alpha      alpha0  # evals  Notes \n",
      "     699       675.219    0.00258742       9.68259           1           1      948   \n",
      "    Iter      log prob        ||dx||      ||grad||       alpha      alpha0  # evals  Notes \n",
      "     799       675.383   4.64333e-06       5.03775      0.3256      0.3256     1074   \n",
      "    Iter      log prob        ||dx||      ||grad||       alpha      alpha0  # evals  Notes \n",
      "     821       675.384   2.31401e-06       6.27024   4.241e-07       0.001     1140  LS failed, Hessian reset \n",
      "     829       675.384   5.13541e-07       5.13806      0.2815           1     1152   \n",
      "Optimization terminated normally: \n",
      "  Convergence detected: relative gradient magnitude is below tolerance\n"
     ]
    },
    {
     "name": "stderr",
     "output_type": "stream",
     "text": [
      "INFO:prophet:Disabling yearly seasonality. Run prophet with yearly_seasonality=True to override this.\n",
      "INFO:prophet:Disabling daily seasonality. Run prophet with daily_seasonality=True to override this.\n"
     ]
    },
    {
     "name": "stdout",
     "output_type": "stream",
     "text": [
      "45 - G1701950: 2.4456287908833474 seconds\n",
      "Initial log joint probability = -4.00784\n",
      "    Iter      log prob        ||dx||      ||grad||       alpha      alpha0  # evals  Notes \n",
      "      99       549.815    0.00136941       14.3852      0.3304      0.3304      129   \n",
      "    Iter      log prob        ||dx||      ||grad||       alpha      alpha0  # evals  Notes \n",
      "     199       550.256    0.00061106       9.26025       0.357           1      253   \n",
      "    Iter      log prob        ||dx||      ||grad||       alpha      alpha0  # evals  Notes \n",
      "     299       550.344   5.07082e-05       5.76209   7.419e-06       0.001      424  LS failed, Hessian reset \n",
      "    Iter      log prob        ||dx||      ||grad||       alpha      alpha0  # evals  Notes \n",
      "     372       550.348   8.81204e-05       6.54842   1.693e-05       0.001      565  LS failed, Hessian reset \n",
      "     399       550.349   8.51906e-05       7.36911       0.726           1      597   \n",
      "    Iter      log prob        ||dx||      ||grad||       alpha      alpha0  # evals  Notes \n",
      "     499       550.351   5.09555e-07        7.0654      0.1562           1      722   \n",
      "    Iter      log prob        ||dx||      ||grad||       alpha      alpha0  # evals  Notes \n",
      "     537       550.351   4.10224e-07       6.11728           1           1      775   \n",
      "Optimization terminated normally: \n",
      "  Convergence detected: relative gradient magnitude is below tolerance\n"
     ]
    },
    {
     "name": "stderr",
     "output_type": "stream",
     "text": [
      "INFO:prophet:Disabling yearly seasonality. Run prophet with yearly_seasonality=True to override this.\n",
      "INFO:prophet:Disabling daily seasonality. Run prophet with daily_seasonality=True to override this.\n"
     ]
    },
    {
     "name": "stdout",
     "output_type": "stream",
     "text": [
      "46 - G4601370: 2.026262580184266 seconds\n",
      "Initial log joint probability = -5.40625\n",
      "    Iter      log prob        ||dx||      ||grad||       alpha      alpha0  # evals  Notes \n",
      "      99       674.037     0.0155378       70.5076           1           1      120   \n",
      "    Iter      log prob        ||dx||      ||grad||       alpha      alpha0  # evals  Notes \n",
      "     199       677.164    0.00157321       20.8952      0.6748      0.6748      236   \n",
      "    Iter      log prob        ||dx||      ||grad||       alpha      alpha0  # evals  Notes \n",
      "     211       677.247   0.000886079       16.7259   4.899e-05       0.001      283  LS failed, Hessian reset \n",
      "     288       677.654    0.00027486       18.7721   2.283e-05       0.001      430  LS failed, Hessian reset \n",
      "     299       677.712    0.00368718       14.5983           1           1      442   \n",
      "    Iter      log prob        ||dx||      ||grad||       alpha      alpha0  # evals  Notes \n",
      "     370       677.838   0.000953646       19.8534   0.0001079       0.001      562  LS failed, Hessian reset \n",
      "     399       677.847   4.73097e-05       7.00054      0.9114      0.9114      602   \n",
      "    Iter      log prob        ||dx||      ||grad||       alpha      alpha0  # evals  Notes \n",
      "     499       678.296   0.000581689       11.6048       2.011      0.2011      737   \n",
      "    Iter      log prob        ||dx||      ||grad||       alpha      alpha0  # evals  Notes \n",
      "     596        678.36    0.00016926        14.133   1.564e-05       0.001      900  LS failed, Hessian reset \n",
      "     599       678.363   7.13896e-05       7.78983      0.7177      0.7177      903   \n",
      "    Iter      log prob        ||dx||      ||grad||       alpha      alpha0  # evals  Notes \n",
      "     626       678.369   4.17335e-05        6.7404    4.67e-06       0.001      969  LS failed, Hessian reset \n",
      "     676       678.371   3.28903e-05        6.3557   4.507e-06       0.001     1064  LS failed, Hessian reset \n",
      "     699       678.371   3.31807e-05       8.08041           1           1     1089   \n",
      "    Iter      log prob        ||dx||      ||grad||       alpha      alpha0  # evals  Notes \n",
      "     731       678.371   4.26004e-07       7.38969           1           1     1131   \n",
      "Optimization terminated normally: \n",
      "  Convergence detected: relative gradient magnitude is below tolerance\n"
     ]
    },
    {
     "name": "stderr",
     "output_type": "stream",
     "text": [
      "INFO:prophet:Disabling yearly seasonality. Run prophet with yearly_seasonality=True to override this.\n",
      "INFO:prophet:Disabling daily seasonality. Run prophet with daily_seasonality=True to override this.\n"
     ]
    },
    {
     "name": "stdout",
     "output_type": "stream",
     "text": [
      "47 - G2100710: 2.319892742903903 seconds\n",
      "Initial log joint probability = -10.1487\n",
      "    Iter      log prob        ||dx||      ||grad||       alpha      alpha0  # evals  Notes \n",
      "      99       667.635     0.0661502       172.252          10           1      124   \n",
      "    Iter      log prob        ||dx||      ||grad||       alpha      alpha0  # evals  Notes \n",
      "     199        671.34     0.0177977       76.3783      0.7232      0.7232      238   \n",
      "    Iter      log prob        ||dx||      ||grad||       alpha      alpha0  # evals  Notes \n",
      "     299       672.421   5.07379e-05        6.6062      0.5139      0.5139      358   \n",
      "    Iter      log prob        ||dx||      ||grad||       alpha      alpha0  # evals  Notes \n",
      "     399       672.489    0.00135952       10.7687           1           1      498   \n",
      "    Iter      log prob        ||dx||      ||grad||       alpha      alpha0  # evals  Notes \n",
      "     406       672.498   0.000148532       13.0598   1.388e-05       0.001      554  LS failed, Hessian reset \n",
      "     458       672.502   7.46238e-06       5.27423   1.118e-06       0.001      659  LS failed, Hessian reset \n",
      "     467       672.502   4.20033e-07       5.07845      0.6145      0.6145      674   \n",
      "Optimization terminated normally: \n",
      "  Convergence detected: relative gradient magnitude is below tolerance\n"
     ]
    },
    {
     "name": "stderr",
     "output_type": "stream",
     "text": [
      "INFO:prophet:Disabling yearly seasonality. Run prophet with yearly_seasonality=True to override this.\n",
      "INFO:prophet:Disabling daily seasonality. Run prophet with daily_seasonality=True to override this.\n"
     ]
    },
    {
     "name": "stdout",
     "output_type": "stream",
     "text": [
      "48 - G4200050: 1.9822124131023884 seconds\n",
      "Initial log joint probability = -3.5294\n",
      "    Iter      log prob        ||dx||      ||grad||       alpha      alpha0  # evals  Notes \n",
      "      99       794.272    0.00497539       42.6689      0.1564           1      120   \n",
      "    Iter      log prob        ||dx||      ||grad||       alpha      alpha0  # evals  Notes \n",
      "     100       794.275    0.00018516       19.4515   4.339e-06       0.001      156  LS failed, Hessian reset \n",
      "     127       794.907    0.00010323       11.4737   4.579e-06       0.001      227  LS failed, Hessian reset \n",
      "     199       795.279    0.00101834       6.70196           1           1      321   \n",
      "    Iter      log prob        ||dx||      ||grad||       alpha      alpha0  # evals  Notes \n",
      "     214        795.36   9.95055e-05       12.6186    5.81e-06       0.001      374  LS failed, Hessian reset \n",
      "     299       795.557   0.000443375       17.3893      0.7656      0.7656      473   \n",
      "    Iter      log prob        ||dx||      ||grad||       alpha      alpha0  # evals  Notes \n",
      "     399       795.981   0.000453297       9.51492      0.4826           1      604   \n",
      "    Iter      log prob        ||dx||      ||grad||       alpha      alpha0  # evals  Notes \n",
      "     481       795.985    2.5642e-06       6.16625   3.701e-07       0.001      756  LS failed, Hessian reset \n",
      "     485       795.985   2.11957e-07       4.76507      0.2071           1      762   \n",
      "Optimization terminated normally: \n",
      "  Convergence detected: relative gradient magnitude is below tolerance\n"
     ]
    },
    {
     "name": "stderr",
     "output_type": "stream",
     "text": [
      "INFO:prophet:Disabling yearly seasonality. Run prophet with yearly_seasonality=True to override this.\n",
      "INFO:prophet:Disabling daily seasonality. Run prophet with daily_seasonality=True to override this.\n"
     ]
    },
    {
     "name": "stdout",
     "output_type": "stream",
     "text": [
      "49 - G2800830: 2.4605016249697655 seconds\n",
      "Initial log joint probability = -4.06117\n",
      "    Iter      log prob        ||dx||      ||grad||       alpha      alpha0  # evals  Notes \n",
      "      99       730.375     0.0585367       92.1323           1           1      116   \n",
      "    Iter      log prob        ||dx||      ||grad||       alpha      alpha0  # evals  Notes \n",
      "     199       736.251    0.00220641       35.5974       0.528       0.528      239   \n",
      "    Iter      log prob        ||dx||      ||grad||       alpha      alpha0  # evals  Notes \n",
      "     299       737.064    0.00161892       13.6245           1           1      363   \n",
      "    Iter      log prob        ||dx||      ||grad||       alpha      alpha0  # evals  Notes \n",
      "     399       737.644    0.00196577       10.7128           1           1      486   \n",
      "    Iter      log prob        ||dx||      ||grad||       alpha      alpha0  # evals  Notes \n",
      "     438       737.787   0.000218965        17.545   1.963e-05       0.001      565  LS failed, Hessian reset \n",
      "     499       737.823    0.00246665       11.7995      0.5831      0.5831      648   \n",
      "    Iter      log prob        ||dx||      ||grad||       alpha      alpha0  # evals  Notes \n",
      "     544       737.942   0.000131634       11.8961   6.034e-06       0.001      735  LS failed, Hessian reset \n",
      "     599        738.07    0.00158961       7.10762      0.5176      0.5176      804   \n",
      "    Iter      log prob        ||dx||      ||grad||       alpha      alpha0  # evals  Notes \n",
      "     699       738.149     0.0122977       24.7523           1           1      929   \n",
      "    Iter      log prob        ||dx||      ||grad||       alpha      alpha0  # evals  Notes \n",
      "     757        738.83   0.000121089       12.0119   6.454e-06       0.001     1048  LS failed, Hessian reset \n",
      "     799       739.067    0.00174747        12.321           1           1     1101   \n",
      "    Iter      log prob        ||dx||      ||grad||       alpha      alpha0  # evals  Notes \n",
      "     865       739.188    2.7127e-05       3.90067   4.771e-06       0.001     1237  LS failed, Hessian reset \n",
      "     898       739.188   1.79005e-05       6.49453   3.095e-06       0.001     1323  LS failed, Hessian reset \n",
      "     899       739.188   1.17046e-05       6.72622           1           1     1324   \n",
      "    Iter      log prob        ||dx||      ||grad||       alpha      alpha0  # evals  Notes \n",
      "     920       739.188   3.48238e-07       6.73395      0.2529           1     1356   \n",
      "Optimization terminated normally: \n",
      "  Convergence detected: relative gradient magnitude is below tolerance\n"
     ]
    },
    {
     "name": "stderr",
     "output_type": "stream",
     "text": [
      "INFO:prophet:Disabling yearly seasonality. Run prophet with yearly_seasonality=True to override this.\n",
      "INFO:prophet:Disabling daily seasonality. Run prophet with daily_seasonality=True to override this.\n"
     ]
    },
    {
     "name": "stdout",
     "output_type": "stream",
     "text": [
      "50 - G2600290: 2.2045686861965805 seconds\n",
      "Initial log joint probability = -3.99949\n",
      "    Iter      log prob        ||dx||      ||grad||       alpha      alpha0  # evals  Notes \n",
      "      99       599.613     0.0111761       17.9536           1           1      127   \n",
      "    Iter      log prob        ||dx||      ||grad||       alpha      alpha0  # evals  Notes \n",
      "     199       600.131    0.00173792       12.4091           1           1      255   \n",
      "    Iter      log prob        ||dx||      ||grad||       alpha      alpha0  # evals  Notes \n",
      "     287         600.3   0.000145715       9.96384   1.116e-05       0.001      403  LS failed, Hessian reset \n",
      "     299        600.35    0.00172776       8.02639      0.3715           1      421   \n",
      "    Iter      log prob        ||dx||      ||grad||       alpha      alpha0  # evals  Notes \n",
      "     399       600.431    0.00203589       8.24132        0.57        0.57      541   \n",
      "    Iter      log prob        ||dx||      ||grad||       alpha      alpha0  # evals  Notes \n",
      "     493       600.455   0.000227947       9.94558   2.927e-05       0.001      703  LS failed, Hessian reset \n",
      "     499       600.456   8.96412e-05       6.47776           1           1      709   \n",
      "    Iter      log prob        ||dx||      ||grad||       alpha      alpha0  # evals  Notes \n",
      "     525       600.456   5.58365e-07        7.4393      0.5678     0.05678      748   \n",
      "Optimization terminated normally: \n",
      "  Convergence detected: relative gradient magnitude is below tolerance\n"
     ]
    },
    {
     "name": "stderr",
     "output_type": "stream",
     "text": [
      "INFO:prophet:Disabling yearly seasonality. Run prophet with yearly_seasonality=True to override this.\n",
      "INFO:prophet:Disabling daily seasonality. Run prophet with daily_seasonality=True to override this.\n"
     ]
    },
    {
     "name": "stdout",
     "output_type": "stream",
     "text": [
      "51 - G3701990: 2.3399174259975553 seconds\n",
      "Initial log joint probability = -5.33283\n",
      "    Iter      log prob        ||dx||      ||grad||       alpha      alpha0  # evals  Notes \n",
      "      99       562.773       0.16353       64.7401           1           1      119   \n",
      "    Iter      log prob        ||dx||      ||grad||       alpha      alpha0  # evals  Notes \n",
      "     199       569.966    0.00880975        35.529     0.03311           1      237   \n",
      "    Iter      log prob        ||dx||      ||grad||       alpha      alpha0  # evals  Notes \n",
      "     216        570.86   0.000912571       29.8865   4.915e-05       0.001      295  LS failed, Hessian reset \n",
      "     299       571.717     0.0190092       27.7853           1           1      394   \n",
      "    Iter      log prob        ||dx||      ||grad||       alpha      alpha0  # evals  Notes \n",
      "     305       571.812   0.000512619       15.8141   9.185e-06       0.001      444  LS failed, Hessian reset \n",
      "     399       572.092    0.00330817       7.84462       6.454      0.6454      568   \n",
      "    Iter      log prob        ||dx||      ||grad||       alpha      alpha0  # evals  Notes \n",
      "     471       572.342   0.000163954       8.99316    1.17e-05       0.001      703  LS failed, Hessian reset \n",
      "     499       572.396   0.000159153       14.5408       0.441       0.441      732   \n",
      "    Iter      log prob        ||dx||      ||grad||       alpha      alpha0  # evals  Notes \n",
      "     599       572.466   0.000531578       8.42318           1           1      868   \n",
      "    Iter      log prob        ||dx||      ||grad||       alpha      alpha0  # evals  Notes \n",
      "     660       572.468   5.05247e-05       4.61944   5.712e-06       0.001     1015  LS failed, Hessian reset \n",
      "     683       572.469   1.14573e-07       4.78968     0.02933      0.4609     1052   \n",
      "Optimization terminated normally: \n",
      "  Convergence detected: relative gradient magnitude is below tolerance\n"
     ]
    },
    {
     "name": "stderr",
     "output_type": "stream",
     "text": [
      "INFO:prophet:Disabling yearly seasonality. Run prophet with yearly_seasonality=True to override this.\n",
      "INFO:prophet:Disabling daily seasonality. Run prophet with daily_seasonality=True to override this.\n"
     ]
    },
    {
     "name": "stdout",
     "output_type": "stream",
     "text": [
      "52 - G3200150: 2.426672794856131 seconds\n",
      "Initial log joint probability = -3.43913\n",
      "    Iter      log prob        ||dx||      ||grad||       alpha      alpha0  # evals  Notes \n",
      "      99       815.743    0.00597348       14.4558      0.9743      0.9743      116   \n",
      "    Iter      log prob        ||dx||      ||grad||       alpha      alpha0  # evals  Notes \n",
      "     199       816.605   0.000128759       8.21552      0.2968      0.2968      233   \n",
      "    Iter      log prob        ||dx||      ||grad||       alpha      alpha0  # evals  Notes \n",
      "     299       817.349     0.0014451        27.854      0.9317      0.9317      351   \n",
      "    Iter      log prob        ||dx||      ||grad||       alpha      alpha0  # evals  Notes \n",
      "     399       817.565     0.0052137       9.54772           1           1      481   \n",
      "    Iter      log prob        ||dx||      ||grad||       alpha      alpha0  # evals  Notes \n",
      "     493       817.678   0.000106809       11.7216   3.774e-06       0.001      630  LS failed, Hessian reset \n",
      "     499       817.702   0.000443346       15.9501      0.5598      0.5598      637   \n",
      "    Iter      log prob        ||dx||      ||grad||       alpha      alpha0  # evals  Notes \n",
      "     599       817.746    0.00059378       6.83996      0.1086      0.7435      764   \n",
      "    Iter      log prob        ||dx||      ||grad||       alpha      alpha0  # evals  Notes \n",
      "     677       817.759   2.23679e-05       6.21914   4.014e-06       0.001      910  LS failed, Hessian reset \n",
      "     699       817.761   7.63616e-05       4.35588      0.3177      0.3177      938   \n",
      "    Iter      log prob        ||dx||      ||grad||       alpha      alpha0  # evals  Notes \n",
      "     718       817.761   4.37349e-06       5.65518      0.3015      0.9291      966   \n",
      "Optimization terminated normally: \n",
      "  Convergence detected: relative gradient magnitude is below tolerance\n"
     ]
    },
    {
     "name": "stderr",
     "output_type": "stream",
     "text": [
      "INFO:prophet:Disabling yearly seasonality. Run prophet with yearly_seasonality=True to override this.\n",
      "INFO:prophet:Disabling daily seasonality. Run prophet with daily_seasonality=True to override this.\n"
     ]
    },
    {
     "name": "stdout",
     "output_type": "stream",
     "text": [
      "53 - G5300570: 2.319083580048755 seconds\n",
      "Initial log joint probability = -3.94271\n",
      "    Iter      log prob        ||dx||      ||grad||       alpha      alpha0  # evals  Notes \n",
      "      99       787.061    0.00601335        11.815           1           1      120   \n",
      "    Iter      log prob        ||dx||      ||grad||       alpha      alpha0  # evals  Notes \n",
      "     199       787.605    0.00805004       58.1524           1           1      239   \n",
      "    Iter      log prob        ||dx||      ||grad||       alpha      alpha0  # evals  Notes \n",
      "     299       788.039   0.000933786        10.771       1.408      0.3398      365   \n",
      "    Iter      log prob        ||dx||      ||grad||       alpha      alpha0  # evals  Notes \n",
      "     376       788.113    1.6141e-07       5.53761      0.0595           1      483   \n",
      "Optimization terminated normally: \n",
      "  Convergence detected: relative gradient magnitude is below tolerance\n"
     ]
    },
    {
     "name": "stderr",
     "output_type": "stream",
     "text": [
      "INFO:prophet:Disabling yearly seasonality. Run prophet with yearly_seasonality=True to override this.\n",
      "INFO:prophet:Disabling daily seasonality. Run prophet with daily_seasonality=True to override this.\n"
     ]
    },
    {
     "name": "stdout",
     "output_type": "stream",
     "text": [
      "54 - G3701270: 1.9869906019885093 seconds\n",
      "Initial log joint probability = -7.87716\n",
      "    Iter      log prob        ||dx||      ||grad||       alpha      alpha0  # evals  Notes \n",
      "      99       520.039      0.176865       92.6839           1           1      114   \n",
      "    Iter      log prob        ||dx||      ||grad||       alpha      alpha0  # evals  Notes \n",
      "     199         524.2      0.018464        20.661           1           1      235   \n",
      "    Iter      log prob        ||dx||      ||grad||       alpha      alpha0  # evals  Notes \n",
      "     228       525.125   0.000417228       14.2688   1.668e-05       0.001      300  LS failed, Hessian reset \n",
      "     299       525.821    0.00342522       9.04009       0.809       0.809      395   \n",
      "    Iter      log prob        ||dx||      ||grad||       alpha      alpha0  # evals  Notes \n",
      "     371       527.455    0.00197926       19.3632   9.215e-05       0.001      530  LS failed, Hessian reset \n",
      "     399       527.938    0.00970918       19.0943      0.7194      0.7194      569   \n",
      "    Iter      log prob        ||dx||      ||grad||       alpha      alpha0  # evals  Notes \n",
      "     499       528.668   0.000277139       5.76611           1           1      695   \n",
      "    Iter      log prob        ||dx||      ||grad||       alpha      alpha0  # evals  Notes \n",
      "     586       529.052   0.000200353       8.43028   2.187e-05       0.001      837  LS failed, Hessian reset \n",
      "     599        529.08    0.00104751        8.5019           1           1      855   \n",
      "    Iter      log prob        ||dx||      ||grad||       alpha      alpha0  # evals  Notes \n",
      "     610       529.103   0.000190488       6.88237   1.537e-05       0.001      917  LS failed, Hessian reset \n",
      "     641       529.132   0.000191013       6.78432   1.595e-05       0.001      991  LS failed, Hessian reset \n",
      "     655       529.144   3.84367e-05       3.67734   8.618e-06       0.001     1042  LS failed, Hessian reset \n",
      "     699       529.158    0.00056999       4.36396      0.7932      0.7932     1109   \n",
      "    Iter      log prob        ||dx||      ||grad||       alpha      alpha0  # evals  Notes \n",
      "     715       529.189    0.00146909       9.88847   0.0002252       0.001     1159  LS failed, Hessian reset \n",
      "     754       529.199   7.14887e-05       4.70883    1.22e-05       0.001     1246  LS failed, Hessian reset \n",
      "     799       529.204    0.00127996       7.06029       3.021      0.3021     1316   \n",
      "    Iter      log prob        ||dx||      ||grad||       alpha      alpha0  # evals  Notes \n",
      "     802       529.205   0.000107893       7.48911   2.034e-05       0.001     1357  LS failed, Hessian reset \n",
      "     832       529.208   1.23961e-06       4.45364   3.291e-07       0.001     1443  LS failed, Hessian reset \n",
      "     836       529.208   3.33946e-07       3.02907      0.4239      0.4239     1448   \n",
      "Optimization terminated normally: \n",
      "  Convergence detected: relative gradient magnitude is below tolerance\n"
     ]
    },
    {
     "name": "stderr",
     "output_type": "stream",
     "text": [
      "INFO:prophet:Disabling yearly seasonality. Run prophet with yearly_seasonality=True to override this.\n",
      "INFO:prophet:Disabling daily seasonality. Run prophet with daily_seasonality=True to override this.\n"
     ]
    },
    {
     "name": "stdout",
     "output_type": "stream",
     "text": [
      "55 - G2600070: 2.6078686099499464 seconds\n",
      "Initial log joint probability = -5.97629\n",
      "    Iter      log prob        ||dx||      ||grad||       alpha      alpha0  # evals  Notes \n",
      "      99       797.894     0.0237477       59.2316           1           1      124   \n",
      "    Iter      log prob        ||dx||      ||grad||       alpha      alpha0  # evals  Notes \n",
      "     199       804.814     0.0380027       91.2629           1           1      242   \n",
      "    Iter      log prob        ||dx||      ||grad||       alpha      alpha0  # evals  Notes \n",
      "     277        806.25   0.000209919       18.1005   2.132e-05       0.001      385  LS failed, Hessian reset \n",
      "     299       806.367   0.000324128        17.147       0.187      0.9717      413   \n",
      "    Iter      log prob        ||dx||      ||grad||       alpha      alpha0  # evals  Notes \n",
      "     399       806.732   0.000485806       8.69225       2.275      0.2275      543   \n",
      "    Iter      log prob        ||dx||      ||grad||       alpha      alpha0  # evals  Notes \n",
      "     452       806.812   0.000143595       20.3823   6.375e-06       0.001      650  LS failed, Hessian reset \n",
      "     499       806.858   0.000328808       7.17459       0.151           1      707   \n",
      "    Iter      log prob        ||dx||      ||grad||       alpha      alpha0  # evals  Notes \n",
      "     516       806.867    0.00012342       15.4707    1.18e-05       0.001      772  LS failed, Hessian reset \n",
      "     546       806.871   1.21041e-05       6.00501   2.121e-06       0.001      839  LS failed, Hessian reset \n",
      "     559       806.871   4.01264e-07       5.05285      0.2458           1      861   \n",
      "Optimization terminated normally: \n",
      "  Convergence detected: relative gradient magnitude is below tolerance\n"
     ]
    },
    {
     "name": "stderr",
     "output_type": "stream",
     "text": [
      "INFO:prophet:Disabling yearly seasonality. Run prophet with yearly_seasonality=True to override this.\n",
      "INFO:prophet:Disabling daily seasonality. Run prophet with daily_seasonality=True to override this.\n"
     ]
    },
    {
     "name": "stdout",
     "output_type": "stream",
     "text": [
      "56 - G3900350: 2.506139056989923 seconds\n",
      "Initial log joint probability = -10.0182\n",
      "    Iter      log prob        ||dx||      ||grad||       alpha      alpha0  # evals  Notes \n",
      "      99       601.158     0.0349832       52.9354           1           1      121   \n",
      "    Iter      log prob        ||dx||      ||grad||       alpha      alpha0  # evals  Notes \n",
      "     199       624.034    0.00745128       24.4199      0.9002      0.9002      238   \n",
      "    Iter      log prob        ||dx||      ||grad||       alpha      alpha0  # evals  Notes \n",
      "     299        628.11    0.00562892       25.2312           1           1      354   \n",
      "    Iter      log prob        ||dx||      ||grad||       alpha      alpha0  # evals  Notes \n",
      "     399         629.3    0.00144493       16.0817      0.1838      0.1838      475   \n",
      "    Iter      log prob        ||dx||      ||grad||       alpha      alpha0  # evals  Notes \n",
      "     499       631.988    0.00398622       13.2719      0.5319     0.05319      597   \n",
      "    Iter      log prob        ||dx||      ||grad||       alpha      alpha0  # evals  Notes \n",
      "     599       632.486   8.77063e-05       7.51821           1           1      726   \n",
      "    Iter      log prob        ||dx||      ||grad||       alpha      alpha0  # evals  Notes \n",
      "     635       632.537   0.000361056       14.7854   4.409e-05       0.001      809  LS failed, Hessian reset \n",
      "     699       632.568   0.000901095       8.97825           1           1      887   \n",
      "    Iter      log prob        ||dx||      ||grad||       alpha      alpha0  # evals  Notes \n",
      "     799       632.709   9.12062e-06       5.29761      0.7831      0.7831     1003   \n",
      "    Iter      log prob        ||dx||      ||grad||       alpha      alpha0  # evals  Notes \n",
      "     834       632.713   0.000130879       12.3597   1.306e-05       0.001     1081  LS failed, Hessian reset \n",
      "     868       632.714   1.57809e-05       5.53571   2.176e-06       0.001     1155  LS failed, Hessian reset \n",
      "     890       632.714   1.35868e-07       5.47216      0.3753      0.3753     1183   \n",
      "Optimization terminated normally: \n",
      "  Convergence detected: relative gradient magnitude is below tolerance\n"
     ]
    },
    {
     "name": "stderr",
     "output_type": "stream",
     "text": [
      "INFO:prophet:Disabling yearly seasonality. Run prophet with yearly_seasonality=True to override this.\n",
      "INFO:prophet:Disabling daily seasonality. Run prophet with daily_seasonality=True to override this.\n"
     ]
    },
    {
     "name": "stdout",
     "output_type": "stream",
     "text": [
      "57 - G2700210: 2.181657691951841 seconds\n",
      "Initial log joint probability = -8.12846\n",
      "    Iter      log prob        ||dx||      ||grad||       alpha      alpha0  # evals  Notes \n",
      "      99       693.058     0.0531494       134.909      0.3081           1      116   \n",
      "    Iter      log prob        ||dx||      ||grad||       alpha      alpha0  # evals  Notes \n",
      "     199       696.851    0.00517197       13.0035           1           1      237   \n",
      "    Iter      log prob        ||dx||      ||grad||       alpha      alpha0  # evals  Notes \n",
      "     299       698.157    0.00718109       13.4351           1           1      358   \n",
      "    Iter      log prob        ||dx||      ||grad||       alpha      alpha0  # evals  Notes \n",
      "     337       698.693    0.00014874       9.67286   6.729e-06       0.001      439  LS failed, Hessian reset \n",
      "     399       698.892   0.000268804       12.0199      0.7145      0.7145      523   \n",
      "    Iter      log prob        ||dx||      ||grad||       alpha      alpha0  # evals  Notes \n",
      "     499       699.677    0.00578428       12.2531      0.6261      0.6261      643   \n",
      "    Iter      log prob        ||dx||      ||grad||       alpha      alpha0  # evals  Notes \n",
      "     549       700.268   0.000240816       19.1677   1.101e-05       0.001      750  LS failed, Hessian reset \n",
      "     599       700.426   0.000360761       5.85294      0.8614      0.2314      811   \n",
      "    Iter      log prob        ||dx||      ||grad||       alpha      alpha0  # evals  Notes \n",
      "     639       700.474   0.000101575       10.0177   9.494e-06       0.001      906  LS failed, Hessian reset \n",
      "     699       700.524   0.000174253       6.92745       1.795      0.1795      990   \n",
      "    Iter      log prob        ||dx||      ||grad||       alpha      alpha0  # evals  Notes \n",
      "     799       700.542   0.000776437       7.37662           1           1     1115   \n",
      "    Iter      log prob        ||dx||      ||grad||       alpha      alpha0  # evals  Notes \n",
      "     876       700.566   0.000155806       14.1115   1.539e-05       0.001     1252  LS failed, Hessian reset \n",
      "     899       700.583   0.000403524       8.43406           1           1     1279   \n",
      "    Iter      log prob        ||dx||      ||grad||       alpha      alpha0  # evals  Notes \n",
      "     999       700.677    0.00388563       7.02845      0.7226      0.7226     1413   \n",
      "    Iter      log prob        ||dx||      ||grad||       alpha      alpha0  # evals  Notes \n",
      "    1018       700.776   0.000997549       16.0347    6.86e-05       0.001     1479  LS failed, Hessian reset \n",
      "    1059       700.803   3.17426e-05       7.19837   4.409e-06       0.001     1561  LS failed, Hessian reset \n",
      "    1075       700.804    4.3226e-07        5.5159      0.4726           1     1582   \n",
      "Optimization terminated normally: \n",
      "  Convergence detected: relative gradient magnitude is below tolerance\n"
     ]
    },
    {
     "name": "stderr",
     "output_type": "stream",
     "text": [
      "INFO:prophet:Disabling yearly seasonality. Run prophet with yearly_seasonality=True to override this.\n",
      "INFO:prophet:Disabling daily seasonality. Run prophet with daily_seasonality=True to override this.\n"
     ]
    },
    {
     "name": "stdout",
     "output_type": "stream",
     "text": [
      "58 - G1700270: 2.2687496670987457 seconds\n",
      "Initial log joint probability = -3.00704\n",
      "    Iter      log prob        ||dx||      ||grad||       alpha      alpha0  # evals  Notes \n",
      "      99       789.778    0.00430451        39.443           1           1      122   \n",
      "    Iter      log prob        ||dx||      ||grad||       alpha      alpha0  # evals  Notes \n",
      "     199       791.494    0.00168886       28.0575           1           1      240   \n",
      "    Iter      log prob        ||dx||      ||grad||       alpha      alpha0  # evals  Notes \n",
      "     299       792.463    0.00459643       52.8001        0.57       0.057      366   \n",
      "    Iter      log prob        ||dx||      ||grad||       alpha      alpha0  # evals  Notes \n",
      "     306       792.687   0.000485367       53.4573   9.931e-06       0.001      406  LS failed, Hessian reset \n",
      "     399       792.964     0.0238771       27.0518           1           1      529   \n",
      "    Iter      log prob        ||dx||      ||grad||       alpha      alpha0  # evals  Notes \n",
      "     499       793.029    0.00103768       9.47033           1           1      653   \n",
      "    Iter      log prob        ||dx||      ||grad||       alpha      alpha0  # evals  Notes \n",
      "     593        793.04   2.98157e-06       6.45819    4.28e-07       0.001      816  LS failed, Hessian reset \n",
      "     599        793.04    2.4492e-07       5.30931      0.5473      0.5473      824   \n",
      "    Iter      log prob        ||dx||      ||grad||       alpha      alpha0  # evals  Notes \n",
      "     604        793.04   4.66751e-07       5.75673      0.1442       0.557      831   \n",
      "Optimization terminated normally: \n",
      "  Convergence detected: relative gradient magnitude is below tolerance\n"
     ]
    },
    {
     "name": "stderr",
     "output_type": "stream",
     "text": [
      "INFO:prophet:Disabling yearly seasonality. Run prophet with yearly_seasonality=True to override this.\n",
      "INFO:prophet:Disabling daily seasonality. Run prophet with daily_seasonality=True to override this.\n"
     ]
    },
    {
     "name": "stdout",
     "output_type": "stream",
     "text": [
      "59 - G4801170: 2.126926466822624 seconds\n",
      "Initial log joint probability = -6.50102\n",
      "    Iter      log prob        ||dx||      ||grad||       alpha      alpha0  # evals  Notes \n",
      "      93       366.584   0.000442492       9.99611   4.974e-05       0.001      148  LS failed, Hessian reset \n",
      "      99       366.625   0.000548342       7.39023      0.2421      0.2421      157   \n",
      "    Iter      log prob        ||dx||      ||grad||       alpha      alpha0  # evals  Notes \n",
      "     199       366.991    0.00580805       12.8718           1           1      281   \n",
      "    Iter      log prob        ||dx||      ||grad||       alpha      alpha0  # evals  Notes \n",
      "     248        367.05   0.000871176       8.86296   0.0001518       0.001      414  LS failed, Hessian reset \n",
      "     299       367.113    0.00322015       8.33553           1           1      468   \n",
      "    Iter      log prob        ||dx||      ||grad||       alpha      alpha0  # evals  Notes \n",
      "     387       367.159   0.000239886       8.82202   3.091e-05       0.001      619  LS failed, Hessian reset \n",
      "     399       367.166   0.000468571       8.34584           1           1      635   \n",
      "    Iter      log prob        ||dx||      ||grad||       alpha      alpha0  # evals  Notes \n",
      "     460       367.169   1.47278e-07       7.55737      0.3332           1      721   \n",
      "Optimization terminated normally: \n",
      "  Convergence detected: relative gradient magnitude is below tolerance\n"
     ]
    },
    {
     "name": "stderr",
     "output_type": "stream",
     "text": [
      "INFO:prophet:Disabling yearly seasonality. Run prophet with yearly_seasonality=True to override this.\n",
      "INFO:prophet:Disabling daily seasonality. Run prophet with daily_seasonality=True to override this.\n"
     ]
    },
    {
     "name": "stdout",
     "output_type": "stream",
     "text": [
      "60 - G3000210: 2.2005653912201524 seconds\n",
      "Initial log joint probability = -4.61878\n",
      "    Iter      log prob        ||dx||      ||grad||       alpha      alpha0  # evals  Notes \n",
      "      99        649.27    0.00221878        6.8227      0.3965           1      124   \n",
      "    Iter      log prob        ||dx||      ||grad||       alpha      alpha0  # evals  Notes \n",
      "     161       649.485   0.000120381       8.35406   1.104e-05       0.001      242  LS failed, Hessian reset \n",
      "     199       649.508    0.00168515       11.8655           1           1      290   \n",
      "    Iter      log prob        ||dx||      ||grad||       alpha      alpha0  # evals  Notes \n",
      "     207       649.572   0.000919755       21.1873   7.587e-05       0.001      341  LS failed, Hessian reset \n",
      "     299       649.645    0.00245981       7.26046           1           1      459   \n",
      "    Iter      log prob        ||dx||      ||grad||       alpha      alpha0  # evals  Notes \n",
      "     327       649.731   0.000400014       16.2079   5.358e-05       0.001      533  LS failed, Hessian reset \n",
      "     360       649.753   2.56269e-05       4.94794   4.501e-06       0.001      619  LS failed, Hessian reset \n",
      "     390       649.753   3.87057e-07       4.71918      0.7809       0.233      670   \n",
      "Optimization terminated normally: \n",
      "  Convergence detected: relative gradient magnitude is below tolerance\n"
     ]
    },
    {
     "name": "stderr",
     "output_type": "stream",
     "text": [
      "INFO:prophet:Disabling yearly seasonality. Run prophet with yearly_seasonality=True to override this.\n",
      "INFO:prophet:Disabling daily seasonality. Run prophet with daily_seasonality=True to override this.\n"
     ]
    },
    {
     "name": "stdout",
     "output_type": "stream",
     "text": [
      "61 - G2200910: 2.0335462267976254 seconds\n",
      "Initial log joint probability = -5.54347\n",
      "    Iter      log prob        ||dx||      ||grad||       alpha      alpha0  # evals  Notes \n",
      "      99       545.134    0.00141465        9.1156      0.7545      0.7545      122   \n",
      "    Iter      log prob        ||dx||      ||grad||       alpha      alpha0  # evals  Notes \n",
      "     112       545.168   0.000375272       14.7239   3.846e-05       0.001      172  LS failed, Hessian reset \n",
      "     175       545.189   5.61942e-06       8.53094   6.679e-07       0.001      290  LS failed, Hessian reset \n",
      "     188       545.189   1.74886e-07       7.71625      0.2278           1      307   \n",
      "Optimization terminated normally: \n",
      "  Convergence detected: relative gradient magnitude is below tolerance\n"
     ]
    },
    {
     "name": "stderr",
     "output_type": "stream",
     "text": [
      "INFO:prophet:Disabling yearly seasonality. Run prophet with yearly_seasonality=True to override this.\n",
      "INFO:prophet:Disabling daily seasonality. Run prophet with daily_seasonality=True to override this.\n"
     ]
    },
    {
     "name": "stdout",
     "output_type": "stream",
     "text": [
      "62 - G2300210: 2.0624910600017756 seconds\n",
      "Initial log joint probability = -40.5326\n",
      "    Iter      log prob        ||dx||      ||grad||       alpha      alpha0  # evals  Notes \n",
      "      99       496.873     0.0187493       29.4483           1           1      115   \n",
      "    Iter      log prob        ||dx||      ||grad||       alpha      alpha0  # evals  Notes \n",
      "     199        499.27    0.00839295       18.6061      0.6308           1      244   \n",
      "    Iter      log prob        ||dx||      ||grad||       alpha      alpha0  # evals  Notes \n",
      "     253       499.481   0.000626182       20.1813   4.582e-05       0.001      362  LS failed, Hessian reset \n",
      "     299       499.527    0.00016212        4.8242           1           1      426   \n",
      "    Iter      log prob        ||dx||      ||grad||       alpha      alpha0  # evals  Notes \n",
      "     335       499.554   0.000793087       17.4712   7.243e-05       0.001      519  LS failed, Hessian reset \n",
      "     399       499.564   2.34802e-05       8.32642       4.622      0.4622      605   \n",
      "    Iter      log prob        ||dx||      ||grad||       alpha      alpha0  # evals  Notes \n",
      "     407       499.564   3.38891e-05       7.89154   4.784e-06       0.001      661  LS failed, Hessian reset \n",
      "     499       499.565    1.0167e-07       7.63604      0.0201      0.1887      774   \n",
      "Optimization terminated normally: \n",
      "  Convergence detected: relative gradient magnitude is below tolerance\n"
     ]
    },
    {
     "name": "stderr",
     "output_type": "stream",
     "text": [
      "INFO:prophet:Disabling yearly seasonality. Run prophet with yearly_seasonality=True to override this.\n",
      "INFO:prophet:Disabling daily seasonality. Run prophet with daily_seasonality=True to override this.\n"
     ]
    },
    {
     "name": "stdout",
     "output_type": "stream",
     "text": [
      "63 - G5400910: 1.9680970020126551 seconds\n",
      "Initial log joint probability = -6.42617\n",
      "    Iter      log prob        ||dx||      ||grad||       alpha      alpha0  # evals  Notes \n",
      "      99       368.993   0.000711804       8.43605      0.6998      0.6998      126   \n",
      "    Iter      log prob        ||dx||      ||grad||       alpha      alpha0  # evals  Notes \n",
      "     164       369.409   0.000481374       9.14244   6.977e-05       0.001      237  LS failed, Hessian reset \n",
      "     196       369.457   0.000182894       5.13713   3.062e-05       0.001      320  LS failed, Hessian reset \n",
      "     199       369.457   3.73004e-05       5.44233      0.4508      0.4508      323   \n",
      "    Iter      log prob        ||dx||      ||grad||       alpha      alpha0  # evals  Notes \n",
      "     270       369.592   0.000476016       9.59946   3.413e-05       0.001      450  LS failed, Hessian reset \n",
      "     299       369.684    0.00180138       7.81804      0.7302      0.7302      484   \n",
      "    Iter      log prob        ||dx||      ||grad||       alpha      alpha0  # evals  Notes \n",
      "     360       369.738    0.00096973       11.3428    0.000118       0.001      606  LS failed, Hessian reset \n",
      "     399       369.745    4.7176e-05       6.24102           1           1      668   \n",
      "    Iter      log prob        ||dx||      ||grad||       alpha      alpha0  # evals  Notes \n",
      "     411       369.746   0.000123151       6.30789   1.292e-05       0.001      715  LS failed, Hessian reset \n",
      "     499       369.753    0.00507128        7.5184           1           1      841   \n",
      "    Iter      log prob        ||dx||      ||grad||       alpha      alpha0  # evals  Notes \n",
      "     550       369.927   0.000395938       8.33578   3.766e-05       0.001      942  LS failed, Hessian reset \n",
      "     585       369.993   0.000221681       5.77875   3.617e-05       0.001     1021  LS failed, Hessian reset \n",
      "     599       369.994   5.86916e-06       4.28255      0.3607      0.3607     1042   \n",
      "    Iter      log prob        ||dx||      ||grad||       alpha      alpha0  # evals  Notes \n",
      "     614       369.994   4.06419e-07       5.29101      0.1842           1     1065   \n",
      "Optimization terminated normally: \n",
      "  Convergence detected: relative gradient magnitude is below tolerance\n"
     ]
    },
    {
     "name": "stderr",
     "output_type": "stream",
     "text": [
      "INFO:prophet:Disabling yearly seasonality. Run prophet with yearly_seasonality=True to override this.\n",
      "INFO:prophet:Disabling daily seasonality. Run prophet with daily_seasonality=True to override this.\n"
     ]
    },
    {
     "name": "stdout",
     "output_type": "stream",
     "text": [
      "64 - G4600950: 1.9785698468331248 seconds\n",
      "Initial log joint probability = -4.88208\n",
      "    Iter      log prob        ||dx||      ||grad||       alpha      alpha0  # evals  Notes \n",
      "      99       673.637    0.00884514       28.4156           1           1      118   \n",
      "    Iter      log prob        ||dx||      ||grad||       alpha      alpha0  # evals  Notes \n",
      "     199       686.998      0.027795       55.1868           1           1      241   \n",
      "    Iter      log prob        ||dx||      ||grad||       alpha      alpha0  # evals  Notes \n",
      "     299       693.755     0.0738212        52.874           1           1      352   \n",
      "    Iter      log prob        ||dx||      ||grad||       alpha      alpha0  # evals  Notes \n",
      "     399       697.443     0.0548884       74.2514           1           1      476   \n",
      "    Iter      log prob        ||dx||      ||grad||       alpha      alpha0  # evals  Notes \n",
      "     499       699.126      0.031637       18.9312           1           1      585   \n",
      "    Iter      log prob        ||dx||      ||grad||       alpha      alpha0  # evals  Notes \n",
      "     508       699.378   0.000478025       38.3947   2.045e-05       0.001      634  LS failed, Hessian reset \n",
      "     599       700.139   0.000696205       8.74152      0.4111           1      750   \n",
      "    Iter      log prob        ||dx||      ||grad||       alpha      alpha0  # evals  Notes \n",
      "     660       700.217   0.000164885       15.1667   8.744e-06       0.001      870  LS failed, Hessian reset \n",
      "     699       700.285    0.00022108       5.87684       4.147           1      934   \n",
      "    Iter      log prob        ||dx||      ||grad||       alpha      alpha0  # evals  Notes \n",
      "     756       700.713   0.000311984       28.2671   1.113e-05       0.001     1040  LS failed, Hessian reset \n",
      "     799       701.028      0.001481       9.05068      0.2598           1     1090   \n",
      "    Iter      log prob        ||dx||      ||grad||       alpha      alpha0  # evals  Notes \n",
      "     891       701.142   7.57234e-05       6.64604   9.021e-06       0.001     1251  LS failed, Hessian reset \n",
      "     899       701.149   0.000374923       9.60891      0.6525      0.6525     1260   \n",
      "    Iter      log prob        ||dx||      ||grad||       alpha      alpha0  # evals  Notes \n",
      "     943       701.157   0.000110847       10.7899   1.255e-05       0.001     1360  LS failed, Hessian reset \n",
      "     999       701.159    0.00157536       6.56996           1           1     1436   \n",
      "    Iter      log prob        ||dx||      ||grad||       alpha      alpha0  # evals  Notes \n",
      "    1099       701.164   8.76369e-05       6.93732      0.6685      0.6685     1573   \n",
      "    Iter      log prob        ||dx||      ||grad||       alpha      alpha0  # evals  Notes \n",
      "    1108       701.166   0.000279739       6.23706    3.04e-05       0.001     1631  LS failed, Hessian reset \n",
      "    1175       701.169   5.81233e-07       6.79909      0.2949           1     1729   \n",
      "Optimization terminated normally: \n",
      "  Convergence detected: relative gradient magnitude is below tolerance\n"
     ]
    },
    {
     "name": "stderr",
     "output_type": "stream",
     "text": [
      "INFO:prophet:Disabling yearly seasonality. Run prophet with yearly_seasonality=True to override this.\n",
      "INFO:prophet:Disabling daily seasonality. Run prophet with daily_seasonality=True to override this.\n"
     ]
    },
    {
     "name": "stdout",
     "output_type": "stream",
     "text": [
      "65 - G2200710: 2.213585070800036 seconds\n",
      "Initial log joint probability = -4.57757\n",
      "    Iter      log prob        ||dx||      ||grad||       alpha      alpha0  # evals  Notes \n",
      "      99       672.708   0.000841001       19.7675      0.4755      0.4755      121   \n",
      "    Iter      log prob        ||dx||      ||grad||       alpha      alpha0  # evals  Notes \n",
      "     199        673.79    0.00344013       21.6063           1           1      247   \n",
      "    Iter      log prob        ||dx||      ||grad||       alpha      alpha0  # evals  Notes \n",
      "     299       674.771   0.000849548       17.9079      0.2238           1      371   \n",
      "    Iter      log prob        ||dx||      ||grad||       alpha      alpha0  # evals  Notes \n",
      "     350       674.913   0.000123163       10.1389   1.384e-05       0.001      474  LS failed, Hessian reset \n",
      "     393       674.956   0.000792074       26.0135   0.0001022       0.001      557  LS failed, Hessian reset \n",
      "     399       674.968    0.00114423       8.17145        4.15      0.9006      565   \n",
      "    Iter      log prob        ||dx||      ||grad||       alpha      alpha0  # evals  Notes \n",
      "     470       675.029   0.000203676       17.1951   9.358e-06       0.001      686  LS failed, Hessian reset \n",
      "     499       675.065   0.000316372       7.82376      0.6028      0.6028      722   \n",
      "    Iter      log prob        ||dx||      ||grad||       alpha      alpha0  # evals  Notes \n",
      "     561       675.211   0.000190469       15.2847   1.207e-05       0.001      832  LS failed, Hessian reset \n",
      "     599       675.353    0.00107462       14.5299           1           1      882   \n",
      "    Iter      log prob        ||dx||      ||grad||       alpha      alpha0  # evals  Notes \n",
      "     643       675.378   0.000320522       6.95678    4.47e-05       0.001      981  LS failed, Hessian reset \n",
      "     684       675.387   9.68977e-05       7.21691   1.272e-05       0.001     1064  LS failed, Hessian reset \n",
      "     699       675.387   1.83173e-06        6.4703      0.2751      0.2751     1085   \n",
      "    Iter      log prob        ||dx||      ||grad||       alpha      alpha0  # evals  Notes \n",
      "     799        675.43    0.00353052        8.5512           1           1     1217   \n",
      "    Iter      log prob        ||dx||      ||grad||       alpha      alpha0  # evals  Notes \n",
      "     843       675.692   0.000197169        14.913   7.671e-06       0.001     1343  LS failed, Hessian reset \n",
      "     899        675.83    0.00190366       11.1801           1           1     1415   \n",
      "    Iter      log prob        ||dx||      ||grad||       alpha      alpha0  # evals  Notes \n",
      "     912       675.839   0.000107733       9.07556    1.58e-05       0.001     1481  LS failed, Hessian reset \n",
      "     977       675.844   2.85619e-07        5.4772      0.4333     0.01018     1568   \n",
      "Optimization terminated normally: \n",
      "  Convergence detected: relative gradient magnitude is below tolerance\n"
     ]
    },
    {
     "name": "stderr",
     "output_type": "stream",
     "text": [
      "INFO:prophet:Disabling yearly seasonality. Run prophet with yearly_seasonality=True to override this.\n",
      "INFO:prophet:Disabling daily seasonality. Run prophet with daily_seasonality=True to override this.\n"
     ]
    },
    {
     "name": "stdout",
     "output_type": "stream",
     "text": [
      "66 - G2100890: 2.486062631011009 seconds\n",
      "Initial log joint probability = -6.12012\n",
      "    Iter      log prob        ||dx||      ||grad||       alpha      alpha0  # evals  Notes \n",
      "      99        529.26    0.00353605       7.47833           1           1      113   \n",
      "    Iter      log prob        ||dx||      ||grad||       alpha      alpha0  # evals  Notes \n",
      "     153       529.855   0.000353899       11.0722   4.698e-05       0.001      218  LS failed, Hessian reset \n",
      "     199       529.995   0.000816911       6.85515      0.6507      0.6507      276   \n",
      "    Iter      log prob        ||dx||      ||grad||       alpha      alpha0  # evals  Notes \n",
      "     265       530.138   0.000247465       8.47835   2.361e-05       0.001      385  LS failed, Hessian reset \n",
      "     299       530.185    0.00100119       8.88427      0.3268           1      429   \n",
      "    Iter      log prob        ||dx||      ||grad||       alpha      alpha0  # evals  Notes \n",
      "     337       530.194   5.33833e-05       7.57222     7.9e-06       0.001      526  LS failed, Hessian reset \n",
      "     381       530.195   8.21121e-07       6.59264           1           1      587   \n",
      "Optimization terminated normally: \n",
      "  Convergence detected: relative gradient magnitude is below tolerance\n"
     ]
    },
    {
     "name": "stderr",
     "output_type": "stream",
     "text": [
      "INFO:prophet:Disabling yearly seasonality. Run prophet with yearly_seasonality=True to override this.\n",
      "INFO:prophet:Disabling daily seasonality. Run prophet with daily_seasonality=True to override this.\n"
     ]
    },
    {
     "name": "stdout",
     "output_type": "stream",
     "text": [
      "67 - G2200470: 2.0778025309555233 seconds\n",
      "Initial log joint probability = -4.56044\n",
      "    Iter      log prob        ||dx||      ||grad||       alpha      alpha0  # evals  Notes \n",
      "      99       700.814     0.0032145       21.4127      0.4167           1      116   \n",
      "    Iter      log prob        ||dx||      ||grad||       alpha      alpha0  # evals  Notes \n",
      "     107       700.848   0.000171895       14.0814   1.023e-05       0.001      165  LS failed, Hessian reset \n",
      "     199        701.22   0.000533571        6.9624           1           1      290   \n",
      "    Iter      log prob        ||dx||      ||grad||       alpha      alpha0  # evals  Notes \n",
      "     241       701.389   0.000325987       17.5313   4.208e-05       0.001      396  LS failed, Hessian reset \n",
      "     299       701.512     0.0017275       8.08968           1           1      464   \n",
      "    Iter      log prob        ||dx||      ||grad||       alpha      alpha0  # evals  Notes \n",
      "     378       701.555   0.000124882       10.5875   1.323e-05       0.001      607  LS failed, Hessian reset \n",
      "     399       701.556   1.94711e-05       6.82505           1           1      633   \n",
      "    Iter      log prob        ||dx||      ||grad||       alpha      alpha0  # evals  Notes \n",
      "     409       701.565   0.000151399       12.1411   1.504e-05       0.001      676  LS failed, Hessian reset \n",
      "     499        701.57    0.00257464       8.61999      0.1752           1      796   \n",
      "    Iter      log prob        ||dx||      ||grad||       alpha      alpha0  # evals  Notes \n",
      "     515       701.587    0.00104792       16.8563    7.56e-05       0.001      870  LS failed, Hessian reset \n",
      "     557       701.593   5.37531e-05       6.40785   6.157e-06       0.001      964  LS failed, Hessian reset \n",
      "     581       701.593   4.98356e-06       6.16139   7.411e-07       0.001     1031  LS failed, Hessian reset \n",
      "     589       701.593   6.20857e-07       4.89361      0.1466           1     1043   \n",
      "Optimization terminated normally: \n",
      "  Convergence detected: relative gradient magnitude is below tolerance\n"
     ]
    },
    {
     "name": "stderr",
     "output_type": "stream",
     "text": [
      "INFO:prophet:Disabling yearly seasonality. Run prophet with yearly_seasonality=True to override this.\n",
      "INFO:prophet:Disabling daily seasonality. Run prophet with daily_seasonality=True to override this.\n"
     ]
    },
    {
     "name": "stdout",
     "output_type": "stream",
     "text": [
      "68 - G2900690: 2.347084647975862 seconds\n",
      "Initial log joint probability = -4.64126\n",
      "    Iter      log prob        ||dx||      ||grad||       alpha      alpha0  # evals  Notes \n",
      "      99       593.226   0.000654621       25.0566      0.2729      0.2729      121   \n",
      "    Iter      log prob        ||dx||      ||grad||       alpha      alpha0  # evals  Notes \n",
      "     199       596.611    0.00203442       10.3039      0.4912           1      241   \n",
      "    Iter      log prob        ||dx||      ||grad||       alpha      alpha0  # evals  Notes \n",
      "     296       597.181   0.000687095       22.1511   7.588e-05       0.001      388  LS failed, Hessian reset \n",
      "     299       597.187     0.0011548       6.58294       9.104      0.9104      392   \n",
      "    Iter      log prob        ||dx||      ||grad||       alpha      alpha0  # evals  Notes \n",
      "     399       597.431     0.0220842       13.5998           1           1      515   \n",
      "    Iter      log prob        ||dx||      ||grad||       alpha      alpha0  # evals  Notes \n",
      "     408       597.509     0.0015317       12.4605   0.0001768       0.001      609  LS failed, Hessian reset \n",
      "     465       597.574   0.000288065       7.43114   4.106e-05       0.001      713  LS failed, Hessian reset \n",
      "     499       597.576   1.18948e-05       8.27306      0.2489     0.02489      758   \n",
      "    Iter      log prob        ||dx||      ||grad||       alpha      alpha0  # evals  Notes \n",
      "     599       597.631    0.00120282       8.77018      0.4978           1      874   \n",
      "    Iter      log prob        ||dx||      ||grad||       alpha      alpha0  # evals  Notes \n",
      "     678       597.649   5.37152e-05       7.22363    6.75e-06       0.001     1015  LS failed, Hessian reset \n",
      "     699       597.649   2.19464e-06        7.0152      0.2324           1     1043   \n",
      "    Iter      log prob        ||dx||      ||grad||       alpha      alpha0  # evals  Notes \n",
      "     708       597.649   2.19711e-07       6.59154      0.2228      0.2228     1060   \n",
      "Optimization terminated normally: \n",
      "  Convergence detected: relative gradient magnitude is below tolerance\n"
     ]
    },
    {
     "name": "stderr",
     "output_type": "stream",
     "text": [
      "INFO:prophet:Disabling yearly seasonality. Run prophet with yearly_seasonality=True to override this.\n",
      "INFO:prophet:Disabling daily seasonality. Run prophet with daily_seasonality=True to override this.\n"
     ]
    },
    {
     "name": "stdout",
     "output_type": "stream",
     "text": [
      "69 - G5100250: 2.282886771019548 seconds\n",
      "Initial log joint probability = -9.06036\n",
      "    Iter      log prob        ||dx||      ||grad||       alpha      alpha0  # evals  Notes \n",
      "      99       537.254     0.0214686        21.945           1           1      120   \n",
      "    Iter      log prob        ||dx||      ||grad||       alpha      alpha0  # evals  Notes \n",
      "     199       540.565    0.00015053       6.43177      0.1514      0.1514      244   \n",
      "    Iter      log prob        ||dx||      ||grad||       alpha      alpha0  # evals  Notes \n",
      "     299       541.275    0.00314574       10.8847      0.4867      0.4867      363   \n",
      "    Iter      log prob        ||dx||      ||grad||       alpha      alpha0  # evals  Notes \n",
      "     399       541.821     0.0108948       8.38796      0.6256      0.6256      490   \n",
      "    Iter      log prob        ||dx||      ||grad||       alpha      alpha0  # evals  Notes \n",
      "     440       541.917   0.000966778       13.6858    0.000132       0.001      578  LS failed, Hessian reset \n",
      "     473       541.938    0.00025415       5.59545   3.737e-05       0.001      650  LS failed, Hessian reset \n",
      "     499       541.946   1.72428e-05       7.67108      0.2779           1      683   \n",
      "    Iter      log prob        ||dx||      ||grad||       alpha      alpha0  # evals  Notes \n",
      "     526       541.947   4.70199e-05       6.75858   6.142e-06       0.001      752  LS failed, Hessian reset \n",
      "     568       541.948   8.90621e-07       5.51696       2.007      0.2007      801   \n",
      "Optimization terminated normally: \n",
      "  Convergence detected: relative gradient magnitude is below tolerance\n"
     ]
    },
    {
     "name": "stderr",
     "output_type": "stream",
     "text": [
      "INFO:prophet:Disabling yearly seasonality. Run prophet with yearly_seasonality=True to override this.\n",
      "INFO:prophet:Disabling daily seasonality. Run prophet with daily_seasonality=True to override this.\n"
     ]
    },
    {
     "name": "stdout",
     "output_type": "stream",
     "text": [
      "70 - G0100450: 2.3692788740154356 seconds\n",
      "Initial log joint probability = -3.90865\n",
      "    Iter      log prob        ||dx||      ||grad||       alpha      alpha0  # evals  Notes \n",
      "      99        576.31    0.00147279       14.4565      0.2201      0.2201      120   \n",
      "    Iter      log prob        ||dx||      ||grad||       alpha      alpha0  # evals  Notes \n",
      "     199       579.107      0.102342       174.987           1           1      237   \n",
      "    Iter      log prob        ||dx||      ||grad||       alpha      alpha0  # evals  Notes \n",
      "     206       579.337   0.000199066       12.2415   6.708e-06       0.001      275  LS failed, Hessian reset \n",
      "     299       580.655    0.00054986       7.77082           1           1      389   \n",
      "    Iter      log prob        ||dx||      ||grad||       alpha      alpha0  # evals  Notes \n",
      "     391       580.734   0.000112648       8.01139   1.526e-05       0.001      530  LS failed, Hessian reset \n",
      "     399       580.738    0.00127941       17.5721           1           1      538   \n",
      "    Iter      log prob        ||dx||      ||grad||       alpha      alpha0  # evals  Notes \n",
      "     499       580.951    0.00101716       21.2303      0.6438      0.6438      664   \n",
      "    Iter      log prob        ||dx||      ||grad||       alpha      alpha0  # evals  Notes \n",
      "     509       581.086   0.000243731       19.6774   1.382e-05       0.001      728  LS failed, Hessian reset \n",
      "     569       581.405   0.000375779       20.2085   3.358e-05       0.001      838  LS failed, Hessian reset \n",
      "     599       581.438   7.35721e-05       6.60078       0.745       0.745      878   \n",
      "    Iter      log prob        ||dx||      ||grad||       alpha      alpha0  # evals  Notes \n",
      "     626       581.444   6.52104e-05       7.84559    9.62e-06       0.001      939  LS failed, Hessian reset \n",
      "     650       581.444   3.77241e-07       5.23129      0.2728           1      973   \n",
      "Optimization terminated normally: \n",
      "  Convergence detected: relative gradient magnitude is below tolerance\n"
     ]
    },
    {
     "name": "stderr",
     "output_type": "stream",
     "text": [
      "INFO:prophet:Disabling yearly seasonality. Run prophet with yearly_seasonality=True to override this.\n",
      "INFO:prophet:Disabling daily seasonality. Run prophet with daily_seasonality=True to override this.\n"
     ]
    },
    {
     "name": "stdout",
     "output_type": "stream",
     "text": [
      "71 - G2701490: 2.560051580891013 seconds\n",
      "Initial log joint probability = -5.08533\n",
      "    Iter      log prob        ||dx||      ||grad||       alpha      alpha0  # evals  Notes \n",
      "      99       643.474    0.00418818       22.6929           1           1      130   \n",
      "    Iter      log prob        ||dx||      ||grad||       alpha      alpha0  # evals  Notes \n",
      "     163       644.968   0.000537301       27.9048   8.511e-06       0.001      249  LS failed, Hessian reset \n",
      "     199           646    0.00356708       12.2255      0.1718           1      290   \n",
      "    Iter      log prob        ||dx||      ||grad||       alpha      alpha0  # evals  Notes \n",
      "     250       646.336   0.000173707       12.5084    1.22e-05       0.001      385  LS failed, Hessian reset \n",
      "     299       646.398   0.000809686       8.07556           1           1      450   \n",
      "    Iter      log prob        ||dx||      ||grad||       alpha      alpha0  # evals  Notes \n",
      "     309       646.433    0.00130282       19.3666   0.0001688       0.001      500  LS failed, Hessian reset \n",
      "     399       646.476   0.000160375        10.111      0.6538      0.6538      607   \n",
      "    Iter      log prob        ||dx||      ||grad||       alpha      alpha0  # evals  Notes \n",
      "     427         646.6   0.000280728       12.2289   7.855e-06       0.001      676  LS failed, Hessian reset \n",
      "     473       646.726   0.000177265        6.3711   2.505e-05       0.001      774  LS failed, Hessian reset \n",
      "     499       646.727   7.22144e-06       7.77313      0.1855      0.1855      804   \n",
      "    Iter      log prob        ||dx||      ||grad||       alpha      alpha0  # evals  Notes \n",
      "     599       646.807    1.1297e-05       4.41677      0.4862      0.4862      919   \n",
      "    Iter      log prob        ||dx||      ||grad||       alpha      alpha0  # evals  Notes \n",
      "     676       646.919   9.96384e-05       6.64122   1.223e-05       0.001     1079  LS failed, Hessian reset \n",
      "     699       646.921   5.41877e-05       6.79281     0.07042           1     1113   \n",
      "    Iter      log prob        ||dx||      ||grad||       alpha      alpha0  # evals  Notes \n",
      "     797       646.929   1.35091e-06        7.1046           1           1     1244   \n",
      "Optimization terminated normally: \n",
      "  Convergence detected: relative gradient magnitude is below tolerance\n"
     ]
    },
    {
     "name": "stderr",
     "output_type": "stream",
     "text": [
      "INFO:prophet:Disabling yearly seasonality. Run prophet with yearly_seasonality=True to override this.\n",
      "INFO:prophet:Disabling daily seasonality. Run prophet with daily_seasonality=True to override this.\n"
     ]
    },
    {
     "name": "stdout",
     "output_type": "stream",
     "text": [
      "72 - G4701730: 2.0883185849525034 seconds\n",
      "Initial log joint probability = -4.48483\n",
      "    Iter      log prob        ||dx||      ||grad||       alpha      alpha0  # evals  Notes \n",
      "      99       639.628    0.00197204       20.3884      0.1727           1      129   \n",
      "    Iter      log prob        ||dx||      ||grad||       alpha      alpha0  # evals  Notes \n",
      "     115       639.747   0.000696107       19.9954   6.003e-05       0.001      180  LS failed, Hessian reset \n",
      "     171       639.936   0.000180237       9.75589   9.492e-06       0.001      282  LS failed, Hessian reset \n",
      "     199       640.055   0.000500732       9.29069      0.6112      0.6112      323   \n",
      "    Iter      log prob        ||dx||      ||grad||       alpha      alpha0  # evals  Notes \n",
      "     234       640.067   6.57564e-05        7.8464   8.031e-06       0.001      406  LS failed, Hessian reset \n",
      "     263       640.068   1.32127e-05       8.29693   1.589e-06       0.001      491  LS failed, Hessian reset \n",
      "     299       640.068   5.36278e-06       7.37746      0.7589      0.7589      535   \n",
      "    Iter      log prob        ||dx||      ||grad||       alpha      alpha0  # evals  Notes \n",
      "     310       640.068   6.14662e-07       6.52416     0.09789      0.4973      553   \n",
      "Optimization terminated normally: \n",
      "  Convergence detected: relative gradient magnitude is below tolerance\n"
     ]
    },
    {
     "name": "stderr",
     "output_type": "stream",
     "text": [
      "INFO:prophet:Disabling yearly seasonality. Run prophet with yearly_seasonality=True to override this.\n",
      "INFO:prophet:Disabling daily seasonality. Run prophet with daily_seasonality=True to override this.\n"
     ]
    },
    {
     "name": "stdout",
     "output_type": "stream",
     "text": [
      "73 - G2100230: 2.344943464966491 seconds\n",
      "Initial log joint probability = -5.15621\n",
      "    Iter      log prob        ||dx||      ||grad||       alpha      alpha0  # evals  Notes \n",
      "      99        659.11    0.00959519       23.5711           1           1      117   \n",
      "    Iter      log prob        ||dx||      ||grad||       alpha      alpha0  # evals  Notes \n",
      "     176       660.185   0.000168738         10.04   2.752e-05       0.001      245  LS failed, Hessian reset \n",
      "     199       660.283   0.000615298       15.4109       0.538       0.538      271   \n",
      "    Iter      log prob        ||dx||      ||grad||       alpha      alpha0  # evals  Notes \n",
      "     209       660.312   0.000149175       9.66994   9.662e-06       0.001      318  LS failed, Hessian reset \n",
      "     299       660.772    0.00654209       57.2431           1           1      429   \n",
      "    Iter      log prob        ||dx||      ||grad||       alpha      alpha0  # evals  Notes \n",
      "     343       660.901   0.000267596       12.9971     4.5e-05       0.001      514  LS failed, Hessian reset \n",
      "     399        660.94   0.000130166       6.17797      0.3066      0.3066      591   \n",
      "    Iter      log prob        ||dx||      ||grad||       alpha      alpha0  # evals  Notes \n",
      "     424       660.986   0.000218846       16.1927   1.399e-05       0.001      674  LS failed, Hessian reset \n",
      "     485       661.048   4.22126e-05       6.95892   6.643e-06       0.001      793  LS failed, Hessian reset \n",
      "     498       661.048   3.92943e-06       4.35371   7.567e-07       0.001      850  LS failed, Hessian reset \n",
      "     499       661.048   3.31767e-06       4.86871       2.557      0.8661      853   \n",
      "    Iter      log prob        ||dx||      ||grad||       alpha      alpha0  # evals  Notes \n",
      "     507       661.049   5.50482e-07       5.33576   1.242e-07       0.001      906  LS failed, Hessian reset \n",
      "Optimization terminated normally: \n",
      "  Convergence detected: relative gradient magnitude is below tolerance\n"
     ]
    },
    {
     "name": "stderr",
     "output_type": "stream",
     "text": [
      "INFO:prophet:Disabling yearly seasonality. Run prophet with yearly_seasonality=True to override this.\n",
      "INFO:prophet:Disabling daily seasonality. Run prophet with daily_seasonality=True to override this.\n"
     ]
    },
    {
     "name": "stdout",
     "output_type": "stream",
     "text": [
      "74 - G2200970: 2.1291080589871854 seconds\n",
      "Initial log joint probability = -2.77448\n",
      "    Iter      log prob        ||dx||      ||grad||       alpha      alpha0  # evals  Notes \n",
      "      99       844.335   0.000676249       22.0421      0.2369           1      126   \n",
      "    Iter      log prob        ||dx||      ||grad||       alpha      alpha0  # evals  Notes \n",
      "     199       844.494    0.00066912       7.01883      0.3861           1      268   \n",
      "    Iter      log prob        ||dx||      ||grad||       alpha      alpha0  # evals  Notes \n",
      "     229       844.618   0.000126629       18.5234   9.512e-06       0.001      344  LS failed, Hessian reset \n",
      "     299       844.712   0.000600264       20.1519      0.2373       0.581      438   \n",
      "    Iter      log prob        ||dx||      ||grad||       alpha      alpha0  # evals  Notes \n",
      "     393       844.751   3.55626e-05       8.70487   4.749e-06       0.001      616  LS failed, Hessian reset \n",
      "     399       844.752   9.96005e-06        4.6743      0.3496           1      625   \n",
      "    Iter      log prob        ||dx||      ||grad||       alpha      alpha0  # evals  Notes \n",
      "     412       844.752   4.06874e-08       7.81856     0.03284      0.1175      647   \n",
      "Optimization terminated normally: \n",
      "  Convergence detected: relative gradient magnitude is below tolerance\n"
     ]
    },
    {
     "name": "stderr",
     "output_type": "stream",
     "text": [
      "INFO:prophet:Disabling yearly seasonality. Run prophet with yearly_seasonality=True to override this.\n",
      "INFO:prophet:Disabling daily seasonality. Run prophet with daily_seasonality=True to override this.\n"
     ]
    },
    {
     "name": "stdout",
     "output_type": "stream",
     "text": [
      "75 - G4500030: 2.285871719941497 seconds\n",
      "Initial log joint probability = -5.32261\n",
      "    Iter      log prob        ||dx||      ||grad||       alpha      alpha0  # evals  Notes \n",
      "      99       691.949      0.212876       383.131           1           1      117   \n",
      "    Iter      log prob        ||dx||      ||grad||       alpha      alpha0  # evals  Notes \n",
      "     199       702.568    0.00933548       51.3518      0.3034     0.03034      231   \n",
      "    Iter      log prob        ||dx||      ||grad||       alpha      alpha0  # evals  Notes \n",
      "     299       704.335     0.0171095       12.9699       1.824      0.1824      346   \n",
      "    Iter      log prob        ||dx||      ||grad||       alpha      alpha0  # evals  Notes \n",
      "     337       705.677   0.000577275       37.5939   4.795e-06       0.001      422  LS failed, Hessian reset \n",
      "     399       706.868    0.00339206       30.6158           1           1      497   \n",
      "    Iter      log prob        ||dx||      ||grad||       alpha      alpha0  # evals  Notes \n",
      "     499       707.237      0.135112        18.443           1           1      619   \n",
      "    Iter      log prob        ||dx||      ||grad||       alpha      alpha0  # evals  Notes \n",
      "     596       708.595   0.000244357       25.7061    1.05e-05       0.001      767  LS failed, Hessian reset \n",
      "     599       708.604   0.000250251       10.0748           1           1      770   \n",
      "    Iter      log prob        ||dx||      ||grad||       alpha      alpha0  # evals  Notes \n",
      "     699       709.395     0.0110105       42.0587           1           1      887   \n",
      "    Iter      log prob        ||dx||      ||grad||       alpha      alpha0  # evals  Notes \n",
      "     799       709.584   0.000406241        6.0875      0.1886      0.8271     1016   \n",
      "    Iter      log prob        ||dx||      ||grad||       alpha      alpha0  # evals  Notes \n",
      "     899       709.741    0.00147961       33.5876      0.6443      0.6443     1127   \n",
      "    Iter      log prob        ||dx||      ||grad||       alpha      alpha0  # evals  Notes \n",
      "     999       709.797   1.55037e-05       5.93467           1           1     1256   \n",
      "    Iter      log prob        ||dx||      ||grad||       alpha      alpha0  # evals  Notes \n",
      "    1043       709.797   2.30843e-07       6.78631      0.1947      0.4626     1310   \n",
      "Optimization terminated normally: \n",
      "  Convergence detected: relative gradient magnitude is below tolerance\n"
     ]
    },
    {
     "name": "stderr",
     "output_type": "stream",
     "text": [
      "INFO:prophet:Disabling yearly seasonality. Run prophet with yearly_seasonality=True to override this.\n",
      "INFO:prophet:Disabling daily seasonality. Run prophet with daily_seasonality=True to override this.\n"
     ]
    },
    {
     "name": "stdout",
     "output_type": "stream",
     "text": [
      "76 - G5400570: 2.072532335994765 seconds\n",
      "Initial log joint probability = -2.96354\n",
      "    Iter      log prob        ||dx||      ||grad||       alpha      alpha0  # evals  Notes \n",
      "      99       448.115    0.00380231       12.6941      0.8015      0.8015      121   \n",
      "    Iter      log prob        ||dx||      ||grad||       alpha      alpha0  # evals  Notes \n",
      "     199       449.029    0.00302192       6.78731      0.5448           1      242   \n",
      "    Iter      log prob        ||dx||      ||grad||       alpha      alpha0  # evals  Notes \n",
      "     266       449.267   0.000191278       11.5667   2.411e-05       0.001      374  LS failed, Hessian reset \n",
      "     299       449.275   4.60377e-06       7.81532      0.2076           1      417   \n",
      "    Iter      log prob        ||dx||      ||grad||       alpha      alpha0  # evals  Notes \n",
      "     385       449.379   0.000340795       16.6123   3.088e-05       0.001      564  LS failed, Hessian reset \n",
      "     399       449.413   0.000490012       7.74483      0.3544           1      580   \n",
      "    Iter      log prob        ||dx||      ||grad||       alpha      alpha0  # evals  Notes \n",
      "     441       449.423   2.36948e-05       7.64512   3.211e-06       0.001      677  LS failed, Hessian reset \n",
      "     468       449.423   1.48944e-07       6.01067      0.6044      0.6044      714   \n",
      "Optimization terminated normally: \n",
      "  Convergence detected: relative gradient magnitude is below tolerance\n"
     ]
    },
    {
     "name": "stderr",
     "output_type": "stream",
     "text": [
      "INFO:prophet:Disabling yearly seasonality. Run prophet with yearly_seasonality=True to override this.\n",
      "INFO:prophet:Disabling daily seasonality. Run prophet with daily_seasonality=True to override this.\n"
     ]
    },
    {
     "name": "stdout",
     "output_type": "stream",
     "text": [
      "77 - G3000770: 2.2718332109507173 seconds\n",
      "Initial log joint probability = -6.91915\n",
      "    Iter      log prob        ||dx||      ||grad||       alpha      alpha0  # evals  Notes \n",
      "      99       528.722     0.0703348       55.4071          10           1      125   \n",
      "    Iter      log prob        ||dx||      ||grad||       alpha      alpha0  # evals  Notes \n",
      "     199       530.212   0.000998949       7.67713           1           1      248   \n",
      "    Iter      log prob        ||dx||      ||grad||       alpha      alpha0  # evals  Notes \n",
      "     243        530.93     0.0006417       17.4755   1.515e-05       0.001      364  LS failed, Hessian reset \n",
      "     299       532.005    0.00162499       8.73192       0.893       0.893      434   \n",
      "    Iter      log prob        ||dx||      ||grad||       alpha      alpha0  # evals  Notes \n",
      "     334       532.061   0.000276716       10.7128   1.634e-05       0.001      514  LS failed, Hessian reset \n",
      "     399        532.08   8.59608e-05       8.19818      0.8186      0.8186      597   \n",
      "    Iter      log prob        ||dx||      ||grad||       alpha      alpha0  # evals  Notes \n",
      "     411       532.116    0.00253685        13.449   0.0003082       0.001      644  LS failed, Hessian reset \n",
      "     499       532.194     0.0208288       13.2059           1           1      760   \n",
      "    Iter      log prob        ||dx||      ||grad||       alpha      alpha0  # evals  Notes \n",
      "     514       532.351   0.000182633       5.85241   1.609e-05       0.001      822  LS failed, Hessian reset \n",
      "     559       532.574   0.000423446       10.3511   5.194e-05       0.001      916  LS failed, Hessian reset \n",
      "     599       532.591   0.000200235       5.21074      0.4234      0.4234      970   \n",
      "    Iter      log prob        ||dx||      ||grad||       alpha      alpha0  # evals  Notes \n",
      "     619         532.6   0.000539569       9.98934   5.085e-05       0.001     1039  LS failed, Hessian reset \n",
      "     691        532.61   1.08605e-06       6.77231   2.467e-07       0.001     1176  LS failed, Hessian reset \n",
      "     699        532.61    2.1876e-06       6.16485           1           1     1186   \n",
      "    Iter      log prob        ||dx||      ||grad||       alpha      alpha0  # evals  Notes \n",
      "     799       532.615   1.25061e-05       6.61094           1           1     1310   \n",
      "    Iter      log prob        ||dx||      ||grad||       alpha      alpha0  # evals  Notes \n",
      "     877       532.617   7.99308e-06         5.519   8.294e-07       0.001     1447  LS failed, Hessian reset \n",
      "     886       532.617   4.14082e-07       5.81542     0.03473           1     1459   \n",
      "Optimization terminated normally: \n",
      "  Convergence detected: relative gradient magnitude is below tolerance\n"
     ]
    },
    {
     "name": "stderr",
     "output_type": "stream",
     "text": [
      "INFO:prophet:Disabling yearly seasonality. Run prophet with yearly_seasonality=True to override this.\n",
      "INFO:prophet:Disabling daily seasonality. Run prophet with daily_seasonality=True to override this.\n"
     ]
    },
    {
     "name": "stdout",
     "output_type": "stream",
     "text": [
      "78 - G3101210: 2.3170013909693807 seconds\n",
      "Initial log joint probability = -5.40855\n",
      "    Iter      log prob        ||dx||      ||grad||       alpha      alpha0  # evals  Notes \n",
      "      99       395.669      0.013602       16.0041      0.7031      0.7031      117   \n",
      "    Iter      log prob        ||dx||      ||grad||       alpha      alpha0  # evals  Notes \n",
      "     199       396.978    0.00157539       10.1489      0.8933      0.8933      237   \n",
      "    Iter      log prob        ||dx||      ||grad||       alpha      alpha0  # evals  Notes \n",
      "     275        397.61   0.000297839       8.00512   2.095e-05       0.001      396  LS failed, Hessian reset \n",
      "     299       397.782     0.0053467       11.6533           1           1      423   \n",
      "    Iter      log prob        ||dx||      ||grad||       alpha      alpha0  # evals  Notes \n",
      "     325       397.818   0.000401175       10.5446   5.131e-05       0.001      493  LS failed, Hessian reset \n",
      "     373       397.847   0.000418678       11.7757   3.564e-05       0.001      591  LS failed, Hessian reset \n",
      "     399       397.856    2.9057e-06        6.5806           1           1      632   \n",
      "    Iter      log prob        ||dx||      ||grad||       alpha      alpha0  # evals  Notes \n",
      "     410       397.857    0.00010069       6.94117   1.484e-05       0.001      681  LS failed, Hessian reset \n",
      "     423       397.857   2.45855e-09       6.09534   6.087e-05      0.6084      708   \n",
      "Optimization terminated normally: \n",
      "  Convergence detected: absolute parameter change was below tolerance\n"
     ]
    },
    {
     "name": "stderr",
     "output_type": "stream",
     "text": [
      "INFO:prophet:Disabling yearly seasonality. Run prophet with yearly_seasonality=True to override this.\n",
      "INFO:prophet:Disabling daily seasonality. Run prophet with daily_seasonality=True to override this.\n"
     ]
    },
    {
     "name": "stdout",
     "output_type": "stream",
     "text": [
      "79 - G3000910: 2.2807916898746043 seconds\n",
      "Initial log joint probability = -8.08018\n",
      "    Iter      log prob        ||dx||      ||grad||       alpha      alpha0  # evals  Notes \n",
      "      99       663.797     0.0101884       49.1665      0.1573           1      125   \n",
      "    Iter      log prob        ||dx||      ||grad||       alpha      alpha0  # evals  Notes \n",
      "     199       667.523    0.00300779       22.8399      0.8638      0.8638      243   \n",
      "    Iter      log prob        ||dx||      ||grad||       alpha      alpha0  # evals  Notes \n",
      "     204       667.706   0.000159179       9.16884   7.595e-06       0.001      298  LS failed, Hessian reset \n",
      "     249       668.008   0.000166942       12.5725   1.094e-05       0.001      386  LS failed, Hessian reset \n",
      "     264        668.06   0.000119633       6.92291   7.501e-06       0.001      447  LS failed, Hessian reset \n",
      "     299       668.099    0.00172234       9.90395       0.551       0.551      498   \n",
      "    Iter      log prob        ||dx||      ||grad||       alpha      alpha0  # evals  Notes \n",
      "     302       668.115   0.000242138       16.0258   1.771e-05       0.001      531  LS failed, Hessian reset \n",
      "     365       668.156   0.000138079        10.633   1.206e-05       0.001      647  LS failed, Hessian reset \n",
      "     399       668.166   3.69351e-06       5.33857           1           1      695   \n",
      "    Iter      log prob        ||dx||      ||grad||       alpha      alpha0  # evals  Notes \n",
      "     410       668.166   3.71299e-07       5.29848      0.1722      0.6087      711   \n",
      "Optimization terminated normally: \n",
      "  Convergence detected: relative gradient magnitude is below tolerance\n"
     ]
    },
    {
     "name": "stderr",
     "output_type": "stream",
     "text": [
      "INFO:prophet:Disabling yearly seasonality. Run prophet with yearly_seasonality=True to override this.\n",
      "INFO:prophet:Disabling daily seasonality. Run prophet with daily_seasonality=True to override this.\n"
     ]
    },
    {
     "name": "stdout",
     "output_type": "stream",
     "text": [
      "80 - G3900630: 2.140591184841469 seconds\n",
      "Initial log joint probability = -3.12269\n",
      "    Iter      log prob        ||dx||      ||grad||       alpha      alpha0  # evals  Notes \n",
      "      99       749.116     0.0211583       35.8301           1           1      126   \n",
      "    Iter      log prob        ||dx||      ||grad||       alpha      alpha0  # evals  Notes \n",
      "     199       751.875     0.0100721       48.2927      0.3903           1      240   \n",
      "    Iter      log prob        ||dx||      ||grad||       alpha      alpha0  # evals  Notes \n",
      "     229       751.998   0.000280624       16.6121   3.512e-05       0.001      310  LS failed, Hessian reset \n",
      "     267       752.047   0.000119765       12.6711   1.725e-05       0.001      396  LS failed, Hessian reset \n",
      "     299       752.066   0.000342627       7.78097           1           1      437   \n",
      "    Iter      log prob        ||dx||      ||grad||       alpha      alpha0  # evals  Notes \n",
      "     313       752.079   6.46104e-05       7.87958    5.91e-06       0.001      491  LS failed, Hessian reset \n",
      "     365       752.103   8.12238e-05       8.14583   4.617e-06       0.001      596  LS failed, Hessian reset \n",
      "     399       752.113    0.00130715       7.93152      0.4491           1      640   \n",
      "    Iter      log prob        ||dx||      ||grad||       alpha      alpha0  # evals  Notes \n",
      "     400       752.113   0.000105674       12.4023   1.332e-05       0.001      677  LS failed, Hessian reset \n",
      "     466       752.221   0.000169437       18.1297   1.433e-05       0.001      800  LS failed, Hessian reset \n",
      "     499       752.327   0.000592578       7.61958           1           1      841   \n",
      "    Iter      log prob        ||dx||      ||grad||       alpha      alpha0  # evals  Notes \n",
      "     560       752.363   0.000165482       12.5125   2.955e-05       0.001      962  LS failed, Hessian reset \n",
      "     599       752.374   2.99477e-05        6.1637      0.2703           1     1012   \n",
      "    Iter      log prob        ||dx||      ||grad||       alpha      alpha0  # evals  Notes \n",
      "     684       752.454   0.000103832       12.8635   7.399e-06       0.001     1143  LS failed, Hessian reset \n",
      "     699       752.495    0.00249858       16.1422           1           1     1158   \n",
      "    Iter      log prob        ||dx||      ||grad||       alpha      alpha0  # evals  Notes \n",
      "     799       752.535   1.02113e-05       7.18728   1.461e-06       0.001     1341  LS failed, Hessian reset \n",
      "    Iter      log prob        ||dx||      ||grad||       alpha      alpha0  # evals  Notes \n",
      "     815       752.535   1.00939e-06       4.83355      0.4891      0.4891     1361   \n",
      "Optimization terminated normally: \n",
      "  Convergence detected: relative gradient magnitude is below tolerance\n"
     ]
    },
    {
     "name": "stderr",
     "output_type": "stream",
     "text": [
      "INFO:prophet:Disabling yearly seasonality. Run prophet with yearly_seasonality=True to override this.\n",
      "INFO:prophet:Disabling daily seasonality. Run prophet with daily_seasonality=True to override this.\n"
     ]
    },
    {
     "name": "stdout",
     "output_type": "stream",
     "text": [
      "81 - G2801250: 2.2066112810280174 seconds\n",
      "Initial log joint probability = -5.78764\n",
      "    Iter      log prob        ||dx||      ||grad||       alpha      alpha0  # evals  Notes \n",
      "      99       681.498     0.0728133       142.322      0.1018           1      112   \n",
      "    Iter      log prob        ||dx||      ||grad||       alpha      alpha0  # evals  Notes \n",
      "     199       691.902    0.00608029       59.6295      0.3029           1      227   \n",
      "    Iter      log prob        ||dx||      ||grad||       alpha      alpha0  # evals  Notes \n",
      "     299       696.097    0.00536156       28.2175      0.3167           1      353   \n",
      "    Iter      log prob        ||dx||      ||grad||       alpha      alpha0  # evals  Notes \n",
      "     365       697.225   0.000974967       12.9255   6.162e-05       0.001      465  LS failed, Hessian reset \n",
      "     399       697.472     0.0225327       16.8235        4.44           1      506   \n",
      "    Iter      log prob        ||dx||      ||grad||       alpha      alpha0  # evals  Notes \n",
      "     491       699.727   0.000183279       18.7348   7.104e-06       0.001      664  LS failed, Hessian reset \n",
      "     499       699.812    0.00048714       14.9312      0.7027      0.7027      674   \n",
      "    Iter      log prob        ||dx||      ||grad||       alpha      alpha0  # evals  Notes \n",
      "     599       700.588    0.00582046       8.12532           1           1      807   \n",
      "    Iter      log prob        ||dx||      ||grad||       alpha      alpha0  # evals  Notes \n",
      "     619       700.773   0.000138912       13.8709   8.334e-06       0.001      863  LS failed, Hessian reset \n",
      "     640       700.907   0.000182233       18.7453   8.657e-06       0.001      924  LS failed, Hessian reset \n",
      "     699       701.062   0.000169821       7.86931      0.1456      0.1456     1005   \n",
      "    Iter      log prob        ||dx||      ||grad||       alpha      alpha0  # evals  Notes \n",
      "     799       701.603     0.0428138        33.918           1           1     1125   \n",
      "    Iter      log prob        ||dx||      ||grad||       alpha      alpha0  # evals  Notes \n",
      "     899       702.289    0.00602013       23.4441      0.3137           1     1251   \n",
      "    Iter      log prob        ||dx||      ||grad||       alpha      alpha0  # evals  Notes \n",
      "     996       702.775   0.000109218       7.63709   5.091e-06       0.001     1403  LS failed, Hessian reset \n",
      "     999       702.785   0.000345521       6.41988           1           1     1410   \n",
      "    Iter      log prob        ||dx||      ||grad||       alpha      alpha0  # evals  Notes \n",
      "    1082       702.915   0.000113203       11.6378   1.097e-05       0.001     1557  LS failed, Hessian reset \n",
      "    1099       702.957   0.000338717       7.68601      0.7729      0.7729     1577   \n",
      "    Iter      log prob        ||dx||      ||grad||       alpha      alpha0  # evals  Notes \n",
      "    1199       703.045   0.000293544         7.694           1           1     1703   \n",
      "    Iter      log prob        ||dx||      ||grad||       alpha      alpha0  # evals  Notes \n",
      "    1299       703.059   0.000514507       8.48677           1           1     1818   \n",
      "    Iter      log prob        ||dx||      ||grad||       alpha      alpha0  # evals  Notes \n",
      "    1399       703.213   0.000742509       6.95013      0.6246      0.6246     1957   \n",
      "    Iter      log prob        ||dx||      ||grad||       alpha      alpha0  # evals  Notes \n",
      "    1404       703.216   0.000120307       9.92208   1.697e-05       0.001     1999  LS failed, Hessian reset \n",
      "    1475        703.22   4.03212e-07       6.81404      0.7911      0.7911     2092   \n",
      "Optimization terminated normally: \n",
      "  Convergence detected: relative gradient magnitude is below tolerance\n"
     ]
    },
    {
     "name": "stderr",
     "output_type": "stream",
     "text": [
      "INFO:prophet:Disabling yearly seasonality. Run prophet with yearly_seasonality=True to override this.\n",
      "INFO:prophet:Disabling daily seasonality. Run prophet with daily_seasonality=True to override this.\n"
     ]
    },
    {
     "name": "stdout",
     "output_type": "stream",
     "text": [
      "82 - G1701170: 2.7401661509647965 seconds\n",
      "Initial log joint probability = -4.17649\n",
      "    Iter      log prob        ||dx||      ||grad||       alpha      alpha0  # evals  Notes \n",
      "      99       351.462       0.02606       37.4711           1           1      122   \n",
      "    Iter      log prob        ||dx||      ||grad||       alpha      alpha0  # evals  Notes \n",
      "     199       353.226    0.00442736       10.9156      0.3797           1      244   \n",
      "    Iter      log prob        ||dx||      ||grad||       alpha      alpha0  # evals  Notes \n",
      "     206       353.261   0.000681441       14.8454   9.981e-05       0.001      293  LS failed, Hessian reset \n",
      "     268       353.665   0.000508435       13.0601   5.067e-05       0.001      436  LS failed, Hessian reset \n",
      "     299       353.759   0.000562829       8.90848      0.2735           1      477   \n",
      "    Iter      log prob        ||dx||      ||grad||       alpha      alpha0  # evals  Notes \n",
      "     399       353.889   3.21423e-07       7.08114           1           1      599   \n",
      "    Iter      log prob        ||dx||      ||grad||       alpha      alpha0  # evals  Notes \n",
      "     412       353.889   2.76465e-07       5.13764     0.09502      0.5079      619   \n",
      "Optimization terminated normally: \n",
      "  Convergence detected: relative gradient magnitude is below tolerance\n"
     ]
    },
    {
     "name": "stderr",
     "output_type": "stream",
     "text": [
      "INFO:prophet:Disabling yearly seasonality. Run prophet with yearly_seasonality=True to override this.\n",
      "INFO:prophet:Disabling daily seasonality. Run prophet with daily_seasonality=True to override this.\n"
     ]
    },
    {
     "name": "stdout",
     "output_type": "stream",
     "text": [
      "83 - G3000710: 2.1914745839312673 seconds\n",
      "Initial log joint probability = -9.17575\n",
      "    Iter      log prob        ||dx||      ||grad||       alpha      alpha0  # evals  Notes \n",
      "      99       443.834    0.00803595       17.7606      0.3902      0.3902      129   \n",
      "    Iter      log prob        ||dx||      ||grad||       alpha      alpha0  # evals  Notes \n",
      "     170        444.84      0.000959       21.6048   7.566e-05       0.001      252  LS failed, Hessian reset \n",
      "     199       445.165   0.000318293       6.10899       1.551      0.1551      293   \n",
      "    Iter      log prob        ||dx||      ||grad||       alpha      alpha0  # evals  Notes \n",
      "     224       445.183    0.00143278       14.1835   0.0001845       0.001      361  LS failed, Hessian reset \n",
      "     259       445.188   2.75177e-05       6.44133   4.177e-06       0.001      449  LS failed, Hessian reset \n",
      "     281       445.188   3.03285e-07       5.48816      0.3452           1      479   \n",
      "Optimization terminated normally: \n",
      "  Convergence detected: relative gradient magnitude is below tolerance\n"
     ]
    },
    {
     "name": "stderr",
     "output_type": "stream",
     "text": [
      "INFO:prophet:Disabling yearly seasonality. Run prophet with yearly_seasonality=True to override this.\n",
      "INFO:prophet:Disabling daily seasonality. Run prophet with daily_seasonality=True to override this.\n"
     ]
    },
    {
     "name": "stdout",
     "output_type": "stream",
     "text": [
      "84 - G1901350: 2.6293566778767854 seconds\n",
      "Initial log joint probability = -8.79395\n",
      "    Iter      log prob        ||dx||      ||grad||       alpha      alpha0  # evals  Notes \n",
      "      99       595.358      0.034507       23.9939           1           1      131   \n",
      "    Iter      log prob        ||dx||      ||grad||       alpha      alpha0  # evals  Notes \n",
      "     199       599.123    0.00406944       11.3929           1           1      245   \n",
      "    Iter      log prob        ||dx||      ||grad||       alpha      alpha0  # evals  Notes \n",
      "     299       599.832    0.00954786       14.7247           1           1      371   \n",
      "    Iter      log prob        ||dx||      ||grad||       alpha      alpha0  # evals  Notes \n",
      "     399       600.508   0.000667278       16.6892      0.5962      0.5962      507   \n",
      "    Iter      log prob        ||dx||      ||grad||       alpha      alpha0  # evals  Notes \n",
      "     408       600.549   0.000207986       10.6015   1.157e-05       0.001      559  LS failed, Hessian reset \n",
      "     494       600.619   0.000166959       7.84307   2.608e-05       0.001      701  LS failed, Hessian reset \n",
      "     499        600.62   5.51624e-05       7.06529           1           1      707   \n",
      "    Iter      log prob        ||dx||      ||grad||       alpha      alpha0  # evals  Notes \n",
      "     543       600.629   0.000109874        6.2716   1.539e-05       0.001      795  LS failed, Hessian reset \n",
      "     599       600.636   0.000173824       7.82769           1           1      872   \n",
      "    Iter      log prob        ||dx||      ||grad||       alpha      alpha0  # evals  Notes \n",
      "     671       600.768   0.000278703       15.1005   1.364e-05       0.001      999  LS failed, Hessian reset \n",
      "     699        600.85   0.000490184        5.0856           1           1     1035   \n",
      "    Iter      log prob        ||dx||      ||grad||       alpha      alpha0  # evals  Notes \n",
      "     715       600.878   0.000269395       13.5141   2.699e-05       0.001     1094  LS failed, Hessian reset \n",
      "     789       600.897   0.000265476       8.02057   3.525e-05       0.001     1243  LS failed, Hessian reset \n",
      "     799       600.897   1.47317e-05       7.44439      0.7594      0.7594     1259   \n",
      "    Iter      log prob        ||dx||      ||grad||       alpha      alpha0  # evals  Notes \n",
      "     836       600.898   6.60845e-06       5.44436   9.957e-07       0.001     1346  LS failed, Hessian reset \n",
      "     857       600.898   4.52116e-07       5.05279      0.1616      0.5309     1372   \n",
      "Optimization terminated normally: \n",
      "  Convergence detected: relative gradient magnitude is below tolerance\n"
     ]
    },
    {
     "name": "stderr",
     "output_type": "stream",
     "text": [
      "INFO:prophet:Disabling yearly seasonality. Run prophet with yearly_seasonality=True to override this.\n",
      "INFO:prophet:Disabling daily seasonality. Run prophet with daily_seasonality=True to override this.\n"
     ]
    },
    {
     "name": "stdout",
     "output_type": "stream",
     "text": [
      "85 - G5101950: 2.3425101339817047 seconds\n",
      "Initial log joint probability = -8.71934\n",
      "    Iter      log prob        ||dx||      ||grad||       alpha      alpha0  # evals  Notes \n",
      "      99       511.214    0.00262424       7.62525      0.6449      0.6449      118   \n",
      "    Iter      log prob        ||dx||      ||grad||       alpha      alpha0  # evals  Notes \n",
      "     199        512.63      0.027893       19.7854     0.08719           1      245   \n",
      "    Iter      log prob        ||dx||      ||grad||       alpha      alpha0  # evals  Notes \n",
      "     291       513.126   0.000378836       10.4231   4.188e-05       0.001      403  LS failed, Hessian reset \n",
      "     299        513.13   0.000393048       7.35683      0.3258           1      412   \n",
      "    Iter      log prob        ||dx||      ||grad||       alpha      alpha0  # evals  Notes \n",
      "     377       513.162   0.000273573        8.8946   5.114e-05       0.001      556  LS failed, Hessian reset \n",
      "     399       513.171   0.000246747       6.88719           1           1      579   \n",
      "    Iter      log prob        ||dx||      ||grad||       alpha      alpha0  # evals  Notes \n",
      "     499       513.179   1.54528e-05       7.56324       0.723       0.723      705   \n",
      "    Iter      log prob        ||dx||      ||grad||       alpha      alpha0  # evals  Notes \n",
      "     507       513.179   8.58945e-05       8.35509   1.063e-05       0.001      749  LS failed, Hessian reset \n",
      "     535        513.18   8.11703e-08       6.63746      0.0616           1      787   \n",
      "Optimization terminated normally: \n",
      "  Convergence detected: relative gradient magnitude is below tolerance\n"
     ]
    },
    {
     "name": "stderr",
     "output_type": "stream",
     "text": [
      "INFO:prophet:Disabling yearly seasonality. Run prophet with yearly_seasonality=True to override this.\n",
      "INFO:prophet:Disabling daily seasonality. Run prophet with daily_seasonality=True to override this.\n"
     ]
    },
    {
     "name": "stdout",
     "output_type": "stream",
     "text": [
      "86 - G4601270: 2.2676442980300635 seconds\n",
      "Initial log joint probability = -6.25133\n",
      "    Iter      log prob        ||dx||      ||grad||       alpha      alpha0  # evals  Notes \n",
      "      99       555.224   0.000786044       11.9527      0.1591      0.1591      122   \n",
      "    Iter      log prob        ||dx||      ||grad||       alpha      alpha0  # evals  Notes \n",
      "     156       555.658    0.00147596       17.1118   0.0001807       0.001      221  LS failed, Hessian reset \n",
      "     199       555.725     0.0064907       18.8088      0.9706      0.9706      268   \n",
      "    Iter      log prob        ||dx||      ||grad||       alpha      alpha0  # evals  Notes \n",
      "     203       555.801     0.0021546        25.132   0.0002014       0.001      306  LS failed, Hessian reset \n",
      "     299       555.928    0.00308635       8.37027           1           1      420   \n",
      "    Iter      log prob        ||dx||      ||grad||       alpha      alpha0  # evals  Notes \n",
      "     399       555.988    0.00401892       9.40794      0.6462           1      534   \n",
      "    Iter      log prob        ||dx||      ||grad||       alpha      alpha0  # evals  Notes \n",
      "     461       556.021   0.000363014        10.256   4.093e-05       0.001      692  LS failed, Hessian reset \n",
      "     499       556.083   0.000611043        6.0885           1           1      732   \n",
      "    Iter      log prob        ||dx||      ||grad||       alpha      alpha0  # evals  Notes \n",
      "     545       556.105   9.48809e-05        5.4563   1.445e-05       0.001      823  LS failed, Hessian reset \n",
      "     592       556.107   2.72461e-07       8.25926           1           1      881   \n",
      "Optimization terminated normally: \n",
      "  Convergence detected: relative gradient magnitude is below tolerance\n"
     ]
    },
    {
     "name": "stderr",
     "output_type": "stream",
     "text": [
      "INFO:prophet:Disabling yearly seasonality. Run prophet with yearly_seasonality=True to override this.\n",
      "INFO:prophet:Disabling daily seasonality. Run prophet with daily_seasonality=True to override this.\n"
     ]
    },
    {
     "name": "stdout",
     "output_type": "stream",
     "text": [
      "87 - G4800770: 2.2340096381958574 seconds\n",
      "Initial log joint probability = -10.4436\n",
      "    Iter      log prob        ||dx||      ||grad||       alpha      alpha0  # evals  Notes \n",
      "      99       608.957     0.0357196        35.344           1           1      124   \n",
      "    Iter      log prob        ||dx||      ||grad||       alpha      alpha0  # evals  Notes \n",
      "     199       612.033     0.0048551        20.044      0.1968           1      246   \n",
      "    Iter      log prob        ||dx||      ||grad||       alpha      alpha0  # evals  Notes \n",
      "     299       612.423    0.00315444       10.2461           1           1      368   \n",
      "    Iter      log prob        ||dx||      ||grad||       alpha      alpha0  # evals  Notes \n",
      "     399       615.297    0.00264055       40.2611      0.5942      0.5942      480   \n",
      "    Iter      log prob        ||dx||      ||grad||       alpha      alpha0  # evals  Notes \n",
      "     499       615.622   0.000415769       6.68514      0.3973      0.3973      602   \n",
      "    Iter      log prob        ||dx||      ||grad||       alpha      alpha0  # evals  Notes \n",
      "     566       615.741   0.000204998       11.1852   1.309e-05       0.001      728  LS failed, Hessian reset \n",
      "     599       615.819   0.000291708       5.72783           1           1      770   \n",
      "    Iter      log prob        ||dx||      ||grad||       alpha      alpha0  # evals  Notes \n",
      "     699       615.901    0.00117603       7.80837      0.2725      0.7533      885   \n",
      "    Iter      log prob        ||dx||      ||grad||       alpha      alpha0  # evals  Notes \n",
      "     761       616.123   0.000298535       16.3981   2.639e-05       0.001      996  LS failed, Hessian reset \n",
      "     799       616.187   9.35101e-05       6.00237      0.7848      0.7848     1043   \n",
      "    Iter      log prob        ||dx||      ||grad||       alpha      alpha0  # evals  Notes \n",
      "     830        616.19   5.71899e-05       5.73542   5.777e-06       0.001     1115  LS failed, Hessian reset \n",
      "     858       616.191   5.83572e-07       6.94659           1           1     1156   \n",
      "Optimization terminated normally: \n",
      "  Convergence detected: relative gradient magnitude is below tolerance\n"
     ]
    },
    {
     "name": "stderr",
     "output_type": "stream",
     "text": [
      "INFO:prophet:Disabling yearly seasonality. Run prophet with yearly_seasonality=True to override this.\n",
      "INFO:prophet:Disabling daily seasonality. Run prophet with daily_seasonality=True to override this.\n"
     ]
    },
    {
     "name": "stdout",
     "output_type": "stream",
     "text": [
      "88 - G3300010: 2.1469170681666583 seconds\n",
      "Initial log joint probability = -11.5699\n",
      "    Iter      log prob        ||dx||      ||grad||       alpha      alpha0  # evals  Notes \n",
      "      99        383.13    6.0059e-05       6.95592      0.4404           1      125   \n",
      "    Iter      log prob        ||dx||      ||grad||       alpha      alpha0  # evals  Notes \n",
      "     121       383.147     0.0010365       12.8574   0.0001309       0.001      192  LS failed, Hessian reset \n",
      "     155       383.163   7.50609e-05       7.53396   9.306e-06       0.001      262  LS failed, Hessian reset \n",
      "     190       383.163   2.16505e-07       6.97497      0.2179           1      308   \n",
      "Optimization terminated normally: \n",
      "  Convergence detected: relative gradient magnitude is below tolerance\n"
     ]
    },
    {
     "name": "stderr",
     "output_type": "stream",
     "text": [
      "INFO:prophet:Disabling yearly seasonality. Run prophet with yearly_seasonality=True to override this.\n",
      "INFO:prophet:Disabling daily seasonality. Run prophet with daily_seasonality=True to override this.\n"
     ]
    },
    {
     "name": "stdout",
     "output_type": "stream",
     "text": [
      "89 - G4800030: 2.436893155099824 seconds\n",
      "Initial log joint probability = -2.93681\n",
      "    Iter      log prob        ||dx||      ||grad||       alpha      alpha0  # evals  Notes \n",
      "      83       751.176   0.000247572        20.139   2.778e-05       0.001      140  LS failed, Hessian reset \n",
      "      99       751.197   0.000551633       7.49694      0.6221      0.6221      160   \n",
      "    Iter      log prob        ||dx||      ||grad||       alpha      alpha0  # evals  Notes \n",
      "     199        751.42    0.00398725       10.2665           1           1      279   \n",
      "    Iter      log prob        ||dx||      ||grad||       alpha      alpha0  # evals  Notes \n",
      "     299       751.607    0.00188267       16.7933           1           1      405   \n",
      "    Iter      log prob        ||dx||      ||grad||       alpha      alpha0  # evals  Notes \n",
      "     377       751.616   2.37194e-07       8.22022      0.6912      0.6912      512   \n",
      "Optimization terminated normally: \n",
      "  Convergence detected: relative gradient magnitude is below tolerance\n"
     ]
    },
    {
     "name": "stderr",
     "output_type": "stream",
     "text": [
      "INFO:prophet:Disabling yearly seasonality. Run prophet with yearly_seasonality=True to override this.\n",
      "INFO:prophet:Disabling daily seasonality. Run prophet with daily_seasonality=True to override this.\n"
     ]
    },
    {
     "name": "stdout",
     "output_type": "stream",
     "text": [
      "90 - G2600330: 2.35232295980677 seconds\n",
      "Initial log joint probability = -8.78254\n",
      "    Iter      log prob        ||dx||      ||grad||       alpha      alpha0  # evals  Notes \n",
      "      99       640.744    0.00372267       16.2092      0.6494      0.6494      123   \n",
      "    Iter      log prob        ||dx||      ||grad||       alpha      alpha0  # evals  Notes \n",
      "     199       643.618    0.00852374        41.012           1           1      241   \n",
      "    Iter      log prob        ||dx||      ||grad||       alpha      alpha0  # evals  Notes \n",
      "     258       644.326   0.000348509       18.5288   2.295e-05       0.001      369  LS failed, Hessian reset \n",
      "     299       644.507    0.00195299       16.4774           1           1      417   \n",
      "    Iter      log prob        ||dx||      ||grad||       alpha      alpha0  # evals  Notes \n",
      "     308        644.53   0.000162075       9.87962   1.324e-05       0.001      457  LS failed, Hessian reset \n",
      "     387       644.604   0.000433768       10.2914   9.297e-05       0.001      600  LS failed, Hessian reset \n",
      "     399       644.605   8.49571e-05       5.34616           1           1      615   \n",
      "    Iter      log prob        ||dx||      ||grad||       alpha      alpha0  # evals  Notes \n",
      "     499       644.609   8.54434e-06       4.89454      0.9938      0.3346      750   \n",
      "    Iter      log prob        ||dx||      ||grad||       alpha      alpha0  # evals  Notes \n",
      "     530       644.609   1.39875e-06       4.99557           1           1      795   \n",
      "Optimization terminated normally: \n",
      "  Convergence detected: relative gradient magnitude is below tolerance\n"
     ]
    },
    {
     "name": "stderr",
     "output_type": "stream",
     "text": [
      "INFO:prophet:Disabling yearly seasonality. Run prophet with yearly_seasonality=True to override this.\n",
      "INFO:prophet:Disabling daily seasonality. Run prophet with daily_seasonality=True to override this.\n"
     ]
    },
    {
     "name": "stdout",
     "output_type": "stream",
     "text": [
      "91 - G3600250: 2.574474543100223 seconds\n",
      "Initial log joint probability = -2.50338\n",
      "    Iter      log prob        ||dx||      ||grad||       alpha      alpha0  # evals  Notes \n",
      "      99       871.483    0.00151555       33.5981           1           1      122   \n",
      "    Iter      log prob        ||dx||      ||grad||       alpha      alpha0  # evals  Notes \n",
      "     199       871.817     0.0012534       18.1709      0.4614      0.1328      247   \n",
      "    Iter      log prob        ||dx||      ||grad||       alpha      alpha0  # evals  Notes \n",
      "     221       871.853   0.000172444       21.8027   1.801e-05       0.001      301  LS failed, Hessian reset \n",
      "     284       871.877   2.24014e-05       6.46819   2.941e-06       0.001      409  LS failed, Hessian reset \n",
      "     299       871.883   0.000505098         10.93           1           1      425   \n",
      "    Iter      log prob        ||dx||      ||grad||       alpha      alpha0  # evals  Notes \n",
      "     399        871.94    0.00163601       8.56148           1           1      540   \n",
      "    Iter      log prob        ||dx||      ||grad||       alpha      alpha0  # evals  Notes \n",
      "     499       871.971   7.02251e-07       4.61842     0.07088           1      674   \n",
      "    Iter      log prob        ||dx||      ||grad||       alpha      alpha0  # evals  Notes \n",
      "     500       871.971   7.48582e-08       4.66131    0.004408           1      678   \n",
      "Optimization terminated normally: \n",
      "  Convergence detected: relative gradient magnitude is below tolerance\n"
     ]
    },
    {
     "name": "stderr",
     "output_type": "stream",
     "text": [
      "INFO:prophet:Disabling yearly seasonality. Run prophet with yearly_seasonality=True to override this.\n",
      "INFO:prophet:Disabling daily seasonality. Run prophet with daily_seasonality=True to override this.\n"
     ]
    },
    {
     "name": "stdout",
     "output_type": "stream",
     "text": [
      "92 - G3400090: 2.189048214117065 seconds\n",
      "Initial log joint probability = -12.6464\n",
      "    Iter      log prob        ||dx||      ||grad||       alpha      alpha0  # evals  Notes \n",
      "      99        588.23    0.00255942       18.6121           1           1      117   \n",
      "    Iter      log prob        ||dx||      ||grad||       alpha      alpha0  # evals  Notes \n",
      "     199       589.778     0.0565749       31.0628      0.3017           1      231   \n",
      "    Iter      log prob        ||dx||      ||grad||       alpha      alpha0  # evals  Notes \n",
      "     258       590.139   0.000682005       12.8077   8.362e-05       0.001      353  LS failed, Hessian reset \n",
      "     299       590.247    0.00073014       8.91585       0.653       0.653      407   \n",
      "    Iter      log prob        ||dx||      ||grad||       alpha      alpha0  # evals  Notes \n",
      "     393       590.518   0.000130682        6.9719   1.936e-05       0.001      589  LS failed, Hessian reset \n",
      "     399       590.519   2.13298e-05        5.8149      0.2065      0.8839      600   \n",
      "    Iter      log prob        ||dx||      ||grad||       alpha      alpha0  # evals  Notes \n",
      "     423        590.52   1.20761e-05       8.05266   1.476e-06       0.001      669  LS failed, Hessian reset \n",
      "     438        590.52   1.86004e-07       5.20291      0.4659           1      689   \n",
      "Optimization terminated normally: \n",
      "  Convergence detected: relative gradient magnitude is below tolerance\n"
     ]
    },
    {
     "name": "stderr",
     "output_type": "stream",
     "text": [
      "INFO:prophet:Disabling yearly seasonality. Run prophet with yearly_seasonality=True to override this.\n",
      "INFO:prophet:Disabling daily seasonality. Run prophet with daily_seasonality=True to override this.\n"
     ]
    },
    {
     "name": "stdout",
     "output_type": "stream",
     "text": [
      "93 - G3900870: 2.1021358019206673 seconds\n",
      "Initial log joint probability = -9.64822\n",
      "    Iter      log prob        ||dx||      ||grad||       alpha      alpha0  # evals  Notes \n",
      "      99       560.013      0.016154       18.0961           1           1      128   \n",
      "    Iter      log prob        ||dx||      ||grad||       alpha      alpha0  # evals  Notes \n",
      "     195       560.845    0.00024304       9.70296    1.95e-05       0.001      286  LS failed, Hessian reset \n",
      "     199       560.893    0.00524619       6.26234      0.2312           1      292   \n",
      "    Iter      log prob        ||dx||      ||grad||       alpha      alpha0  # evals  Notes \n",
      "     299       561.138    0.00519326       7.13495           1           1      410   \n",
      "    Iter      log prob        ||dx||      ||grad||       alpha      alpha0  # evals  Notes \n",
      "     307       561.317   0.000664789       12.2843   1.311e-05       0.001      455  LS failed, Hessian reset \n",
      "     345       561.473   1.19988e-05       6.79418   1.832e-06       0.001      547  LS failed, Hessian reset \n",
      "     399       561.523     0.0011032       5.63423      0.3513           1      617   \n",
      "    Iter      log prob        ||dx||      ||grad||       alpha      alpha0  # evals  Notes \n",
      "     428       561.691   0.000257873       10.0012   2.892e-05       0.001      695  LS failed, Hessian reset \n",
      "     493       561.752   0.000207758       8.00699   3.775e-05       0.001      827  LS failed, Hessian reset \n",
      "     499       561.753   7.59527e-05        6.7326       1.124      0.3385      836   \n",
      "    Iter      log prob        ||dx||      ||grad||       alpha      alpha0  # evals  Notes \n",
      "     532       561.753   1.50498e-05       6.16181   2.561e-06       0.001      921  LS failed, Hessian reset \n",
      "     547       561.753   1.31017e-07       4.86125    0.005739           1      944   \n",
      "Optimization terminated normally: \n",
      "  Convergence detected: relative gradient magnitude is below tolerance\n"
     ]
    },
    {
     "name": "stderr",
     "output_type": "stream",
     "text": [
      "INFO:prophet:Disabling yearly seasonality. Run prophet with yearly_seasonality=True to override this.\n",
      "INFO:prophet:Disabling daily seasonality. Run prophet with daily_seasonality=True to override this.\n"
     ]
    },
    {
     "name": "stdout",
     "output_type": "stream",
     "text": [
      "94 - G4803090: 2.0997424670495093 seconds\n",
      "Initial log joint probability = -10.5041\n",
      "    Iter      log prob        ||dx||      ||grad||       alpha      alpha0  # evals  Notes \n",
      "      79       575.143    0.00328999       19.1763   0.0002591       0.001      131  LS failed, Hessian reset \n",
      "      99       575.888    0.00795368       35.4393           1           1      152   \n",
      "    Iter      log prob        ||dx||      ||grad||       alpha      alpha0  # evals  Notes \n",
      "     146       577.079   0.000242762       10.4465   2.228e-05       0.001      256  LS failed, Hessian reset \n",
      "     199       577.696     0.0356889       20.7535           1           1      320   \n",
      "    Iter      log prob        ||dx||      ||grad||       alpha      alpha0  # evals  Notes \n",
      "     299       579.295    0.00253344       29.3068      0.1854      0.1854      437   \n",
      "    Iter      log prob        ||dx||      ||grad||       alpha      alpha0  # evals  Notes \n",
      "     360       579.699   0.000278119       11.4021    1.58e-05       0.001      543  LS failed, Hessian reset \n",
      "     388       579.742   0.000197889       9.88507   1.946e-05       0.001      613  LS failed, Hessian reset \n",
      "     399       579.756   0.000310353        7.1501      0.4591           1      626   \n",
      "    Iter      log prob        ||dx||      ||grad||       alpha      alpha0  # evals  Notes \n",
      "     499       580.022     0.0400963       11.8369           1           1      751   \n",
      "    Iter      log prob        ||dx||      ||grad||       alpha      alpha0  # evals  Notes \n",
      "     599       580.767     0.0465653       15.1422           1           1      874   \n",
      "    Iter      log prob        ||dx||      ||grad||       alpha      alpha0  # evals  Notes \n",
      "     610       580.969   0.000248432       11.0539   1.992e-05       0.001      926  LS failed, Hessian reset \n",
      "     699       581.225   3.15193e-06       6.45743           1           1     1045   \n",
      "    Iter      log prob        ||dx||      ||grad||       alpha      alpha0  # evals  Notes \n",
      "     710       581.225   6.59349e-06       6.94089   8.527e-07       0.001     1098  LS failed, Hessian reset \n",
      "     715       581.225   3.41043e-07       5.03744     0.04251           1     1105   \n",
      "Optimization terminated normally: \n",
      "  Convergence detected: relative gradient magnitude is below tolerance\n"
     ]
    },
    {
     "name": "stderr",
     "output_type": "stream",
     "text": [
      "INFO:prophet:Disabling yearly seasonality. Run prophet with yearly_seasonality=True to override this.\n",
      "INFO:prophet:Disabling daily seasonality. Run prophet with daily_seasonality=True to override this.\n"
     ]
    },
    {
     "name": "stdout",
     "output_type": "stream",
     "text": [
      "95 - G4701630: 2.414579062955454 seconds\n",
      "Initial log joint probability = -6.29915\n",
      "    Iter      log prob        ||dx||      ||grad||       alpha      alpha0  # evals  Notes \n",
      "      99        707.59     0.0111074       50.4131      0.5271      0.5271      124   \n",
      "    Iter      log prob        ||dx||      ||grad||       alpha      alpha0  # evals  Notes \n",
      "     199       714.192     0.0131065       131.895      0.4615           1      249   \n",
      "    Iter      log prob        ||dx||      ||grad||       alpha      alpha0  # evals  Notes \n",
      "     299        716.03     0.0939564       20.9727           1           1      371   \n",
      "    Iter      log prob        ||dx||      ||grad||       alpha      alpha0  # evals  Notes \n",
      "     399       717.535    0.00350814       9.71014           1           1      499   \n",
      "    Iter      log prob        ||dx||      ||grad||       alpha      alpha0  # evals  Notes \n",
      "     499       719.127    0.00512033        12.707           1           1      619   \n",
      "    Iter      log prob        ||dx||      ||grad||       alpha      alpha0  # evals  Notes \n",
      "     599       720.096    0.00190583       7.99495           1           1      745   \n",
      "    Iter      log prob        ||dx||      ||grad||       alpha      alpha0  # evals  Notes \n",
      "     640       720.191   0.000133461       13.0404   1.159e-05       0.001      825  LS failed, Hessian reset \n",
      "     699       720.255    0.00119438       8.77935       1.479      0.3963      902   \n",
      "    Iter      log prob        ||dx||      ||grad||       alpha      alpha0  # evals  Notes \n",
      "     799        721.05    0.00320191       22.3205      0.4764      0.4764     1024   \n",
      "    Iter      log prob        ||dx||      ||grad||       alpha      alpha0  # evals  Notes \n",
      "     802       721.058   0.000154158       14.1413   1.424e-05       0.001     1060  LS failed, Hessian reset \n",
      "     899       721.287    0.00137177       19.4629      0.2952           1     1181   \n",
      "    Iter      log prob        ||dx||      ||grad||       alpha      alpha0  # evals  Notes \n",
      "     909       721.299   0.000202788       13.2715   2.958e-05       0.001     1234  LS failed, Hessian reset \n",
      "     994       721.366   0.000111303       10.6626   6.808e-06       0.001     1384  LS failed, Hessian reset \n",
      "     999       721.374   0.000251081       6.16339      0.9229      0.9229     1391   \n",
      "    Iter      log prob        ||dx||      ||grad||       alpha      alpha0  # evals  Notes \n",
      "    1048       721.387   4.41693e-05       5.09047   9.895e-06       0.001     1516  LS failed, Hessian reset \n",
      "    1099       721.392    6.9162e-06        6.9748           1           1     1586   \n",
      "    Iter      log prob        ||dx||      ||grad||       alpha      alpha0  # evals  Notes \n",
      "    1121       721.392   2.45165e-06       4.43907      0.1721      0.5624     1617   \n",
      "Optimization terminated normally: \n",
      "  Convergence detected: relative gradient magnitude is below tolerance\n"
     ]
    },
    {
     "name": "stderr",
     "output_type": "stream",
     "text": [
      "INFO:prophet:Disabling yearly seasonality. Run prophet with yearly_seasonality=True to override this.\n",
      "INFO:prophet:Disabling daily seasonality. Run prophet with daily_seasonality=True to override this.\n"
     ]
    },
    {
     "name": "stdout",
     "output_type": "stream",
     "text": [
      "96 - G1700930: 2.748188554076478 seconds\n",
      "Initial log joint probability = -4.30049\n",
      "    Iter      log prob        ||dx||      ||grad||       alpha      alpha0  # evals  Notes \n",
      "      99       690.814     0.0196638       46.7974           1           1      117   \n",
      "    Iter      log prob        ||dx||      ||grad||       alpha      alpha0  # evals  Notes \n",
      "     199       691.988   0.000595841       15.0002      0.5115      0.5115      240   \n",
      "    Iter      log prob        ||dx||      ||grad||       alpha      alpha0  # evals  Notes \n",
      "     246       692.354   0.000184872       16.5245   7.552e-06       0.001      351  LS failed, Hessian reset \n",
      "     299       692.515   0.000285753       10.9189      0.5292      0.5292      421   \n",
      "    Iter      log prob        ||dx||      ||grad||       alpha      alpha0  # evals  Notes \n",
      "     333       692.531   5.06497e-05       5.07399   7.372e-06       0.001      510  LS failed, Hessian reset \n",
      "     378       692.536   3.38794e-05       6.02839   6.324e-06       0.001      618  LS failed, Hessian reset \n",
      "     399       692.539   5.35407e-08       5.65038     0.00394     0.01254      648   \n",
      "Optimization terminated normally: \n",
      "  Convergence detected: relative gradient magnitude is below tolerance\n"
     ]
    },
    {
     "name": "stderr",
     "output_type": "stream",
     "text": [
      "INFO:prophet:Disabling yearly seasonality. Run prophet with yearly_seasonality=True to override this.\n",
      "INFO:prophet:Disabling daily seasonality. Run prophet with daily_seasonality=True to override this.\n"
     ]
    },
    {
     "name": "stdout",
     "output_type": "stream",
     "text": [
      "97 - G2101330: 2.08098993008025 seconds\n",
      "Initial log joint probability = -6.88748\n",
      "    Iter      log prob        ||dx||      ||grad||       alpha      alpha0  # evals  Notes \n",
      "      99       722.465      0.014655       58.8905           1           1      120   \n",
      "    Iter      log prob        ||dx||      ||grad||       alpha      alpha0  # evals  Notes \n",
      "     199       730.625    0.00677918       24.9227      0.3401      0.3401      239   \n",
      "    Iter      log prob        ||dx||      ||grad||       alpha      alpha0  # evals  Notes \n",
      "     299       732.777    0.00255321       25.6554      0.3808      0.3808      367   \n",
      "    Iter      log prob        ||dx||      ||grad||       alpha      alpha0  # evals  Notes \n",
      "     379       733.655   0.000311587       29.2991   1.536e-05       0.001      508  LS failed, Hessian reset \n",
      "     392       733.831   9.16145e-05       9.78976   6.198e-06       0.001      559  LS failed, Hessian reset \n",
      "     399       733.883   0.000804494       7.39571           1           1      566   \n",
      "    Iter      log prob        ||dx||      ||grad||       alpha      alpha0  # evals  Notes \n",
      "     440       734.099   0.000105422       11.4475   8.552e-06       0.001      661  LS failed, Hessian reset \n",
      "     499       734.214   0.000132853       10.3276       0.638       0.638      736   \n",
      "    Iter      log prob        ||dx||      ||grad||       alpha      alpha0  # evals  Notes \n",
      "     549       734.472    0.00023471        24.566   8.895e-06       0.001      871  LS failed, Hessian reset \n",
      "     599       734.672    0.00096246       8.08678           1           1      927   \n",
      "    Iter      log prob        ||dx||      ||grad||       alpha      alpha0  # evals  Notes \n",
      "     656       734.753    0.00010283       10.8007   8.896e-06       0.001     1043  LS failed, Hessian reset \n",
      "     699       734.797   0.000580564       7.49021      0.9446      0.9446     1102   \n",
      "    Iter      log prob        ||dx||      ||grad||       alpha      alpha0  # evals  Notes \n",
      "     703       734.799   0.000138254         11.75    1.89e-05       0.001     1157  LS failed, Hessian reset \n",
      "     771       734.806   0.000225463       7.83644   2.748e-05       0.001     1296  LS failed, Hessian reset \n",
      "     799       734.807   1.34513e-06       6.08623           1           1     1338   \n",
      "    Iter      log prob        ||dx||      ||grad||       alpha      alpha0  # evals  Notes \n",
      "     809       734.807   7.79611e-07       6.09308           1           1     1357   \n",
      "Optimization terminated normally: \n",
      "  Convergence detected: relative gradient magnitude is below tolerance\n"
     ]
    },
    {
     "name": "stderr",
     "output_type": "stream",
     "text": [
      "INFO:prophet:Disabling yearly seasonality. Run prophet with yearly_seasonality=True to override this.\n",
      "INFO:prophet:Disabling daily seasonality. Run prophet with daily_seasonality=True to override this.\n"
     ]
    },
    {
     "name": "stdout",
     "output_type": "stream",
     "text": [
      "98 - G3900550: 2.2711215389426798 seconds\n",
      "Initial log joint probability = -9.27216\n",
      "    Iter      log prob        ||dx||      ||grad||       alpha      alpha0  # evals  Notes \n",
      "      99       482.847    0.00578454       27.2091      0.1756       0.652      118   \n",
      "    Iter      log prob        ||dx||      ||grad||       alpha      alpha0  # evals  Notes \n",
      "     199         485.5     0.0469767        10.643      0.5007           1      240   \n",
      "    Iter      log prob        ||dx||      ||grad||       alpha      alpha0  # evals  Notes \n",
      "     239       486.294   0.000377679       10.0056   2.797e-05       0.001      323  LS failed, Hessian reset \n",
      "     299       486.805   0.000522545       5.85138           1           1      398   \n",
      "    Iter      log prob        ||dx||      ||grad||       alpha      alpha0  # evals  Notes \n",
      "     338       486.865    0.00129107       14.0777   0.0001714       0.001      524  LS failed, Hessian reset \n",
      "     397       486.902    2.5492e-08       7.90293      0.1239      0.1239      598   \n",
      "Optimization terminated normally: \n",
      "  Convergence detected: relative gradient magnitude is below tolerance\n"
     ]
    },
    {
     "name": "stderr",
     "output_type": "stream",
     "text": [
      "INFO:prophet:Disabling yearly seasonality. Run prophet with yearly_seasonality=True to override this.\n",
      "INFO:prophet:Disabling daily seasonality. Run prophet with daily_seasonality=True to override this.\n"
     ]
    },
    {
     "name": "stdout",
     "output_type": "stream",
     "text": [
      "99 - G5101130: 2.011434368090704 seconds\n",
      "Initial log joint probability = -2.54864\n",
      "    Iter      log prob        ||dx||      ||grad||       alpha      alpha0  # evals  Notes \n",
      "      99       831.667   0.000119312       8.13975      0.5041      0.5041      124   \n",
      "    Iter      log prob        ||dx||      ||grad||       alpha      alpha0  # evals  Notes \n",
      "     164       831.668   1.16944e-06       6.15779      0.2513           1      208   \n",
      "Optimization terminated normally: \n",
      "  Convergence detected: relative gradient magnitude is below tolerance\n",
      "100 - G4800510: 1.9357968079857528 seconds\n"
     ]
    }
   ],
   "source": [
    "def predict_transfer(df_train):\n",
    "    # initilaize model with hyperparameters from parent model\n",
    "    m = Prophet(\n",
    "        seasonality_prior_scale = 10.0,\n",
    "        changepoint_prior_scale = 0.5,\n",
    "    )\n",
    "    m.fit(df_train, algorithm='LBFGS')\n",
    "    df_train_future = m.make_future_dataframe(periods=300, freq='H')\n",
    "    df_train_forecast = m.predict(df_train_future)\n",
    "\n",
    "    return m, df_train_future, df_train_forecast\n",
    "\n",
    "tl_models = {}\n",
    "counter = 1\n",
    "for gis_join in list(child_dfs.keys())[:100]:\n",
    "    time1 = time.monotonic()\n",
    "    m, df_train_future, df_train_forecast = predict_transfer(child_dfs[gis_join])\n",
    "    time2 = time.monotonic() - time1\n",
    "    print(f'{counter} - {gis_join}: {time2} seconds')\n",
    "    tl_models[gis_join] = TLModel(gis_join, time2, m)\n",
    "    counter += 1"
   ]
  },
  {
   "cell_type": "markdown",
   "id": "d514000a",
   "metadata": {},
   "source": [
    "## Collect Times taken to build Models"
   ]
  },
  {
   "cell_type": "code",
   "execution_count": 31,
   "id": "5a56d8a9",
   "metadata": {},
   "outputs": [],
   "source": [
    "import pandas as pd\n",
    "\n",
    "non_tl_times = [x.time for x in non_tl_models.values()]\n",
    "\n",
    "df_non_tl = pd.DataFrame(list(zip(non_tl_models.keys(), non_tl_times)), columns=['GISJOIN', 'Time'])\n",
    "df_non_tl.to_csv('covid_non_tl_times.csv', index=False)"
   ]
  },
  {
   "cell_type": "code",
   "execution_count": 41,
   "id": "522d589e",
   "metadata": {},
   "outputs": [],
   "source": [
    "tl_times = [x.time for x in tl_models.values()]\n",
    "\n",
    "df_non_tl = pd.DataFrame(list(zip(tl_models.keys(), tl_times)), columns=['GISJOIN', 'Time'])\n",
    "df_non_tl.to_csv('covid_tl_times.csv', index=False)"
   ]
  }
 ],
 "metadata": {
  "kernelspec": {
   "display_name": "Python 3 (ipykernel)",
   "language": "python",
   "name": "python3"
  },
  "language_info": {
   "codemirror_mode": {
    "name": "ipython",
    "version": 3
   },
   "file_extension": ".py",
   "mimetype": "text/x-python",
   "name": "python",
   "nbconvert_exporter": "python",
   "pygments_lexer": "ipython3",
   "version": "3.8.6"
  }
 },
 "nbformat": 4,
 "nbformat_minor": 5
}
