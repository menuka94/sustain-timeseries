{
 "cells": [
  {
   "cell_type": "code",
   "execution_count": 1,
   "id": "e96c9641",
   "metadata": {},
   "outputs": [
    {
     "name": "stdout",
     "output_type": "stream",
     "text": [
      "Spark Version: 3.0.1\n"
     ]
    },
    {
     "data": {
      "text/plain": [
       "DataFrame[GISJOIN: string, cases: bigint, deaths: bigint, date: string, formatted_date: struct<$date:string>]"
      ]
     },
     "execution_count": 1,
     "metadata": {},
     "output_type": "execute_result"
    }
   ],
   "source": [
    "import pandas as pd\n",
    "from prophet import Prophet\n",
    "from pymongo import MongoClient\n",
    "from prophet.plot import plot_plotly, plot_components_plotly\n",
    "\n",
    "from pyspark.sql.functions import pandas_udf, PandasUDFType\n",
    "from pyspark.sql.types import *\n",
    "\n",
    "from pyspark.sql import SparkSession\n",
    "\n",
    "spark = SparkSession.builder.master(\"local\").getOrCreate()\n",
    "print(f'Spark Version: {spark.sparkContext.version}')\n",
    "\n",
    "df = spark.read.format('json').load('./covid_county.json')\n",
    "\n",
    "df = df.select('GISJOIN', 'cases', 'deaths', 'date', 'formatted_date')"
   ]
  },
  {
   "cell_type": "code",
   "execution_count": 2,
   "id": "3fd94a6a",
   "metadata": {},
   "outputs": [
    {
     "name": "stdout",
     "output_type": "stream",
     "text": [
      "+--------+-----+------+----------+--------------------+\n",
      "| GISJOIN|cases|deaths|      date|      formatted_date|\n",
      "+--------+-----+------+----------+--------------------+\n",
      "|G0100010|    3|     0|2020-03-25|[2020-03-25T00:00...|\n",
      "|G0100010|    0|     0|2020-03-28|[2020-03-28T00:00...|\n",
      "|G0100010|    0|     0|2020-03-29|[2020-03-29T00:00...|\n",
      "|G0100010|    1|     0|2020-03-30|[2020-03-30T00:00...|\n",
      "|G0100010|    0|     0|2020-03-31|[2020-03-31T00:00...|\n",
      "|G0100010|    3|     0|2020-04-01|[2020-04-01T00:00...|\n",
      "|G0100010|    0|     0|2020-04-04|[2020-04-04T00:00...|\n",
      "|G0100010|    0|     0|2020-04-05|[2020-04-05T00:00...|\n",
      "|G0100010|    0|     1|2020-04-06|[2020-04-06T00:00...|\n",
      "|G0100010|    0|     0|2020-04-02|[2020-04-02T00:00...|\n",
      "|G0100010|    0|     0|2020-04-07|[2020-04-07T00:00...|\n",
      "|G0100010|    0|     0|2020-04-08|[2020-04-08T00:00...|\n",
      "|G0100010|    5|     0|2020-04-09|[2020-04-09T00:00...|\n",
      "|G0100010|    0|     0|2020-04-10|[2020-04-10T00:00...|\n",
      "|G0100010|    2|     0|2020-04-11|[2020-04-11T00:00...|\n",
      "|G0100010|    0|     0|2020-04-12|[2020-04-12T00:00...|\n",
      "|G0100010|    0|     0|2020-04-13|[2020-04-13T00:00...|\n",
      "|G0100010|   16|     0|2020-09-15|[2020-09-15T00:00...|\n",
      "|G0100010|   18|     0|2020-09-16|[2020-09-16T00:00...|\n",
      "|G0100010|    5|     0|2020-09-17|[2020-09-17T00:00...|\n",
      "+--------+-----+------+----------+--------------------+\n",
      "only showing top 20 rows\n",
      "\n"
     ]
    }
   ],
   "source": [
    "df.show()"
   ]
  },
  {
   "cell_type": "code",
   "execution_count": 3,
   "id": "7b385a14",
   "metadata": {},
   "outputs": [
    {
     "name": "stdout",
     "output_type": "stream",
     "text": [
      "log: result_schema created\n",
      "log: Showing df_cases\n",
      "+--------+----------+---+\n",
      "| GISJOIN|        ds|  y|\n",
      "+--------+----------+---+\n",
      "|G0100010|2020-03-25|  3|\n",
      "|G0100010|2020-03-28|  0|\n",
      "|G0100010|2020-03-29|  0|\n",
      "|G0100010|2020-03-30|  1|\n",
      "|G0100010|2020-03-31|  0|\n",
      "|G0100010|2020-04-01|  3|\n",
      "|G0100010|2020-04-04|  0|\n",
      "|G0100010|2020-04-05|  0|\n",
      "|G0100010|2020-04-06|  0|\n",
      "|G0100010|2020-04-02|  0|\n",
      "|G0100010|2020-04-07|  0|\n",
      "|G0100010|2020-04-08|  0|\n",
      "|G0100010|2020-04-09|  5|\n",
      "|G0100010|2020-04-10|  0|\n",
      "|G0100010|2020-04-11|  2|\n",
      "|G0100010|2020-04-12|  0|\n",
      "|G0100010|2020-04-13|  0|\n",
      "|G0100010|2020-09-15| 16|\n",
      "|G0100010|2020-09-16| 18|\n",
      "|G0100010|2020-09-17|  5|\n",
      "+--------+----------+---+\n",
      "only showing top 20 rows\n",
      "\n"
     ]
    }
   ],
   "source": [
    "result_schema = StructType([\n",
    "    StructField(\"ds\", DateType(), True),\n",
    "    StructField(\"yhat\", DoubleType(), True),\n",
    "    StructField(\"yhat_lower\", DoubleType(), True),\n",
    "    StructField(\"yhat_upper\", DoubleType(), True)\n",
    "])\n",
    "print('log: result_schema created')\n",
    "\n",
    "\n",
    "@pandas_udf(result_schema, PandasUDFType.GROUPED_MAP)\n",
    "def temp(df0):\n",
    "    # instantiate the model, configure the parameters\n",
    "    m = Prophet()\n",
    "    m.fit(df0)\n",
    "    df0_future = m.make_future_dataframe(periods=365)\n",
    "    df0_forecast = m.predict(df0_future)\n",
    "\n",
    "    return df0_forecast[['ds', 'yhat', 'yhat_lower', 'yhat_upper']]\n",
    "\n",
    "\n",
    "df_cases = df.select('GISJOIN', 'date', 'cases').withColumnRenamed('date', 'ds').withColumnRenamed('cases', 'y')\n",
    "print('log: Showing df_cases')\n",
    "df_cases.show()"
   ]
  },
  {
   "cell_type": "code",
   "execution_count": 4,
   "id": "8a701a67",
   "metadata": {},
   "outputs": [
    {
     "name": "stderr",
     "output_type": "stream",
     "text": [
      "/mnt/6FC71512346BCBD9/github/sustain-timeseries/venv39/lib/python3.9/site-packages/pyspark/sql/pandas/group_ops.py:73: UserWarning: It is preferred to use 'applyInPandas' over this API. This API will be deprecated in the future releases. See SPARK-28264 for more details.\n",
      "  warnings.warn(\n"
     ]
    },
    {
     "name": "stdout",
     "output_type": "stream",
     "text": [
      "log: Showing results\n",
      "+----------+-------------------+-------------------+------------------+\n",
      "|        ds|               yhat|         yhat_lower|        yhat_upper|\n",
      "+----------+-------------------+-------------------+------------------+\n",
      "|2020-03-17| -9.917528714739337|-148.52329811613367|127.89335354248482|\n",
      "|2020-03-18| 2.5070101773115603| -143.1019733275764|151.59268202876288|\n",
      "|2020-03-19|  24.17156137325841|-119.84131526305589|159.49667096581467|\n",
      "|2020-03-20|  8.741398303584567|-134.29060909765994|150.37174283875493|\n",
      "|2020-03-21|  36.17421812539644|-109.69836329824889| 182.7802933851085|\n",
      "|2020-03-22| -6.010805038355219|-157.09645756816394|135.77816301115692|\n",
      "|2020-03-23|-16.904925661884718|-164.51731929361455|124.49948201128198|\n",
      "|2020-03-24| -3.022601101004865|-148.72412465274144|146.21445841590707|\n",
      "|2020-03-25|   9.40193779094049|-143.59018705402633|152.50635811309732|\n",
      "|2020-03-26| 31.066488986919392| -111.8707656014515| 177.9503284453844|\n",
      "|2020-03-27| 15.636325917202164|-135.18851925229404|168.70346859146673|\n",
      "|2020-03-28|  43.06914573899206| -87.74103883447539|182.30083574159312|\n",
      "|2020-03-29| 0.8841225680549076|-148.01154548153548|151.61635965837397|\n",
      "|2020-03-30|-10.009998062763435| -149.3418901019604|134.87470663824183|\n",
      "|2020-03-31| 3.8723264908809636|-142.92957848337772|162.59491745188203|\n",
      "|2020-04-01| 16.296865375778108|-119.48975441079469|152.36267841731615|\n",
      "|2020-04-02|  37.96141656454292|-112.32209001578315|179.19167130034228|\n",
      "|2020-04-03|  22.53125348767537|-134.16531984156742|168.90525270206774|\n",
      "|2020-04-04|  49.96407330228793| -93.23960642579969| 192.3920535164384|\n",
      "|2020-04-05|  7.779050131385228|  -146.170856256351|147.23088203596546|\n",
      "+----------+-------------------+-------------------+------------------+\n",
      "only showing top 20 rows\n",
      "\n"
     ]
    }
   ],
   "source": [
    "results = (df_cases.groupBy('GISJOIN').apply(temp))\n",
    "\n",
    "print('log: Showing results');\n",
    "results.show()"
   ]
  },
  {
   "cell_type": "code",
   "execution_count": 9,
   "id": "dff356b7",
   "metadata": {},
   "outputs": [
    {
     "data": {
      "text/plain": [
       "2194486"
      ]
     },
     "execution_count": 9,
     "metadata": {},
     "output_type": "execute_result"
    }
   ],
   "source": [
    "results.count()"
   ]
  }
 ],
 "metadata": {
  "kernelspec": {
   "display_name": "Python 3",
   "language": "python",
   "name": "python3"
  },
  "language_info": {
   "codemirror_mode": {
    "name": "ipython",
    "version": 3
   },
   "file_extension": ".py",
   "mimetype": "text/x-python",
   "name": "python",
   "nbconvert_exporter": "python",
   "pygments_lexer": "ipython3",
   "version": "3.9.4"
  }
 },
 "nbformat": 4,
 "nbformat_minor": 5
}
