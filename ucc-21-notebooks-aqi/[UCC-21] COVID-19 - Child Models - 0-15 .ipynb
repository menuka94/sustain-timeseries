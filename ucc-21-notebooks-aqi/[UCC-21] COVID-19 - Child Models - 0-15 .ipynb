{
 "cells": [
  {
   "cell_type": "code",
   "execution_count": 6,
   "id": "4d1058ff",
   "metadata": {},
   "outputs": [],
   "source": [
    "import pandas as pd\n",
    "from prophet import Prophet\n",
    "from pymongo import MongoClient\n",
    "from prophet.plot import plot_plotly, plot_components_plotly\n",
    "import os\n",
    "import time\n",
    "import pickle\n",
    "import numpy as np\n",
    "from datetime import datetime\n",
    "import itertools\n",
    "import dask\n",
    "from dask.distributed import Client"
   ]
  },
  {
   "cell_type": "code",
   "execution_count": 7,
   "id": "693d15fd",
   "metadata": {},
   "outputs": [
    {
     "data": {
      "text/plain": [
       "(56, 4)"
      ]
     },
     "execution_count": 7,
     "metadata": {},
     "output_type": "execute_result"
    }
   ],
   "source": [
    "df_parent = pd.read_csv('covid_parents_trained.csv')\n",
    "df_parent.shape"
   ]
  },
  {
   "cell_type": "code",
   "execution_count": 10,
   "id": "7d55e59a",
   "metadata": {},
   "outputs": [
    {
     "name": "stdout",
     "output_type": "stream",
     "text": [
      "56\n"
     ]
    }
   ],
   "source": [
    "class TrainedParent:\n",
    "    def __init__(self, gis_join, rmse, changepoint_prior_scale, seasonality_prior_scale):\n",
    "        self.gis_join = gis_join\n",
    "        self.rmse = rmse\n",
    "        self.changepoint_prior_scale = changepoint_prior_scale\n",
    "        self.seasonality_prior_scale = seasonality_prior_scale\n",
    "        \n",
    "    def __str__(self):\n",
    "        return f'{self.gis_join}: (rmse={self.rmse}, changepoint_prior_scale={self.changepoint_prior_scale}, seasonality_prior_scale={self.seasonality_prior_scale})'\n",
    "    \n",
    "trained_parents_map = {}  \n",
    "for i, row in df_parent.iterrows():\n",
    "    gis_join = row['GISJOIN']\n",
    "    rmse = row['rmse']\n",
    "    changepoint_prior_scale = row['changepoint_prior_scale']\n",
    "    seasonality_prior_scale = row['seasonality_prior_scale']\n",
    "    trained_parents_map[gis_join] = (TrainedParent(gis_join, \n",
    "                                                   rmse, changepoint_prior_scale, seasonality_prior_scale))\n",
    "    \n",
    "print(len(trained_parents_map.keys()))"
   ]
  },
  {
   "cell_type": "code",
   "execution_count": 11,
   "id": "a5c8cb01",
   "metadata": {},
   "outputs": [],
   "source": [
    "# Load Child Parent Map\n",
    "parent_child_map = pickle.load(open('pickles/parent_child_map.pkl', 'rb'))"
   ]
  },
  {
   "cell_type": "code",
   "execution_count": 18,
   "id": "2938d930",
   "metadata": {},
   "outputs": [
    {
     "data": {
      "text/html": [
       "<div>\n",
       "<style scoped>\n",
       "    .dataframe tbody tr th:only-of-type {\n",
       "        vertical-align: middle;\n",
       "    }\n",
       "\n",
       "    .dataframe tbody tr th {\n",
       "        vertical-align: top;\n",
       "    }\n",
       "\n",
       "    .dataframe thead th {\n",
       "        text-align: right;\n",
       "    }\n",
       "</style>\n",
       "<table border=\"1\" class=\"dataframe\">\n",
       "  <thead>\n",
       "    <tr style=\"text-align: right;\">\n",
       "      <th></th>\n",
       "      <th>Unnamed: 0</th>\n",
       "      <th>GISJOIN</th>\n",
       "      <th>cluster_id</th>\n",
       "      <th>distance</th>\n",
       "      <th>is_parent</th>\n",
       "      <th>frac_distance</th>\n",
       "      <th>sample_percent</th>\n",
       "    </tr>\n",
       "  </thead>\n",
       "  <tbody>\n",
       "    <tr>\n",
       "      <th>0</th>\n",
       "      <td>0</td>\n",
       "      <td>G0100010</td>\n",
       "      <td>28</td>\n",
       "      <td>2.045455</td>\n",
       "      <td>0.0</td>\n",
       "      <td>0.011364</td>\n",
       "      <td>0.052273</td>\n",
       "    </tr>\n",
       "    <tr>\n",
       "      <th>1</th>\n",
       "      <td>1</td>\n",
       "      <td>G0100030</td>\n",
       "      <td>8</td>\n",
       "      <td>47.464286</td>\n",
       "      <td>0.0</td>\n",
       "      <td>0.158088</td>\n",
       "      <td>0.081618</td>\n",
       "    </tr>\n",
       "    <tr>\n",
       "      <th>2</th>\n",
       "      <td>2</td>\n",
       "      <td>G0100050</td>\n",
       "      <td>51</td>\n",
       "      <td>5.167382</td>\n",
       "      <td>0.0</td>\n",
       "      <td>0.104167</td>\n",
       "      <td>0.070833</td>\n",
       "    </tr>\n",
       "    <tr>\n",
       "      <th>3</th>\n",
       "      <td>3</td>\n",
       "      <td>G0100070</td>\n",
       "      <td>51</td>\n",
       "      <td>16.832618</td>\n",
       "      <td>0.0</td>\n",
       "      <td>0.347192</td>\n",
       "      <td>0.119438</td>\n",
       "    </tr>\n",
       "    <tr>\n",
       "      <th>4</th>\n",
       "      <td>4</td>\n",
       "      <td>G0100090</td>\n",
       "      <td>16</td>\n",
       "      <td>97.492857</td>\n",
       "      <td>0.0</td>\n",
       "      <td>0.905660</td>\n",
       "      <td>0.231132</td>\n",
       "    </tr>\n",
       "  </tbody>\n",
       "</table>\n",
       "</div>"
      ],
      "text/plain": [
       "   Unnamed: 0   GISJOIN  cluster_id   distance  is_parent  frac_distance  \\\n",
       "0           0  G0100010          28   2.045455        0.0       0.011364   \n",
       "1           1  G0100030           8  47.464286        0.0       0.158088   \n",
       "2           2  G0100050          51   5.167382        0.0       0.104167   \n",
       "3           3  G0100070          51  16.832618        0.0       0.347192   \n",
       "4           4  G0100090          16  97.492857        0.0       0.905660   \n",
       "\n",
       "   sample_percent  \n",
       "0        0.052273  \n",
       "1        0.081618  \n",
       "2        0.070833  \n",
       "3        0.119438  \n",
       "4        0.231132  "
      ]
     },
     "execution_count": 18,
     "metadata": {},
     "output_type": "execute_result"
    }
   ],
   "source": [
    "df_clusters = pd.read_csv('./clusters-covid.csv')\n",
    "df_clusters.head()"
   ]
  },
  {
   "cell_type": "code",
   "execution_count": 19,
   "id": "c10aff60",
   "metadata": {},
   "outputs": [
    {
     "name": "stdout",
     "output_type": "stream",
     "text": [
      "parents_pickle: {'G4201010', 'G0100790', 'G5300350', 'G3600290', 'G1300210', 'G0400130', 'G1800950', 'G3601190', 'G0600650', 'G1801030', 'G1200990', 'G3901510', 'G4804390', 'G0500330', 'G0500890', 'G4803750', 'G1200710', 'G1600810', 'G4500790', 'G4801570', 'G4800290', 'G3400290', 'G1901670', 'G3701190', 'G1600750', 'G4800270', 'G1200860', 'G4900490', 'G4701710', 'G2100670', 'G4600910', 'G4500450', 'G0800690', 'G1200570', 'G4802010', 'G3900490', 'G0600730', 'G2101110', 'G1301170', 'G4500310', 'G2700270', 'G3400070', 'G5500090', 'G0800410', 'G0600010', 'G4200710', 'G5300050', 'G3000310', 'G4200910', 'G3600590', 'G4900350', 'G0600370', 'G0600590', 'G4001090', 'G1700270', 'G3900350'}\n",
      "parents_csv: {'G4201010', 'G0100790', 'G5300350', 'G3600290', 'G1300210', 'G0400130', 'G1800950', 'G1801030', 'G3601190', 'G1200990', 'G3901510', 'G4804390', 'G0500330', 'G0500890', 'G4803750', 'G1700270', 'G1200710', 'G1600810', 'G4500790', 'G3400290', 'G4800290', 'G4801570', 'G1901670', 'G3701190', 'G1600750', 'G4800270', 'G1200860', 'G4900490', 'G4701710', 'G2100670', 'G4600910', 'G4500450', 'G0800690', 'G1200570', 'G4802010', 'G3900490', 'G0600730', 'G2101110', 'G1301170', 'G4500310', 'G2700270', 'G3400070', 'G5500090', 'G0600010', 'G0800410', 'G4200710', 'G5300050', 'G3000310', 'G4200910', 'G3600590', 'G4900350', 'G0600370', 'G0600590', 'G4001090', 'G0600650', 'G3900350'}\n",
      "0\n"
     ]
    }
   ],
   "source": [
    "parents_pickle = set(parent_child_map.keys())\n",
    "parents_csv = set(df_clusters[df_clusters['is_parent'] == 1]['GISJOIN'])\n",
    "\n",
    "print(f'parents_pickle: {parents_pickle}')\n",
    "print(f'parents_csv: {parents_csv}')\n",
    "\n",
    "print(len(parents_pickle - parents_csv))"
   ]
  },
  {
   "cell_type": "code",
   "execution_count": 24,
   "id": "27496837",
   "metadata": {},
   "outputs": [
    {
     "name": "stdout",
     "output_type": "stream",
     "text": [
      "no_of_children: 1871\n",
      "no_of_parents: 56\n",
      "\n"
     ]
    }
   ],
   "source": [
    "# child GISJOIN to sample_percent map\n",
    "child_sample_perc_map = {}\n",
    "for i, row in df_clusters.iterrows():\n",
    "    is_parent = row['is_parent']\n",
    "    sample_percent = row['sample_percent']\n",
    "    if not is_parent and sample_percent <= 0.15:\n",
    "        gis_join = row['GISJOIN']\n",
    "        \n",
    "        child_sample_perc_map[gis_join] = sample_percent\n",
    "        \n",
    "children_list = list(child_sample_perc_map.keys())\n",
    "no_of_children = len(children_list)\n",
    "no_of_parents = len(trained_parents_map.keys())\n",
    "\n",
    "# assert no_of_children == (df_clusters.shape[0] - no_of_parents)\n",
    "print(f'no_of_children: {no_of_children}')\n",
    "print(f'no_of_parents: {no_of_parents}')"
   ]
  },
  {
   "cell_type": "code",
   "execution_count": 32,
   "id": "19c3bb68",
   "metadata": {},
   "outputs": [],
   "source": [
    "db = MongoClient(\"lattice-100\", 27018)\n",
    "collection = 'covid_county_formatted'\n",
    "\n",
    "def get_df_by_gis_join(gis_join, sample_percent=1.0):\n",
    "    print(gis_join, end=' ')\n",
    "    cursor = db.sustaindb[collection].aggregate([{\"$match\": {\"GISJOIN\": gis_join}}])\n",
    "    df = pd.DataFrame(list(cursor))[['date', 'cases']]\n",
    "    df.columns = ['ds','y']\n",
    "    return df.sample(frac=sample_percent)"
   ]
  },
  {
   "cell_type": "code",
   "execution_count": 33,
   "id": "1af60909",
   "metadata": {},
   "outputs": [
    {
     "name": "stdout",
     "output_type": "stream",
     "text": [
      "G0100010 G0100030 G0100050 G0100070 G0100110 G0100150 G0100210 G0100250 G0100290 G0100330 G0100350 G0100370 G0100390 G0100410 G0100430 G0100450 G0100490 G0100510 G0100530 G0100550 G0100570 G0100630 G0100690 G0100730 G0100770 G0100810 G0100870 G0100890 G0100930 G0100990 G0101010 G0101030 G0101070 G0101090 G0101110 G0101130 G0101170 G0101190 G0101210 G0101290 G0101330 G0200130 G0200160 G0200200 G0200680 G0200700 G0200900 G0201000 G0201100 G0201300 G0201500 G0201700 G0201880 G0201950 G0201980 G0202200 G0202300 G0202610 G0202750 G0202900 G0400010 G0400050 G0400110 G0400120 G0400210 G0400230 G0500010 G0500030 G0500110 G0500130 G0500150 G0500190 G0500210 G0500230 G0500250 G0500270 G0500350 G0500390 G0500410 G0500470 G0500510 G0500550 G0500610 G0500630 G0500670 G0500730 G0500750 G0500870 G0500930 G0500950 G0500970 G0500990 G0501030 G0501050 G0501070 G0501110 G0501130 G0501150 G0501170 G0501210 G0501250 G0501270 G0501290 G0501310 G0501330 G0501370 G0501390 G0501410 G0501450 G0501490 G0600030 G0600050 G0600070 G0600110 G0600150 G0600230 G0600250 G0600290 G0600310 G0600330 G0600350 G0600390 G0600430 G0600450 G0600470 G0600490 G0600550 G0600570 G0600670 G0600710 G0600770 G0600830 G0600910 G0600950 G0600970 G0601010 G0601050 G0601070 G0800030 G0800050 G0800070 G0800090 G0800130 G0800150 G0800170 G0800190 G0800210 G0800230 G0800250 G0800270 G0800310 G0800330 G0800370 G0800430 G0800450 G0800470 G0800490 G0800530 G0800550 G0800570 G0800610 G0800630 G0800650 G0800710 G0800770 G0800790 G0800810 G0800910 G0800950 G0800970 G0800990 G0801030 G0801090 G0801110 G0801130 G0801150 G0801190 G0801210 G0900010 G0900070 G0900090 G0900130 G1000050 G1100010 G1200010 G1200050 G1200130 G1200150 G1200190 G1200270 G1200330 G1200390 G1200450 G1200510 G1200590 G1200610 G1200650 G1200690 G1200750 G1200770 G1200790 G1200870 G1200890 G1200910 G1200930 G1201070 G1201110 G1201130 G1201150 G1201170 G1201190 G1201230 G1201310 G1300010 G1300030 G1300070 G1300110 G1300130 G1300170 G1300230 G1300250 G1300310 G1300350 G1300370 G1300430 G1300450 G1300470 G1300490 G1300510 G1300530 G1300550 G1300570 G1300590 G1300610 G1300650 G1300690 G1300710 G1300730 G1300770 G1300810 G1300830 G1300870 G1300890 G1300910 G1300930 G1300950 G1300990 G1301010 G1301030 G1301050 G1301130 G1301150 G1301210 G1301230 G1301250 G1301310 G1301330 G1301490 G1301550 G1301610 G1301670 G1301750 G1301770 G1301810 G1301830 G1301850 G1301870 G1301890 G1301910 G1301930 G1301950 G1301970 G1302050 G1302150 G1302170 G1302210 G1302230 G1302290 G1302330 G1302350 G1302370 G1302390 G1302470 G1302510 G1302530 G1302550 G1302570 G1302590 G1302630 G1302650 G1302690 G1302710 G1302750 G1302770 G1302810 G1302830 G1302890 G1302950 G1302990 G1303010 G1303070 G1303090 G1303150 G1303170 G1303190 G1500010 G1500050 G1500070 G1500090 G1600010 G1600030 G1600050 G1600070 G1600130 G1600150 G1600210 G1600230 G1600250 G1600290 G1600310 G1600330 G1600350 G1600370 G1600390 G1600430 G1600450 G1600470 G1600490 G1600530 G1600550 G1600570 G1600590 G1600630 G1600650 G1600670 G1600710 G1600730 G1600770 G1600830 G1600850 G1700030 G1700090 G1700110 G1700130 G1700150 G1700170 G1700190 G1700210 G1700290 G1700310 G1700330 G1700350 G1700390 G1700450 G1700470 G1700490 G1700510 G1700530 G1700550 G1700590 G1700610 G1700630 G1700690 G1700710 G1700750 G1700770 G1700790 G1700810 G1700830 G1700890 G1700910 G1700970 G1701010 G1701070 G1701110 G1701130 G1701150 G1701170 G1701190 G1701270 G1701330 G1701350 G1701370 G1701430 G1701470 G1701490 G1701510 G1701550 G1701570 G1701610 G1701710 G1701730 G1701750 G1701790 G1701890 G1701910 G1701950 G1701970 G1702010 G1702030 G1800010 G1800070 G1800090 G1800170 G1800230 G1800350 G1800370 G1800390 G1800450 G1800470 G1800510 G1800530 G1800550 G1800610 G1800630 G1800650 G1800670 G1800690 G1800710 G1800730 G1800750 G1800770 G1800790 G1800810 G1800850 G1800870 G1800890 G1800930 G1801010 G1801050 G1801070 G1801090 G1801150 G1801170 G1801230 G1801270 G1801290 G1801310 G1801330 G1801350 G1801370 G1801390 G1801410 G1801470 G1801550 G1801570 G1801590 G1801610 G1801630 G1801650 G1801670 G1801690 G1801710 G1801770 G1801790 G1801810 G1900010 G1900030 G1900070 G1900090 G1900130 G1900150 G1900170 G1900190 G1900210 G1900330 G1900350 G1900410 G1900430 G1900450 G1900490 G1900510 G1900530 G1900550 G1900610 G1900670 G1900710 G1900730 G1900750 G1900770 G1900830 G1900850 G1900870 G1900890 G1900910 G1900930 G1900950 G1900970 G1900990 G1901010 G1901090 G1901110 G1901210 G1901230 G1901250 G1901270 G1901330 G1901350 G1901410 G1901510 G1901550 G1901590 G1901630 G1901650 G1901710 G1901750 G1901770 G1901830 G1901850 G1901890 G1901950 G2000010 G2000030 G2000050 G2000070 G2000110 G2000130 G2000150 G2000170 G2000190 G2000210 G2000230 G2000250 G2000270 G2000310 G2000330 G2000390 G2000430 G2000470 G2000490 G2000510 G2000530 G2000570 G2000590 G2000630 G2000650 G2000690 G2000710 G2000750 G2000770 G2000790 G2000810 G2000830 G2000850 G2000870 G2000910 G2000930 G2000950 G2000970 G2000990 G2001010 G2001030 G2001050 G2001070 G2001090 G2001110 G2001170 G2001190 G2001210 G2001250 G2001270 G2001290 G2001310 G2001330 G2001350 G2001410 G2001430 G2001450 G2001470 G2001510 G2001530 G2001550 G2001570 G2001590 G2001630 G2001650 G2001670 G2001710 G2001730 G2001770 G2001790 G2001810 G2001830 G2001850 G2001870 G2001890 G2001950 G2001970 G2001990 G2002010 G2002030 G2002050 G2002070 G2002090 G2100010 G2100050 G2100070 G2100110 G2100150 G2100210 G2100290 G2100350 G2100390 G2100450 G2100490 G2100530 G2100610 G2100630 G2100650 G2100690 G2100710 G2100730 G2100750 G2100770 G2100830 G2100850 G2100910 G2100930 G2100950 G2100990 G2101030 G2101050 G2101070 G2101130 G2101210 G2101230 G2101250 G2101310 G2101330 G2101370 G2101430 G2101450 G2101470 G2101490 G2101510 G2101530 G2101550 G2101570 G2101650 G2101750 G2101830 G2101850 G2101890 G2101970 G2102010 G2102030 G2102070 G2102110 G2102130 G2102150 G2102170 G2102270 G2102290 G2102330 G2102350 G2102370 G2102390 G2200010 G2200030 G2200050 G2200130 G2200150 G2200170 G2200210 G2200230 G2200330 G2200390 G2200410 G2200470 G2200490 G2200530 G2200590 G2200630 G2200670 G2200710 G2200790 G2200810 G2200890 G2200910 G2200930 G2200950 G2201010 G2201050 G2201070 G2201130 G2201150 G2201170 G2201190 G2201210 G2201230 G2201270 G2300030 G2300070 G2300110 G2300130 G2300150 G2300210 G2300230 G2300270 G2300290 G2400010 G2400050 G2400090 G2400110 G2400130 G2400150 G2400170 G2400270 G2400330 G2400390 G2405100 G2500030 G2500070 G2500090 G2500130 G2500150 G2500190 G2500210 G2500230 G2600010 G2600030 G2600070 G2600090 G2600110 G2600190 G2600230 G2600250 G2600310 G2600330 G2600350 G2600370 G2600430 G2600470 G2600510 G2600530 G2600590 G2600610 G2600630 G2600650 G2600690 G2600710 G2600730 G2600830 G2600850 G2600950 G2600970 G2600990 G2601010 G2601050 G2601070 G2601090 G2601110 G2601130 G2601170 G2601190 G2601210 G2601230 G2601270 G2601290 G2601310 G2601350 G2601370 G2601390 G2601410 G2601430 G2601450 G2601510 G2601530 G2601550 G2601570 G2601610 G2601650 G2700030 G2700050 G2700070 G2700090 G2700110 G2700150 G2700170 G2700210 G2700230 G2700250 G2700290 G2700310 G2700330 G2700370 G2700390 G2700410 G2700510 G2700570 G2700610 G2700630 G2700650 G2700690 G2700710 G2700730 G2700770 G2700790 G2700810 G2700850 G2700870 G2700890 G2700950 G2701030 G2701070 G2701090 G2701110 G2701130 G2701170 G2701190 G2701210 G2701230 G2701250 G2701290 G2701310 G2701330 G2701350 G2701390 G2701410 G2701450 G2701490 G2701510 G2701530 G2701550 G2701570 G2701590 G2701630 G2701650 G2701690 G2701730 G2800010 G2800050 G2800070 G2800110 G2800130 G2800150 G2800190 G2800230 G2800310 G2800330 G2800370 G2800410 G2800430 G2800470 G2800510 G2800530 G2800550 G2800590 G2800610 G2800630 G2800650 G2800670 G2800690 G2800750 G2800790 G2800830 G2800850 G2800970 G2801050 G2801090 G2801150 G2801190 G2801250 G2801270 G2801310 G2801350 G2801390 G2801410 G2801450 G2801490 G2801550 G2801570 G2801630 G2900050 G2900110 G2900130 G2900150 G2900190 G2900230 G2900250 G2900270 G2900290 G2900310 G2900330 G2900350 G2900390 G2900410 G2900430 G2900450 G2900510 G2900570 G2900590 G2900610 G2900650 G2900670 G2900710 G2900730 G2900750 G2900770 G2900790 G2900870 G2900910 G2900930 G2900970 G2901030 G2901050 G2901150 G2901190 G2901250 G2901290 G2901310 G2901330 G2901350 G2901370 G2901390 G2901410 G2901430 G2901610 "
     ]
    },
    {
     "name": "stdout",
     "output_type": "stream",
     "text": [
      "G2901630 G2901670 G2901690 G2901710 G2901730 G2901750 G2901790 G2901810 G2901830 G2901850 G2901860 G2901970 G2901990 G2902030 G2902050 G2902070 G2902110 G2902150 G2902170 G2902190 G2902210 G2902250 G2902270 G2902290 G2905100 G3000010 G3000050 G3000070 G3000090 G3000110 G3000130 G3000150 G3000190 G3000250 G3000290 G3000330 G3000370 G3000390 G3000410 G3000430 G3000450 G3000510 G3000550 G3000570 G3000590 G3000610 G3000650 G3000690 G3000710 G3000730 G3000750 G3000770 G3000790 G3000810 G3000830 G3000850 G3000870 G3000890 G3000910 G3000950 G3000970 G3001010 G3001030 G3001050 G3001070 G3001090 G3100030 G3100050 G3100070 G3100090 G3100110 G3100150 G3100170 G3100210 G3100230 G3100270 G3100290 G3100310 G3100330 G3100370 G3100450 G3100490 G3100510 G3100530 G3100570 G3100590 G3100610 G3100630 G3100650 G3100670 G3100690 G3100710 G3100730 G3100750 G3100770 G3100790 G3100830 G3100850 G3100870 G3100890 G3100910 G3100970 G3101030 G3101050 G3101070 G3101110 G3101130 G3101150 G3101170 G3101190 G3101210 G3101230 G3101250 G3101270 G3101290 G3101330 G3101350 G3101370 G3101450 G3101470 G3101490 G3101510 G3101530 G3101550 G3101610 G3101630 G3101650 G3101670 G3101690 G3101710 G3101730 G3101750 G3101790 G3101810 G3101830 G3101850 G3200090 G3200110 G3200130 G3200150 G3200170 G3200190 G3200210 G3200230 G3200270 G3200290 G3200310 G3300050 G3300070 G3300090 G3300110 G3300150 G3300170 G3300190 G3400050 G3400090 G3400130 G3400170 G3400210 G3400250 G3400270 G3400310 G3400330 G3400350 G3400370 G3400390 G3400410 G3500010 G3500030 G3500050 G3500060 G3500070 G3500110 G3500210 G3500230 G3500250 G3500270 G3500290 G3500310 G3500330 G3500370 G3500390 G3500410 G3500450 G3500470 G3500550 G3500570 G3500590 G3600010 G3600110 G3600130 G3600150 G3600190 G3600210 G3600230 G3600250 G3600330 G3600350 G3600370 G3600390 G3600410 G3600450 G3600490 G3600510 G3600550 G3600570 G3600670 G3600690 G3600710 G3600890 G3600950 G3600970 G3600990 G3601050 G3601110 G3601230 G3700010 G3700030 G3700050 G3700070 G3700110 G3700130 G3700150 G3700170 G3700190 G3700290 G3700330 G3700350 G3700370 G3700410 G3700490 G3700510 G3700590 G3700610 G3700630 G3700670 G3700710 G3700730 G3700750 G3700770 G3700790 G3700810 G3700830 G3700870 G3700890 G3700930 G3700970 G3700990 G3701050 G3701090 G3701110 G3701130 G3701210 G3701230 G3701250 G3701270 G3701370 G3701390 G3701410 G3701430 G3701510 G3701630 G3701650 G3701670 G3701710 G3701730 G3701750 G3701770 G3701790 G3701810 G3701830 G3701970 G3800010 G3800030 G3800050 G3800070 G3800110 G3800130 G3800150 G3800170 G3800190 G3800210 G3800230 G3800250 G3800270 G3800290 G3800310 G3800330 G3800370 G3800390 G3800410 G3800430 G3800450 G3800470 G3800590 G3800610 G3800630 G3800650 G3800670 G3800690 G3800710 G3800750 G3800770 G3800790 G3800810 G3800830 G3800850 G3800870 G3800890 G3800910 G3800950 G3800970 G3800990 G3801010 G3801030 G3900030 G3900090 G3900110 G3900150 G3900210 G3900230 G3900270 G3900330 G3900370 G3900430 G3900450 G3900530 G3900550 G3900570 G3900630 G3900670 G3900690 G3900750 G3900830 G3900890 G3900910 G3900970 G3900990 G3901110 G3901130 G3901150 G3901170 G3901190 G3901230 G3901250 G3901270 G3901310 G3901350 G3901390 G3901410 G3901430 G3901450 G3901470 G3901570 G3901650 G3901690 G3901750 G4000010 G4000050 G4000070 G4000090 G4000170 G4000190 G4000230 G4000250 G4000330 G4000370 G4000390 G4000450 G4000510 G4000550 G4000570 G4000590 G4000650 G4000690 G4000710 G4000730 G4000770 G4000810 G4000870 G4000910 G4000970 G4001030 G4001050 G4001110 G4001130 G4001230 G4001250 G4001270 G4001290 G4001350 G4001370 G4001390 G4001410 G4001430 G4001490 G4001510 G4001530 G4100050 G4100070 G4100090 G4100110 G4100150 G4100170 G4100210 G4100230 G4100250 G4100330 G4100350 G4100370 G4100390 G4100410 G4100430 G4100450 G4100470 G4100490 G4100510 G4100530 G4100550 G4100570 G4100590 G4100610 G4100630 G4100650 G4100670 G4100690 G4200010 G4200110 G4200150 G4200170 G4200190 G4200210 G4200230 G4200250 G4200330 G4200350 G4200450 G4200470 G4200510 G4200530 G4200570 G4200630 G4200690 G4200730 G4200750 G4200770 G4200850 G4200870 G4200890 G4200930 G4200990 G4201050 G4201070 G4201090 G4201110 G4201130 G4201170 G4201230 G4201310 G4201330 G4400050 G4500030 G4500090 G4500110 G4500130 G4500150 G4500190 G4500210 G4500270 G4500350 G4500370 G4500410 G4500470 G4500550 G4500670 G4500730 G4500750 G4500770 G4500910 G4600030 G4600070 G4600090 G4600110 G4600150 G4600170 G4600190 G4600210 G4600230 G4600250 G4600270 G4600310 G4600350 G4600370 G4600410 G4600430 G4600450 G4600470 G4600490 G4600510 G4600530 G4600550 G4600570 G4600590 G4600610 G4600630 G4600650 G4600690 G4600710 G4600730 G4600750 G4600770 G4600790 G4600850 G4600870 G4600890 G4600930 G4600950 G4600970 G4601010 G4601050 G4601070 G4601090 G4601110 G4601170 G4601190 G4601230 G4601250 G4601270 G4601370 G4700010 G4700030 G4700070 G4700110 G4700170 G4700190 G4700250 G4700270 G4700290 G4700350 G4700370 G4700390 G4700470 G4700510 G4700530 G4700630 G4700650 G4700670 G4700710 G4700730 G4700750 G4700770 G4700810 G4700850 G4700890 G4700910 G4700930 G4700950 G4700990 G4701050 G4701090 G4701170 G4701190 G4701210 G4701230 G4701250 G4701270 G4701350 G4701390 G4701430 G4701490 G4701510 G4701530 G4701630 G4701690 G4701730 G4701770 G4701790 G4701850 G4701890 G4800030 G4800090 G4800110 G4800150 G4800170 G4800190 G4800230 G4800250 G4800310 G4800330 G4800370 G4800450 G4800490 G4800510 G4800530 G4800550 G4800650 G4800670 G4800690 G4800710 G4800750 G4800790 G4800810 G4800830 G4800850 G4800870 G4800890 G4800910 G4800950 G4800970 G4801010 G4801030 G4801050 G4801070 G4801110 G4801130 G4801170 G4801190 G4801250 G4801290 G4801310 G4801330 G4801350 G4801370 G4801430 G4801470 G4801490 G4801510 G4801530 G4801550 G4801650 G4801690 G4801730 G4801750 G4801770 G4801830 G4801890 G4801930 G4801970 G4801990 G4802030 G4802050 G4802070 G4802110 G4802130 G4802150 G4802170 G4802210 G4802230 G4802250 G4802290 G4802330 G4802350 G4802370 G4802430 G4802470 G4802530 G4802610 G4802630 G4802670 G4802690 G4802710 G4802730 G4802750 G4802770 G4802790 G4802810 G4802870 G4802890 G4802930 G4802950 G4802990 G4803010 G4803030 G4803110 G4803130 G4803170 G4803190 G4803230 G4803270 G4803330 G4803350 G4803370 G4803410 G4803430 G4803450 G4803490 G4803530 G4803550 G4803570 G4803590 G4803650 G4803670 G4803690 G4803710 G4803730 G4803770 G4803830 G4803850 G4803870 G4803890 G4803910 G4803930 G4803950 G4803990 G4804010 G4804030 G4804070 G4804090 G4804130 G4804170 G4804210 G4804230 G4804250 G4804290 G4804310 G4804330 G4804350 G4804370 G4804410 G4804430 G4804470 G4804490 G4804510 G4804550 G4804570 G4804590 G4804630 G4804670 G4804690 G4804710 G4804750 G4804770 G4804790 G4804810 G4804830 G4804850 G4804870 G4804930 G4804950 G4804970 G4805030 G4805070 G4900010 G4900030 G4900090 G4900110 G4900130 G4900150 G4900170 G4900190 G4900210 G4900230 G4900270 G4900290 G4900310 G4900330 G4900430 G4900450 G4900470 G4900550 G5000030 G5000050 G5000070 G5000090 G5000130 G5000150 G5000210 G5000230 G5000250 G5000270 G5100150 G5100170 G5100190 G5100210 G5100230 G5100250 G5100270 G5100360 G5100370 G5100410 G5100430 G5100450 G5100470 G5100490 G5100570 G5100590 G5100710 G5100730 G5100750 G5100770 G5100790 G5100810 G5100830 G5100870 G5100890 G5100910 G5100970 G5100990 G5101010 G5101030 G5101150 G5101190 G5101250 G5101270 G5101330 G5101350 G5101390 G5101410 G5101430 G5101550 G5101570 G5101610 G5101630 G5101670 G5101710 G5101730 G5101770 G5101810 G5101930 G5101990 G5105100 G5105200 G5105300 G5105400 G5106000 G5106100 G5106300 G5106500 G5106600 G5106780 G5106800 G5106830 G5106900 G5107100 G5107200 G5107300 G5107350 G5107400 G5107500 G5107750 G5108000 G5108100 G5108200 G5108300 G5108400 G5300030 G5300070 G5300090 G5300130 G5300190 G5300230 G5300250 G5300310 G5300330 G5300370 G5300390 G5300410 G5300430 G5300490 G5300510 G5300530 G5300550 G5300570 G5300590 G5300610 G5300670 G5300690 G5300710 G5300750 G5400010 G5400030 G5400050 G5400070 G5400110 G5400130 G5400170 G5400190 G5400230 G5400270 G5400330 G5400350 G5400370 G5400390 G5400430 G5400450 G5400550 G5400630 G5400650 G5400670 G5400690 G5400710 G5400730 G5400770 G5400830 G5400870 G5400990 G5401010 G5401030 G5401050 G5401070 G5500010 G5500150 G5500190 G5500250 G5500350 G5500430 G5500450 G5500470 G5500490 G5500510 G5500550 G5500630 G5500730 G5500750 G5500780 G5500790 G5500830 "
     ]
    },
    {
     "name": "stdout",
     "output_type": "stream",
     "text": [
      "G5500870 G5500890 G5500910 G5500950 G5501010 G5501050 G5501070 G5501110 G5501130 G5501190 G5501210 G5501250 G5501270 G5501330 G5501390 G5501410 G5600010 G5600030 G5600050 G5600070 G5600110 G5600130 G5600150 G5600170 G5600190 G5600210 G5600230 G5600270 G5600290 G5600310 G5600330 G5600370 G5600390 G5600410 G5600430 G5600450 "
     ]
    }
   ],
   "source": [
    "def predict_transfer(df_train, parent_trained):\n",
    "    time1 = time.monotonic()\n",
    "    # initilaize model with hyperparameters from parent model\n",
    "    m = Prophet(\n",
    "        seasonality_prior_scale = parent_trained.seasonality_prior_scale,\n",
    "        changepoint_prior_scale = parent_trained.changepoint_prior_scale,\n",
    "    )\n",
    "    m.fit(df_train, algorithm='LBFGS')\n",
    "    df_train_future = m.make_future_dataframe(periods=300, freq='H')\n",
    "    df_train_forecast = m.predict(df_train_future)\n",
    "    time2 = time.monotonic()\n",
    "\n",
    "    return m, df_train_future, df_train_forecast, (time2 - time1)\n",
    "\n",
    "\n",
    "def predict_transfer_task(df_train, gis_join, parent_trained):\n",
    "    m, df_train_future, df_train_forecast, time_taken = predict_transfer(df_train, parent_trained)\n",
    "    return gis_join, time_taken\n",
    "\n",
    "\n",
    "children_dfs_map = {}\n",
    "\n",
    "for gis_join, sample_percent in child_sample_perc_map.items():\n",
    "    children_dfs_map[gis_join] = get_df_by_gis_join(gis_join, sample_percent)"
   ]
  },
  {
   "cell_type": "code",
   "execution_count": 34,
   "id": "06edfc20",
   "metadata": {},
   "outputs": [
    {
     "name": "stdout",
     "output_type": "stream",
     "text": [
      "1871\n",
      "1871\n"
     ]
    }
   ],
   "source": [
    "pickle.dump(child_sample_perc_map, open('pickles/child_sample_perc_map.pkl', 'wb'))\n",
    "\n",
    "print(len(children_list))\n",
    "print(len(children_dfs_list))"
   ]
  },
  {
   "cell_type": "code",
   "execution_count": 37,
   "id": "090990a5",
   "metadata": {},
   "outputs": [
    {
     "name": "stdout",
     "output_type": "stream",
     "text": [
      "G2700270: (rmse=1.1558735324355147, changepoint_prior_scale=0.5, seasonality_prior_scale=10.0)\n",
      "G0400130: (rmse=316.3039434010886, changepoint_prior_scale=0.5, seasonality_prior_scale=0.1)\n",
      "G4900490: (rmse=445.9742756900704, changepoint_prior_scale=0.5, seasonality_prior_scale=0.1)\n",
      "G0600370: (rmse=711.9078978906454, changepoint_prior_scale=0.1, seasonality_prior_scale=10.0)\n",
      "G4800290: (rmse=331.0911518720875, changepoint_prior_scale=0.5, seasonality_prior_scale=0.01)\n",
      "G1600750: (rmse=16.354557478885457, changepoint_prior_scale=0.5, seasonality_prior_scale=1.0)\n",
      "G3400070: (rmse=43.5943167831879, changepoint_prior_scale=0.5, seasonality_prior_scale=0.1)\n",
      "G0600650: (rmse=217.79810724772184, changepoint_prior_scale=0.1, seasonality_prior_scale=1.0)\n",
      "G4800270: (rmse=51.60909367232097, changepoint_prior_scale=0.1, seasonality_prior_scale=10.0)\n",
      "G2101110: (rmse=41.75339026097891, changepoint_prior_scale=0.1, seasonality_prior_scale=10.0)\n",
      "G4802010: (rmse=575.6233054560781, changepoint_prior_scale=0.5, seasonality_prior_scale=0.01)\n",
      "G0600590: (rmse=665.5668874229981, changepoint_prior_scale=0.5, seasonality_prior_scale=0.1)\n",
      "G0800410: (rmse=29.69347028662703, changepoint_prior_scale=0.1, seasonality_prior_scale=0.01)\n",
      "G4201010: (rmse=388.2653906965581, changepoint_prior_scale=0.5, seasonality_prior_scale=0.1)\n",
      "G1800950: (rmse=20.072875701616105, changepoint_prior_scale=0.1, seasonality_prior_scale=0.01)\n",
      "G4600910: (rmse=0.8748714947745844, changepoint_prior_scale=0.5, seasonality_prior_scale=0.01)\n",
      "G1700270: (rmse=20.11809732811162, changepoint_prior_scale=0.001, seasonality_prior_scale=1.0)\n",
      "G2100670: (rmse=157.27395509501517, changepoint_prior_scale=0.5, seasonality_prior_scale=0.1)\n",
      "G0600730: (rmse=1154.61474653931, changepoint_prior_scale=0.5, seasonality_prior_scale=10.0)\n",
      "G0600010: (rmse=172.98281299838396, changepoint_prior_scale=0.5, seasonality_prior_scale=1.0)\n",
      "G1200860: (rmse=1196.5655181020238, changepoint_prior_scale=0.5, seasonality_prior_scale=1.0)\n",
      "G3900350: (rmse=649.255026985088, changepoint_prior_scale=0.5, seasonality_prior_scale=1.0)\n",
      "G5300050: (rmse=55.70296620194845, changepoint_prior_scale=0.5, seasonality_prior_scale=0.01)\n",
      "G4801570: (rmse=148.63773898300505, changepoint_prior_scale=0.5, seasonality_prior_scale=10.0)\n",
      "G1901670: (rmse=10.937583207291896, changepoint_prior_scale=0.5, seasonality_prior_scale=0.1)\n",
      "G4900350: (rmse=619.4981407328494, changepoint_prior_scale=0.5, seasonality_prior_scale=1.0)\n",
      "G0800690: (rmse=37.93900245551531, changepoint_prior_scale=0.1, seasonality_prior_scale=0.1)\n",
      "G1301170: (rmse=9.117050573297773, changepoint_prior_scale=0.5, seasonality_prior_scale=0.1)\n",
      "G0500330: (rmse=15.871630539540334, changepoint_prior_scale=0.1, seasonality_prior_scale=0.01)\n",
      "G1600810: (rmse=2.0157480197291533, changepoint_prior_scale=0.5, seasonality_prior_scale=10.0)\n",
      "G3600290: (rmse=212.28428871111024, changepoint_prior_scale=0.5, seasonality_prior_scale=0.1)\n",
      "G3900490: (rmse=377.426929038919, changepoint_prior_scale=0.5, seasonality_prior_scale=1.0)\n",
      "G4500790: (rmse=75.83075624798592, changepoint_prior_scale=0.5, seasonality_prior_scale=0.01)\n",
      "G3000310: (rmse=77.80416765052551, changepoint_prior_scale=0.001, seasonality_prior_scale=1.0)\n",
      "G5500090: (rmse=126.856381914986, changepoint_prior_scale=0.001, seasonality_prior_scale=0.1)\n",
      "G1300210: (rmse=14.76709843315973, changepoint_prior_scale=0.5, seasonality_prior_scale=0.01)\n",
      "G3601190: (rmse=159.6855110287358, changepoint_prior_scale=0.5, seasonality_prior_scale=0.1)\n",
      "G4001090: (rmse=53.94917454041878, changepoint_prior_scale=0.5, seasonality_prior_scale=0.1)\n",
      "G1200570: (rmse=284.38443164890214, changepoint_prior_scale=0.5, seasonality_prior_scale=1.0)\n",
      "G1200710: (rmse=114.21466088212767, changepoint_prior_scale=0.5, seasonality_prior_scale=0.1)\n",
      "G1200990: (rmse=371.85857274239777, changepoint_prior_scale=0.5, seasonality_prior_scale=1.0)\n",
      "G0100790: (rmse=3.606268319122549, changepoint_prior_scale=0.1, seasonality_prior_scale=0.01)\n",
      "G3600590: (rmse=148.31045998531573, changepoint_prior_scale=0.5, seasonality_prior_scale=0.1)\n",
      "G4804390: (rmse=784.2522527533837, changepoint_prior_scale=0.5, seasonality_prior_scale=0.01)\n",
      "G4200710: (rmse=112.09219961217798, changepoint_prior_scale=0.5, seasonality_prior_scale=0.1)\n",
      "G3901510: (rmse=200.96385131975904, changepoint_prior_scale=0.5, seasonality_prior_scale=10.0)\n",
      "G5300350: (rmse=23.61047204509675, changepoint_prior_scale=0.5, seasonality_prior_scale=1.0)\n",
      "G3701190: (rmse=145.37667268996432, changepoint_prior_scale=0.5, seasonality_prior_scale=10.0)\n",
      "G0500890: (rmse=3.3838779895416247, changepoint_prior_scale=0.001, seasonality_prior_scale=0.1)\n",
      "G4803750: (rmse=70.80365475888506, changepoint_prior_scale=0.01, seasonality_prior_scale=0.01)\n",
      "G3400290: (rmse=78.56372539454478, changepoint_prior_scale=0.5, seasonality_prior_scale=10.0)\n",
      "G4701710: (rmse=2.071027796348514, changepoint_prior_scale=0.1, seasonality_prior_scale=10.0)\n",
      "G4200910: (rmse=74.85909001810414, changepoint_prior_scale=0.1, seasonality_prior_scale=0.01)\n",
      "G4500450: (rmse=27.09964838537536, changepoint_prior_scale=0.5, seasonality_prior_scale=1.0)\n",
      "G4500310: (rmse=11.64427005641985, changepoint_prior_scale=0.5, seasonality_prior_scale=0.1)\n",
      "G1801030: (rmse=0.2432262829358079, changepoint_prior_scale=0.1, seasonality_prior_scale=0.1)\n"
     ]
    },
    {
     "data": {
      "text/plain": [
       "(('G5600450', 69.01250222604722),\n",
       " ('G5600450', 75.13486853707582),\n",
       " ('G5600450', 73.20243107806891),\n",
       " ('G5600450', 66.80214228620753),\n",
       " ('G5600450', 65.58361178310588))"
      ]
     },
     "execution_count": 37,
     "metadata": {},
     "output_type": "execute_result"
    }
   ],
   "source": [
    "client = Client('lattice-150:8786')\n",
    "\n",
    "time1 = time()\n",
    "\n",
    "counter = 1\n",
    "lazy_results = []\n",
    "for parent, children in parent_child_map.items():\n",
    "    try:\n",
    "        parent_trained_  = trained_parents_map[parent]\n",
    "        print(parent_trained_)\n",
    "        for child in children:\n",
    "            # check if the child falls under < 0.15 sampling percentage\n",
    "            if child in children_dfs_map:\n",
    "                child_df = children_dfs_map[child]\n",
    "                lazy_result = dask.delayed(predict_transfer_task)(child_df, gis_join, parent_trained_)\n",
    "                lazy_results.append(lazy_result)\n",
    "    except Exception as e:\n",
    "        print(f'Error on {gis_join}')\n",
    "        print(f\"{type(e).__name__} at line {e.__traceback__.tb_lineno} of {__file__}: {e}\")\n",
    "    if counter % 100 == 0:\n",
    "        print(counter, end=', ')\n",
    "    counter += 1\n",
    "#     break\n",
    "\n",
    "futures = dask.persist(*lazy_results)  # trigger computation in the background\n",
    "results = dask.compute(*futures)\n",
    "results[:5]\n",
    "\n",
    "time2 = time()\n",
    "print(f'Time taken (dataset=COVID-19, childModels 0-15%: {time2 - time1}')"
   ]
  },
  {
   "cell_type": "code",
   "execution_count": 39,
   "id": "20acfa53",
   "metadata": {},
   "outputs": [
    {
     "data": {
      "text/html": [
       "<div>\n",
       "<style scoped>\n",
       "    .dataframe tbody tr th:only-of-type {\n",
       "        vertical-align: middle;\n",
       "    }\n",
       "\n",
       "    .dataframe tbody tr th {\n",
       "        vertical-align: top;\n",
       "    }\n",
       "\n",
       "    .dataframe thead th {\n",
       "        text-align: right;\n",
       "    }\n",
       "</style>\n",
       "<table border=\"1\" class=\"dataframe\">\n",
       "  <thead>\n",
       "    <tr style=\"text-align: right;\">\n",
       "      <th></th>\n",
       "      <th>GISJOIN</th>\n",
       "      <th>time</th>\n",
       "    </tr>\n",
       "  </thead>\n",
       "  <tbody>\n",
       "    <tr>\n",
       "      <th>0</th>\n",
       "      <td>G5600450</td>\n",
       "      <td>69.012502</td>\n",
       "    </tr>\n",
       "    <tr>\n",
       "      <th>1</th>\n",
       "      <td>G5600450</td>\n",
       "      <td>75.134869</td>\n",
       "    </tr>\n",
       "    <tr>\n",
       "      <th>2</th>\n",
       "      <td>G5600450</td>\n",
       "      <td>73.202431</td>\n",
       "    </tr>\n",
       "    <tr>\n",
       "      <th>3</th>\n",
       "      <td>G5600450</td>\n",
       "      <td>66.802142</td>\n",
       "    </tr>\n",
       "    <tr>\n",
       "      <th>4</th>\n",
       "      <td>G5600450</td>\n",
       "      <td>65.583612</td>\n",
       "    </tr>\n",
       "    <tr>\n",
       "      <th>...</th>\n",
       "      <td>...</td>\n",
       "      <td>...</td>\n",
       "    </tr>\n",
       "    <tr>\n",
       "      <th>1866</th>\n",
       "      <td>G5600450</td>\n",
       "      <td>68.049765</td>\n",
       "    </tr>\n",
       "    <tr>\n",
       "      <th>1867</th>\n",
       "      <td>G5600450</td>\n",
       "      <td>70.349388</td>\n",
       "    </tr>\n",
       "    <tr>\n",
       "      <th>1868</th>\n",
       "      <td>G5600450</td>\n",
       "      <td>71.403052</td>\n",
       "    </tr>\n",
       "    <tr>\n",
       "      <th>1869</th>\n",
       "      <td>G5600450</td>\n",
       "      <td>73.929558</td>\n",
       "    </tr>\n",
       "    <tr>\n",
       "      <th>1870</th>\n",
       "      <td>G5600450</td>\n",
       "      <td>80.625103</td>\n",
       "    </tr>\n",
       "  </tbody>\n",
       "</table>\n",
       "<p>1871 rows × 2 columns</p>\n",
       "</div>"
      ],
      "text/plain": [
       "       GISJOIN       time\n",
       "0     G5600450  69.012502\n",
       "1     G5600450  75.134869\n",
       "2     G5600450  73.202431\n",
       "3     G5600450  66.802142\n",
       "4     G5600450  65.583612\n",
       "...        ...        ...\n",
       "1866  G5600450  68.049765\n",
       "1867  G5600450  70.349388\n",
       "1868  G5600450  71.403052\n",
       "1869  G5600450  73.929558\n",
       "1870  G5600450  80.625103\n",
       "\n",
       "[1871 rows x 2 columns]"
      ]
     },
     "execution_count": 39,
     "metadata": {},
     "output_type": "execute_result"
    }
   ],
   "source": [
    "gis_joins = []\n",
    "times = []\n",
    "\n",
    "for r, t in results:\n",
    "    gis_joins.append(r)\n",
    "    times.append(t)\n",
    "    \n",
    "times_0_15_df = pd.DataFrame(zip(gis_joins, times), columns=['GISJOIN', 'time'])\n",
    "times_0_15_df.to_csv('covid-19-child_training_tl_times_0_15.csv', index=False)\n",
    "times_0_15_df"
   ]
  }
 ],
 "metadata": {
  "kernelspec": {
   "display_name": "Python 3 (ipykernel)",
   "language": "python",
   "name": "python3"
  },
  "language_info": {
   "codemirror_mode": {
    "name": "ipython",
    "version": 3
   },
   "file_extension": ".py",
   "mimetype": "text/x-python",
   "name": "python",
   "nbconvert_exporter": "python",
   "pygments_lexer": "ipython3",
   "version": "3.8.6"
  }
 },
 "nbformat": 4,
 "nbformat_minor": 5
}
